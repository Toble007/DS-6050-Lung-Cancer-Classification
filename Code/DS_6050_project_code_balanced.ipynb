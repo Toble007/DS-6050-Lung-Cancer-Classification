{
  "cells": [
    {
      "cell_type": "markdown",
      "metadata": {
        "id": "v4u4YC8iqxpe"
      },
      "source": [
        "# DS 6050 Lung Cancer Classification\n",
        "## Thomas Butler, vra2cf\n",
        "## Drew Haynes, rbc6wr\n",
        "## Christian Schroeder, dbn5eu"
      ]
    },
    {
      "cell_type": "markdown",
      "metadata": {
        "id": "KUboEeI0CH0A"
      },
      "source": [
        "# Load Packages"
      ]
    },
    {
      "cell_type": "code",
      "execution_count": null,
      "metadata": {
        "colab": {
          "base_uri": "https://localhost:8080/"
        },
        "id": "bIAunzfaCNAH",
        "outputId": "2919a703-f2cc-4e8f-8ad8-b0b894e21469"
      },
      "outputs": [
        {
          "output_type": "stream",
          "name": "stdout",
          "text": [
            "Colab only includes TensorFlow 2.x; %tensorflow_version has no effect.\n",
            "2.8.2\n",
            "Looking in indexes: https://pypi.org/simple, https://us-python.pkg.dev/colab-wheels/public/simple/\n",
            "Collecting SimpleITK\n",
            "  Downloading SimpleITK-2.1.1.2-cp37-cp37m-manylinux_2_12_x86_64.manylinux2010_x86_64.whl (48.4 MB)\n",
            "\u001b[K     |████████████████████████████████| 48.4 MB 49 kB/s \n",
            "\u001b[?25hInstalling collected packages: SimpleITK\n",
            "Successfully installed SimpleITK-2.1.1.2\n"
          ]
        }
      ],
      "source": [
        "import sys\n",
        "import sklearn\n",
        "import os\n",
        "import numpy as np\n",
        "import pandas as pd\n",
        "import matplotlib as mpl\n",
        "import matplotlib.pyplot as plt\n",
        "from functools import partial\n",
        "import PIL\n",
        "\n",
        "%tensorflow_version 2.x\n",
        "import tensorflow as tf\n",
        "from tensorflow import keras\n",
        "\n",
        "print(tf.__version__)\n",
        "!pip install SimpleITK\n",
        "import SimpleITK as sitk\n",
        "import csv\n",
        "from PIL import Image\n",
        "%matplotlib inline\n",
        "\n",
        "np.random.seed(42) # note that you must use the same seed to ensure consistentcy in your training/validation/testing\n",
        "tf.random.set_seed(42)"
      ]
    },
    {
      "cell_type": "markdown",
      "metadata": {
        "id": "whpECRG_B2Nj"
      },
      "source": [
        "# Import Dataset\n"
      ]
    },
    {
      "cell_type": "code",
      "execution_count": null,
      "metadata": {
        "id": "qPphQQURFWne",
        "colab": {
          "base_uri": "https://localhost:8080/"
        },
        "outputId": "bc1c35b0-9b9b-4d04-a101-7ceb54fdf4a3"
      },
      "outputs": [
        {
          "output_type": "stream",
          "name": "stdout",
          "text": [
            "Mounted at /content/drive\n"
          ]
        }
      ],
      "source": [
        "from google.colab import drive\n",
        "drive.mount('/content/drive')"
      ]
    },
    {
      "cell_type": "code",
      "execution_count": null,
      "metadata": {
        "id": "W_-L8hBKvwIq"
      },
      "outputs": [],
      "source": [
        "root = \"/content/drive/MyDrive/LUNA/\""
      ]
    },
    {
      "cell_type": "markdown",
      "source": [
        "Ref: https://luna16.grand-challenge.org/Tutorial/\n",
        "\n",
        "Used this code to help preprocess data into a format we can use."
      ],
      "metadata": {
        "id": "IkWsRy-p3rqN"
      }
    },
    {
      "cell_type": "markdown",
      "metadata": {
        "id": "AtRpS9g3Ehgy"
      },
      "source": [
        "We define now a function to:\n",
        "    - Open the image \n",
        "    - Store it into a numpy array\n",
        "    - Extract the following info: Pixel Spacing, Origin\n",
        "This function takes as input the name of the image and returns:\n",
        "    - The array corresponding to the image (numpyImage)\n",
        "    - Origin (numpyOrigin)\n",
        "    - PixelSpacing (numpySpacing)"
      ]
    },
    {
      "cell_type": "code",
      "execution_count": null,
      "metadata": {
        "id": "aUK-iPtREbtk"
      },
      "outputs": [],
      "source": [
        "def load_itk_image(filename):\n",
        "    itkimage = sitk.ReadImage(filename)\n",
        "    numpyImage = sitk.GetArrayFromImage(itkimage)\n",
        "     \n",
        "    numpyOrigin = np.array(list(reversed(itkimage.GetOrigin())))\n",
        "    numpySpacing = np.array(list(reversed(itkimage.GetSpacing())))\n",
        "     \n",
        "    return numpyImage, numpyOrigin, numpySpacing"
      ]
    },
    {
      "cell_type": "markdown",
      "metadata": {
        "id": "Vy5NJo9TEmbf"
      },
      "source": [
        "Since the coordinates of the candidates are given in World Coordinates, we now need to transform from world coordinates to voxel coordinates. \n",
        "We define now a function to do that. Please note that the transformation below is only valid if there is no rotation component in the transformation matrix. For all CT images in our dataset, there is no rotation component so that this formula can be used. \n",
        "This function takes as inputs:\n",
        "    - The world coordinates\n",
        "    - The origin\n",
        "    - The pixel Spacing\n",
        "This function returns:\n",
        "    - Voxel coordinates (voxelCoord)"
      ]
    },
    {
      "cell_type": "code",
      "execution_count": null,
      "metadata": {
        "id": "u24TXDi6EdsR"
      },
      "outputs": [],
      "source": [
        "def worldToVoxelCoord(worldCoord, origin, spacing):\n",
        "     \n",
        "    stretchedVoxelCoord = np.absolute(worldCoord - origin)\n",
        "    voxelCoord = stretchedVoxelCoord / spacing\n",
        "    return voxelCoord"
      ]
    },
    {
      "cell_type": "markdown",
      "metadata": {
        "id": "HKIk2KwFErGR"
      },
      "source": [
        "We want to extract now some features from the candidates. We define some normalized planes to extract views from the candidates"
      ]
    },
    {
      "cell_type": "code",
      "execution_count": null,
      "metadata": {
        "id": "vChhW8QBEr9u"
      },
      "outputs": [],
      "source": [
        "def normalizePlanes(npzarray):\n",
        "     \n",
        "    maxHU = 400.\n",
        "    minHU = -1000.\n",
        " \n",
        "    npzarray = (npzarray - minHU) / (maxHU - minHU)\n",
        "    npzarray[npzarray>1] = 1.\n",
        "    npzarray[npzarray<0] = 0.\n",
        "    return npzarray"
      ]
    },
    {
      "cell_type": "markdown",
      "metadata": {
        "id": "ZiX4qz2cEt5E"
      },
      "source": [
        "    - Specify the path where the image (img_path) is \n",
        "    - Specificy the path where the file with the list of candidates is (cand_path)"
      ]
    },
    {
      "cell_type": "code",
      "execution_count": null,
      "metadata": {
        "id": "lbBmVFhIExD7"
      },
      "outputs": [],
      "source": [
        "cand_path = root+'candidates_V2/candidates_V2.csv'"
      ]
    },
    {
      "cell_type": "code",
      "execution_count": null,
      "metadata": {
        "id": "DR64Pw54SPc0"
      },
      "outputs": [],
      "source": [
        "subsets = range(10)\n",
        "img_paths = []\n",
        "for subset in subsets : # Doing this to loop instead of a general recursive\n",
        "                        # loop to 1) avoid segs_lungs_LUNA16 files and 2) to \n",
        "                        # allow flexibility with which subsets to use if desired\n",
        "  subset_root = root+'subset'+str(subset)+'/'\n",
        "  for img_path in os.listdir(subset_root):\n",
        "        if img_path.endswith('.mhd'):\n",
        "          img_paths.append(subset_root+img_path)\n"
      ]
    },
    {
      "cell_type": "markdown",
      "metadata": {
        "id": "_4DbiSBNEzDG"
      },
      "source": [
        "    - Load the image\n",
        "    - Extract the Origin\n",
        "    - Extract the Pixel Spacing "
      ]
    },
    {
      "cell_type": "code",
      "execution_count": null,
      "metadata": {
        "colab": {
          "base_uri": "https://localhost:8080/"
        },
        "id": "AH6t2pdXE1ye",
        "outputId": "a9d4033f-9b53-4aef-e49a-1a2485270fb5"
      },
      "outputs": [
        {
          "output_type": "stream",
          "name": "stdout",
          "text": [
            "(121, 512, 512)\n",
            "[-335.209991 -195.       -198.100006]\n",
            "[2.5        0.76171899 0.76171899]\n"
          ]
        }
      ],
      "source": [
        "# load image\n",
        "numpyImage, numpyOrigin, numpySpacing = load_itk_image(img_paths[0])\n",
        "print(numpyImage.shape)\n",
        "print(numpyOrigin)\n",
        "print(numpySpacing)"
      ]
    },
    {
      "cell_type": "markdown",
      "metadata": {
        "id": "YpH8JWxCE4fJ"
      },
      "source": [
        "    - Load the csv file\n",
        "    - Get the candidates \n",
        "    - Transform from world to voxel coordinates"
      ]
    },
    {
      "cell_type": "code",
      "execution_count": null,
      "metadata": {
        "id": "HDYr8tuQE5eC"
      },
      "outputs": [],
      "source": [
        "# load candidates\n",
        "cands_master_df = pd.read_csv(cand_path)"
      ]
    },
    {
      "cell_type": "code",
      "source": [
        "#subset dataset.\n",
        "df_1 =cands_master_df[cands_master_df['class'] == 1]\n",
        "df_0 =cands_master_df[cands_master_df['class'] == 0].sample(frac=1).head(2000)\n",
        "cands_master_df = pd.concat([df_1,df_0]).sample(frac=1)"
      ],
      "metadata": {
        "id": "39ZW2eAVAYBq"
      },
      "execution_count": null,
      "outputs": []
    },
    {
      "cell_type": "code",
      "execution_count": null,
      "metadata": {
        "id": "V77_lhhLhGMo"
      },
      "outputs": [],
      "source": [
        "# List of each unique SeriesUID, i.e. candidates\n",
        "cands = cands_master_df.seriesuid.unique()\n",
        "\n",
        "# Dictionary \n",
        "cands_df_dict = {elem : pd.DataFrame() for elem in cands}\n",
        "\n",
        "for key in cands_df_dict.keys():\n",
        "    cands_df_dict[key] = cands_master_df[cands_master_df.seriesuid == key]\n",
        "    cands_df_dict[key] = cands_df_dict[key].drop(['seriesuid'], axis=1)"
      ]
    },
    {
      "cell_type": "code",
      "execution_count": null,
      "metadata": {
        "id": "fWm3Zcr3E--y",
        "colab": {
          "base_uri": "https://localhost:8080/"
        },
        "outputId": "5d43d2c3-9a8d-4ab8-a45c-3baf1021ad51"
      },
      "outputs": [
        {
          "output_type": "stream",
          "name": "stdout",
          "text": [
            "Could not find 1.3.6.1.4.1.14519.5.2.1.6279.6001.276556509002726404418399209377\n",
            "Could not find 1.3.6.1.4.1.14519.5.2.1.6279.6001.211956804948320236390242845468\n",
            "Could not find 1.3.6.1.4.1.14519.5.2.1.6279.6001.277662902666135640561346462196\n",
            "Failed to convert point: ID: 1.3.6.1.4.1.14519.5.2.1.6279.6001.450501966058662668272378865145, Index: 610645\n",
            "Failed to convert point: ID: 1.3.6.1.4.1.14519.5.2.1.6279.6001.450501966058662668272378865145, Index: 609721\n",
            "Failed to convert point: ID: 1.3.6.1.4.1.14519.5.2.1.6279.6001.450501966058662668272378865145, Index: 609614\n",
            "Failed to convert point: ID: 1.3.6.1.4.1.14519.5.2.1.6279.6001.450501966058662668272378865145, Index: 610351\n",
            "Failed to convert point: ID: 1.3.6.1.4.1.14519.5.2.1.6279.6001.131939324905446238286154504249, Index: 79308\n",
            "Failed to convert point: ID: 1.3.6.1.4.1.14519.5.2.1.6279.6001.131939324905446238286154504249, Index: 79493\n",
            "Failed to convert point: ID: 1.3.6.1.4.1.14519.5.2.1.6279.6001.131939324905446238286154504249, Index: 78810\n",
            "Could not find 1.3.6.1.4.1.14519.5.2.1.6279.6001.975426625618184773401026809852\n",
            "Could not find 1.3.6.1.4.1.14519.5.2.1.6279.6001.211051626197585058967163339846\n",
            "Failed to convert point: ID: 1.3.6.1.4.1.14519.5.2.1.6279.6001.167919147233131417984739058859, Index: 161193\n",
            "Failed to convert point: ID: 1.3.6.1.4.1.14519.5.2.1.6279.6001.167919147233131417984739058859, Index: 161136\n",
            "Could not find 1.3.6.1.4.1.14519.5.2.1.6279.6001.198698492013538481395497694975\n",
            "Failed to convert point: ID: 1.3.6.1.4.1.14519.5.2.1.6279.6001.299476369290630280560355838785, Index: 482542\n",
            "Failed to convert point: ID: 1.3.6.1.4.1.14519.5.2.1.6279.6001.299476369290630280560355838785, Index: 481993\n",
            "Failed to convert point: ID: 1.3.6.1.4.1.14519.5.2.1.6279.6001.151764021165118974848436095034, Index: 129198\n",
            "Failed to save /content/drive/MyDrive/LUNA/data_subset_balanced/0/patch_-238.6547621_-186.6015716_81.390395020.jpg\n",
            "Failed to save /content/drive/MyDrive/LUNA/data_subset_balanced/1/patch_-159.0564746_-197.0186507_122.12801411.jpg\n",
            "Failed to convert point: ID: 1.3.6.1.4.1.14519.5.2.1.6279.6001.267957701183569638795986183786, Index: 415957\n",
            "Failed to convert point: ID: 1.3.6.1.4.1.14519.5.2.1.6279.6001.267957701183569638795986183786, Index: 416305\n",
            "Failed to convert point: ID: 1.3.6.1.4.1.14519.5.2.1.6279.6001.267957701183569638795986183786, Index: 416429\n",
            "Failed to convert point: ID: 1.3.6.1.4.1.14519.5.2.1.6279.6001.267957701183569638795986183786, Index: 415685\n",
            "Failed to convert point: ID: 1.3.6.1.4.1.14519.5.2.1.6279.6001.267957701183569638795986183786, Index: 416109\n",
            "Failed to convert point: ID: 1.3.6.1.4.1.14519.5.2.1.6279.6001.267957701183569638795986183786, Index: 415968\n",
            "Failed to convert point: ID: 1.3.6.1.4.1.14519.5.2.1.6279.6001.267957701183569638795986183786, Index: 416088\n",
            "Failed to convert point: ID: 1.3.6.1.4.1.14519.5.2.1.6279.6001.267957701183569638795986183786, Index: 416327\n",
            "Failed to convert point: ID: 1.3.6.1.4.1.14519.5.2.1.6279.6001.267957701183569638795986183786, Index: 416006\n",
            "Failed to convert point: ID: 1.3.6.1.4.1.14519.5.2.1.6279.6001.267957701183569638795986183786, Index: 416152\n",
            "Failed to convert point: ID: 1.3.6.1.4.1.14519.5.2.1.6279.6001.267957701183569638795986183786, Index: 416301\n",
            "Failed to convert point: ID: 1.3.6.1.4.1.14519.5.2.1.6279.6001.267957701183569638795986183786, Index: 416486\n",
            "Failed to save /content/drive/MyDrive/LUNA/data_subset_balanced/0/patch_-138.05_-208.855_31.7650.jpg\n",
            "Failed to save /content/drive/MyDrive/LUNA/data_subset_balanced/0/patch_-93.91_-186.52_64.940.jpg\n",
            "Failed to save /content/drive/MyDrive/LUNA/data_subset_balanced/0/patch_-120.24_-190.2_25.880.jpg\n",
            "Could not find 1.3.6.1.4.1.14519.5.2.1.6279.6001.156821379677057223126714881626\n",
            "Could not find 1.3.6.1.4.1.14519.5.2.1.6279.6001.970428941353693253759289796610\n",
            "Could not find 1.3.6.1.4.1.14519.5.2.1.6279.6001.780558315515979171413904604168\n",
            "Failed to save /content/drive/MyDrive/LUNA/data_subset_balanced/0/patch_-205.63_-210.34_-52.00.jpg\n",
            "Failed to save /content/drive/MyDrive/LUNA/data_subset_balanced/0/patch_-234.89_-194.16_66.270.jpg\n",
            "Failed to save /content/drive/MyDrive/LUNA/data_subset_balanced/0/patch_-131.99_-202.09_82.110.jpg\n",
            "Failed to save /content/drive/MyDrive/LUNA/data_subset_balanced/0/patch_-134.4687501_-185.7045834_77.603208280.jpg\n",
            "Failed to convert point: ID: 1.3.6.1.4.1.14519.5.2.1.6279.6001.168605638657404145360275453085, Index: 164307\n",
            "Failed to convert point: ID: 1.3.6.1.4.1.14519.5.2.1.6279.6001.224465398054769500989828256685, Index: 313944\n",
            "Failed to convert point: ID: 1.3.6.1.4.1.14519.5.2.1.6279.6001.224465398054769500989828256685, Index: 314088\n",
            "Failed to convert point: ID: 1.3.6.1.4.1.14519.5.2.1.6279.6001.224465398054769500989828256685, Index: 314780\n",
            "Failed to convert point: ID: 1.3.6.1.4.1.14519.5.2.1.6279.6001.224465398054769500989828256685, Index: 314611\n",
            "Failed to convert point: ID: 1.3.6.1.4.1.14519.5.2.1.6279.6001.224465398054769500989828256685, Index: 314853\n",
            "Failed to convert point: ID: 1.3.6.1.4.1.14519.5.2.1.6279.6001.224465398054769500989828256685, Index: 314602\n",
            "Failed to convert point: ID: 1.3.6.1.4.1.14519.5.2.1.6279.6001.224465398054769500989828256685, Index: 314468\n",
            "Failed to save /content/drive/MyDrive/LUNA/data_subset_balanced/0/patch_-224.82_-209.85_-126.230.jpg\n",
            "Failed to convert point: ID: 1.3.6.1.4.1.14519.5.2.1.6279.6001.288701997968615460794642979503, Index: 462469\n",
            "Failed to convert point: ID: 1.3.6.1.4.1.14519.5.2.1.6279.6001.288701997968615460794642979503, Index: 462422\n",
            "Failed to convert point: ID: 1.3.6.1.4.1.14519.5.2.1.6279.6001.288701997968615460794642979503, Index: 461952\n",
            "Failed to convert point: ID: 1.3.6.1.4.1.14519.5.2.1.6279.6001.288701997968615460794642979503, Index: 461962\n",
            "Failed to convert point: ID: 1.3.6.1.4.1.14519.5.2.1.6279.6001.288701997968615460794642979503, Index: 462186\n",
            "Failed to convert point: ID: 1.3.6.1.4.1.14519.5.2.1.6279.6001.288701997968615460794642979503, Index: 462174\n",
            "Failed to convert point: ID: 1.3.6.1.4.1.14519.5.2.1.6279.6001.288701997968615460794642979503, Index: 461856\n",
            "Failed to convert point: ID: 1.3.6.1.4.1.14519.5.2.1.6279.6001.288701997968615460794642979503, Index: 462221\n",
            "Failed to convert point: ID: 1.3.6.1.4.1.14519.5.2.1.6279.6001.288701997968615460794642979503, Index: 462252\n",
            "Failed to save /content/drive/MyDrive/LUNA/data_subset_balanced/0/patch_-198.565_-180.16_48.7750.jpg\n",
            "Failed to save /content/drive/MyDrive/LUNA/data_subset_balanced/0/patch_-194.69_-194.95_-95.040.jpg\n",
            "Could not find 1.3.6.1.4.1.14519.5.2.1.6279.6001.826829446346820089862659555750\n",
            "Could not find 1.3.6.1.4.1.14519.5.2.1.6279.6001.779493719385047675154892222907\n",
            "Failed to convert point: ID: 1.3.6.1.4.1.14519.5.2.1.6279.6001.458525794434429386945463560826, Index: 611936\n",
            "Failed to convert point: ID: 1.3.6.1.4.1.14519.5.2.1.6279.6001.199282854229880908602362094937, Index: 250246\n",
            "Failed to convert point: ID: 1.3.6.1.4.1.14519.5.2.1.6279.6001.712472578497712558367294720243, Index: 676419\n",
            "Failed to convert point: ID: 1.3.6.1.4.1.14519.5.2.1.6279.6001.712472578497712558367294720243, Index: 676476\n",
            "Failed to convert point: ID: 1.3.6.1.4.1.14519.5.2.1.6279.6001.712472578497712558367294720243, Index: 675397\n",
            "Failed to convert point: ID: 1.3.6.1.4.1.14519.5.2.1.6279.6001.712472578497712558367294720243, Index: 676490\n",
            "Failed to convert point: ID: 1.3.6.1.4.1.14519.5.2.1.6279.6001.712472578497712558367294720243, Index: 675971\n",
            "Failed to convert point: ID: 1.3.6.1.4.1.14519.5.2.1.6279.6001.712472578497712558367294720243, Index: 676250\n",
            "Failed to convert point: ID: 1.3.6.1.4.1.14519.5.2.1.6279.6001.712472578497712558367294720243, Index: 675082\n",
            "Failed to convert point: ID: 1.3.6.1.4.1.14519.5.2.1.6279.6001.712472578497712558367294720243, Index: 676095\n",
            "Failed to convert point: ID: 1.3.6.1.4.1.14519.5.2.1.6279.6001.712472578497712558367294720243, Index: 675655\n",
            "Failed to convert point: ID: 1.3.6.1.4.1.14519.5.2.1.6279.6001.712472578497712558367294720243, Index: 676282\n",
            "Could not find 1.3.6.1.4.1.14519.5.2.1.6279.6001.189483585244687808087477024767\n",
            "Could not find 1.3.6.1.4.1.14519.5.2.1.6279.6001.270215889102603268207599305185\n",
            "Failed to save /content/drive/MyDrive/LUNA/data_subset_balanced/0/patch_-296.5_231.0_-63.50.jpg\n",
            "Failed to save /content/drive/MyDrive/LUNA/data_subset_balanced/1/patch_-310.8274923_229.7128_45.75364151.jpg\n",
            "Could not find 1.3.6.1.4.1.14519.5.2.1.6279.6001.205993750485568250373835565680\n",
            "Failed to convert point: ID: 1.3.6.1.4.1.14519.5.2.1.6279.6001.193964947698259739624715468431, Index: 234886\n",
            "Could not find 1.3.6.1.4.1.14519.5.2.1.6279.6001.254254303842550572473665729969\n",
            "Could not find 1.3.6.1.4.1.14519.5.2.1.6279.6001.313283554967554803238484128406\n",
            "Failed to save /content/drive/MyDrive/LUNA/data_subset_balanced/0/patch_-171.795_-210.0_0.5550.jpg\n",
            "Could not find 1.3.6.1.4.1.14519.5.2.1.6279.6001.269075535958871753309238331179\n",
            "Failed to save /content/drive/MyDrive/LUNA/data_subset_balanced/0/patch_-275.7_-180.15_-46.650.jpg\n",
            "Could not find 1.3.6.1.4.1.14519.5.2.1.6279.6001.107351566259572521472765997306\n",
            "Could not find 1.3.6.1.4.1.14519.5.2.1.6279.6001.334022941831199910030220864961\n",
            "Failed to convert point: ID: 1.3.6.1.4.1.14519.5.2.1.6279.6001.765930210026773090100532964804, Index: 690979\n",
            "Failed to convert point: ID: 1.3.6.1.4.1.14519.5.2.1.6279.6001.765930210026773090100532964804, Index: 691722\n",
            "Failed to convert point: ID: 1.3.6.1.4.1.14519.5.2.1.6279.6001.765930210026773090100532964804, Index: 691217\n",
            "Failed to convert point: ID: 1.3.6.1.4.1.14519.5.2.1.6279.6001.765930210026773090100532964804, Index: 691595\n",
            "Failed to convert point: ID: 1.3.6.1.4.1.14519.5.2.1.6279.6001.765930210026773090100532964804, Index: 691829\n",
            "Failed to save /content/drive/MyDrive/LUNA/data_subset_balanced/1/patch_-465.8278237_220.8119665_85.417249441.jpg\n",
            "Failed to save /content/drive/MyDrive/LUNA/data_subset_balanced/1/patch_-517.8237485_250.8404538_56.166619251.jpg\n",
            "Failed to save /content/drive/MyDrive/LUNA/data_subset_balanced/1/patch_-516.239997_237.5828797_-39.84912951.jpg\n",
            "Could not find 1.3.6.1.4.1.14519.5.2.1.6279.6001.961063442349005937536597225349\n",
            "Failed to convert point: ID: 1.3.6.1.4.1.14519.5.2.1.6279.6001.724251104254976962355686318345, Index: 678276\n",
            "Failed to convert point: ID: 1.3.6.1.4.1.14519.5.2.1.6279.6001.724251104254976962355686318345, Index: 678364\n",
            "Failed to convert point: ID: 1.3.6.1.4.1.14519.5.2.1.6279.6001.119304665257760307862874140576, Index: 42590\n",
            "Failed to convert point: ID: 1.3.6.1.4.1.14519.5.2.1.6279.6001.119304665257760307862874140576, Index: 43115\n",
            "Failed to convert point: ID: 1.3.6.1.4.1.14519.5.2.1.6279.6001.119304665257760307862874140576, Index: 43074\n",
            "Could not find 1.3.6.1.4.1.14519.5.2.1.6279.6001.232011770495640253949434620907\n",
            "Could not find 1.3.6.1.4.1.14519.5.2.1.6279.6001.670107649586205629860363487713\n",
            "Could not find 1.3.6.1.4.1.14519.5.2.1.6279.6001.324567010179873305471925391582\n",
            "Failed to save /content/drive/MyDrive/LUNA/data_subset_balanced/1/patch_-603.2881009_227.998396_-69.799015341.jpg\n",
            "Failed to convert point: ID: 1.3.6.1.4.1.14519.5.2.1.6279.6001.908250781706513856628130123235, Index: 729906\n",
            "Failed to save /content/drive/MyDrive/LUNA/data_subset_balanced/0/patch_-140.3_-190.63_34.650.jpg\n",
            "Failed to save /content/drive/MyDrive/LUNA/data_subset_balanced/0/patch_-217.94_-198.45_-34.740.jpg\n",
            "Could not find 1.3.6.1.4.1.14519.5.2.1.6279.6001.141511313712034597336182402384\n",
            "Failed to convert point: ID: 1.3.6.1.4.1.14519.5.2.1.6279.6001.750792629100457382099842515038, Index: 687445\n",
            "Failed to convert point: ID: 1.3.6.1.4.1.14519.5.2.1.6279.6001.750792629100457382099842515038, Index: 687447\n",
            "Failed to convert point: ID: 1.3.6.1.4.1.14519.5.2.1.6279.6001.750792629100457382099842515038, Index: 688369\n",
            "Failed to convert point: ID: 1.3.6.1.4.1.14519.5.2.1.6279.6001.199261544234308780356714831537, Index: 249657\n",
            "Could not find 1.3.6.1.4.1.14519.5.2.1.6279.6001.292057261351416339496913597985\n",
            "Could not find 1.3.6.1.4.1.14519.5.2.1.6279.6001.146987333806092287055399155268\n",
            "Failed to convert point: ID: 1.3.6.1.4.1.14519.5.2.1.6279.6001.922852847124879997825997808179, Index: 733869\n",
            "Failed to convert point: ID: 1.3.6.1.4.1.14519.5.2.1.6279.6001.199220738144407033276946096708, Index: 248877\n",
            "Failed to convert point: ID: 1.3.6.1.4.1.14519.5.2.1.6279.6001.199220738144407033276946096708, Index: 248601\n",
            "Failed to convert point: ID: 1.3.6.1.4.1.14519.5.2.1.6279.6001.199220738144407033276946096708, Index: 248671\n",
            "Could not find 1.3.6.1.4.1.14519.5.2.1.6279.6001.173101104804533997398137418032\n",
            "Could not find 1.3.6.1.4.1.14519.5.2.1.6279.6001.339142594937666268384335506819\n",
            "Failed to save /content/drive/MyDrive/LUNA/data_subset_balanced/0/patch_-217.99_-196.91_81.280.jpg\n",
            "Could not find 1.3.6.1.4.1.14519.5.2.1.6279.6001.275007193025729362844652516689\n",
            "Failed to save /content/drive/MyDrive/LUNA/data_subset_balanced/1/patch_-177.1869_-185.270411_-64.0985391.jpg\n",
            "Failed to convert point: ID: 1.3.6.1.4.1.14519.5.2.1.6279.6001.663019255629770796363333877035, Index: 663128\n",
            "Failed to convert point: ID: 1.3.6.1.4.1.14519.5.2.1.6279.6001.663019255629770796363333877035, Index: 664085\n",
            "Failed to convert point: ID: 1.3.6.1.4.1.14519.5.2.1.6279.6001.663019255629770796363333877035, Index: 663227\n",
            "Could not find 1.3.6.1.4.1.14519.5.2.1.6279.6001.481278873893653517789960724156\n",
            "Could not find 1.3.6.1.4.1.14519.5.2.1.6279.6001.252358625003143649770119512644\n",
            "Could not find 1.3.6.1.4.1.14519.5.2.1.6279.6001.463214953282361219537913355115\n",
            "Failed to convert point: ID: 1.3.6.1.4.1.14519.5.2.1.6279.6001.188059920088313909273628445208, Index: 220412\n",
            "Failed to convert point: ID: 1.3.6.1.4.1.14519.5.2.1.6279.6001.188059920088313909273628445208, Index: 220021\n",
            "Failed to convert point: ID: 1.3.6.1.4.1.14519.5.2.1.6279.6001.188059920088313909273628445208, Index: 220036\n",
            "Failed to convert point: ID: 1.3.6.1.4.1.14519.5.2.1.6279.6001.188059920088313909273628445208, Index: 220243\n",
            "Could not find 1.3.6.1.4.1.14519.5.2.1.6279.6001.268992195564407418480563388746\n",
            "Could not find 1.3.6.1.4.1.14519.5.2.1.6279.6001.300146276266881736689307479986\n",
            "Failed to convert point: ID: 1.3.6.1.4.1.14519.5.2.1.6279.6001.153646219551578201092527860224, Index: 132426\n",
            "Could not find 1.3.6.1.4.1.14519.5.2.1.6279.6001.614147706162329660656328811671\n",
            "Could not find 1.3.6.1.4.1.14519.5.2.1.6279.6001.244590453955380448651329424024\n",
            "Failed to save /content/drive/MyDrive/LUNA/data_subset_balanced/1/patch_-102.37_-182.5739407_103.41315631.jpg\n",
            "Failed to save /content/drive/MyDrive/LUNA/data_subset_balanced/0/patch_-147.88_-213.34_-23.920.jpg\n",
            "Could not find 1.3.6.1.4.1.14519.5.2.1.6279.6001.272190966764020277652079081128\n",
            "Failed to convert point: ID: 1.3.6.1.4.1.14519.5.2.1.6279.6001.179162671133894061547290922949, Index: 200484\n",
            "Failed to convert point: ID: 1.3.6.1.4.1.14519.5.2.1.6279.6001.179162671133894061547290922949, Index: 200053\n",
            "Failed to convert point: ID: 1.3.6.1.4.1.14519.5.2.1.6279.6001.179162671133894061547290922949, Index: 200231\n",
            "Failed to convert point: ID: 1.3.6.1.4.1.14519.5.2.1.6279.6001.179162671133894061547290922949, Index: 201044\n",
            "Failed to convert point: ID: 1.3.6.1.4.1.14519.5.2.1.6279.6001.179162671133894061547290922949, Index: 200022\n",
            "Could not find 1.3.6.1.4.1.14519.5.2.1.6279.6001.631047517458234322522264161877\n",
            "Could not find 1.3.6.1.4.1.14519.5.2.1.6279.6001.897684031374557757145405000951\n",
            "Could not find 1.3.6.1.4.1.14519.5.2.1.6279.6001.125067060506283419853742462394\n",
            "Could not find 1.3.6.1.4.1.14519.5.2.1.6279.6001.141430002307216644912805017227\n",
            "Could not find 1.3.6.1.4.1.14519.5.2.1.6279.6001.304700823314998198591652152637\n",
            "Failed to convert point: ID: 1.3.6.1.4.1.14519.5.2.1.6279.6001.275849601663847251574860892603, Index: 439313\n",
            "Could not find 1.3.6.1.4.1.14519.5.2.1.6279.6001.163931625580639955914619627409\n",
            "Failed to save /content/drive/MyDrive/LUNA/data_subset_balanced/0/patch_-244.67_-176.91_85.130.jpg\n",
            "Could not find 1.3.6.1.4.1.14519.5.2.1.6279.6001.321465552859463184018938648244\n",
            "Could not find 1.3.6.1.4.1.14519.5.2.1.6279.6001.265775376735520890308424143898\n",
            "Could not find 1.3.6.1.4.1.14519.5.2.1.6279.6001.320967206808467952819309001585\n",
            "Failed to convert point: ID: 1.3.6.1.4.1.14519.5.2.1.6279.6001.272042302501586336192628818865, Index: 427690\n",
            "Failed to convert point: ID: 1.3.6.1.4.1.14519.5.2.1.6279.6001.272042302501586336192628818865, Index: 427556\n",
            "Failed to convert point: ID: 1.3.6.1.4.1.14519.5.2.1.6279.6001.272042302501586336192628818865, Index: 427845\n",
            "Failed to save /content/drive/MyDrive/LUNA/data_subset_balanced/0/patch_-172.34_-191.585_-31.3450.jpg\n",
            "Failed to save /content/drive/MyDrive/LUNA/data_subset_balanced/0/patch_-226.0_-217.73_-99.230.jpg\n",
            "Failed to save /content/drive/MyDrive/LUNA/data_subset_balanced/0/patch_-155.9_-217.1_-38.4550.jpg\n",
            "Could not find 1.3.6.1.4.1.14519.5.2.1.6279.6001.799582546798528864710752164515\n",
            "Could not find 1.3.6.1.4.1.14519.5.2.1.6279.6001.333319057944372470283038483725\n",
            "Could not find 1.3.6.1.4.1.14519.5.2.1.6279.6001.300246184547502297539521283806\n",
            "Failed to convert point: ID: 1.3.6.1.4.1.14519.5.2.1.6279.6001.246225645401227472829175288633, Index: 368214\n",
            "Failed to convert point: ID: 1.3.6.1.4.1.14519.5.2.1.6279.6001.246225645401227472829175288633, Index: 368341\n",
            "Failed to save /content/drive/MyDrive/LUNA/data_subset_balanced/0/patch_-157.35_221.9_-108.80.jpg\n",
            "Failed to convert point: ID: 1.3.6.1.4.1.14519.5.2.1.6279.6001.204303454658845815034433453512, Index: 266970\n",
            "Failed to convert point: ID: 1.3.6.1.4.1.14519.5.2.1.6279.6001.204303454658845815034433453512, Index: 267421\n",
            "Failed to convert point: ID: 1.3.6.1.4.1.14519.5.2.1.6279.6001.204303454658845815034433453512, Index: 267382\n",
            "Failed to convert point: ID: 1.3.6.1.4.1.14519.5.2.1.6279.6001.204303454658845815034433453512, Index: 267560\n",
            "Failed to convert point: ID: 1.3.6.1.4.1.14519.5.2.1.6279.6001.204303454658845815034433453512, Index: 267782\n",
            "Failed to convert point: ID: 1.3.6.1.4.1.14519.5.2.1.6279.6001.204303454658845815034433453512, Index: 266916\n",
            "Failed to convert point: ID: 1.3.6.1.4.1.14519.5.2.1.6279.6001.204303454658845815034433453512, Index: 267761\n",
            "Failed to convert point: ID: 1.3.6.1.4.1.14519.5.2.1.6279.6001.204303454658845815034433453512, Index: 267906\n",
            "Failed to convert point: ID: 1.3.6.1.4.1.14519.5.2.1.6279.6001.204303454658845815034433453512, Index: 266966\n",
            "Failed to convert point: ID: 1.3.6.1.4.1.14519.5.2.1.6279.6001.204303454658845815034433453512, Index: 268016\n",
            "Failed to convert point: ID: 1.3.6.1.4.1.14519.5.2.1.6279.6001.316900421002460665752357657094, Index: 529665\n",
            "Failed to save /content/drive/MyDrive/LUNA/data_subset_balanced/1/patch_-180.2544458_-195.6849907_-52.60060391.jpg\n",
            "Could not find 1.3.6.1.4.1.14519.5.2.1.6279.6001.164988920331211858091402361989\n",
            "Failed to save /content/drive/MyDrive/LUNA/data_subset_balanced/0/patch_-197.1835438_-183.7853739_-36.743933120.jpg\n",
            "Failed to save /content/drive/MyDrive/LUNA/data_subset_balanced/0/patch_-137.52_-191.9_52.920.jpg\n",
            "Failed to convert point: ID: 1.3.6.1.4.1.14519.5.2.1.6279.6001.100398138793540579077826395208, Index: 2053\n",
            "Failed to convert point: ID: 1.3.6.1.4.1.14519.5.2.1.6279.6001.100398138793540579077826395208, Index: 2406\n",
            "Failed to convert point: ID: 1.3.6.1.4.1.14519.5.2.1.6279.6001.100398138793540579077826395208, Index: 1954\n",
            "Failed to convert point: ID: 1.3.6.1.4.1.14519.5.2.1.6279.6001.100398138793540579077826395208, Index: 2687\n",
            "Failed to convert point: ID: 1.3.6.1.4.1.14519.5.2.1.6279.6001.100398138793540579077826395208, Index: 2639\n",
            "Failed to convert point: ID: 1.3.6.1.4.1.14519.5.2.1.6279.6001.100398138793540579077826395208, Index: 1782\n",
            "Failed to convert point: ID: 1.3.6.1.4.1.14519.5.2.1.6279.6001.266581250778073944645044950856, Index: 414254\n",
            "Failed to convert point: ID: 1.3.6.1.4.1.14519.5.2.1.6279.6001.266581250778073944645044950856, Index: 414084\n",
            "Failed to convert point: ID: 1.3.6.1.4.1.14519.5.2.1.6279.6001.266581250778073944645044950856, Index: 414325\n",
            "Could not find 1.3.6.1.4.1.14519.5.2.1.6279.6001.319066480138812986026181758474\n",
            "Failed to convert point: ID: 1.3.6.1.4.1.14519.5.2.1.6279.6001.213140617640021803112060161074, Index: 285980\n",
            "Failed to convert point: ID: 1.3.6.1.4.1.14519.5.2.1.6279.6001.213140617640021803112060161074, Index: 286224\n",
            "Failed to convert point: ID: 1.3.6.1.4.1.14519.5.2.1.6279.6001.213140617640021803112060161074, Index: 285730\n",
            "Failed to save /content/drive/MyDrive/LUNA/data_subset_balanced/0/patch_-290.4190405_-171.4171891_35.491868520.jpg\n",
            "Failed to convert point: ID: 1.3.6.1.4.1.14519.5.2.1.6279.6001.117040183261056772902616195387, Index: 39909\n",
            "Failed to save /content/drive/MyDrive/LUNA/data_subset_balanced/1/patch_-565.8433214_227.6641123_-116.51518121.jpg\n",
            "Failed to save /content/drive/MyDrive/LUNA/data_subset_balanced/1/patch_-623.6445974_230.4755073_88.303452951.jpg\n",
            "Failed to convert point: ID: 1.3.6.1.4.1.14519.5.2.1.6279.6001.117040183261056772902616195387, Index: 39759\n",
            "Failed to convert point: ID: 1.3.6.1.4.1.14519.5.2.1.6279.6001.227885601428639043345478571594, Index: 324671\n",
            "Failed to save /content/drive/MyDrive/LUNA/data_subset_balanced/0/patch_-225.34_-181.03_-74.210.jpg\n",
            "Failed to save /content/drive/MyDrive/LUNA/data_subset_balanced/0/patch_-164.3_-212.545_23.890.jpg\n",
            "Failed to save /content/drive/MyDrive/LUNA/data_subset_balanced/0/patch_-257.6_-217.07_-123.570.jpg\n",
            "Failed to convert point: ID: 1.3.6.1.4.1.14519.5.2.1.6279.6001.129055977637338639741695800950, Index: 72054\n",
            "Failed to convert point: ID: 1.3.6.1.4.1.14519.5.2.1.6279.6001.129055977637338639741695800950, Index: 71662\n",
            "Failed to convert point: ID: 1.3.6.1.4.1.14519.5.2.1.6279.6001.129055977637338639741695800950, Index: 71777\n",
            "Failed to convert point: ID: 1.3.6.1.4.1.14519.5.2.1.6279.6001.129055977637338639741695800950, Index: 71803\n",
            "Failed to convert point: ID: 1.3.6.1.4.1.14519.5.2.1.6279.6001.129055977637338639741695800950, Index: 71962\n",
            "Could not find 1.3.6.1.4.1.14519.5.2.1.6279.6001.741709061958490690246385302477\n",
            "Failed to convert point: ID: 1.3.6.1.4.1.14519.5.2.1.6279.6001.149893110752986700464921264055, Index: 125761\n",
            "Failed to convert point: ID: 1.3.6.1.4.1.14519.5.2.1.6279.6001.149893110752986700464921264055, Index: 125764\n",
            "Failed to convert point: ID: 1.3.6.1.4.1.14519.5.2.1.6279.6001.149893110752986700464921264055, Index: 126150\n",
            "Could not find 1.3.6.1.4.1.14519.5.2.1.6279.6001.293593766328917170359373773080\n",
            "Could not find 1.3.6.1.4.1.14519.5.2.1.6279.6001.268838889380981659524993261082\n",
            "Could not find 1.3.6.1.4.1.14519.5.2.1.6279.6001.115386642382564804180764325545\n",
            "Could not find 1.3.6.1.4.1.14519.5.2.1.6279.6001.584871944187559733312703328980\n",
            "Failed to convert point: ID: 1.3.6.1.4.1.14519.5.2.1.6279.6001.997611074084993415992563148335, Index: 754538\n",
            "Failed to save /content/drive/MyDrive/LUNA/data_subset_balanced/0/patch_-185.7597464_-208.3625293_-57.187230360.jpg\n",
            "Failed to save /content/drive/MyDrive/LUNA/data_subset_balanced/0/patch_-111.6444446_-175.1547881_92.146235140.jpg\n",
            "Failed to save /content/drive/MyDrive/LUNA/data_subset_balanced/0/patch_-129.37_-189.11_39.620.jpg\n",
            "Failed to convert point: ID: 1.3.6.1.4.1.14519.5.2.1.6279.6001.137773550852881583165286615668, Index: 90421\n",
            "Failed to convert point: ID: 1.3.6.1.4.1.14519.5.2.1.6279.6001.137773550852881583165286615668, Index: 89998\n",
            "Failed to convert point: ID: 1.3.6.1.4.1.14519.5.2.1.6279.6001.137773550852881583165286615668, Index: 90604\n",
            "Failed to convert point: ID: 1.3.6.1.4.1.14519.5.2.1.6279.6001.137773550852881583165286615668, Index: 89914\n",
            "Failed to convert point: ID: 1.3.6.1.4.1.14519.5.2.1.6279.6001.137773550852881583165286615668, Index: 89810\n",
            "Failed to convert point: ID: 1.3.6.1.4.1.14519.5.2.1.6279.6001.137773550852881583165286615668, Index: 90283\n",
            "Failed to convert point: ID: 1.3.6.1.4.1.14519.5.2.1.6279.6001.137773550852881583165286615668, Index: 90562\n",
            "Could not find 1.3.6.1.4.1.14519.5.2.1.6279.6001.161855583909753609742728521805\n",
            "Could not find 1.3.6.1.4.1.14519.5.2.1.6279.6001.214800939017429618305208626314\n",
            "Failed to convert point: ID: 1.3.6.1.4.1.14519.5.2.1.6279.6001.339882192295517122002429068974, Index: 578879\n",
            "Failed to convert point: ID: 1.3.6.1.4.1.14519.5.2.1.6279.6001.339882192295517122002429068974, Index: 578852\n",
            "Failed to convert point: ID: 1.3.6.1.4.1.14519.5.2.1.6279.6001.339882192295517122002429068974, Index: 579101\n",
            "Failed to convert point: ID: 1.3.6.1.4.1.14519.5.2.1.6279.6001.339882192295517122002429068974, Index: 577943\n",
            "Failed to convert point: ID: 1.3.6.1.4.1.14519.5.2.1.6279.6001.339882192295517122002429068974, Index: 578269\n",
            "Failed to convert point: ID: 1.3.6.1.4.1.14519.5.2.1.6279.6001.339882192295517122002429068974, Index: 579063\n",
            "Failed to convert point: ID: 1.3.6.1.4.1.14519.5.2.1.6279.6001.339882192295517122002429068974, Index: 578281\n",
            "Failed to convert point: ID: 1.3.6.1.4.1.14519.5.2.1.6279.6001.339882192295517122002429068974, Index: 578424\n",
            "Failed to convert point: ID: 1.3.6.1.4.1.14519.5.2.1.6279.6001.111017101339429664883879536171, Index: 24787\n",
            "Could not find 1.3.6.1.4.1.14519.5.2.1.6279.6001.242761658169703141430370511586\n",
            "Could not find 1.3.6.1.4.1.14519.5.2.1.6279.6001.100530488926682752765845212286\n",
            "Could not find 1.3.6.1.4.1.14519.5.2.1.6279.6001.204802250386343794613980417281\n",
            "Failed to convert point: ID: 1.3.6.1.4.1.14519.5.2.1.6279.6001.111258527162678142285870245028, Index: 26996\n",
            "Could not find 1.3.6.1.4.1.14519.5.2.1.6279.6001.185226274332527104841463955058\n",
            "Failed to convert point: ID: 1.3.6.1.4.1.14519.5.2.1.6279.6001.301462380687644451483231621986, Index: 490690\n",
            "Failed to convert point: ID: 1.3.6.1.4.1.14519.5.2.1.6279.6001.301462380687644451483231621986, Index: 490452\n",
            "Failed to convert point: ID: 1.3.6.1.4.1.14519.5.2.1.6279.6001.301462380687644451483231621986, Index: 490737\n",
            "Failed to convert point: ID: 1.3.6.1.4.1.14519.5.2.1.6279.6001.301462380687644451483231621986, Index: 490533\n",
            "Failed to convert point: ID: 1.3.6.1.4.1.14519.5.2.1.6279.6001.301462380687644451483231621986, Index: 490538\n",
            "Failed to convert point: ID: 1.3.6.1.4.1.14519.5.2.1.6279.6001.301462380687644451483231621986, Index: 490698\n",
            "Failed to convert point: ID: 1.3.6.1.4.1.14519.5.2.1.6279.6001.952265563663939823135367733681, Index: 742714\n",
            "Failed to convert point: ID: 1.3.6.1.4.1.14519.5.2.1.6279.6001.952265563663939823135367733681, Index: 742217\n",
            "Failed to convert point: ID: 1.3.6.1.4.1.14519.5.2.1.6279.6001.226383054119800793308721198594, Index: 319307\n",
            "Failed to save /content/drive/MyDrive/LUNA/data_subset_balanced/1/patch_-634.1205583_223.7458956_-61.521576281.jpg\n",
            "Failed to convert point: ID: 1.3.6.1.4.1.14519.5.2.1.6279.6001.246758220302211646532176593724, Index: 369995\n",
            "Failed to convert point: ID: 1.3.6.1.4.1.14519.5.2.1.6279.6001.246758220302211646532176593724, Index: 369462\n",
            "Failed to convert point: ID: 1.3.6.1.4.1.14519.5.2.1.6279.6001.246758220302211646532176593724, Index: 369667\n",
            "Could not find 1.3.6.1.4.1.14519.5.2.1.6279.6001.401389720232123950202941034290\n",
            "Could not find 1.3.6.1.4.1.14519.5.2.1.6279.6001.419601611032172899567156073142\n",
            "Could not find 1.3.6.1.4.1.14519.5.2.1.6279.6001.390009458146468860187238398197\n",
            "Could not find 1.3.6.1.4.1.14519.5.2.1.6279.6001.710845873679853791427022019413\n",
            "Could not find 1.3.6.1.4.1.14519.5.2.1.6279.6001.398955972049286139436103068984\n",
            "Failed to convert point: ID: 1.3.6.1.4.1.14519.5.2.1.6279.6001.315187221221054114974341475212, Index: 525993\n",
            "Failed to convert point: ID: 1.3.6.1.4.1.14519.5.2.1.6279.6001.315187221221054114974341475212, Index: 525770\n",
            "Failed to convert point: ID: 1.3.6.1.4.1.14519.5.2.1.6279.6001.315187221221054114974341475212, Index: 526199\n",
            "Could not find 1.3.6.1.4.1.14519.5.2.1.6279.6001.228511122591230092662900221600\n",
            "Failed to save /content/drive/MyDrive/LUNA/data_subset_balanced/1/patch_-153.1925_-216.4322597_81.335408771.jpg\n",
            "Could not find 1.3.6.1.4.1.14519.5.2.1.6279.6001.625270601160880745954773142570\n",
            "Failed to save /content/drive/MyDrive/LUNA/data_subset_balanced/1/patch_-614.6253415_230.8806633_-89.283509841.jpg\n",
            "Failed to convert point: ID: 1.3.6.1.4.1.14519.5.2.1.6279.6001.311476128731958142981941696518, Index: 515860\n",
            "Failed to save /content/drive/MyDrive/LUNA/data_subset_balanced/1/patch_-117.02_-186.67_-60.531.jpg\n",
            "Failed to save /content/drive/MyDrive/LUNA/data_subset_balanced/1/patch_-96.42043621_-197.2526259_99.599012071.jpg\n",
            "Failed to save /content/drive/MyDrive/LUNA/data_subset_balanced/1/patch_-508.7470422_246.952407_-79.702862221.jpg\n",
            "Failed to save /content/drive/MyDrive/LUNA/data_subset_balanced/1/patch_-506.93_251.08_-93.081.jpg\n",
            "Failed to save /content/drive/MyDrive/LUNA/data_subset_balanced/1/patch_-508.71_245.23_-89.711.jpg\n",
            "Failed to save /content/drive/MyDrive/LUNA/data_subset_balanced/0/patch_-518.860692_256.1242451_51.576760790.jpg\n",
            "Failed to save /content/drive/MyDrive/LUNA/data_subset_balanced/1/patch_-378.895_226.8766703_-61.542747751.jpg\n",
            "Failed to convert point: ID: 1.3.6.1.4.1.14519.5.2.1.6279.6001.693480911433291675609148051914, Index: 672196\n",
            "Failed to convert point: ID: 1.3.6.1.4.1.14519.5.2.1.6279.6001.693480911433291675609148051914, Index: 672016\n",
            "Failed to convert point: ID: 1.3.6.1.4.1.14519.5.2.1.6279.6001.693480911433291675609148051914, Index: 672856\n",
            "Failed to convert point: ID: 1.3.6.1.4.1.14519.5.2.1.6279.6001.693480911433291675609148051914, Index: 672751\n",
            "Failed to convert point: ID: 1.3.6.1.4.1.14519.5.2.1.6279.6001.241570579760883349458693655367, Index: 355906\n",
            "Failed to convert point: ID: 1.3.6.1.4.1.14519.5.2.1.6279.6001.241570579760883349458693655367, Index: 355401\n",
            "Failed to convert point: ID: 1.3.6.1.4.1.14519.5.2.1.6279.6001.241570579760883349458693655367, Index: 355847\n",
            "Failed to save /content/drive/MyDrive/LUNA/data_subset_balanced/0/patch_-191.88_-186.12_-103.350.jpg\n",
            "Failed to save /content/drive/MyDrive/LUNA/data_subset_balanced/0/patch_-167.49_-203.17_-35.630.jpg\n",
            "Failed to convert point: ID: 1.3.6.1.4.1.14519.5.2.1.6279.6001.286217539434358186648717203667, Index: 456690\n",
            "Failed to save /content/drive/MyDrive/LUNA/data_subset_balanced/1/patch_-162.5125_-173.8576232_116.20957891.jpg\n",
            "Failed to save /content/drive/MyDrive/LUNA/data_subset_balanced/0/patch_-77.67_-196.68_21.340.jpg\n",
            "Failed to convert point: ID: 1.3.6.1.4.1.14519.5.2.1.6279.6001.877026508860018521147620598474, Index: 720527\n",
            "Failed to convert point: ID: 1.3.6.1.4.1.14519.5.2.1.6279.6001.877026508860018521147620598474, Index: 720084\n",
            "Failed to convert point: ID: 1.3.6.1.4.1.14519.5.2.1.6279.6001.297964221542942838344351735414, Index: 480508\n",
            "Failed to convert point: ID: 1.3.6.1.4.1.14519.5.2.1.6279.6001.297964221542942838344351735414, Index: 480827\n",
            "Failed to convert point: ID: 1.3.6.1.4.1.14519.5.2.1.6279.6001.297964221542942838344351735414, Index: 480459\n",
            "Failed to save /content/drive/MyDrive/LUNA/data_subset_balanced/1/patch_-202.9198628_-205.1166979_-86.595393591.jpg\n",
            "Failed to save /content/drive/MyDrive/LUNA/data_subset_balanced/1/patch_-183.018075_-216.5781697_-74.066603631.jpg\n",
            "Could not find 1.3.6.1.4.1.14519.5.2.1.6279.6001.148229375703208214308676934766\n",
            "Could not find 1.3.6.1.4.1.14519.5.2.1.6279.6001.216252660192313507027754194207\n",
            "Could not find 1.3.6.1.4.1.14519.5.2.1.6279.6001.274052674198758621258447180130\n",
            "Failed to save /content/drive/MyDrive/LUNA/data_subset_balanced/0/patch_-207.6405985_-196.8189489_-94.619094250.jpg\n",
            "Could not find 1.3.6.1.4.1.14519.5.2.1.6279.6001.178680586845223339579041794709\n",
            "Could not find 1.3.6.1.4.1.14519.5.2.1.6279.6001.323541312620128092852212458228\n",
            "Could not find 1.3.6.1.4.1.14519.5.2.1.6279.6001.324290109423920971676288828329\n",
            "Failed to save /content/drive/MyDrive/LUNA/data_subset_balanced/1/patch_-109.26_-180.0563423_-85.732055811.jpg\n",
            "Failed to convert point: ID: 1.3.6.1.4.1.14519.5.2.1.6279.6001.206539885154775002929031534291, Index: 275563\n",
            "Failed to convert point: ID: 1.3.6.1.4.1.14519.5.2.1.6279.6001.206539885154775002929031534291, Index: 275297\n",
            "Failed to convert point: ID: 1.3.6.1.4.1.14519.5.2.1.6279.6001.206539885154775002929031534291, Index: 275300\n",
            "Failed to convert point: ID: 1.3.6.1.4.1.14519.5.2.1.6279.6001.206539885154775002929031534291, Index: 275273\n",
            "Failed to convert point: ID: 1.3.6.1.4.1.14519.5.2.1.6279.6001.206539885154775002929031534291, Index: 274896\n",
            "Failed to convert point: ID: 1.3.6.1.4.1.14519.5.2.1.6279.6001.206539885154775002929031534291, Index: 275397\n",
            "Could not find 1.3.6.1.4.1.14519.5.2.1.6279.6001.218476624578721885561483687176\n",
            "Could not find 1.3.6.1.4.1.14519.5.2.1.6279.6001.337845202462615014431060697507\n",
            "Failed to convert point: ID: 1.3.6.1.4.1.14519.5.2.1.6279.6001.106719103982792863757268101375, Index: 16352\n",
            "Failed to convert point: ID: 1.3.6.1.4.1.14519.5.2.1.6279.6001.106719103982792863757268101375, Index: 16885\n",
            "Failed to convert point: ID: 1.3.6.1.4.1.14519.5.2.1.6279.6001.106719103982792863757268101375, Index: 16377\n",
            "Failed to convert point: ID: 1.3.6.1.4.1.14519.5.2.1.6279.6001.106719103982792863757268101375, Index: 16231\n",
            "Failed to convert point: ID: 1.3.6.1.4.1.14519.5.2.1.6279.6001.106719103982792863757268101375, Index: 16671\n",
            "Failed to convert point: ID: 1.3.6.1.4.1.14519.5.2.1.6279.6001.106719103982792863757268101375, Index: 16718\n",
            "Failed to convert point: ID: 1.3.6.1.4.1.14519.5.2.1.6279.6001.237215747217294006286437405216, Index: 346197\n",
            "Could not find 1.3.6.1.4.1.14519.5.2.1.6279.6001.122914038048856168343065566972\n",
            "Failed to save /content/drive/MyDrive/LUNA/data_subset_balanced/1/patch_-155.69_-192.6410634_-106.04634941.jpg\n",
            "Failed to save /content/drive/MyDrive/LUNA/data_subset_balanced/1/patch_-198.9095057_-202.0968606_-102.08089251.jpg\n",
            "Failed to save /content/drive/MyDrive/LUNA/data_subset_balanced/0/patch_-188.3939516_-171.3954637_65.846405620.jpg\n",
            "Could not find 1.3.6.1.4.1.14519.5.2.1.6279.6001.910435939545691201820711078950\n",
            "Could not find 1.3.6.1.4.1.14519.5.2.1.6279.6001.449254134266555649028108149727\n",
            "Failed to save /content/drive/MyDrive/LUNA/data_subset_balanced/0/patch_-246.78_-213.73_-97.650.jpg\n",
            "Could not find 1.3.6.1.4.1.14519.5.2.1.6279.6001.202643836890896697853521610450\n",
            "Could not find 1.3.6.1.4.1.14519.5.2.1.6279.6001.850739282072340578344345230132\n",
            "Could not find 1.3.6.1.4.1.14519.5.2.1.6279.6001.276710697414087561012670296643\n",
            "Could not find 1.3.6.1.4.1.14519.5.2.1.6279.6001.259123825760999546551970425757\n",
            "Failed to convert point: ID: 1.3.6.1.4.1.14519.5.2.1.6279.6001.980362852713685276785310240144, Index: 752049\n",
            "Failed to save /content/drive/MyDrive/LUNA/data_subset_balanced/0/patch_-276.65_-193.12_-129.370.jpg\n",
            "Failed to convert point: ID: 1.3.6.1.4.1.14519.5.2.1.6279.6001.658611160253017715059194304729, Index: 662881\n",
            "Failed to convert point: ID: 1.3.6.1.4.1.14519.5.2.1.6279.6001.658611160253017715059194304729, Index: 662519\n",
            "Could not find 1.3.6.1.4.1.14519.5.2.1.6279.6001.822128649427327893802314908658\n",
            "Could not find 1.3.6.1.4.1.14519.5.2.1.6279.6001.367204840301639918160517361062\n",
            "Failed to convert point: ID: 1.3.6.1.4.1.14519.5.2.1.6279.6001.303421828981831854739626597495, Index: 495954\n",
            "Failed to convert point: ID: 1.3.6.1.4.1.14519.5.2.1.6279.6001.303421828981831854739626597495, Index: 495947\n",
            "Failed to convert point: ID: 1.3.6.1.4.1.14519.5.2.1.6279.6001.303421828981831854739626597495, Index: 495686\n",
            "Failed to convert point: ID: 1.3.6.1.4.1.14519.5.2.1.6279.6001.303421828981831854739626597495, Index: 495908\n",
            "Failed to save /content/drive/MyDrive/LUNA/data_subset_balanced/0/patch_-229.4053194_-181.8856031_-110.6837520.jpg\n",
            "Could not find 1.3.6.1.4.1.14519.5.2.1.6279.6001.314519596680450457855054746285\n",
            "Failed to save /content/drive/MyDrive/LUNA/data_subset_balanced/0/patch_-253.0227497_-182.0369297_61.22663190.jpg\n",
            "Could not find 1.3.6.1.4.1.14519.5.2.1.6279.6001.103115201714075993579787468219\n",
            "Failed to save /content/drive/MyDrive/LUNA/data_subset_balanced/1/patch_-298.5101925_-175.1767895_-128.98209151.jpg\n",
            "Failed to save /content/drive/MyDrive/LUNA/data_subset_balanced/0/patch_-253.2_-213.18_71.320.jpg\n",
            "Failed to save /content/drive/MyDrive/LUNA/data_subset_balanced/1/patch_-227.0179872_-211.7558259_104.08393311.jpg\n",
            "Could not find 1.3.6.1.4.1.14519.5.2.1.6279.6001.603166427542096384265514998412\n",
            "Failed to convert point: ID: 1.3.6.1.4.1.14519.5.2.1.6279.6001.273525289046256012743471155680, Index: 434583\n",
            "Failed to convert point: ID: 1.3.6.1.4.1.14519.5.2.1.6279.6001.749871569713868632259874663577, Index: 686533\n",
            "Could not find 1.3.6.1.4.1.14519.5.2.1.6279.6001.114195693932194925962391697338\n",
            "Could not find 1.3.6.1.4.1.14519.5.2.1.6279.6001.842317928015463083368074520378\n",
            "Could not find 1.3.6.1.4.1.14519.5.2.1.6279.6001.104780906131535625872840889059\n",
            "Could not find 1.3.6.1.4.1.14519.5.2.1.6279.6001.304676828064484590312919543151\n",
            "Failed to save /content/drive/MyDrive/LUNA/data_subset_balanced/1/patch_-192.6182532_-178.045486_-107.36692961.jpg\n",
            "Could not find 1.3.6.1.4.1.14519.5.2.1.6279.6001.142154819868944114554521645782\n",
            "Could not find 1.3.6.1.4.1.14519.5.2.1.6279.6001.265960756233787099041040311282\n",
            "Could not find 1.3.6.1.4.1.14519.5.2.1.6279.6001.797637294244261543517154417124\n",
            "Failed to convert point: ID: 1.3.6.1.4.1.14519.5.2.1.6279.6001.417815314896088956784723476543, Index: 599256\n",
            "Failed to convert point: ID: 1.3.6.1.4.1.14519.5.2.1.6279.6001.417815314896088956784723476543, Index: 599312\n",
            "Failed to convert point: ID: 1.3.6.1.4.1.14519.5.2.1.6279.6001.249032660919473722154870746474, Index: 374949\n",
            "Failed to convert point: ID: 1.3.6.1.4.1.14519.5.2.1.6279.6001.111172165674661221381920536987, Index: 26175\n",
            "Could not find 1.3.6.1.4.1.14519.5.2.1.6279.6001.230416590143922549745658357505\n",
            "Failed to save /content/drive/MyDrive/LUNA/data_subset_balanced/0/patch_-310.07_-214.99_156.340.jpg\n",
            "Failed to save /content/drive/MyDrive/LUNA/data_subset_balanced/0/patch_-295.5554201_-211.0466858_93.806590080.jpg\n",
            "Failed to convert point: ID: 1.3.6.1.4.1.14519.5.2.1.6279.6001.814122498113547115932318256859, Index: 708160\n",
            "Failed to save /content/drive/MyDrive/LUNA/data_subset_balanced/1/patch_-280.3588267_-179.3118641_116.97612911.jpg\n",
            "Could not find 1.3.6.1.4.1.14519.5.2.1.6279.6001.248357157975955379661896491341\n",
            "Failed to save /content/drive/MyDrive/LUNA/data_subset_balanced/0/patch_-162.2115466_-176.8106497_-46.017748610.jpg\n",
            "Could not find 1.3.6.1.4.1.14519.5.2.1.6279.6001.428038562098395445838061018440\n",
            "Failed to convert point: ID: 1.3.6.1.4.1.14519.5.2.1.6279.6001.152684536713461901635595118048, Index: 130592\n",
            "Failed to save /content/drive/MyDrive/LUNA/data_subset_balanced/0/patch_-160.69_-196.44_-74.750.jpg\n",
            "Could not find 1.3.6.1.4.1.14519.5.2.1.6279.6001.307835307280028057486413359377\n",
            "Could not find 1.3.6.1.4.1.14519.5.2.1.6279.6001.264090899378396711987322794314\n",
            "Failed to convert point: ID: 1.3.6.1.4.1.14519.5.2.1.6279.6001.236698827306171960683086245994, Index: 345441\n",
            "Failed to save /content/drive/MyDrive/LUNA/data_subset_balanced/0/patch_-493.3525_221.13_-33.970.jpg\n",
            "Failed to convert point: ID: 1.3.6.1.4.1.14519.5.2.1.6279.6001.188385286346390202873004762827, Index: 223740\n",
            "Failed to convert point: ID: 1.3.6.1.4.1.14519.5.2.1.6279.6001.215785045378334625097907422785, Index: 291997\n",
            "Failed to convert point: ID: 1.3.6.1.4.1.14519.5.2.1.6279.6001.215785045378334625097907422785, Index: 292873\n",
            "Could not find 1.3.6.1.4.1.14519.5.2.1.6279.6001.487745546557477250336016826588\n",
            "Could not find 1.3.6.1.4.1.14519.5.2.1.6279.6001.404768898286087278137462774930\n",
            "Failed to save /content/drive/MyDrive/LUNA/data_subset_balanced/0/patch_-137.2_-200.33_34.00.jpg\n",
            "Could not find 1.3.6.1.4.1.14519.5.2.1.6279.6001.320111824803959660037459294083\n",
            "Could not find 1.3.6.1.4.1.14519.5.2.1.6279.6001.965620538050807352935663552285\n",
            "Failed to convert point: ID: 1.3.6.1.4.1.14519.5.2.1.6279.6001.141069661700670042960678408762, Index: 102684\n",
            "Failed to convert point: ID: 1.3.6.1.4.1.14519.5.2.1.6279.6001.141069661700670042960678408762, Index: 102841\n",
            "Could not find 1.3.6.1.4.1.14519.5.2.1.6279.6001.278010349511857248000260557753\n",
            "Could not find 1.3.6.1.4.1.14519.5.2.1.6279.6001.119806527488108718706404165837\n",
            "Failed to convert point: ID: 1.3.6.1.4.1.14519.5.2.1.6279.6001.397062004302272014259317520874, Index: 590353\n",
            "Failed to convert point: ID: 1.3.6.1.4.1.14519.5.2.1.6279.6001.397062004302272014259317520874, Index: 590513\n",
            "Could not find 1.3.6.1.4.1.14519.5.2.1.6279.6001.209269973797560820442292189762\n",
            "Failed to save /content/drive/MyDrive/LUNA/data_subset_balanced/0/patch_-294.01_-196.65_-139.590.jpg\n",
            "Could not find 1.3.6.1.4.1.14519.5.2.1.6279.6001.438308540025607517017949816111\n",
            "Could not find 1.3.6.1.4.1.14519.5.2.1.6279.6001.211071908915618528829547301883\n",
            "Could not find 1.3.6.1.4.1.14519.5.2.1.6279.6001.303865116731361029078599241306\n",
            "Could not find 1.3.6.1.4.1.14519.5.2.1.6279.6001.287560874054243719452635194040\n",
            "Could not find 1.3.6.1.4.1.14519.5.2.1.6279.6001.312704771348460502013249647868\n",
            "Could not find 1.3.6.1.4.1.14519.5.2.1.6279.6001.339546614783708685476232944897\n",
            "Failed to convert point: ID: 1.3.6.1.4.1.14519.5.2.1.6279.6001.170921541362033046216100409521, Index: 172026\n",
            "Failed to save /content/drive/MyDrive/LUNA/data_subset_balanced/0/patch_-236.99_-172.08_52.390.jpg\n",
            "Could not find 1.3.6.1.4.1.14519.5.2.1.6279.6001.385151742584074711135621089321\n",
            "Failed to save /content/drive/MyDrive/LUNA/data_subset_balanced/1/patch_-191.730295_-194.7968575_-93.40325651.jpg\n",
            "Could not find 1.3.6.1.4.1.14519.5.2.1.6279.6001.145283812746259413053188838096\n",
            "Failed to save /content/drive/MyDrive/LUNA/data_subset_balanced/0/patch_-209.82_-176.65_115.840.jpg\n",
            "Failed to save /content/drive/MyDrive/LUNA/data_subset_balanced/0/patch_-451.09_-206.09_89.050.jpg\n",
            "Failed to convert point: ID: 1.3.6.1.4.1.14519.5.2.1.6279.6001.253322967203074795232627653819, Index: 387548\n",
            "Could not find 1.3.6.1.4.1.14519.5.2.1.6279.6001.336225579776978874775723463327\n",
            "Failed to save /content/drive/MyDrive/LUNA/data_subset_balanced/1/patch_-232.101921_-195.5229815_-106.092921.jpg\n",
            "Could not find 1.3.6.1.4.1.14519.5.2.1.6279.6001.316393351033132458296975008261\n",
            "Could not find 1.3.6.1.4.1.14519.5.2.1.6279.6001.390513733720659266816639651938\n",
            "Could not find 1.3.6.1.4.1.14519.5.2.1.6279.6001.200837896655745926888305239398\n",
            "Failed to save /content/drive/MyDrive/LUNA/data_subset_balanced/1/patch_-199.8_-183.1189152_82.414236881.jpg\n",
            "Could not find 1.3.6.1.4.1.14519.5.2.1.6279.6001.811825890493256320617655474043\n",
            "Could not find 1.3.6.1.4.1.14519.5.2.1.6279.6001.177252583002664900748714851615\n",
            "Failed to save /content/drive/MyDrive/LUNA/data_subset_balanced/1/patch_-542.1878203_252.6903612_-89.238886891.jpg\n",
            "Could not find 1.3.6.1.4.1.14519.5.2.1.6279.6001.203179378754043776171267611064\n",
            "Could not find 1.3.6.1.4.1.14519.5.2.1.6279.6001.619372068417051974713149104919\n",
            "Failed to convert point: ID: 1.3.6.1.4.1.14519.5.2.1.6279.6001.102133688497886810253331438797, Index: 6860\n",
            "Could not find 1.3.6.1.4.1.14519.5.2.1.6279.6001.330425234131526435132846006585\n",
            "Could not find 1.3.6.1.4.1.14519.5.2.1.6279.6001.261678072503577216586082745513\n"
          ]
        }
      ],
      "source": [
        "Fail_save = 0\n",
        "Fail_convert = 0\n",
        "Could_not_find = 0\n",
        "if not os.path.exists(root+'data_subset_balanced/'):\n",
        "  os.mkdir(root+'data_subset_balanced/')\n",
        "if not os.path.exists(root+'data_subset_balanced/0/'):\n",
        "  os.mkdir(root+'data_subset_balanced/0/')\n",
        "if not os.path.exists(root+'data_subset_balanced/1/'):\n",
        "  os.mkdir(root+'data_subset_balanced/1/')\n",
        "if not os.path.exists(root+'patches/'):\n",
        "  os.mkdir(root+'patches/')\n",
        "\n",
        "for cand_id in cands_df_dict:\n",
        "  try:\n",
        "    voxelWidth = 64\n",
        "    cand_image_path = [i for i in img_paths if cand_id in i][0]\n",
        "    numpyImage, numpyOrigin, numpySpacing = load_itk_image(img_paths[0])\n",
        "    points_for_cand = cands_df_dict[cand_id]\n",
        "    for index, point in points_for_cand.iterrows():\n",
        "        #print(point[2])\n",
        "        worldCoord = np.asarray([float(point[2]),float(point[1]),float(point[0])])\n",
        "        voxelCoord = worldToVoxelCoord(worldCoord, numpyOrigin, numpySpacing)\n",
        "        try : \n",
        "          patch = numpyImage[int(voxelCoord[0]),int(voxelCoord[1]-voxelWidth/2):int(voxelCoord[1]+voxelWidth/2),int(voxelCoord[2]-voxelWidth/2):int(voxelCoord[2]+voxelWidth/2)]\n",
        "          patch = normalizePlanes(patch)\n",
        "          #print('data')\n",
        "          #print(worldCoord)\n",
        "          #print(voxelCoord)\n",
        "          cand_root = root+'patches/'+cand_id+'/'\n",
        "          if not os.path.exists(cand_root):\n",
        "            os.mkdir(cand_root)\n",
        "          #outputPath = cand_root + 'patch_' + str(worldCoord[0]) + '_' + str(worldCoord[1]) + '_' + str(worldCoord[2]) + str(int(point[3])) + '.tiff'\n",
        "          #save jpg under data and class 0 or 1\n",
        "          outputPath = root + 'data_subset_balanced/' + str(int(point[3])) + '/patch_' + str(worldCoord[0]) + '_' + str(worldCoord[1]) + '_' + str(worldCoord[2]) + str(int(point[3])) + '.jpg'\n",
        "          #plt.imshow(patch, cmap='gray')\n",
        "          #plt.show()\n",
        "          f = open(outputPath, \"w\")\n",
        "          f.close()\n",
        "          try:\n",
        "            patch_image = Image.fromarray(patch*255).convert('L')\n",
        "            #patch_image = patch_image.save(outputPath)\n",
        "            #save jpg keep image the same.\n",
        "            patch_image = patch_image.save(outputPath)\n",
        "          except:\n",
        "            print(f'Failed to save {outputPath}')\n",
        "            Fail_save+=1\n",
        "            os.remove(outputPath)\n",
        "        except :\n",
        "          print(f'Failed to convert point: ID: {cand_id}, Index: {index}')\n",
        "          Fail_convert+=1\n",
        "  except:\n",
        "    print(f'Could not find {cand_id}')\n",
        "    Could_not_find+=1\n",
        "\n",
        "      "
      ]
    },
    {
      "cell_type": "code",
      "source": [
        "print(Fail_save)\n",
        "print(Fail_convert)\n",
        "print(Could_not_find)"
      ],
      "metadata": {
        "colab": {
          "base_uri": "https://localhost:8080/"
        },
        "id": "CuTjXJ2e6vaB",
        "outputId": "2b5c6ce0-fe69-470b-cfd5-8ab1eef2f650"
      },
      "execution_count": null,
      "outputs": [
        {
          "output_type": "stream",
          "name": "stdout",
          "text": [
            "87\n",
            "212\n",
            "126\n"
          ]
        }
      ]
    },
    {
      "cell_type": "code",
      "source": [
        "import pandas as pd\n",
        "\n",
        "cand_csv = pd.read_csv(cand_path)\n",
        "cand_csv['class'].value_counts()"
      ],
      "metadata": {
        "id": "fXOQgZJSsTn_",
        "colab": {
          "base_uri": "https://localhost:8080/"
        },
        "outputId": "da21ee03-6bd8-4867-a592-5b995c350f0c"
      },
      "execution_count": null,
      "outputs": [
        {
          "output_type": "execute_result",
          "data": {
            "text/plain": [
              "0    753418\n",
              "1      1557\n",
              "Name: class, dtype: int64"
            ]
          },
          "metadata": {},
          "execution_count": 16
        }
      ]
    },
    {
      "cell_type": "code",
      "source": [
        "from os import listdir\n",
        "file_names_0 = [file for file in os.listdir(root+'data_subset_balanced/0')]\n",
        "len(file_names_0)"
      ],
      "metadata": {
        "id": "dZMNxpuDVy8m",
        "colab": {
          "base_uri": "https://localhost:8080/"
        },
        "outputId": "fd1f1b6f-e1c2-4b03-8c60-d9d27b458698"
      },
      "execution_count": null,
      "outputs": [
        {
          "output_type": "execute_result",
          "data": {
            "text/plain": [
              "1517"
            ]
          },
          "metadata": {},
          "execution_count": 17
        }
      ]
    },
    {
      "cell_type": "code",
      "source": [
        "file_names_1 = [file for file in os.listdir(root+'data_subset_balanced/1')]\n",
        "len(file_names_1)"
      ],
      "metadata": {
        "id": "fTm7hEXoWN1O",
        "colab": {
          "base_uri": "https://localhost:8080/"
        },
        "outputId": "878e3bb9-2323-4880-d024-00b75af443fc"
      },
      "execution_count": null,
      "outputs": [
        {
          "output_type": "execute_result",
          "data": {
            "text/plain": [
              "1184"
            ]
          },
          "metadata": {},
          "execution_count": 18
        }
      ]
    },
    {
      "cell_type": "code",
      "source": [
        "from sklearn.datasets import load_files \n",
        "from keras.utils import np_utils\n",
        "\n",
        "from keras.preprocessing import image\n",
        "from tqdm import tqdm # progress bar\n",
        "\n",
        "data_dir = root + \"data_subset_balanced/\"\n",
        "batch_size = 32;\n",
        "# IMPORTANT: Depends on what pre-trained model you choose, you will need to change these dimensions accordingly\n",
        "img_height = 64; \n",
        "img_width = 64;\n",
        "\n",
        "# Training Dataset\n",
        "train_ds = tf.keras.preprocessing.image_dataset_from_directory(\n",
        "    data_dir,\n",
        "    color_mode = 'grayscale',\n",
        "    validation_split = 0.2,\n",
        "    subset = \"training\",\n",
        "    seed = 42,\n",
        "    image_size= (img_height, img_width),\n",
        "    batch_size = batch_size\n",
        ")\n",
        "\n",
        "# Validation Dataset\n",
        "validation_ds = tf.keras.preprocessing.image_dataset_from_directory(\n",
        "    data_dir,\n",
        "    color_mode = 'grayscale',\n",
        "    validation_split = 0.2,\n",
        "    subset = \"validation\",\n",
        "    seed = 42,\n",
        "    image_size = (img_height, img_width),\n",
        "    batch_size = batch_size\n",
        ")        \n"
      ],
      "metadata": {
        "id": "kSsLpczOZCZt",
        "colab": {
          "base_uri": "https://localhost:8080/"
        },
        "outputId": "9e66fefa-8adf-46e0-8181-dbb69f51de17"
      },
      "execution_count": null,
      "outputs": [
        {
          "output_type": "stream",
          "name": "stdout",
          "text": [
            "Found 2701 files belonging to 2 classes.\n",
            "Using 2161 files for training.\n",
            "Found 2701 files belonging to 2 classes.\n",
            "Using 540 files for validation.\n"
          ]
        }
      ]
    },
    {
      "cell_type": "code",
      "source": [
        "tf.random.set_seed(42)\n",
        "#train is 70% of data, test is 10% of data.\n",
        "#ref: https://stackoverflow.com/questions/50737192/tf-data-dataset-how-to-get-the-dataset-size-number-of-elements-in-an-epoch\n",
        "dataset_size = train_ds.cardinality().numpy()\n",
        "train_size = int(0.875 * dataset_size)\n",
        "test_size = int(0.125 * dataset_size)\n",
        "\n",
        "temp_ds = train_ds.shuffle(1000, seed=42)\n",
        "train_ds = temp_ds.take(train_size)\n",
        "test_ds = temp_ds.skip(train_size)"
      ],
      "metadata": {
        "id": "nrgvpnwhfFnz"
      },
      "execution_count": null,
      "outputs": []
    },
    {
      "cell_type": "markdown",
      "source": [
        "## Metrics Functions"
      ],
      "metadata": {
        "id": "U1cjXf7DZPC2"
      }
    },
    {
      "cell_type": "code",
      "source": [
        "#ref: https://aakashgoel12.medium.com/how-to-add-user-defined-function-get-f1-score-in-keras-metrics-3013f979ce0d\n",
        "\n",
        "import keras.backend as K\n",
        "\n",
        "def Precision(y_true, y_pred):\n",
        "  true_positives = K.sum(K.round(K.clip(y_true * y_pred, 0, 1)))\n",
        "  predicted_positives = K.sum(K.round(K.clip(y_pred, 0, 1)))\n",
        "  precision = true_positives / (predicted_positives + K.epsilon())\n",
        "  return precision\n",
        "\n",
        "def Recall(y_true, y_pred):\n",
        "  true_positives = K.sum(K.round(K.clip(y_true * y_pred, 0, 1)))\n",
        "  possible_positives = K.sum(K.round(K.clip(y_true, 0, 1)))\n",
        "  recall = true_positives / (possible_positives + K.epsilon())\n",
        "  return recall\n",
        "\n",
        "def F1_score(y_true, y_pred):\n",
        "  true_positives = K.sum(K.round(K.clip(y_true * y_pred, 0, 1)))\n",
        "  possible_positives = K.sum(K.round(K.clip(y_true, 0, 1)))\n",
        "  predicted_positives = K.sum(K.round(K.clip(y_pred, 0, 1)))\n",
        "  precision = true_positives / (predicted_positives + K.epsilon())\n",
        "  recall = true_positives / (possible_positives + K.epsilon())\n",
        "  f1_val = 2*(precision*recall)/(precision+recall+K.epsilon())\n",
        "  return f1_val"
      ],
      "metadata": {
        "id": "fzsWMPYJBTcN"
      },
      "execution_count": null,
      "outputs": []
    },
    {
      "cell_type": "code",
      "source": [
        "#keras.metrics.AUC(name='prc', curve='PR'), keras.metrics.AUC(curve='PR')\n",
        "\n",
        "#ref:https://stackoverflow.com/questions/41032551/how-to-compute-receiving-operating-characteristic-roc-and-auc-in-keras\n",
        "from sklearn.metrics import roc_auc_score\n",
        "\n",
        "def auroc(y_true, y_pred):\n",
        "  return tf.py_function(roc_auc_score, (y_true, y_pred[:,1]), tf.double)\n",
        "\n",
        "#below function doesn't work with current code.\n",
        "#def auc(y_true, y_pred):\n",
        "#  auc = tf.keras.metrics.AUC(y_true, y_pred[:,1])[1]\n",
        "#  K.get_session().run(tf.local_variables_initializer())\n",
        "#  return auc"
      ],
      "metadata": {
        "id": "Iyetttp92EBm"
      },
      "execution_count": null,
      "outputs": []
    },
    {
      "cell_type": "markdown",
      "metadata": {
        "id": "f2ExkYotcWkU"
      },
      "source": [
        "# Best Model (in terms of loss)"
      ]
    },
    {
      "cell_type": "code",
      "source": [
        "from functools import partial\n",
        "\n",
        "tf.keras.backend.clear_session()\n",
        "\n",
        "DefaultConv2D = partial(keras.layers.Conv2D,\n",
        "                        kernel_size=4, activation='relu', padding=\"SAME\")\n",
        "\n",
        "model = keras.models.Sequential([\n",
        "    keras.Input(shape=[64, 64, 1]),\n",
        "    keras.layers.BatchNormalization(),\n",
        "    #DefaultConv2D(filters=32, kernel_size=8),\n",
        "    #DefaultConv2D(filters=32, kernel_size=8),\n",
        "    #keras.layers.BatchNormalization(),\n",
        "    #keras.layers.MaxPooling2D(pool_size=2),\n",
        "    #DefaultConv2D(filters=32),\n",
        "    #DefaultConv2D(filters=32),\n",
        "    #keras.layers.BatchNormalization(),\n",
        "    #keras.layers.MaxPooling2D(pool_size=2), \n",
        "    DefaultConv2D(filters=16),\n",
        "    #DefaultConv2D(filters=16),\n",
        "    keras.layers.BatchNormalization(),\n",
        "    keras.layers.MaxPooling2D(pool_size=2),\n",
        "    keras.layers.Flatten(),\n",
        "    keras.layers.Dense(units=128, activation='relu'),\n",
        "    keras.layers.Dropout(0.5),\n",
        "    #keras.layers.Dense(units=64, activation='relu'),\n",
        "    #keras.layers.Dropout(0.5),\n",
        "    keras.layers.Dense(units=2, activation='softmax'),\n",
        "])"
      ],
      "metadata": {
        "id": "RsxbNqvBIqwB"
      },
      "execution_count": null,
      "outputs": []
    },
    {
      "cell_type": "code",
      "source": [
        "optimizer = keras.optimizers.RMSprop(learning_rate=0.0001)\n",
        "model.compile(loss=\"sparse_categorical_crossentropy\", optimizer=optimizer,\n",
        "              metrics=[\"accuracy\", F1_score, Precision, Recall, auroc])\n",
        "history = model.fit(train_ds, epochs=10, validation_data=validation_ds)\n",
        "score = model.evaluate(test_ds)"
      ],
      "metadata": {
        "colab": {
          "base_uri": "https://localhost:8080/"
        },
        "id": "9cKNpv86I6sd",
        "outputId": "6a97ab32-2aa7-48ee-b2f1-05078ffb3f42"
      },
      "execution_count": null,
      "outputs": [
        {
          "output_type": "stream",
          "name": "stdout",
          "text": [
            "Epoch 1/10\n",
            "59/59 [==============================] - 257s 783ms/step - loss: 1.7973 - accuracy: 0.5099 - F1_score: 0.6032 - Precision: 0.4355 - Recall: 1.0000 - auroc: 0.4931 - val_loss: 0.8109 - val_accuracy: 0.5000 - val_F1_score: 0.6171 - val_Precision: 0.4496 - val_Recall: 1.0000 - val_auroc: 0.4860\n",
            "Epoch 2/10\n",
            "59/59 [==============================] - 2s 15ms/step - loss: 0.9634 - accuracy: 0.5670 - F1_score: 0.5973 - Precision: 0.4308 - Recall: 1.0000 - auroc: 0.5702 - val_loss: 0.7973 - val_accuracy: 0.5074 - val_F1_score: 0.6193 - val_Precision: 0.4506 - val_Recall: 1.0000 - val_auroc: 0.5185\n",
            "Epoch 3/10\n",
            "59/59 [==============================] - 2s 12ms/step - loss: 0.7834 - accuracy: 0.5996 - F1_score: 0.6001 - Precision: 0.4347 - Recall: 1.0000 - auroc: 0.6208 - val_loss: 0.7213 - val_accuracy: 0.5222 - val_F1_score: 0.6182 - val_Precision: 0.4506 - val_Recall: 1.0000 - val_auroc: 0.5052\n",
            "Epoch 4/10\n",
            "59/59 [==============================] - 2s 12ms/step - loss: 0.7315 - accuracy: 0.6043 - F1_score: 0.6038 - Precision: 0.4396 - Recall: 1.0000 - auroc: 0.6563 - val_loss: 0.7187 - val_accuracy: 0.5167 - val_F1_score: 0.6153 - val_Precision: 0.4504 - val_Recall: 1.0000 - val_auroc: 0.5104\n",
            "Epoch 5/10\n",
            "59/59 [==============================] - 2s 12ms/step - loss: 0.6691 - accuracy: 0.6439 - F1_score: 0.6067 - Precision: 0.4401 - Recall: 1.0000 - auroc: 0.7002 - val_loss: 0.7554 - val_accuracy: 0.5426 - val_F1_score: 0.6141 - val_Precision: 0.4498 - val_Recall: 1.0000 - val_auroc: 0.5553\n",
            "Epoch 6/10\n",
            "59/59 [==============================] - 2s 12ms/step - loss: 0.6386 - accuracy: 0.6684 - F1_score: 0.6062 - Precision: 0.4412 - Recall: 1.0000 - auroc: 0.7297 - val_loss: 0.7517 - val_accuracy: 0.5481 - val_F1_score: 0.6151 - val_Precision: 0.4501 - val_Recall: 1.0000 - val_auroc: 0.5741\n",
            "Epoch 7/10\n",
            "59/59 [==============================] - 2s 13ms/step - loss: 0.5688 - accuracy: 0.7117 - F1_score: 0.6054 - Precision: 0.4385 - Recall: 1.0000 - auroc: 0.7864 - val_loss: 0.7346 - val_accuracy: 0.5611 - val_F1_score: 0.6193 - val_Precision: 0.4504 - val_Recall: 1.0000 - val_auroc: 0.5715\n",
            "Epoch 8/10\n",
            "59/59 [==============================] - 2s 12ms/step - loss: 0.5453 - accuracy: 0.7197 - F1_score: 0.6037 - Precision: 0.4390 - Recall: 1.0000 - auroc: 0.8050 - val_loss: 0.8014 - val_accuracy: 0.5370 - val_F1_score: 0.6151 - val_Precision: 0.4496 - val_Recall: 1.0000 - val_auroc: 0.5389\n",
            "Epoch 9/10\n",
            "59/59 [==============================] - 2s 12ms/step - loss: 0.5038 - accuracy: 0.7464 - F1_score: 0.5998 - Precision: 0.4333 - Recall: 1.0000 - auroc: 0.8302 - val_loss: 0.7838 - val_accuracy: 0.5352 - val_F1_score: 0.6176 - val_Precision: 0.4509 - val_Recall: 1.0000 - val_auroc: 0.5526\n",
            "Epoch 10/10\n",
            "59/59 [==============================] - 2s 12ms/step - loss: 0.4661 - accuracy: 0.7859 - F1_score: 0.6077 - Precision: 0.4401 - Recall: 1.0000 - auroc: 0.8635 - val_loss: 0.9612 - val_accuracy: 0.5352 - val_F1_score: 0.6121 - val_Precision: 0.4483 - val_Recall: 1.0000 - val_auroc: 0.5453\n",
            "9/9 [==============================] - 1s 5ms/step - loss: 0.4228 - accuracy: 0.7917 - F1_score: 0.6264 - Precision: 0.4618 - Recall: 1.0000 - auroc: 0.9015\n"
          ]
        }
      ]
    },
    {
      "cell_type": "markdown",
      "source": [
        "# Test Model\n",
        "\n",
        "Note I did alot of iterations based on commented out code. Basically every combination of the commented out code including increasing filters or dense units by a factor of 2."
      ],
      "metadata": {
        "id": "cm7Ixil6YPW-"
      }
    },
    {
      "cell_type": "code",
      "source": [
        "from functools import partial\n",
        "\n",
        "tf.keras.backend.clear_session()\n",
        "\n",
        "DefaultConv2D = partial(keras.layers.Conv2D,\n",
        "                        kernel_size=4, activation='relu', padding=\"SAME\")\n",
        "\n",
        "model = keras.models.Sequential([\n",
        "    keras.Input(shape=[64, 64, 1]),\n",
        "    keras.layers.BatchNormalization(),\n",
        "    DefaultConv2D(filters=32, kernel_size=8),\n",
        "    #DefaultConv2D(filters=32, kernel_size=8),\n",
        "    #keras.layers.BatchNormalization(),\n",
        "    #keras.layers.MaxPooling2D(pool_size=2),\n",
        "    #DefaultConv2D(filters=32),\n",
        "    #DefaultConv2D(filters=32),\n",
        "    #keras.layers.BatchNormalization(),\n",
        "    #keras.layers.MaxPooling2D(pool_size=2), \n",
        "    DefaultConv2D(filters=16),\n",
        "    #DefaultConv2D(filters=16),\n",
        "    keras.layers.BatchNormalization(),\n",
        "    keras.layers.MaxPooling2D(pool_size=2),\n",
        "    keras.layers.Flatten(),\n",
        "    keras.layers.Dense(units=128, activation='relu'),\n",
        "    keras.layers.Dropout(0.5),\n",
        "    #keras.layers.Dense(units=64, activation='relu'),\n",
        "    #keras.layers.Dropout(0.5),\n",
        "    keras.layers.Dense(units=2, activation='softmax'),\n",
        "])"
      ],
      "metadata": {
        "id": "FkSijODbTYco"
      },
      "execution_count": null,
      "outputs": []
    },
    {
      "cell_type": "code",
      "source": [
        "optimizer = keras.optimizers.RMSprop(learning_rate=0.0001)\n",
        "model.compile(loss=\"sparse_categorical_crossentropy\", optimizer=optimizer,\n",
        "              metrics=[\"accuracy\", F1_score, Precision, Recall, auroc])\n",
        "history = model.fit(train_ds, epochs=10, validation_data=validation_ds)\n",
        "score = model.evaluate(test_ds)"
      ],
      "metadata": {
        "colab": {
          "base_uri": "https://localhost:8080/"
        },
        "id": "Pxzy6s4cTceo",
        "outputId": "b37ca1a4-1e8f-432c-a400-3ec6ada69bce"
      },
      "execution_count": null,
      "outputs": [
        {
          "output_type": "stream",
          "name": "stdout",
          "text": [
            "Epoch 1/10\n",
            "59/59 [==============================] - 3s 21ms/step - loss: 1.0095 - accuracy: 0.5024 - F1_score: 0.6062 - Precision: 0.4403 - Recall: 1.0000 - auroc: 0.5079 - val_loss: 0.6942 - val_accuracy: 0.5315 - val_F1_score: 0.6150 - val_Precision: 0.4496 - val_Recall: 1.0000 - val_auroc: 0.5470\n",
            "Epoch 2/10\n",
            "59/59 [==============================] - 2s 16ms/step - loss: 0.6776 - accuracy: 0.6097 - F1_score: 0.6078 - Precision: 0.4428 - Recall: 1.0000 - auroc: 0.6540 - val_loss: 0.6892 - val_accuracy: 0.5556 - val_F1_score: 0.6129 - val_Precision: 0.4491 - val_Recall: 1.0000 - val_auroc: 0.5400\n",
            "Epoch 3/10\n",
            "59/59 [==============================] - 2s 17ms/step - loss: 0.6004 - accuracy: 0.6487 - F1_score: 0.5998 - Precision: 0.4329 - Recall: 1.0000 - auroc: 0.7381 - val_loss: 0.6923 - val_accuracy: 0.5241 - val_F1_score: 0.6148 - val_Precision: 0.4496 - val_Recall: 1.0000 - val_auroc: 0.5315\n",
            "Epoch 4/10\n",
            "59/59 [==============================] - 2s 16ms/step - loss: 0.5310 - accuracy: 0.7245 - F1_score: 0.6013 - Precision: 0.4334 - Recall: 1.0000 - auroc: 0.8084 - val_loss: 0.6871 - val_accuracy: 0.5389 - val_F1_score: 0.6149 - val_Precision: 0.4498 - val_Recall: 1.0000 - val_auroc: 0.5794\n",
            "Epoch 5/10\n",
            "59/59 [==============================] - 2s 16ms/step - loss: 0.4881 - accuracy: 0.7533 - F1_score: 0.5997 - Precision: 0.4328 - Recall: 1.0000 - auroc: 0.8463 - val_loss: 0.6818 - val_accuracy: 0.5685 - val_F1_score: 0.6159 - val_Precision: 0.4496 - val_Recall: 1.0000 - val_auroc: 0.5793\n",
            "Epoch 6/10\n",
            "59/59 [==============================] - 2s 18ms/step - loss: 0.4258 - accuracy: 0.7912 - F1_score: 0.6040 - Precision: 0.4382 - Recall: 1.0000 - auroc: 0.8819 - val_loss: 0.6890 - val_accuracy: 0.5296 - val_F1_score: 0.6131 - val_Precision: 0.4496 - val_Recall: 1.0000 - val_auroc: 0.6140\n",
            "Epoch 7/10\n",
            "59/59 [==============================] - 2s 16ms/step - loss: 0.3737 - accuracy: 0.8185 - F1_score: 0.5980 - Precision: 0.4314 - Recall: 1.0000 - auroc: 0.9210 - val_loss: 0.6787 - val_accuracy: 0.5704 - val_F1_score: 0.6163 - val_Precision: 0.4496 - val_Recall: 1.0000 - val_auroc: 0.5974\n",
            "Epoch 8/10\n",
            "59/59 [==============================] - 2s 16ms/step - loss: 0.3289 - accuracy: 0.8416 - F1_score: 0.5975 - Precision: 0.4322 - Recall: 1.0000 - auroc: 0.9375 - val_loss: 0.7072 - val_accuracy: 0.5722 - val_F1_score: 0.6178 - val_Precision: 0.4504 - val_Recall: 1.0000 - val_auroc: 0.5821\n",
            "Epoch 9/10\n",
            "59/59 [==============================] - 2s 16ms/step - loss: 0.3008 - accuracy: 0.8574 - F1_score: 0.5947 - Precision: 0.4308 - Recall: 1.0000 - auroc: 0.9472 - val_loss: 0.7746 - val_accuracy: 0.5630 - val_F1_score: 0.6170 - val_Precision: 0.4493 - val_Recall: 1.0000 - val_auroc: 0.5763\n",
            "Epoch 10/10\n",
            "59/59 [==============================] - 2s 16ms/step - loss: 0.2665 - accuracy: 0.8788 - F1_score: 0.6021 - Precision: 0.4353 - Recall: 1.0000 - auroc: 0.9641 - val_loss: 0.7933 - val_accuracy: 0.5519 - val_F1_score: 0.6176 - val_Precision: 0.4506 - val_Recall: 1.0000 - val_auroc: 0.5660\n",
            "9/9 [==============================] - 1s 5ms/step - loss: 0.2123 - accuracy: 0.9410 - F1_score: 0.6055 - Precision: 0.4375 - Recall: 1.0000 - auroc: 0.9942\n"
          ]
        }
      ]
    },
    {
      "cell_type": "markdown",
      "source": [
        "## Xception Model"
      ],
      "metadata": {
        "id": "Sf34HwN-H7Im"
      }
    },
    {
      "cell_type": "code",
      "source": [
        "data_dir = root + \"data_subset_balanced/\"\n",
        "batch_size = 32;\n",
        "# IMPORTANT: Depends on what pre-trained model you choose, you will need to change these dimensions accordingly\n",
        "img_height = 299; \n",
        "img_width = 299;\n",
        "\n",
        "# Training Dataset\n",
        "train_ds = tf.keras.preprocessing.image_dataset_from_directory(\n",
        "    data_dir,\n",
        "    color_mode = 'rgb',\n",
        "    validation_split = 0.2,\n",
        "    subset = \"training\",\n",
        "    seed = 42,\n",
        "    image_size= (img_height, img_width),\n",
        "    batch_size = batch_size\n",
        ")\n",
        "\n",
        "# Validation Dataset\n",
        "validation_ds = tf.keras.preprocessing.image_dataset_from_directory(\n",
        "    data_dir,\n",
        "    color_mode = 'rgb',\n",
        "    validation_split = 0.2,\n",
        "    subset = \"validation\",\n",
        "    seed = 42,\n",
        "    image_size = (img_height, img_width),\n",
        "    batch_size = batch_size\n",
        ")        \n"
      ],
      "metadata": {
        "id": "4q8eiQdk_asH",
        "colab": {
          "base_uri": "https://localhost:8080/"
        },
        "outputId": "cb9683e0-13da-48a8-d86e-0b4f461cafae"
      },
      "execution_count": null,
      "outputs": [
        {
          "output_type": "stream",
          "name": "stdout",
          "text": [
            "Found 2701 files belonging to 2 classes.\n",
            "Using 2161 files for training.\n",
            "Found 2701 files belonging to 2 classes.\n",
            "Using 540 files for validation.\n"
          ]
        }
      ]
    },
    {
      "cell_type": "code",
      "source": [
        "tf.random.set_seed(42)\n",
        "#train is 70% of data, test is 10% of data.\n",
        "#ref: https://stackoverflow.com/questions/50737192/tf-data-dataset-how-to-get-the-dataset-size-number-of-elements-in-an-epoch\n",
        "dataset_size = train_ds.cardinality().numpy()\n",
        "train_size = int(0.875 * dataset_size)\n",
        "test_size = int(0.125 * dataset_size)\n",
        "\n",
        "temp_ds = train_ds.shuffle(1000, seed=42)\n",
        "train_ds = temp_ds.take(train_size)\n",
        "test_ds = temp_ds.skip(train_size)"
      ],
      "metadata": {
        "id": "nefKSI8k_q1d"
      },
      "execution_count": null,
      "outputs": []
    },
    {
      "cell_type": "code",
      "source": [
        "n_classes = 2\n",
        "def xception_preprocess_x(x, y):\n",
        "  x = tf.keras.applications.xception.preprocess_input(x)\n",
        "  return x,y\n",
        "xception_ds_train = train_ds.map(xception_preprocess_x)\n",
        "xception_ds_val = validation_ds.map(xception_preprocess_x)\n",
        "xception_ds_test = test_ds.map(xception_preprocess_x)"
      ],
      "metadata": {
        "id": "ZOaMG5wM_wyr"
      },
      "execution_count": null,
      "outputs": []
    },
    {
      "cell_type": "code",
      "source": [
        "#ref: https://stackoverflow.com/questions/50737192/tf-data-dataset-how-to-get-the-dataset-size-number-of-elements-in-an-epoch\n",
        "dataset_size = xception_ds_train.cardinality().numpy()\n",
        "dataset_size"
      ],
      "metadata": {
        "id": "H1eVGO5B_2fi",
        "colab": {
          "base_uri": "https://localhost:8080/"
        },
        "outputId": "5f942de9-4bf9-401e-da13-9d18c8e993a6"
      },
      "execution_count": null,
      "outputs": [
        {
          "output_type": "execute_result",
          "data": {
            "text/plain": [
              "59"
            ]
          },
          "metadata": {},
          "execution_count": 15
        }
      ]
    },
    {
      "cell_type": "code",
      "source": [
        "tf.keras.backend.clear_session()\n",
        "base_model = keras.applications.xception.Xception(weights=\"imagenet\",\n",
        "                                                  include_top=False)\n",
        "avg = keras.layers.GlobalAveragePooling2D()(base_model.output)\n",
        "output = keras.layers.Dense(n_classes, activation=\"softmax\")(avg)\n",
        "model = keras.models.Model(inputs=base_model.input, outputs=output)"
      ],
      "metadata": {
        "id": "Y-actgo1Gc4o",
        "colab": {
          "base_uri": "https://localhost:8080/"
        },
        "outputId": "5a4585eb-ab63-4764-f205-e55555161868"
      },
      "execution_count": null,
      "outputs": [
        {
          "output_type": "stream",
          "name": "stdout",
          "text": [
            "Downloading data from https://storage.googleapis.com/tensorflow/keras-applications/xception/xception_weights_tf_dim_ordering_tf_kernels_notop.h5\n",
            "83689472/83683744 [==============================] - 3s 0us/step\n",
            "83697664/83683744 [==============================] - 3s 0us/step\n"
          ]
        }
      ]
    },
    {
      "cell_type": "code",
      "source": [
        "for layer in base_model.layers:\n",
        "    layer.trainable = False\n",
        "\n",
        "optimizer = keras.optimizers.SGD(learning_rate=0.2, momentum=0.9, decay=0.01)\n",
        "model.compile(loss=\"sparse_categorical_crossentropy\", optimizer=optimizer,\n",
        "              metrics=['accuracy', F1_score, Precision, Recall, auroc])\n",
        "history = model.fit(xception_ds_train,\n",
        "                    validation_data=xception_ds_val,\n",
        "                    epochs=20)"
      ],
      "metadata": {
        "id": "uuoD0-HNGevS",
        "colab": {
          "base_uri": "https://localhost:8080/"
        },
        "outputId": "7f7ab065-309c-4740-c6a3-64e6218b4740"
      },
      "execution_count": null,
      "outputs": [
        {
          "output_type": "stream",
          "name": "stdout",
          "text": [
            "Epoch 1/20\n",
            "59/59 [==============================] - 18s 205ms/step - loss: 2.5199 - accuracy: 0.5398 - F1_score: 0.6032 - Precision: 0.4355 - Recall: 1.0000 - auroc: 0.5766 - val_loss: 1.9129 - val_accuracy: 0.5574 - val_F1_score: 0.6171 - val_Precision: 0.4496 - val_Recall: 1.0000 - val_auroc: 0.5650\n",
            "Epoch 2/20\n",
            "59/59 [==============================] - 13s 181ms/step - loss: 1.3821 - accuracy: 0.6006 - F1_score: 0.5973 - Precision: 0.4308 - Recall: 1.0000 - auroc: 0.6532 - val_loss: 1.3453 - val_accuracy: 0.5685 - val_F1_score: 0.6193 - val_Precision: 0.4506 - val_Recall: 1.0000 - val_auroc: 0.5859\n",
            "Epoch 3/20\n",
            "59/59 [==============================] - 13s 182ms/step - loss: 1.4131 - accuracy: 0.6129 - F1_score: 0.6001 - Precision: 0.4347 - Recall: 1.0000 - auroc: 0.7019 - val_loss: 1.4036 - val_accuracy: 0.5407 - val_F1_score: 0.6182 - val_Precision: 0.4506 - val_Recall: 1.0000 - val_auroc: 0.6267\n",
            "Epoch 4/20\n",
            "59/59 [==============================] - 13s 182ms/step - loss: 0.8544 - accuracy: 0.6663 - F1_score: 0.6038 - Precision: 0.4396 - Recall: 1.0000 - auroc: 0.7718 - val_loss: 2.2619 - val_accuracy: 0.4759 - val_F1_score: 0.6153 - val_Precision: 0.4504 - val_Recall: 1.0000 - val_auroc: 0.5781\n",
            "Epoch 5/20\n",
            "59/59 [==============================] - 13s 181ms/step - loss: 1.1125 - accuracy: 0.6466 - F1_score: 0.6067 - Precision: 0.4401 - Recall: 1.0000 - auroc: 0.7655 - val_loss: 1.1403 - val_accuracy: 0.5981 - val_F1_score: 0.6141 - val_Precision: 0.4498 - val_Recall: 1.0000 - val_auroc: 0.6284\n",
            "Epoch 6/20\n",
            "59/59 [==============================] - 13s 181ms/step - loss: 0.7519 - accuracy: 0.7015 - F1_score: 0.6062 - Precision: 0.4412 - Recall: 1.0000 - auroc: 0.8186 - val_loss: 1.0559 - val_accuracy: 0.5704 - val_F1_score: 0.6151 - val_Precision: 0.4501 - val_Recall: 1.0000 - val_auroc: 0.5871\n",
            "Epoch 7/20\n",
            "59/59 [==============================] - 13s 181ms/step - loss: 0.5263 - accuracy: 0.7565 - F1_score: 0.6054 - Precision: 0.4385 - Recall: 1.0000 - auroc: 0.8324 - val_loss: 1.0570 - val_accuracy: 0.5685 - val_F1_score: 0.6193 - val_Precision: 0.4504 - val_Recall: 1.0000 - val_auroc: 0.6000\n",
            "Epoch 8/20\n",
            "59/59 [==============================] - 13s 181ms/step - loss: 0.5016 - accuracy: 0.7544 - F1_score: 0.6037 - Precision: 0.4390 - Recall: 1.0000 - auroc: 0.8579 - val_loss: 0.9325 - val_accuracy: 0.6037 - val_F1_score: 0.6151 - val_Precision: 0.4496 - val_Recall: 1.0000 - val_auroc: 0.5992\n",
            "Epoch 9/20\n",
            "59/59 [==============================] - 13s 181ms/step - loss: 0.4701 - accuracy: 0.7763 - F1_score: 0.5998 - Precision: 0.4333 - Recall: 1.0000 - auroc: 0.8746 - val_loss: 1.0475 - val_accuracy: 0.5648 - val_F1_score: 0.6176 - val_Precision: 0.4509 - val_Recall: 1.0000 - val_auroc: 0.6022\n",
            "Epoch 10/20\n",
            "59/59 [==============================] - 13s 181ms/step - loss: 0.4590 - accuracy: 0.7795 - F1_score: 0.6077 - Precision: 0.4401 - Recall: 1.0000 - auroc: 0.8751 - val_loss: 0.9210 - val_accuracy: 0.5648 - val_F1_score: 0.6121 - val_Precision: 0.4483 - val_Recall: 1.0000 - val_auroc: 0.6021\n",
            "Epoch 11/20\n",
            "59/59 [==============================] - 13s 181ms/step - loss: 0.4192 - accuracy: 0.8003 - F1_score: 0.5998 - Precision: 0.4327 - Recall: 1.0000 - auroc: 0.8982 - val_loss: 0.9112 - val_accuracy: 0.5963 - val_F1_score: 0.6150 - val_Precision: 0.4496 - val_Recall: 1.0000 - val_auroc: 0.6076\n",
            "Epoch 12/20\n",
            "59/59 [==============================] - 13s 181ms/step - loss: 0.4162 - accuracy: 0.8110 - F1_score: 0.5998 - Precision: 0.4339 - Recall: 1.0000 - auroc: 0.8991 - val_loss: 0.9469 - val_accuracy: 0.5667 - val_F1_score: 0.6129 - val_Precision: 0.4491 - val_Recall: 1.0000 - val_auroc: 0.5884\n",
            "Epoch 13/20\n",
            "59/59 [==============================] - 13s 182ms/step - loss: 0.4375 - accuracy: 0.7993 - F1_score: 0.6033 - Precision: 0.4386 - Recall: 1.0000 - auroc: 0.9025 - val_loss: 0.9429 - val_accuracy: 0.5667 - val_F1_score: 0.6148 - val_Precision: 0.4496 - val_Recall: 1.0000 - val_auroc: 0.5853\n",
            "Epoch 14/20\n",
            "59/59 [==============================] - 13s 181ms/step - loss: 0.4250 - accuracy: 0.7998 - F1_score: 0.6059 - Precision: 0.4392 - Recall: 1.0000 - auroc: 0.8974 - val_loss: 0.9242 - val_accuracy: 0.5704 - val_F1_score: 0.6149 - val_Precision: 0.4498 - val_Recall: 1.0000 - val_auroc: 0.6139\n",
            "Epoch 15/20\n",
            "59/59 [==============================] - 13s 181ms/step - loss: 0.4071 - accuracy: 0.8137 - F1_score: 0.6053 - Precision: 0.4376 - Recall: 1.0000 - auroc: 0.9149 - val_loss: 0.9166 - val_accuracy: 0.5648 - val_F1_score: 0.6159 - val_Precision: 0.4496 - val_Recall: 1.0000 - val_auroc: 0.6027\n",
            "Epoch 16/20\n",
            "59/59 [==============================] - 13s 180ms/step - loss: 0.3950 - accuracy: 0.8206 - F1_score: 0.6103 - Precision: 0.4434 - Recall: 1.0000 - auroc: 0.9135 - val_loss: 0.9224 - val_accuracy: 0.5870 - val_F1_score: 0.6131 - val_Precision: 0.4496 - val_Recall: 1.0000 - val_auroc: 0.6015\n",
            "Epoch 17/20\n",
            "59/59 [==============================] - 13s 181ms/step - loss: 0.3959 - accuracy: 0.8121 - F1_score: 0.5978 - Precision: 0.4318 - Recall: 1.0000 - auroc: 0.9156 - val_loss: 0.9044 - val_accuracy: 0.5833 - val_F1_score: 0.6163 - val_Precision: 0.4496 - val_Recall: 1.0000 - val_auroc: 0.6168\n",
            "Epoch 18/20\n",
            "59/59 [==============================] - 13s 181ms/step - loss: 0.4179 - accuracy: 0.7939 - F1_score: 0.6028 - Precision: 0.4361 - Recall: 1.0000 - auroc: 0.9180 - val_loss: 0.9220 - val_accuracy: 0.5796 - val_F1_score: 0.6178 - val_Precision: 0.4504 - val_Recall: 1.0000 - val_auroc: 0.6056\n",
            "Epoch 19/20\n",
            "59/59 [==============================] - 13s 181ms/step - loss: 0.3846 - accuracy: 0.8377 - F1_score: 0.5958 - Precision: 0.4303 - Recall: 1.0000 - auroc: 0.9194 - val_loss: 0.9079 - val_accuracy: 0.5889 - val_F1_score: 0.6170 - val_Precision: 0.4493 - val_Recall: 1.0000 - val_auroc: 0.6097\n",
            "Epoch 20/20\n",
            "59/59 [==============================] - 13s 181ms/step - loss: 0.3973 - accuracy: 0.8222 - F1_score: 0.6025 - Precision: 0.4388 - Recall: 1.0000 - auroc: 0.9223 - val_loss: 0.9360 - val_accuracy: 0.5778 - val_F1_score: 0.6176 - val_Precision: 0.4506 - val_Recall: 1.0000 - val_auroc: 0.6109\n"
          ]
        }
      ]
    },
    {
      "cell_type": "code",
      "source": [
        "for layer in base_model.layers:\n",
        "    layer.trainable = True\n",
        "\n",
        "optimizer = keras.optimizers.SGD(learning_rate=0.01, momentum=0.9, nesterov=True, decay=0.001)\n",
        "model.compile(loss=\"sparse_categorical_crossentropy\", optimizer=optimizer,\n",
        "              metrics=['accuracy', F1_score, Precision, Recall, auroc])\n",
        "history = model.fit(xception_ds_train,\n",
        "                    validation_data=xception_ds_val,\n",
        "                    epochs=40)"
      ],
      "metadata": {
        "id": "Qrjxj6oKGsjr",
        "colab": {
          "base_uri": "https://localhost:8080/"
        },
        "outputId": "23f7e97d-e011-4334-c9a5-a94d1a989701"
      },
      "execution_count": null,
      "outputs": [
        {
          "output_type": "stream",
          "name": "stdout",
          "text": [
            "Epoch 1/40\n",
            "59/59 [==============================] - 52s 762ms/step - loss: 0.7438 - accuracy: 0.5521 - F1_score: 0.6037 - Precision: 0.4369 - Recall: 1.0000 - auroc: 0.5290 - val_loss: 0.6827 - val_accuracy: 0.5463 - val_F1_score: 0.6188 - val_Precision: 0.4501 - val_Recall: 1.0000 - val_auroc: 0.5651\n",
            "Epoch 2/40\n",
            "59/59 [==============================] - 46s 743ms/step - loss: 0.6857 - accuracy: 0.5617 - F1_score: 0.6057 - Precision: 0.4381 - Recall: 1.0000 - auroc: 0.5344 - val_loss: 0.6872 - val_accuracy: 0.5481 - val_F1_score: 0.6159 - val_Precision: 0.4506 - val_Recall: 1.0000 - val_auroc: 0.5758\n",
            "Epoch 3/40\n",
            "59/59 [==============================] - 46s 744ms/step - loss: 0.6855 - accuracy: 0.5617 - F1_score: 0.6047 - Precision: 0.4391 - Recall: 1.0000 - auroc: 0.5704 - val_loss: 0.6882 - val_accuracy: 0.5500 - val_F1_score: 0.6173 - val_Precision: 0.4504 - val_Recall: 1.0000 - val_auroc: 0.5422\n",
            "Epoch 4/40\n",
            "59/59 [==============================] - 46s 749ms/step - loss: 0.6828 - accuracy: 0.5681 - F1_score: 0.6006 - Precision: 0.4339 - Recall: 1.0000 - auroc: 0.5810 - val_loss: 0.6884 - val_accuracy: 0.5537 - val_F1_score: 0.6175 - val_Precision: 0.4498 - val_Recall: 1.0000 - val_auroc: 0.5574\n",
            "Epoch 5/40\n",
            "59/59 [==============================] - 46s 745ms/step - loss: 0.6673 - accuracy: 0.5729 - F1_score: 0.5953 - Precision: 0.4302 - Recall: 1.0000 - auroc: 0.6242 - val_loss: 0.6793 - val_accuracy: 0.5556 - val_F1_score: 0.6164 - val_Precision: 0.4517 - val_Recall: 1.0000 - val_auroc: 0.6151\n",
            "Epoch 6/40\n",
            "59/59 [==============================] - 46s 745ms/step - loss: 0.6173 - accuracy: 0.6348 - F1_score: 0.6033 - Precision: 0.4382 - Recall: 1.0000 - auroc: 0.7129 - val_loss: 0.6864 - val_accuracy: 0.5426 - val_F1_score: 0.6152 - val_Precision: 0.4509 - val_Recall: 1.0000 - val_auroc: 0.5651\n",
            "Epoch 7/40\n",
            "59/59 [==============================] - 46s 745ms/step - loss: 0.5587 - accuracy: 0.6903 - F1_score: 0.6015 - Precision: 0.4359 - Recall: 1.0000 - auroc: 0.7833 - val_loss: 0.6823 - val_accuracy: 0.5537 - val_F1_score: 0.6153 - val_Precision: 0.4491 - val_Recall: 1.0000 - val_auroc: 0.5855\n",
            "Epoch 8/40\n",
            "59/59 [==============================] - 46s 743ms/step - loss: 0.4171 - accuracy: 0.8030 - F1_score: 0.6031 - Precision: 0.4359 - Recall: 1.0000 - auroc: 0.8950 - val_loss: 0.6850 - val_accuracy: 0.5889 - val_F1_score: 0.6150 - val_Precision: 0.4506 - val_Recall: 1.0000 - val_auroc: 0.6265\n",
            "Epoch 9/40\n",
            "59/59 [==============================] - 46s 748ms/step - loss: 0.2920 - accuracy: 0.8750 - F1_score: 0.5967 - Precision: 0.4317 - Recall: 1.0000 - auroc: 0.9550 - val_loss: 0.8229 - val_accuracy: 0.5611 - val_F1_score: 0.6181 - val_Precision: 0.4506 - val_Recall: 1.0000 - val_auroc: 0.5825\n",
            "Epoch 10/40\n",
            "59/59 [==============================] - 46s 743ms/step - loss: 0.2493 - accuracy: 0.8884 - F1_score: 0.6037 - Precision: 0.4369 - Recall: 1.0000 - auroc: 0.9630 - val_loss: 0.8746 - val_accuracy: 0.5444 - val_F1_score: 0.6141 - val_Precision: 0.4501 - val_Recall: 1.0000 - val_auroc: 0.5938\n",
            "Epoch 11/40\n",
            "59/59 [==============================] - 46s 742ms/step - loss: 0.2090 - accuracy: 0.9167 - F1_score: 0.5995 - Precision: 0.4333 - Recall: 1.0000 - auroc: 0.9750 - val_loss: 1.0158 - val_accuracy: 0.5667 - val_F1_score: 0.6100 - val_Precision: 0.4504 - val_Recall: 1.0000 - val_auroc: 0.5804\n",
            "Epoch 12/40\n",
            "59/59 [==============================] - 46s 743ms/step - loss: 0.1291 - accuracy: 0.9525 - F1_score: 0.6058 - Precision: 0.4415 - Recall: 1.0000 - auroc: 0.9924 - val_loss: 1.2555 - val_accuracy: 0.5685 - val_F1_score: 0.6173 - val_Precision: 0.4493 - val_Recall: 1.0000 - val_auroc: 0.5999\n",
            "Epoch 13/40\n",
            "59/59 [==============================] - 46s 744ms/step - loss: 0.1069 - accuracy: 0.9568 - F1_score: 0.5876 - Precision: 0.4225 - Recall: 1.0000 - auroc: 0.9954 - val_loss: 1.3453 - val_accuracy: 0.5852 - val_F1_score: 0.6150 - val_Precision: 0.4504 - val_Recall: 1.0000 - val_auroc: 0.5933\n",
            "Epoch 14/40\n",
            "59/59 [==============================] - 46s 743ms/step - loss: 0.0720 - accuracy: 0.9664 - F1_score: 0.6075 - Precision: 0.4424 - Recall: 1.0000 - auroc: 0.9986 - val_loss: 2.1927 - val_accuracy: 0.5685 - val_F1_score: 0.6171 - val_Precision: 0.4506 - val_Recall: 1.0000 - val_auroc: 0.5826\n",
            "Epoch 15/40\n",
            "59/59 [==============================] - 46s 742ms/step - loss: 0.1002 - accuracy: 0.9621 - F1_score: 0.5993 - Precision: 0.4345 - Recall: 1.0000 - auroc: 0.9950 - val_loss: 1.7085 - val_accuracy: 0.5685 - val_F1_score: 0.6170 - val_Precision: 0.4506 - val_Recall: 1.0000 - val_auroc: 0.5925\n",
            "Epoch 16/40\n",
            "59/59 [==============================] - 46s 743ms/step - loss: 0.0667 - accuracy: 0.9706 - F1_score: 0.6100 - Precision: 0.4433 - Recall: 1.0000 - auroc: 0.9977 - val_loss: 1.6428 - val_accuracy: 0.5722 - val_F1_score: 0.6148 - val_Precision: 0.4498 - val_Recall: 1.0000 - val_auroc: 0.5918\n",
            "Epoch 17/40\n",
            "59/59 [==============================] - 46s 749ms/step - loss: 0.0384 - accuracy: 0.9862 - F1_score: 0.6005 - Precision: 0.4343 - Recall: 1.0000 - auroc: 0.9992 - val_loss: 1.8429 - val_accuracy: 0.5407 - val_F1_score: 0.6159 - val_Precision: 0.4491 - val_Recall: 1.0000 - val_auroc: 0.5826\n",
            "Epoch 18/40\n",
            "59/59 [==============================] - 46s 743ms/step - loss: 0.0500 - accuracy: 0.9840 - F1_score: 0.5992 - Precision: 0.4330 - Recall: 1.0000 - auroc: 0.9987 - val_loss: 1.6480 - val_accuracy: 0.5685 - val_F1_score: 0.6166 - val_Precision: 0.4504 - val_Recall: 1.0000 - val_auroc: 0.5793\n",
            "Epoch 19/40\n",
            "59/59 [==============================] - 46s 743ms/step - loss: 0.0355 - accuracy: 0.9845 - F1_score: 0.6042 - Precision: 0.4386 - Recall: 1.0000 - auroc: 0.9995 - val_loss: 1.9833 - val_accuracy: 0.5556 - val_F1_score: 0.6176 - val_Precision: 0.4498 - val_Recall: 1.0000 - val_auroc: 0.5831\n",
            "Epoch 20/40\n",
            "59/59 [==============================] - 46s 743ms/step - loss: 0.0403 - accuracy: 0.9877 - F1_score: 0.6035 - Precision: 0.4377 - Recall: 1.0000 - auroc: 0.9985 - val_loss: 1.7859 - val_accuracy: 0.5796 - val_F1_score: 0.6167 - val_Precision: 0.4493 - val_Recall: 1.0000 - val_auroc: 0.5955\n",
            "Epoch 21/40\n",
            "59/59 [==============================] - 46s 743ms/step - loss: 0.0227 - accuracy: 0.9904 - F1_score: 0.6007 - Precision: 0.4344 - Recall: 1.0000 - auroc: 0.9996 - val_loss: 2.1608 - val_accuracy: 0.5759 - val_F1_score: 0.6162 - val_Precision: 0.4493 - val_Recall: 1.0000 - val_auroc: 0.6038\n",
            "Epoch 22/40\n",
            "59/59 [==============================] - 46s 743ms/step - loss: 0.0157 - accuracy: 0.9936 - F1_score: 0.6103 - Precision: 0.4428 - Recall: 1.0000 - auroc: 0.9999 - val_loss: 2.0348 - val_accuracy: 0.5741 - val_F1_score: 0.6178 - val_Precision: 0.4512 - val_Recall: 1.0000 - val_auroc: 0.5748\n",
            "Epoch 23/40\n",
            "59/59 [==============================] - 46s 742ms/step - loss: 0.0192 - accuracy: 0.9936 - F1_score: 0.6052 - Precision: 0.4416 - Recall: 1.0000 - auroc: 1.0000 - val_loss: 2.1458 - val_accuracy: 0.5759 - val_F1_score: 0.6168 - val_Precision: 0.4501 - val_Recall: 1.0000 - val_auroc: 0.5954\n",
            "Epoch 24/40\n",
            "59/59 [==============================] - 46s 743ms/step - loss: 0.0234 - accuracy: 0.9915 - F1_score: 0.6046 - Precision: 0.4376 - Recall: 1.0000 - auroc: 0.9997 - val_loss: 2.1403 - val_accuracy: 0.5630 - val_F1_score: 0.6135 - val_Precision: 0.4496 - val_Recall: 1.0000 - val_auroc: 0.5926\n",
            "Epoch 25/40\n",
            "59/59 [==============================] - 46s 748ms/step - loss: 0.0317 - accuracy: 0.9894 - F1_score: 0.5986 - Precision: 0.4322 - Recall: 1.0000 - auroc: 0.9997 - val_loss: 1.9899 - val_accuracy: 0.5778 - val_F1_score: 0.6139 - val_Precision: 0.4493 - val_Recall: 1.0000 - val_auroc: 0.5924\n",
            "Epoch 26/40\n",
            "59/59 [==============================] - 46s 743ms/step - loss: 0.0114 - accuracy: 0.9947 - F1_score: 0.6030 - Precision: 0.4359 - Recall: 1.0000 - auroc: 0.9999 - val_loss: 2.0308 - val_accuracy: 0.5907 - val_F1_score: 0.6168 - val_Precision: 0.4501 - val_Recall: 1.0000 - val_auroc: 0.6257\n",
            "Epoch 27/40\n",
            "59/59 [==============================] - 46s 742ms/step - loss: 0.0138 - accuracy: 0.9947 - F1_score: 0.5993 - Precision: 0.4339 - Recall: 1.0000 - auroc: 0.9999 - val_loss: 2.3062 - val_accuracy: 0.5611 - val_F1_score: 0.6153 - val_Precision: 0.4496 - val_Recall: 1.0000 - val_auroc: 0.5892\n",
            "Epoch 28/40\n",
            "59/59 [==============================] - 46s 742ms/step - loss: 0.0086 - accuracy: 0.9952 - F1_score: 0.6041 - Precision: 0.4369 - Recall: 1.0000 - auroc: 0.9999 - val_loss: 2.2050 - val_accuracy: 0.5704 - val_F1_score: 0.6151 - val_Precision: 0.4498 - val_Recall: 1.0000 - val_auroc: 0.5903\n",
            "Epoch 29/40\n",
            "59/59 [==============================] - 46s 742ms/step - loss: 0.0065 - accuracy: 0.9973 - F1_score: 0.5976 - Precision: 0.4313 - Recall: 1.0000 - auroc: 1.0000 - val_loss: 2.2798 - val_accuracy: 0.5648 - val_F1_score: 0.6137 - val_Precision: 0.4491 - val_Recall: 1.0000 - val_auroc: 0.5852\n",
            "Epoch 30/40\n",
            "59/59 [==============================] - 46s 742ms/step - loss: 0.0081 - accuracy: 0.9963 - F1_score: 0.6018 - Precision: 0.4368 - Recall: 1.0000 - auroc: 1.0000 - val_loss: 2.2159 - val_accuracy: 0.5667 - val_F1_score: 0.6148 - val_Precision: 0.4498 - val_Recall: 1.0000 - val_auroc: 0.6008\n",
            "Epoch 31/40\n",
            "59/59 [==============================] - 46s 747ms/step - loss: 0.0080 - accuracy: 0.9963 - F1_score: 0.5961 - Precision: 0.4301 - Recall: 1.0000 - auroc: 1.0000 - val_loss: 2.3903 - val_accuracy: 0.5611 - val_F1_score: 0.6166 - val_Precision: 0.4504 - val_Recall: 1.0000 - val_auroc: 0.6021\n",
            "Epoch 32/40\n",
            "59/59 [==============================] - 46s 747ms/step - loss: 0.0078 - accuracy: 0.9963 - F1_score: 0.6057 - Precision: 0.4407 - Recall: 1.0000 - auroc: 0.9999 - val_loss: 2.2547 - val_accuracy: 0.5630 - val_F1_score: 0.6155 - val_Precision: 0.4488 - val_Recall: 1.0000 - val_auroc: 0.5950\n",
            "Epoch 33/40\n",
            "59/59 [==============================] - 46s 742ms/step - loss: 0.0048 - accuracy: 0.9973 - F1_score: 0.5983 - Precision: 0.4312 - Recall: 1.0000 - auroc: 1.0000 - val_loss: 2.3056 - val_accuracy: 0.5556 - val_F1_score: 0.6149 - val_Precision: 0.4485 - val_Recall: 1.0000 - val_auroc: 0.5992\n",
            "Epoch 34/40\n",
            "59/59 [==============================] - 46s 742ms/step - loss: 0.0050 - accuracy: 0.9979 - F1_score: 0.6020 - Precision: 0.4374 - Recall: 1.0000 - auroc: 1.0000 - val_loss: 2.3472 - val_accuracy: 0.5667 - val_F1_score: 0.6137 - val_Precision: 0.4498 - val_Recall: 1.0000 - val_auroc: 0.6073\n",
            "Epoch 35/40\n",
            "59/59 [==============================] - 46s 742ms/step - loss: 0.0042 - accuracy: 0.9979 - F1_score: 0.6029 - Precision: 0.4365 - Recall: 1.0000 - auroc: 1.0000 - val_loss: 2.4005 - val_accuracy: 0.5741 - val_F1_score: 0.6138 - val_Precision: 0.4506 - val_Recall: 1.0000 - val_auroc: 0.5951\n",
            "Epoch 36/40\n",
            "59/59 [==============================] - 46s 743ms/step - loss: 0.0052 - accuracy: 0.9979 - F1_score: 0.6097 - Precision: 0.4450 - Recall: 1.0000 - auroc: 1.0000 - val_loss: 2.5081 - val_accuracy: 0.5685 - val_F1_score: 0.6167 - val_Precision: 0.4501 - val_Recall: 1.0000 - val_auroc: 0.5951\n",
            "Epoch 37/40\n",
            "59/59 [==============================] - 46s 742ms/step - loss: 0.0053 - accuracy: 0.9984 - F1_score: 0.6018 - Precision: 0.4371 - Recall: 1.0000 - auroc: 1.0000 - val_loss: 2.3891 - val_accuracy: 0.5593 - val_F1_score: 0.6171 - val_Precision: 0.4504 - val_Recall: 1.0000 - val_auroc: 0.5925\n",
            "Epoch 38/40\n",
            "59/59 [==============================] - 46s 744ms/step - loss: 0.0059 - accuracy: 0.9973 - F1_score: 0.6062 - Precision: 0.4392 - Recall: 1.0000 - auroc: 1.0000 - val_loss: 2.4211 - val_accuracy: 0.5481 - val_F1_score: 0.6179 - val_Precision: 0.4504 - val_Recall: 1.0000 - val_auroc: 0.5979\n",
            "Epoch 39/40\n",
            "59/59 [==============================] - 46s 743ms/step - loss: 0.0077 - accuracy: 0.9957 - F1_score: 0.6070 - Precision: 0.4401 - Recall: 1.0000 - auroc: 1.0000 - val_loss: 2.5424 - val_accuracy: 0.5611 - val_F1_score: 0.6174 - val_Precision: 0.4501 - val_Recall: 1.0000 - val_auroc: 0.5896\n",
            "Epoch 40/40\n",
            "59/59 [==============================] - 46s 743ms/step - loss: 0.0060 - accuracy: 0.9968 - F1_score: 0.5977 - Precision: 0.4329 - Recall: 1.0000 - auroc: 0.9999 - val_loss: 2.4967 - val_accuracy: 0.5593 - val_F1_score: 0.6165 - val_Precision: 0.4512 - val_Recall: 1.0000 - val_auroc: 0.5977\n"
          ]
        }
      ]
    },
    {
      "cell_type": "code",
      "source": [
        "score = model.evaluate(xception_ds_test)"
      ],
      "metadata": {
        "id": "jIcX_ipzGurF",
        "colab": {
          "base_uri": "https://localhost:8080/"
        },
        "outputId": "64f8f7a3-9a90-4e60-d253-9afdebf22a83"
      },
      "execution_count": null,
      "outputs": [
        {
          "output_type": "stream",
          "name": "stdout",
          "text": [
            "9/9 [==============================] - 4s 139ms/step - loss: 0.0049 - accuracy: 0.9965 - F1_score: 0.5997 - Precision: 0.4306 - Recall: 1.0000 - auroc: 1.0000\n"
          ]
        }
      ]
    },
    {
      "cell_type": "markdown",
      "source": [
        "## InceptionResNetV2 Model"
      ],
      "metadata": {
        "id": "XfynquvEH_zD"
      }
    },
    {
      "cell_type": "code",
      "execution_count": null,
      "metadata": {
        "id": "7o4Sr4A2Tpnd"
      },
      "outputs": [],
      "source": [
        "def InceptionResNetV2_preprocess_x(x, y):\n",
        "  x = tf.keras.applications.inception_resnet_v2.preprocess_input(x)\n",
        "  return x,y\n",
        "InceptionResNetV2_ds_train = train_ds.map(InceptionResNetV2_preprocess_x)\n",
        "InceptionResNetV2_ds_val = validation_ds.map(InceptionResNetV2_preprocess_x)\n",
        "InceptionResNetV2_ds_test = test_ds.map(InceptionResNetV2_preprocess_x)"
      ]
    },
    {
      "cell_type": "code",
      "execution_count": null,
      "metadata": {
        "id": "DXEvvXvbOMso",
        "colab": {
          "base_uri": "https://localhost:8080/"
        },
        "outputId": "20ab1941-44ff-4a73-ed3d-4ef63e36652e"
      },
      "outputs": [
        {
          "output_type": "stream",
          "name": "stdout",
          "text": [
            "Downloading data from https://storage.googleapis.com/tensorflow/keras-applications/inception_resnet_v2/inception_resnet_v2_weights_tf_dim_ordering_tf_kernels_notop.h5\n",
            "219062272/219055592 [==============================] - 8s 0us/step\n",
            "219070464/219055592 [==============================] - 8s 0us/step\n"
          ]
        }
      ],
      "source": [
        "tf.keras.backend.clear_session()\n",
        "base_model = keras.applications.InceptionResNetV2(weights=\"imagenet\",\n",
        "                                                  include_top=False)\n",
        "avg = keras.layers.GlobalAveragePooling2D()(base_model.output)\n",
        "output = keras.layers.Dense(n_classes, activation=\"softmax\")(avg)\n",
        "model = keras.models.Model(inputs=base_model.input, outputs=output)"
      ]
    },
    {
      "cell_type": "code",
      "execution_count": null,
      "metadata": {
        "id": "j1-pQdc_Pp8p",
        "colab": {
          "base_uri": "https://localhost:8080/"
        },
        "outputId": "654c30f3-b6c1-4224-ec93-224578005d77"
      },
      "outputs": [
        {
          "output_type": "stream",
          "name": "stdout",
          "text": [
            "Epoch 1/20\n",
            "59/59 [==============================] - 30s 302ms/step - loss: 11.9723 - accuracy: 0.5302 - F1_score: 0.6001 - Precision: 0.4335 - Recall: 1.0000 - auroc: 0.5482 - val_loss: 8.1496 - val_accuracy: 0.5944 - val_F1_score: 0.6117 - val_Precision: 0.4498 - val_Recall: 1.0000 - val_auroc: 0.6198\n",
            "Epoch 2/20\n",
            "59/59 [==============================] - 16s 236ms/step - loss: 8.6503 - accuracy: 0.5547 - F1_score: 0.6006 - Precision: 0.4358 - Recall: 1.0000 - auroc: 0.6193 - val_loss: 9.5641 - val_accuracy: 0.5556 - val_F1_score: 0.6188 - val_Precision: 0.4504 - val_Recall: 1.0000 - val_auroc: 0.6237\n",
            "Epoch 3/20\n",
            "59/59 [==============================] - 16s 236ms/step - loss: 5.6855 - accuracy: 0.5905 - F1_score: 0.6047 - Precision: 0.4382 - Recall: 1.0000 - auroc: 0.6712 - val_loss: 3.1308 - val_accuracy: 0.5667 - val_F1_score: 0.6147 - val_Precision: 0.4491 - val_Recall: 1.0000 - val_auroc: 0.5855\n",
            "Epoch 4/20\n",
            "59/59 [==============================] - 16s 237ms/step - loss: 2.7272 - accuracy: 0.6340 - F1_score: 0.6094 - Precision: 0.4428 - Recall: 1.0000 - auroc: 0.6996 - val_loss: 2.5611 - val_accuracy: 0.5648 - val_F1_score: 0.6169 - val_Precision: 0.4496 - val_Recall: 1.0000 - val_auroc: 0.5844\n",
            "Epoch 5/20\n",
            "59/59 [==============================] - 16s 236ms/step - loss: 2.5311 - accuracy: 0.6033 - F1_score: 0.6018 - Precision: 0.4349 - Recall: 1.0000 - auroc: 0.7130 - val_loss: 8.5198 - val_accuracy: 0.5556 - val_F1_score: 0.6189 - val_Precision: 0.4498 - val_Recall: 1.0000 - val_auroc: 0.5917\n",
            "Epoch 6/20\n",
            "59/59 [==============================] - 16s 236ms/step - loss: 2.6130 - accuracy: 0.6129 - F1_score: 0.5983 - Precision: 0.4312 - Recall: 1.0000 - auroc: 0.7110 - val_loss: 2.1471 - val_accuracy: 0.6111 - val_F1_score: 0.6164 - val_Precision: 0.4498 - val_Recall: 1.0000 - val_auroc: 0.6225\n",
            "Epoch 7/20\n",
            "59/59 [==============================] - 16s 236ms/step - loss: 2.0113 - accuracy: 0.6359 - F1_score: 0.5976 - Precision: 0.4324 - Recall: 1.0000 - auroc: 0.7404 - val_loss: 2.4146 - val_accuracy: 0.5648 - val_F1_score: 0.6157 - val_Precision: 0.4498 - val_Recall: 1.0000 - val_auroc: 0.6255\n",
            "Epoch 8/20\n",
            "59/59 [==============================] - 16s 236ms/step - loss: 1.6298 - accuracy: 0.6471 - F1_score: 0.5992 - Precision: 0.4324 - Recall: 1.0000 - auroc: 0.7507 - val_loss: 1.7984 - val_accuracy: 0.5630 - val_F1_score: 0.6146 - val_Precision: 0.4504 - val_Recall: 1.0000 - val_auroc: 0.6121\n",
            "Epoch 9/20\n",
            "59/59 [==============================] - 16s 236ms/step - loss: 1.1928 - accuracy: 0.6604 - F1_score: 0.6017 - Precision: 0.4344 - Recall: 1.0000 - auroc: 0.7729 - val_loss: 1.6462 - val_accuracy: 0.5444 - val_F1_score: 0.6158 - val_Precision: 0.4493 - val_Recall: 1.0000 - val_auroc: 0.5762\n",
            "Epoch 10/20\n",
            "59/59 [==============================] - 16s 236ms/step - loss: 1.0819 - accuracy: 0.6813 - F1_score: 0.6032 - Precision: 0.4377 - Recall: 1.0000 - auroc: 0.7827 - val_loss: 1.6421 - val_accuracy: 0.5778 - val_F1_score: 0.6172 - val_Precision: 0.4504 - val_Recall: 1.0000 - val_auroc: 0.5985\n",
            "Epoch 11/20\n",
            "59/59 [==============================] - 16s 236ms/step - loss: 1.0677 - accuracy: 0.6781 - F1_score: 0.6059 - Precision: 0.4391 - Recall: 1.0000 - auroc: 0.7941 - val_loss: 1.4014 - val_accuracy: 0.5574 - val_F1_score: 0.6178 - val_Precision: 0.4506 - val_Recall: 1.0000 - val_auroc: 0.6041\n",
            "Epoch 12/20\n",
            "59/59 [==============================] - 16s 236ms/step - loss: 1.1243 - accuracy: 0.6759 - F1_score: 0.6008 - Precision: 0.4343 - Recall: 1.0000 - auroc: 0.7956 - val_loss: 1.5048 - val_accuracy: 0.5667 - val_F1_score: 0.6168 - val_Precision: 0.4509 - val_Recall: 1.0000 - val_auroc: 0.6075\n",
            "Epoch 13/20\n",
            "59/59 [==============================] - 16s 236ms/step - loss: 0.9232 - accuracy: 0.6887 - F1_score: 0.6021 - Precision: 0.4359 - Recall: 1.0000 - auroc: 0.7996 - val_loss: 1.3134 - val_accuracy: 0.5519 - val_F1_score: 0.6161 - val_Precision: 0.4496 - val_Recall: 1.0000 - val_auroc: 0.5760\n",
            "Epoch 14/20\n",
            "59/59 [==============================] - 16s 237ms/step - loss: 1.0192 - accuracy: 0.6785 - F1_score: 0.5927 - Precision: 0.4285 - Recall: 1.0000 - auroc: 0.8013 - val_loss: 1.3236 - val_accuracy: 0.5574 - val_F1_score: 0.6155 - val_Precision: 0.4498 - val_Recall: 1.0000 - val_auroc: 0.5810\n",
            "Epoch 15/20\n",
            "59/59 [==============================] - 16s 236ms/step - loss: 0.7213 - accuracy: 0.7154 - F1_score: 0.6018 - Precision: 0.4367 - Recall: 1.0000 - auroc: 0.8191 - val_loss: 1.2821 - val_accuracy: 0.5796 - val_F1_score: 0.6144 - val_Precision: 0.4488 - val_Recall: 1.0000 - val_auroc: 0.6124\n",
            "Epoch 16/20\n",
            "59/59 [==============================] - 16s 236ms/step - loss: 0.7879 - accuracy: 0.7021 - F1_score: 0.6068 - Precision: 0.4396 - Recall: 1.0000 - auroc: 0.8296 - val_loss: 1.2016 - val_accuracy: 0.5833 - val_F1_score: 0.6159 - val_Precision: 0.4491 - val_Recall: 1.0000 - val_auroc: 0.5961\n",
            "Epoch 17/20\n",
            "59/59 [==============================] - 16s 236ms/step - loss: 1.1238 - accuracy: 0.6711 - F1_score: 0.6023 - Precision: 0.4378 - Recall: 1.0000 - auroc: 0.8233 - val_loss: 1.2719 - val_accuracy: 0.5907 - val_F1_score: 0.6141 - val_Precision: 0.4501 - val_Recall: 1.0000 - val_auroc: 0.6279\n",
            "Epoch 18/20\n",
            "59/59 [==============================] - 16s 237ms/step - loss: 1.2260 - accuracy: 0.6589 - F1_score: 0.6054 - Precision: 0.4386 - Recall: 1.0000 - auroc: 0.8135 - val_loss: 2.8346 - val_accuracy: 0.5611 - val_F1_score: 0.6168 - val_Precision: 0.4509 - val_Recall: 1.0000 - val_auroc: 0.5910\n",
            "Epoch 19/20\n",
            "59/59 [==============================] - 16s 237ms/step - loss: 0.9682 - accuracy: 0.6981 - F1_score: 0.6018 - Precision: 0.4349 - Recall: 1.0000 - auroc: 0.8169 - val_loss: 1.6671 - val_accuracy: 0.5759 - val_F1_score: 0.6163 - val_Precision: 0.4514 - val_Recall: 1.0000 - val_auroc: 0.5962\n",
            "Epoch 20/20\n",
            "59/59 [==============================] - 16s 236ms/step - loss: 0.6117 - accuracy: 0.7298 - F1_score: 0.6015 - Precision: 0.4360 - Recall: 1.0000 - auroc: 0.8417 - val_loss: 1.3210 - val_accuracy: 0.5870 - val_F1_score: 0.6123 - val_Precision: 0.4493 - val_Recall: 1.0000 - val_auroc: 0.5964\n"
          ]
        }
      ],
      "source": [
        "for layer in base_model.layers:\n",
        "    layer.trainable = False\n",
        "\n",
        "optimizer = keras.optimizers.SGD(learning_rate=0.2, momentum=0.9, decay=0.01)\n",
        "model.compile(loss=\"sparse_categorical_crossentropy\", optimizer=optimizer,\n",
        "              metrics=['accuracy', F1_score, Precision, Recall, auroc])\n",
        "history = model.fit(InceptionResNetV2_ds_train,\n",
        "                    validation_data=InceptionResNetV2_ds_val,\n",
        "                    epochs=20)"
      ]
    },
    {
      "cell_type": "code",
      "execution_count": null,
      "metadata": {
        "id": "pYRmnVcYPsg2",
        "colab": {
          "base_uri": "https://localhost:8080/"
        },
        "outputId": "7b99f9ec-5b6b-48ec-8fed-508f73bc5af3"
      },
      "outputs": [
        {
          "output_type": "stream",
          "name": "stdout",
          "text": [
            "Epoch 1/40\n",
            "59/59 [==============================] - 57s 666ms/step - loss: 1.6334 - accuracy: 0.5265 - F1_score: 0.5942 - Precision: 0.4274 - Recall: 1.0000 - auroc: 0.5605 - val_loss: 4232.2056 - val_accuracy: 0.4500 - val_F1_score: 0.6157 - val_Precision: 0.4498 - val_Recall: 1.0000 - val_auroc: 0.5000\n",
            "Epoch 2/40\n",
            "59/59 [==============================] - 39s 621ms/step - loss: 0.7123 - accuracy: 0.5574 - F1_score: 0.6092 - Precision: 0.4420 - Recall: 1.0000 - auroc: 0.5951 - val_loss: 0.7040 - val_accuracy: 0.5352 - val_F1_score: 0.6171 - val_Precision: 0.4501 - val_Recall: 1.0000 - val_auroc: 0.5843\n",
            "Epoch 3/40\n",
            "59/59 [==============================] - 38s 609ms/step - loss: 0.7078 - accuracy: 0.5483 - F1_score: 0.5985 - Precision: 0.4315 - Recall: 1.0000 - auroc: 0.6013 - val_loss: 0.6838 - val_accuracy: 0.5333 - val_F1_score: 0.6157 - val_Precision: 0.4493 - val_Recall: 1.0000 - val_auroc: 0.5829\n",
            "Epoch 4/40\n",
            "59/59 [==============================] - 38s 609ms/step - loss: 0.7023 - accuracy: 0.5371 - F1_score: 0.6066 - Precision: 0.4412 - Recall: 1.0000 - auroc: 0.6250 - val_loss: 0.7281 - val_accuracy: 0.5019 - val_F1_score: 0.6170 - val_Precision: 0.4509 - val_Recall: 1.0000 - val_auroc: 0.5749\n",
            "Epoch 5/40\n",
            "59/59 [==============================] - 38s 609ms/step - loss: 0.7053 - accuracy: 0.5515 - F1_score: 0.5961 - Precision: 0.4316 - Recall: 1.0000 - auroc: 0.6245 - val_loss: 0.9438 - val_accuracy: 0.4667 - val_F1_score: 0.6154 - val_Precision: 0.4498 - val_Recall: 1.0000 - val_auroc: 0.4932\n",
            "Epoch 6/40\n",
            "59/59 [==============================] - 38s 609ms/step - loss: 0.6786 - accuracy: 0.5718 - F1_score: 0.6035 - Precision: 0.4361 - Recall: 1.0000 - auroc: 0.6480 - val_loss: 0.7402 - val_accuracy: 0.5500 - val_F1_score: 0.6164 - val_Precision: 0.4498 - val_Recall: 1.0000 - val_auroc: 0.5491\n",
            "Epoch 7/40\n",
            "59/59 [==============================] - 38s 609ms/step - loss: 0.6591 - accuracy: 0.5990 - F1_score: 0.5944 - Precision: 0.4276 - Recall: 1.0000 - auroc: 0.6548 - val_loss: 0.6637 - val_accuracy: 0.5537 - val_F1_score: 0.6181 - val_Precision: 0.4504 - val_Recall: 1.0000 - val_auroc: 0.6141\n",
            "Epoch 8/40\n",
            "59/59 [==============================] - 38s 609ms/step - loss: 0.6606 - accuracy: 0.6054 - F1_score: 0.5982 - Precision: 0.4326 - Recall: 1.0000 - auroc: 0.6625 - val_loss: 0.6679 - val_accuracy: 0.5537 - val_F1_score: 0.6145 - val_Precision: 0.4506 - val_Recall: 1.0000 - val_auroc: 0.6030\n",
            "Epoch 9/40\n",
            "59/59 [==============================] - 38s 609ms/step - loss: 0.6482 - accuracy: 0.6124 - F1_score: 0.6029 - Precision: 0.4367 - Recall: 1.0000 - auroc: 0.6858 - val_loss: 0.6711 - val_accuracy: 0.5463 - val_F1_score: 0.6139 - val_Precision: 0.4496 - val_Recall: 1.0000 - val_auroc: 0.6045\n",
            "Epoch 10/40\n",
            "59/59 [==============================] - 38s 613ms/step - loss: 0.6357 - accuracy: 0.6324 - F1_score: 0.5986 - Precision: 0.4327 - Recall: 1.0000 - auroc: 0.7078 - val_loss: 0.7078 - val_accuracy: 0.5630 - val_F1_score: 0.6132 - val_Precision: 0.4496 - val_Recall: 1.0000 - val_auroc: 0.6111\n",
            "Epoch 11/40\n",
            "59/59 [==============================] - 38s 609ms/step - loss: 0.6329 - accuracy: 0.6353 - F1_score: 0.5913 - Precision: 0.4254 - Recall: 1.0000 - auroc: 0.7090 - val_loss: 0.7007 - val_accuracy: 0.5704 - val_F1_score: 0.6188 - val_Precision: 0.4504 - val_Recall: 1.0000 - val_auroc: 0.6014\n",
            "Epoch 12/40\n",
            "59/59 [==============================] - 38s 609ms/step - loss: 0.6261 - accuracy: 0.6369 - F1_score: 0.5952 - Precision: 0.4285 - Recall: 1.0000 - auroc: 0.7029 - val_loss: 0.7352 - val_accuracy: 0.5407 - val_F1_score: 0.6168 - val_Precision: 0.4514 - val_Recall: 1.0000 - val_auroc: 0.5683\n",
            "Epoch 13/40\n",
            "59/59 [==============================] - 38s 609ms/step - loss: 0.6252 - accuracy: 0.6428 - F1_score: 0.6029 - Precision: 0.4372 - Recall: 1.0000 - auroc: 0.7309 - val_loss: 0.7014 - val_accuracy: 0.5611 - val_F1_score: 0.6173 - val_Precision: 0.4501 - val_Recall: 1.0000 - val_auroc: 0.5782\n",
            "Epoch 14/40\n",
            "59/59 [==============================] - 38s 609ms/step - loss: 0.6074 - accuracy: 0.6471 - F1_score: 0.6046 - Precision: 0.4377 - Recall: 1.0000 - auroc: 0.7470 - val_loss: 0.7004 - val_accuracy: 0.5444 - val_F1_score: 0.6128 - val_Precision: 0.4493 - val_Recall: 1.0000 - val_auroc: 0.5772\n",
            "Epoch 15/40\n",
            "59/59 [==============================] - 38s 609ms/step - loss: 0.5782 - accuracy: 0.6882 - F1_score: 0.5974 - Precision: 0.4306 - Recall: 1.0000 - auroc: 0.7738 - val_loss: 0.7544 - val_accuracy: 0.5537 - val_F1_score: 0.6151 - val_Precision: 0.4488 - val_Recall: 1.0000 - val_auroc: 0.5491\n",
            "Epoch 16/40\n",
            "59/59 [==============================] - 38s 609ms/step - loss: 0.5727 - accuracy: 0.6770 - F1_score: 0.6018 - Precision: 0.4353 - Recall: 1.0000 - auroc: 0.7804 - val_loss: 0.7690 - val_accuracy: 0.5463 - val_F1_score: 0.6156 - val_Precision: 0.4491 - val_Recall: 1.0000 - val_auroc: 0.5711\n",
            "Epoch 17/40\n",
            "59/59 [==============================] - 38s 609ms/step - loss: 0.5594 - accuracy: 0.6957 - F1_score: 0.6103 - Precision: 0.4445 - Recall: 1.0000 - auroc: 0.8014 - val_loss: 0.7277 - val_accuracy: 0.5537 - val_F1_score: 0.6182 - val_Precision: 0.4506 - val_Recall: 1.0000 - val_auroc: 0.5803\n",
            "Epoch 18/40\n",
            "59/59 [==============================] - 38s 610ms/step - loss: 0.5431 - accuracy: 0.7240 - F1_score: 0.6039 - Precision: 0.4370 - Recall: 1.0000 - auroc: 0.8172 - val_loss: 0.7540 - val_accuracy: 0.5611 - val_F1_score: 0.6155 - val_Precision: 0.4501 - val_Recall: 1.0000 - val_auroc: 0.5746\n",
            "Epoch 19/40\n",
            "59/59 [==============================] - 38s 613ms/step - loss: 0.5050 - accuracy: 0.7468 - F1_score: 0.6033 - Precision: 0.4375 - Recall: 1.0000 - auroc: 0.8453 - val_loss: 0.7861 - val_accuracy: 0.5537 - val_F1_score: 0.6128 - val_Precision: 0.4488 - val_Recall: 1.0000 - val_auroc: 0.5907\n",
            "Epoch 20/40\n",
            "59/59 [==============================] - 38s 609ms/step - loss: 0.4496 - accuracy: 0.7678 - F1_score: 0.6038 - Precision: 0.4373 - Recall: 1.0000 - auroc: 0.8785 - val_loss: 0.8558 - val_accuracy: 0.5463 - val_F1_score: 0.6137 - val_Precision: 0.4504 - val_Recall: 1.0000 - val_auroc: 0.5766\n",
            "Epoch 21/40\n",
            "59/59 [==============================] - 38s 613ms/step - loss: 0.4268 - accuracy: 0.7887 - F1_score: 0.6065 - Precision: 0.4401 - Recall: 1.0000 - auroc: 0.8956 - val_loss: 1.0332 - val_accuracy: 0.5500 - val_F1_score: 0.6165 - val_Precision: 0.4498 - val_Recall: 1.0000 - val_auroc: 0.5406\n",
            "Epoch 22/40\n",
            "59/59 [==============================] - 38s 609ms/step - loss: 0.4143 - accuracy: 0.8051 - F1_score: 0.6031 - Precision: 0.4382 - Recall: 1.0000 - auroc: 0.9088 - val_loss: 0.9869 - val_accuracy: 0.5463 - val_F1_score: 0.6177 - val_Precision: 0.4504 - val_Recall: 1.0000 - val_auroc: 0.5607\n",
            "Epoch 23/40\n",
            "59/59 [==============================] - 38s 610ms/step - loss: 0.3772 - accuracy: 0.8206 - F1_score: 0.6039 - Precision: 0.4377 - Recall: 1.0000 - auroc: 0.9180 - val_loss: 1.1096 - val_accuracy: 0.4926 - val_F1_score: 0.6169 - val_Precision: 0.4488 - val_Recall: 1.0000 - val_auroc: 0.5336\n",
            "Epoch 24/40\n",
            "59/59 [==============================] - 38s 609ms/step - loss: 0.3806 - accuracy: 0.8329 - F1_score: 0.6006 - Precision: 0.4360 - Recall: 1.0000 - auroc: 0.9210 - val_loss: 1.2563 - val_accuracy: 0.5222 - val_F1_score: 0.6183 - val_Precision: 0.4501 - val_Recall: 1.0000 - val_auroc: 0.5965\n",
            "Epoch 25/40\n",
            "59/59 [==============================] - 38s 609ms/step - loss: 0.3046 - accuracy: 0.8585 - F1_score: 0.6021 - Precision: 0.4373 - Recall: 1.0000 - auroc: 0.9546 - val_loss: 1.2931 - val_accuracy: 0.5259 - val_F1_score: 0.6189 - val_Precision: 0.4504 - val_Recall: 1.0000 - val_auroc: 0.5415\n",
            "Epoch 26/40\n",
            "59/59 [==============================] - 38s 610ms/step - loss: 0.2743 - accuracy: 0.8772 - F1_score: 0.5986 - Precision: 0.4324 - Recall: 1.0000 - auroc: 0.9588 - val_loss: 1.2100 - val_accuracy: 0.5370 - val_F1_score: 0.6174 - val_Precision: 0.4498 - val_Recall: 1.0000 - val_auroc: 0.5508\n",
            "Epoch 27/40\n",
            "59/59 [==============================] - 38s 609ms/step - loss: 0.2868 - accuracy: 0.8601 - F1_score: 0.6099 - Precision: 0.4449 - Recall: 1.0000 - auroc: 0.9612 - val_loss: 1.0925 - val_accuracy: 0.5463 - val_F1_score: 0.6169 - val_Precision: 0.4493 - val_Recall: 1.0000 - val_auroc: 0.5852\n",
            "Epoch 28/40\n",
            "59/59 [==============================] - 38s 610ms/step - loss: 0.2181 - accuracy: 0.9007 - F1_score: 0.6061 - Precision: 0.4391 - Recall: 1.0000 - auroc: 0.9765 - val_loss: 1.7794 - val_accuracy: 0.5537 - val_F1_score: 0.6172 - val_Precision: 0.4493 - val_Recall: 1.0000 - val_auroc: 0.5643\n",
            "Epoch 29/40\n",
            "59/59 [==============================] - 38s 613ms/step - loss: 0.2479 - accuracy: 0.8922 - F1_score: 0.6022 - Precision: 0.4354 - Recall: 1.0000 - auroc: 0.9679 - val_loss: 1.6249 - val_accuracy: 0.5611 - val_F1_score: 0.6163 - val_Precision: 0.4509 - val_Recall: 1.0000 - val_auroc: 0.5674\n",
            "Epoch 30/40\n",
            "59/59 [==============================] - 38s 609ms/step - loss: 0.2033 - accuracy: 0.9124 - F1_score: 0.5989 - Precision: 0.4318 - Recall: 1.0000 - auroc: 0.9797 - val_loss: 1.4781 - val_accuracy: 0.5630 - val_F1_score: 0.6165 - val_Precision: 0.4496 - val_Recall: 1.0000 - val_auroc: 0.5704\n",
            "Epoch 31/40\n",
            "59/59 [==============================] - 38s 610ms/step - loss: 0.1829 - accuracy: 0.9204 - F1_score: 0.6046 - Precision: 0.4391 - Recall: 1.0000 - auroc: 0.9866 - val_loss: 1.6186 - val_accuracy: 0.5333 - val_F1_score: 0.6160 - val_Precision: 0.4498 - val_Recall: 1.0000 - val_auroc: 0.5480\n",
            "Epoch 32/40\n",
            "59/59 [==============================] - 38s 609ms/step - loss: 0.1822 - accuracy: 0.9172 - F1_score: 0.6020 - Precision: 0.4359 - Recall: 1.0000 - auroc: 0.9869 - val_loss: 1.5328 - val_accuracy: 0.5370 - val_F1_score: 0.6150 - val_Precision: 0.4491 - val_Recall: 1.0000 - val_auroc: 0.5579\n",
            "Epoch 33/40\n",
            "59/59 [==============================] - 38s 613ms/step - loss: 0.1495 - accuracy: 0.9285 - F1_score: 0.6022 - Precision: 0.4370 - Recall: 1.0000 - auroc: 0.9885 - val_loss: 1.7211 - val_accuracy: 0.5537 - val_F1_score: 0.6166 - val_Precision: 0.4501 - val_Recall: 1.0000 - val_auroc: 0.5650\n",
            "Epoch 34/40\n",
            "59/59 [==============================] - 38s 609ms/step - loss: 0.1405 - accuracy: 0.9370 - F1_score: 0.6038 - Precision: 0.4387 - Recall: 1.0000 - auroc: 0.9921 - val_loss: 1.8329 - val_accuracy: 0.5667 - val_F1_score: 0.6181 - val_Precision: 0.4504 - val_Recall: 1.0000 - val_auroc: 0.5646\n",
            "Epoch 35/40\n",
            "59/59 [==============================] - 38s 613ms/step - loss: 0.1384 - accuracy: 0.9391 - F1_score: 0.5975 - Precision: 0.4317 - Recall: 1.0000 - auroc: 0.9899 - val_loss: 1.7581 - val_accuracy: 0.5648 - val_F1_score: 0.6161 - val_Precision: 0.4504 - val_Recall: 1.0000 - val_auroc: 0.5799\n",
            "Epoch 36/40\n",
            "59/59 [==============================] - 38s 609ms/step - loss: 0.1175 - accuracy: 0.9477 - F1_score: 0.5977 - Precision: 0.4302 - Recall: 1.0000 - auroc: 0.9934 - val_loss: 1.7121 - val_accuracy: 0.5722 - val_F1_score: 0.6174 - val_Precision: 0.4504 - val_Recall: 1.0000 - val_auroc: 0.5835\n",
            "Epoch 37/40\n",
            "59/59 [==============================] - 38s 610ms/step - loss: 0.1429 - accuracy: 0.9375 - F1_score: 0.5944 - Precision: 0.4290 - Recall: 1.0000 - auroc: 0.9899 - val_loss: 1.6927 - val_accuracy: 0.5833 - val_F1_score: 0.6119 - val_Precision: 0.4498 - val_Recall: 1.0000 - val_auroc: 0.5851\n",
            "Epoch 38/40\n",
            "59/59 [==============================] - 38s 609ms/step - loss: 0.1490 - accuracy: 0.9295 - F1_score: 0.6104 - Precision: 0.4455 - Recall: 1.0000 - auroc: 0.9891 - val_loss: 2.0288 - val_accuracy: 0.5389 - val_F1_score: 0.6137 - val_Precision: 0.4491 - val_Recall: 1.0000 - val_auroc: 0.5720\n",
            "Epoch 39/40\n",
            "59/59 [==============================] - 38s 609ms/step - loss: 0.1341 - accuracy: 0.9375 - F1_score: 0.6105 - Precision: 0.4444 - Recall: 1.0000 - auroc: 0.9906 - val_loss: 2.0500 - val_accuracy: 0.5148 - val_F1_score: 0.6177 - val_Precision: 0.4501 - val_Recall: 1.0000 - val_auroc: 0.5524\n",
            "Epoch 40/40\n",
            "59/59 [==============================] - 38s 609ms/step - loss: 0.1135 - accuracy: 0.9477 - F1_score: 0.6001 - Precision: 0.4334 - Recall: 1.0000 - auroc: 0.9943 - val_loss: 1.8837 - val_accuracy: 0.5296 - val_F1_score: 0.6155 - val_Precision: 0.4504 - val_Recall: 1.0000 - val_auroc: 0.5637\n"
          ]
        }
      ],
      "source": [
        "for layer in base_model.layers:\n",
        "    layer.trainable = True\n",
        "\n",
        "optimizer = keras.optimizers.SGD(learning_rate=0.01, momentum=0.9,\n",
        "                                 nesterov=True, decay=0.001)\n",
        "model.compile(loss=\"sparse_categorical_crossentropy\", optimizer=optimizer,\n",
        "              metrics=['accuracy', F1_score, Precision, Recall, auroc])\n",
        "history = model.fit(InceptionResNetV2_ds_train,\n",
        "                    validation_data=InceptionResNetV2_ds_val,\n",
        "                    epochs=40)"
      ]
    },
    {
      "cell_type": "code",
      "execution_count": null,
      "metadata": {
        "id": "gJEz8mmRqTEe",
        "colab": {
          "base_uri": "https://localhost:8080/"
        },
        "outputId": "1717453e-8d9e-4114-a476-95547090ee89"
      },
      "outputs": [
        {
          "output_type": "stream",
          "name": "stdout",
          "text": [
            "9/9 [==============================] - 4s 173ms/step - loss: 0.0594 - accuracy: 0.9780 - F1_score: 0.6131 - Precision: 0.4481 - Recall: 1.0000 - auroc: 0.9973\n"
          ]
        }
      ],
      "source": [
        "score = model.evaluate(InceptionResNetV2_ds_test)"
      ]
    },
    {
      "cell_type": "markdown",
      "source": [
        "## ResNet152V2 Model\n",
        "\n"
      ],
      "metadata": {
        "id": "7RVqNIVkrwxe"
      }
    },
    {
      "cell_type": "code",
      "execution_count": null,
      "metadata": {
        "id": "koZRw7vSbz2w",
        "colab": {
          "base_uri": "https://localhost:8080/"
        },
        "outputId": "b4a00dec-5a8e-423e-edce-d2ce1fcd66b3"
      },
      "outputs": [
        {
          "output_type": "stream",
          "name": "stdout",
          "text": [
            "Found 2701 files belonging to 2 classes.\n",
            "Using 2161 files for training.\n",
            "Found 2701 files belonging to 2 classes.\n",
            "Using 540 files for validation.\n"
          ]
        }
      ],
      "source": [
        "data_dir = root + \"data_subset_balanced/\"\n",
        "batch_size = 32;\n",
        "# IMPORTANT: Depends on what pre-trained model you choose, you will need to change these dimensions accordingly\n",
        "img_height = 224; \n",
        "img_width = 224;\n",
        "\n",
        "# Training Dataset\n",
        "train_ds = tf.keras.preprocessing.image_dataset_from_directory(\n",
        "    data_dir,\n",
        "    color_mode = 'rgb',\n",
        "    validation_split = 0.2,\n",
        "    subset = \"training\",\n",
        "    seed = 42,\n",
        "    image_size= (img_height, img_width),\n",
        "    batch_size = batch_size\n",
        ")\n",
        "\n",
        "# Validation Dataset\n",
        "validation_ds = tf.keras.preprocessing.image_dataset_from_directory(\n",
        "    data_dir,\n",
        "    color_mode = 'rgb',\n",
        "    validation_split = 0.2,\n",
        "    subset = \"validation\",\n",
        "    seed = 42,\n",
        "    image_size = (img_height, img_width),\n",
        "    batch_size = batch_size\n",
        ")        "
      ]
    },
    {
      "cell_type": "code",
      "execution_count": null,
      "metadata": {
        "id": "hvYCK--2p9td"
      },
      "outputs": [],
      "source": [
        "tf.random.set_seed(42)\n",
        "#train is 70% of data, test is 10% of data.\n",
        "#ref: https://stackoverflow.com/questions/50737192/tf-data-dataset-how-to-get-the-dataset-size-number-of-elements-in-an-epoch\n",
        "dataset_size = train_ds.cardinality().numpy()\n",
        "train_size = int(0.875 * dataset_size)\n",
        "test_size = int(0.125 * dataset_size)\n",
        "\n",
        "temp_ds = train_ds.shuffle(1000, seed=42)\n",
        "train_ds = temp_ds.take(train_size)\n",
        "test_ds = temp_ds.skip(train_size)"
      ]
    },
    {
      "cell_type": "code",
      "execution_count": null,
      "metadata": {
        "id": "m_PZnXqubz5W"
      },
      "outputs": [],
      "source": [
        "def resnet_v2_preprocess_x(x, y):\n",
        "  x = tf.keras.applications.resnet_v2.preprocess_input(x)\n",
        "  return x,y\n",
        "resnet_v2_ds_train = train_ds.map(resnet_v2_preprocess_x)\n",
        "resnet_v2_ds_val = validation_ds.map(resnet_v2_preprocess_x)\n",
        "resnet_v2_ds_test = test_ds.map(resnet_v2_preprocess_x)"
      ]
    },
    {
      "cell_type": "code",
      "execution_count": null,
      "metadata": {
        "id": "LyJSBY_vwYmU",
        "colab": {
          "base_uri": "https://localhost:8080/"
        },
        "outputId": "2d76d5e8-8018-4709-a119-2d6b1000e3f0"
      },
      "outputs": [
        {
          "output_type": "execute_result",
          "data": {
            "text/plain": [
              "59"
            ]
          },
          "metadata": {},
          "execution_count": 28
        }
      ],
      "source": [
        "dataset_size = resnet_v2_ds_train.cardinality().numpy()\n",
        "dataset_size"
      ]
    },
    {
      "cell_type": "code",
      "execution_count": null,
      "metadata": {
        "id": "IPyKd80Kbz8F",
        "colab": {
          "base_uri": "https://localhost:8080/"
        },
        "outputId": "4c65475e-6581-4074-b1e7-b9b0eb2f1a09"
      },
      "outputs": [
        {
          "output_type": "stream",
          "name": "stdout",
          "text": [
            "Downloading data from https://storage.googleapis.com/tensorflow/keras-applications/resnet/resnet152v2_weights_tf_dim_ordering_tf_kernels_notop.h5\n",
            "234553344/234545216 [==============================] - 8s 0us/step\n",
            "234561536/234545216 [==============================] - 8s 0us/step\n"
          ]
        }
      ],
      "source": [
        "tf.keras.backend.clear_session()\n",
        "base_model = keras.applications.ResNet152V2(weights=\"imagenet\",\n",
        "                                            include_top=False)\n",
        "avg = keras.layers.GlobalAveragePooling2D()(base_model.output)\n",
        "output = keras.layers.Dense(n_classes, activation=\"softmax\")(avg)\n",
        "model = keras.models.Model(inputs=base_model.input, outputs=output)"
      ]
    },
    {
      "cell_type": "code",
      "execution_count": null,
      "metadata": {
        "id": "17YD0-YBcjJx",
        "colab": {
          "base_uri": "https://localhost:8080/"
        },
        "outputId": "69129f41-d3a7-47ab-a9a1-e0d024287cc4"
      },
      "outputs": [
        {
          "output_type": "stream",
          "name": "stdout",
          "text": [
            "Epoch 1/20\n",
            "59/59 [==============================] - 23s 219ms/step - loss: 30.6647 - accuracy: 0.5190 - F1_score: 0.6032 - Precision: 0.4355 - Recall: 1.0000 - auroc: 0.5358 - val_loss: 12.3951 - val_accuracy: 0.5704 - val_F1_score: 0.6171 - val_Precision: 0.4496 - val_Recall: 1.0000 - val_auroc: 0.5539\n",
            "Epoch 2/20\n",
            "59/59 [==============================] - 12s 173ms/step - loss: 12.0598 - accuracy: 0.5948 - F1_score: 0.5973 - Precision: 0.4308 - Recall: 1.0000 - auroc: 0.6208 - val_loss: 12.8045 - val_accuracy: 0.5278 - val_F1_score: 0.6193 - val_Precision: 0.4506 - val_Recall: 1.0000 - val_auroc: 0.5387\n",
            "Epoch 3/20\n",
            "59/59 [==============================] - 12s 173ms/step - loss: 10.1705 - accuracy: 0.5996 - F1_score: 0.6001 - Precision: 0.4347 - Recall: 1.0000 - auroc: 0.6700 - val_loss: 11.4177 - val_accuracy: 0.5741 - val_F1_score: 0.6182 - val_Precision: 0.4506 - val_Recall: 1.0000 - val_auroc: 0.5787\n",
            "Epoch 4/20\n",
            "59/59 [==============================] - 12s 173ms/step - loss: 6.3398 - accuracy: 0.6536 - F1_score: 0.6038 - Precision: 0.4396 - Recall: 1.0000 - auroc: 0.7230 - val_loss: 11.9741 - val_accuracy: 0.4852 - val_F1_score: 0.6153 - val_Precision: 0.4504 - val_Recall: 1.0000 - val_auroc: 0.5054\n",
            "Epoch 5/20\n",
            "59/59 [==============================] - 12s 172ms/step - loss: 4.2960 - accuracy: 0.6791 - F1_score: 0.6067 - Precision: 0.4401 - Recall: 1.0000 - auroc: 0.7652 - val_loss: 7.7031 - val_accuracy: 0.5204 - val_F1_score: 0.6141 - val_Precision: 0.4498 - val_Recall: 1.0000 - val_auroc: 0.5131\n",
            "Epoch 6/20\n",
            "59/59 [==============================] - 12s 172ms/step - loss: 2.8910 - accuracy: 0.7208 - F1_score: 0.6062 - Precision: 0.4412 - Recall: 1.0000 - auroc: 0.8087 - val_loss: 6.4237 - val_accuracy: 0.5370 - val_F1_score: 0.6151 - val_Precision: 0.4501 - val_Recall: 1.0000 - val_auroc: 0.5446\n",
            "Epoch 7/20\n",
            "59/59 [==============================] - 12s 172ms/step - loss: 2.3813 - accuracy: 0.7096 - F1_score: 0.6054 - Precision: 0.4385 - Recall: 1.0000 - auroc: 0.8037 - val_loss: 5.9246 - val_accuracy: 0.5185 - val_F1_score: 0.6193 - val_Precision: 0.4504 - val_Recall: 1.0000 - val_auroc: 0.5390\n",
            "Epoch 8/20\n",
            "59/59 [==============================] - 12s 173ms/step - loss: 2.0705 - accuracy: 0.7234 - F1_score: 0.6037 - Precision: 0.4390 - Recall: 1.0000 - auroc: 0.8334 - val_loss: 5.4452 - val_accuracy: 0.5537 - val_F1_score: 0.6151 - val_Precision: 0.4496 - val_Recall: 1.0000 - val_auroc: 0.5593\n",
            "Epoch 9/20\n",
            "59/59 [==============================] - 12s 173ms/step - loss: 1.6202 - accuracy: 0.7448 - F1_score: 0.5998 - Precision: 0.4333 - Recall: 1.0000 - auroc: 0.8446 - val_loss: 5.0926 - val_accuracy: 0.5574 - val_F1_score: 0.6176 - val_Precision: 0.4509 - val_Recall: 1.0000 - val_auroc: 0.5586\n",
            "Epoch 10/20\n",
            "59/59 [==============================] - 12s 172ms/step - loss: 1.4450 - accuracy: 0.7656 - F1_score: 0.6077 - Precision: 0.4401 - Recall: 1.0000 - auroc: 0.8613 - val_loss: 4.9312 - val_accuracy: 0.5315 - val_F1_score: 0.6121 - val_Precision: 0.4483 - val_Recall: 1.0000 - val_auroc: 0.5588\n",
            "Epoch 11/20\n",
            "59/59 [==============================] - 12s 173ms/step - loss: 1.2159 - accuracy: 0.7710 - F1_score: 0.5998 - Precision: 0.4327 - Recall: 1.0000 - auroc: 0.8694 - val_loss: 4.9457 - val_accuracy: 0.5519 - val_F1_score: 0.6150 - val_Precision: 0.4496 - val_Recall: 1.0000 - val_auroc: 0.5733\n",
            "Epoch 12/20\n",
            "59/59 [==============================] - 12s 173ms/step - loss: 1.2466 - accuracy: 0.7752 - F1_score: 0.5998 - Precision: 0.4339 - Recall: 1.0000 - auroc: 0.8708 - val_loss: 5.5989 - val_accuracy: 0.5333 - val_F1_score: 0.6129 - val_Precision: 0.4491 - val_Recall: 1.0000 - val_auroc: 0.5869\n",
            "Epoch 13/20\n",
            "59/59 [==============================] - 12s 174ms/step - loss: 1.6085 - accuracy: 0.7426 - F1_score: 0.6033 - Precision: 0.4386 - Recall: 1.0000 - auroc: 0.8695 - val_loss: 4.5157 - val_accuracy: 0.5741 - val_F1_score: 0.6148 - val_Precision: 0.4496 - val_Recall: 1.0000 - val_auroc: 0.6013\n",
            "Epoch 14/20\n",
            "59/59 [==============================] - 12s 173ms/step - loss: 1.1120 - accuracy: 0.7720 - F1_score: 0.6059 - Precision: 0.4392 - Recall: 1.0000 - auroc: 0.8839 - val_loss: 4.3894 - val_accuracy: 0.5667 - val_F1_score: 0.6149 - val_Precision: 0.4498 - val_Recall: 1.0000 - val_auroc: 0.5731\n",
            "Epoch 15/20\n",
            "59/59 [==============================] - 12s 173ms/step - loss: 0.8116 - accuracy: 0.8009 - F1_score: 0.6053 - Precision: 0.4376 - Recall: 1.0000 - auroc: 0.9033 - val_loss: 4.3205 - val_accuracy: 0.5648 - val_F1_score: 0.6159 - val_Precision: 0.4496 - val_Recall: 1.0000 - val_auroc: 0.5737\n",
            "Epoch 16/20\n",
            "59/59 [==============================] - 12s 173ms/step - loss: 0.9457 - accuracy: 0.7955 - F1_score: 0.6103 - Precision: 0.4434 - Recall: 1.0000 - auroc: 0.9067 - val_loss: 4.3409 - val_accuracy: 0.5556 - val_F1_score: 0.6131 - val_Precision: 0.4496 - val_Recall: 1.0000 - val_auroc: 0.5635\n",
            "Epoch 17/20\n",
            "59/59 [==============================] - 12s 173ms/step - loss: 0.7558 - accuracy: 0.8046 - F1_score: 0.5978 - Precision: 0.4318 - Recall: 1.0000 - auroc: 0.9092 - val_loss: 4.1332 - val_accuracy: 0.5611 - val_F1_score: 0.6163 - val_Precision: 0.4496 - val_Recall: 1.0000 - val_auroc: 0.5829\n",
            "Epoch 18/20\n",
            "59/59 [==============================] - 12s 173ms/step - loss: 0.8084 - accuracy: 0.8046 - F1_score: 0.6028 - Precision: 0.4361 - Recall: 1.0000 - auroc: 0.9018 - val_loss: 4.1419 - val_accuracy: 0.5685 - val_F1_score: 0.6178 - val_Precision: 0.4504 - val_Recall: 1.0000 - val_auroc: 0.5710\n",
            "Epoch 19/20\n",
            "59/59 [==============================] - 12s 173ms/step - loss: 0.8012 - accuracy: 0.8083 - F1_score: 0.5958 - Precision: 0.4303 - Recall: 1.0000 - auroc: 0.9095 - val_loss: 4.2708 - val_accuracy: 0.5574 - val_F1_score: 0.6170 - val_Precision: 0.4493 - val_Recall: 1.0000 - val_auroc: 0.5834\n",
            "Epoch 20/20\n",
            "59/59 [==============================] - 12s 172ms/step - loss: 0.7399 - accuracy: 0.8142 - F1_score: 0.6025 - Precision: 0.4388 - Recall: 1.0000 - auroc: 0.9134 - val_loss: 4.0939 - val_accuracy: 0.5593 - val_F1_score: 0.6176 - val_Precision: 0.4506 - val_Recall: 1.0000 - val_auroc: 0.5914\n"
          ]
        }
      ],
      "source": [
        "for layer in base_model.layers:\n",
        "    layer.trainable = False\n",
        "\n",
        "optimizer = keras.optimizers.SGD(learning_rate=0.2, momentum=0.9, decay=0.01)\n",
        "model.compile(loss=\"sparse_categorical_crossentropy\", optimizer=optimizer,\n",
        "              metrics=['accuracy', F1_score, Precision, Recall, auroc])\n",
        "history = model.fit(resnet_v2_ds_train,\n",
        "                    validation_data=resnet_v2_ds_val,\n",
        "                    epochs=20)"
      ]
    },
    {
      "cell_type": "code",
      "execution_count": null,
      "metadata": {
        "id": "qjxTRlO-cjMM",
        "colab": {
          "base_uri": "https://localhost:8080/"
        },
        "outputId": "d59ac3d4-4874-40fa-a306-4cdd08f0eee9"
      },
      "outputs": [
        {
          "output_type": "stream",
          "name": "stdout",
          "text": [
            "Epoch 1/40\n",
            "59/59 [==============================] - 43s 457ms/step - loss: 1.8171 - accuracy: 0.5617 - F1_score: 0.6037 - Precision: 0.4369 - Recall: 1.0000 - auroc: 0.5158 - val_loss: 6168934004817920.0000 - val_accuracy: 0.4500 - val_F1_score: 0.6188 - val_Precision: 0.4501 - val_Recall: 1.0000 - val_auroc: 0.5000\n",
            "Epoch 2/40\n",
            "59/59 [==============================] - 26s 412ms/step - loss: 0.9081 - accuracy: 0.5622 - F1_score: 0.6057 - Precision: 0.4381 - Recall: 1.0000 - auroc: 0.5264 - val_loss: 23141410.0000 - val_accuracy: 0.4500 - val_F1_score: 0.6159 - val_Precision: 0.4506 - val_Recall: 1.0000 - val_auroc: 0.5000\n",
            "Epoch 3/40\n",
            "59/59 [==============================] - 26s 412ms/step - loss: 1.0762 - accuracy: 0.5574 - F1_score: 0.6047 - Precision: 0.4391 - Recall: 1.0000 - auroc: 0.5108 - val_loss: 5475149.0000 - val_accuracy: 0.4500 - val_F1_score: 0.6173 - val_Precision: 0.4504 - val_Recall: 1.0000 - val_auroc: 0.5000\n",
            "Epoch 4/40\n",
            "59/59 [==============================] - 26s 414ms/step - loss: 0.8736 - accuracy: 0.5627 - F1_score: 0.6006 - Precision: 0.4339 - Recall: 1.0000 - auroc: 0.5102 - val_loss: 4102.0986 - val_accuracy: 0.4759 - val_F1_score: 0.6175 - val_Precision: 0.4498 - val_Recall: 1.0000 - val_auroc: 0.4753\n",
            "Epoch 5/40\n",
            "59/59 [==============================] - 26s 412ms/step - loss: 0.9331 - accuracy: 0.5665 - F1_score: 0.5953 - Precision: 0.4302 - Recall: 1.0000 - auroc: 0.5065 - val_loss: 1050.3704 - val_accuracy: 0.5481 - val_F1_score: 0.6164 - val_Precision: 0.4517 - val_Recall: 1.0000 - val_auroc: 0.5088\n",
            "Epoch 6/40\n",
            "59/59 [==============================] - 26s 412ms/step - loss: 1.0939 - accuracy: 0.5558 - F1_score: 0.6033 - Precision: 0.4382 - Recall: 1.0000 - auroc: 0.4980 - val_loss: 16670.1836 - val_accuracy: 0.4722 - val_F1_score: 0.6152 - val_Precision: 0.4509 - val_Recall: 1.0000 - val_auroc: 0.5066\n",
            "Epoch 7/40\n",
            "59/59 [==============================] - 26s 412ms/step - loss: 1.0353 - accuracy: 0.5659 - F1_score: 0.6015 - Precision: 0.4359 - Recall: 1.0000 - auroc: 0.4983 - val_loss: 5663.8232 - val_accuracy: 0.4926 - val_F1_score: 0.6153 - val_Precision: 0.4491 - val_Recall: 1.0000 - val_auroc: 0.4843\n",
            "Epoch 8/40\n",
            "59/59 [==============================] - 26s 412ms/step - loss: 0.9564 - accuracy: 0.5633 - F1_score: 0.6031 - Precision: 0.4359 - Recall: 1.0000 - auroc: 0.4943 - val_loss: 48.2545 - val_accuracy: 0.5537 - val_F1_score: 0.6150 - val_Precision: 0.4506 - val_Recall: 1.0000 - val_auroc: 0.5252\n",
            "Epoch 9/40\n",
            "59/59 [==============================] - 26s 414ms/step - loss: 0.7935 - accuracy: 0.5768 - F1_score: 0.5967 - Precision: 0.4317 - Recall: 1.0000 - auroc: 0.5164 - val_loss: 37.8549 - val_accuracy: 0.5426 - val_F1_score: 0.6181 - val_Precision: 0.4506 - val_Recall: 1.0000 - val_auroc: 0.4721\n",
            "Epoch 10/40\n",
            "59/59 [==============================] - 26s 412ms/step - loss: 0.9376 - accuracy: 0.5670 - F1_score: 0.6037 - Precision: 0.4369 - Recall: 1.0000 - auroc: 0.4990 - val_loss: 4.1308 - val_accuracy: 0.5500 - val_F1_score: 0.6141 - val_Precision: 0.4501 - val_Recall: 1.0000 - val_auroc: 0.5210\n",
            "Epoch 11/40\n",
            "59/59 [==============================] - 26s 412ms/step - loss: 0.8358 - accuracy: 0.5718 - F1_score: 0.5995 - Precision: 0.4333 - Recall: 1.0000 - auroc: 0.5018 - val_loss: 2.2321 - val_accuracy: 0.5426 - val_F1_score: 0.6100 - val_Precision: 0.4504 - val_Recall: 1.0000 - val_auroc: 0.5142\n",
            "Epoch 12/40\n",
            "59/59 [==============================] - 26s 412ms/step - loss: 0.8893 - accuracy: 0.5649 - F1_score: 0.6058 - Precision: 0.4415 - Recall: 1.0000 - auroc: 0.5022 - val_loss: 1.2893 - val_accuracy: 0.5407 - val_F1_score: 0.6173 - val_Precision: 0.4493 - val_Recall: 1.0000 - val_auroc: 0.5285\n",
            "Epoch 13/40\n",
            "59/59 [==============================] - 26s 412ms/step - loss: 0.9861 - accuracy: 0.5745 - F1_score: 0.5876 - Precision: 0.4225 - Recall: 1.0000 - auroc: 0.4960 - val_loss: 0.6890 - val_accuracy: 0.5500 - val_F1_score: 0.6150 - val_Precision: 0.4504 - val_Recall: 1.0000 - val_auroc: 0.4856\n",
            "Epoch 14/40\n",
            "59/59 [==============================] - 26s 412ms/step - loss: 0.7278 - accuracy: 0.5643 - F1_score: 0.6075 - Precision: 0.4424 - Recall: 1.0000 - auroc: 0.4973 - val_loss: 0.6886 - val_accuracy: 0.5500 - val_F1_score: 0.6171 - val_Precision: 0.4506 - val_Recall: 1.0000 - val_auroc: 0.4979\n",
            "Epoch 15/40\n",
            "59/59 [==============================] - 26s 412ms/step - loss: 0.7473 - accuracy: 0.5670 - F1_score: 0.5993 - Precision: 0.4345 - Recall: 1.0000 - auroc: 0.5134 - val_loss: 0.6872 - val_accuracy: 0.5519 - val_F1_score: 0.6170 - val_Precision: 0.4506 - val_Recall: 1.0000 - val_auroc: 0.5356\n",
            "Epoch 16/40\n",
            "59/59 [==============================] - 26s 412ms/step - loss: 0.7820 - accuracy: 0.5579 - F1_score: 0.6100 - Precision: 0.4433 - Recall: 1.0000 - auroc: 0.5050 - val_loss: 0.9987 - val_accuracy: 0.5389 - val_F1_score: 0.6148 - val_Precision: 0.4498 - val_Recall: 1.0000 - val_auroc: 0.5164\n",
            "Epoch 17/40\n",
            "59/59 [==============================] - 26s 414ms/step - loss: 0.8591 - accuracy: 0.5683 - F1_score: 0.6005 - Precision: 0.4343 - Recall: 1.0000 - auroc: 0.4965 - val_loss: 0.6891 - val_accuracy: 0.5500 - val_F1_score: 0.6159 - val_Precision: 0.4491 - val_Recall: 1.0000 - val_auroc: 0.4964\n",
            "Epoch 18/40\n",
            "59/59 [==============================] - 26s 412ms/step - loss: 0.7900 - accuracy: 0.5633 - F1_score: 0.5992 - Precision: 0.4330 - Recall: 1.0000 - auroc: 0.4925 - val_loss: 0.7267 - val_accuracy: 0.5500 - val_F1_score: 0.6166 - val_Precision: 0.4504 - val_Recall: 1.0000 - val_auroc: 0.4823\n",
            "Epoch 19/40\n",
            "59/59 [==============================] - 26s 412ms/step - loss: 0.7813 - accuracy: 0.5595 - F1_score: 0.6042 - Precision: 0.4386 - Recall: 1.0000 - auroc: 0.4948 - val_loss: 2.8265 - val_accuracy: 0.5426 - val_F1_score: 0.6176 - val_Precision: 0.4498 - val_Recall: 1.0000 - val_auroc: 0.5270\n",
            "Epoch 20/40\n",
            "59/59 [==============================] - 26s 412ms/step - loss: 0.7913 - accuracy: 0.5606 - F1_score: 0.6035 - Precision: 0.4377 - Recall: 1.0000 - auroc: 0.4918 - val_loss: 0.7952 - val_accuracy: 0.5500 - val_F1_score: 0.6167 - val_Precision: 0.4493 - val_Recall: 1.0000 - val_auroc: 0.5384\n",
            "Epoch 21/40\n",
            "59/59 [==============================] - 26s 412ms/step - loss: 0.7852 - accuracy: 0.5654 - F1_score: 0.6007 - Precision: 0.4344 - Recall: 1.0000 - auroc: 0.4964 - val_loss: 37.3486 - val_accuracy: 0.5519 - val_F1_score: 0.6162 - val_Precision: 0.4493 - val_Recall: 1.0000 - val_auroc: 0.5190\n",
            "Epoch 22/40\n",
            "59/59 [==============================] - 26s 412ms/step - loss: 0.8647 - accuracy: 0.5585 - F1_score: 0.6103 - Precision: 0.4428 - Recall: 1.0000 - auroc: 0.5021 - val_loss: 5.5936 - val_accuracy: 0.5500 - val_F1_score: 0.6178 - val_Precision: 0.4512 - val_Recall: 1.0000 - val_auroc: 0.5524\n",
            "Epoch 23/40\n",
            "59/59 [==============================] - 26s 412ms/step - loss: 0.7526 - accuracy: 0.5569 - F1_score: 0.6052 - Precision: 0.4416 - Recall: 1.0000 - auroc: 0.5018 - val_loss: 0.8378 - val_accuracy: 0.5500 - val_F1_score: 0.6168 - val_Precision: 0.4501 - val_Recall: 1.0000 - val_auroc: 0.5396\n",
            "Epoch 24/40\n",
            "59/59 [==============================] - 26s 412ms/step - loss: 0.7378 - accuracy: 0.5681 - F1_score: 0.6046 - Precision: 0.4376 - Recall: 1.0000 - auroc: 0.5066 - val_loss: 0.6877 - val_accuracy: 0.5500 - val_F1_score: 0.6135 - val_Precision: 0.4496 - val_Recall: 1.0000 - val_auroc: 0.4988\n",
            "Epoch 25/40\n",
            "59/59 [==============================] - 26s 414ms/step - loss: 0.7768 - accuracy: 0.5710 - F1_score: 0.5986 - Precision: 0.4322 - Recall: 1.0000 - auroc: 0.4936 - val_loss: 1.5947 - val_accuracy: 0.5500 - val_F1_score: 0.6139 - val_Precision: 0.4493 - val_Recall: 1.0000 - val_auroc: 0.5373\n",
            "Epoch 26/40\n",
            "59/59 [==============================] - 26s 412ms/step - loss: 0.7384 - accuracy: 0.5659 - F1_score: 0.6030 - Precision: 0.4359 - Recall: 1.0000 - auroc: 0.4995 - val_loss: 1.6577 - val_accuracy: 0.5463 - val_F1_score: 0.6168 - val_Precision: 0.4501 - val_Recall: 1.0000 - val_auroc: 0.5455\n",
            "Epoch 27/40\n",
            "59/59 [==============================] - 26s 412ms/step - loss: 0.7658 - accuracy: 0.5649 - F1_score: 0.5993 - Precision: 0.4339 - Recall: 1.0000 - auroc: 0.5026 - val_loss: 5.7063 - val_accuracy: 0.5481 - val_F1_score: 0.6153 - val_Precision: 0.4496 - val_Recall: 1.0000 - val_auroc: 0.5097\n",
            "Epoch 28/40\n",
            "59/59 [==============================] - 26s 412ms/step - loss: 0.7375 - accuracy: 0.5633 - F1_score: 0.6041 - Precision: 0.4369 - Recall: 1.0000 - auroc: 0.4968 - val_loss: 2.7502 - val_accuracy: 0.5500 - val_F1_score: 0.6151 - val_Precision: 0.4498 - val_Recall: 1.0000 - val_auroc: 0.5172\n",
            "Epoch 29/40\n",
            "59/59 [==============================] - 26s 412ms/step - loss: 0.7171 - accuracy: 0.5675 - F1_score: 0.5976 - Precision: 0.4313 - Recall: 1.0000 - auroc: 0.5137 - val_loss: 0.9864 - val_accuracy: 0.5463 - val_F1_score: 0.6137 - val_Precision: 0.4491 - val_Recall: 1.0000 - val_auroc: 0.5255\n",
            "Epoch 30/40\n",
            "59/59 [==============================] - 26s 412ms/step - loss: 0.7739 - accuracy: 0.5654 - F1_score: 0.6018 - Precision: 0.4368 - Recall: 1.0000 - auroc: 0.5002 - val_loss: 1.6286 - val_accuracy: 0.5463 - val_F1_score: 0.6148 - val_Precision: 0.4498 - val_Recall: 1.0000 - val_auroc: 0.5308\n",
            "Epoch 31/40\n",
            "59/59 [==============================] - 26s 415ms/step - loss: 0.7714 - accuracy: 0.5710 - F1_score: 0.5961 - Precision: 0.4301 - Recall: 1.0000 - auroc: 0.5091 - val_loss: 1.3360 - val_accuracy: 0.5463 - val_F1_score: 0.6166 - val_Precision: 0.4504 - val_Recall: 1.0000 - val_auroc: 0.5319\n",
            "Epoch 32/40\n",
            "59/59 [==============================] - 26s 414ms/step - loss: 0.8942 - accuracy: 0.5636 - F1_score: 0.6057 - Precision: 0.4407 - Recall: 1.0000 - auroc: 0.5119 - val_loss: 1.7931 - val_accuracy: 0.5500 - val_F1_score: 0.6155 - val_Precision: 0.4488 - val_Recall: 1.0000 - val_auroc: 0.5277\n",
            "Epoch 33/40\n",
            "59/59 [==============================] - 26s 412ms/step - loss: 0.7130 - accuracy: 0.5729 - F1_score: 0.5983 - Precision: 0.4312 - Recall: 1.0000 - auroc: 0.5053 - val_loss: 1.4538 - val_accuracy: 0.5556 - val_F1_score: 0.6149 - val_Precision: 0.4485 - val_Recall: 1.0000 - val_auroc: 0.5295\n",
            "Epoch 34/40\n",
            "59/59 [==============================] - 26s 412ms/step - loss: 0.7506 - accuracy: 0.5659 - F1_score: 0.6020 - Precision: 0.4374 - Recall: 1.0000 - auroc: 0.5208 - val_loss: 0.7785 - val_accuracy: 0.5556 - val_F1_score: 0.6137 - val_Precision: 0.4498 - val_Recall: 1.0000 - val_auroc: 0.5280\n",
            "Epoch 35/40\n",
            "59/59 [==============================] - 26s 412ms/step - loss: 0.8448 - accuracy: 0.5670 - F1_score: 0.6029 - Precision: 0.4365 - Recall: 1.0000 - auroc: 0.5150 - val_loss: 2.6256 - val_accuracy: 0.5574 - val_F1_score: 0.6138 - val_Precision: 0.4506 - val_Recall: 1.0000 - val_auroc: 0.5301\n",
            "Epoch 36/40\n",
            "59/59 [==============================] - 26s 412ms/step - loss: 0.7864 - accuracy: 0.5569 - F1_score: 0.6097 - Precision: 0.4450 - Recall: 1.0000 - auroc: 0.5076 - val_loss: 0.9839 - val_accuracy: 0.5537 - val_F1_score: 0.6167 - val_Precision: 0.4501 - val_Recall: 1.0000 - val_auroc: 0.5304\n",
            "Epoch 37/40\n",
            "59/59 [==============================] - 26s 412ms/step - loss: 0.7680 - accuracy: 0.5659 - F1_score: 0.6018 - Precision: 0.4371 - Recall: 1.0000 - auroc: 0.5146 - val_loss: 1.0794 - val_accuracy: 0.5556 - val_F1_score: 0.6171 - val_Precision: 0.4504 - val_Recall: 1.0000 - val_auroc: 0.5263\n",
            "Epoch 38/40\n",
            "59/59 [==============================] - 26s 412ms/step - loss: 0.7760 - accuracy: 0.5579 - F1_score: 0.6062 - Precision: 0.4392 - Recall: 1.0000 - auroc: 0.5106 - val_loss: 0.9000 - val_accuracy: 0.5611 - val_F1_score: 0.6179 - val_Precision: 0.4504 - val_Recall: 1.0000 - val_auroc: 0.5367\n",
            "Epoch 39/40\n",
            "59/59 [==============================] - 26s 412ms/step - loss: 0.7356 - accuracy: 0.5649 - F1_score: 0.6070 - Precision: 0.4401 - Recall: 1.0000 - auroc: 0.5165 - val_loss: 2.7119 - val_accuracy: 0.5481 - val_F1_score: 0.6174 - val_Precision: 0.4501 - val_Recall: 1.0000 - val_auroc: 0.5399\n",
            "Epoch 40/40\n",
            "59/59 [==============================] - 26s 412ms/step - loss: 0.7731 - accuracy: 0.5697 - F1_score: 0.5977 - Precision: 0.4329 - Recall: 1.0000 - auroc: 0.5229 - val_loss: 0.9119 - val_accuracy: 0.5370 - val_F1_score: 0.6165 - val_Precision: 0.4512 - val_Recall: 1.0000 - val_auroc: 0.5203\n"
          ]
        }
      ],
      "source": [
        "for layer in base_model.layers:\n",
        "    layer.trainable = True\n",
        "\n",
        "optimizer = keras.optimizers.SGD(learning_rate=0.01, momentum=0.9, decay=0.001)\n",
        "model.compile(loss=\"sparse_categorical_crossentropy\", optimizer=optimizer,\n",
        "              metrics=['accuracy', F1_score, Precision, Recall, auroc])\n",
        "history = model.fit(resnet_v2_ds_train,\n",
        "                    validation_data=resnet_v2_ds_val,\n",
        "                    epochs=40)"
      ]
    },
    {
      "cell_type": "code",
      "execution_count": null,
      "metadata": {
        "id": "7IwTxApJqcfQ",
        "colab": {
          "base_uri": "https://localhost:8080/"
        },
        "outputId": "8e91b690-b3a8-4a13-fdf4-41ec10721ef5"
      },
      "outputs": [
        {
          "output_type": "stream",
          "name": "stdout",
          "text": [
            "9/9 [==============================] - 3s 132ms/step - loss: 1.1034 - accuracy: 0.5590 - F1_score: 0.5997 - Precision: 0.4306 - Recall: 1.0000 - auroc: 0.5171\n"
          ]
        }
      ],
      "source": [
        "score = model.evaluate(resnet_v2_ds_test)"
      ]
    }
  ],
  "metadata": {
    "accelerator": "GPU",
    "colab": {
      "collapsed_sections": [],
      "name": "DS_6050_project_code_balanced.ipynb",
      "provenance": [],
      "machine_shape": "hm"
    },
    "gpuClass": "standard",
    "kernelspec": {
      "display_name": "Python 3",
      "name": "python3"
    }
  },
  "nbformat": 4,
  "nbformat_minor": 0
}