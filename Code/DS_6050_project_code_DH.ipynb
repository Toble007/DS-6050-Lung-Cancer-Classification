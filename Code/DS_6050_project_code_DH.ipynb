{
  "cells": [
    {
      "cell_type": "markdown",
      "metadata": {
        "id": "v4u4YC8iqxpe"
      },
      "source": [
        "# DS 6050 Lung Cancer Classification\n",
        "## Thomas Butler, vra2cf\n",
        "## Drew Haynes, rbc6wr\n",
        "## Christian Schroeder, dbn5eu"
      ]
    },
    {
      "cell_type": "markdown",
      "metadata": {
        "id": "KUboEeI0CH0A"
      },
      "source": [
        "# Load Packages"
      ]
    },
    {
      "cell_type": "code",
      "execution_count": null,
      "metadata": {
        "colab": {
          "base_uri": "https://localhost:8080/"
        },
        "id": "bIAunzfaCNAH",
        "outputId": "79667a93-6ca2-4e32-a779-aff95056af2c"
      },
      "outputs": [
        {
          "output_type": "stream",
          "name": "stdout",
          "text": [
            "Colab only includes TensorFlow 2.x; %tensorflow_version has no effect.\n",
            "2.8.2\n",
            "Looking in indexes: https://pypi.org/simple, https://us-python.pkg.dev/colab-wheels/public/simple/\n",
            "Collecting SimpleITK\n",
            "  Downloading SimpleITK-2.1.1.2-cp37-cp37m-manylinux_2_12_x86_64.manylinux2010_x86_64.whl (48.4 MB)\n",
            "\u001b[K     |████████████████████████████████| 48.4 MB 46.9 MB/s \n",
            "\u001b[?25hInstalling collected packages: SimpleITK\n",
            "Successfully installed SimpleITK-2.1.1.2\n"
          ]
        }
      ],
      "source": [
        "import sys\n",
        "import sklearn\n",
        "import os\n",
        "import numpy as np\n",
        "import pandas as pd\n",
        "import matplotlib as mpl\n",
        "import matplotlib.pyplot as plt\n",
        "from functools import partial\n",
        "import PIL\n",
        "\n",
        "%tensorflow_version 2.x\n",
        "import tensorflow as tf\n",
        "from tensorflow import keras\n",
        "\n",
        "print(tf.__version__)\n",
        "!pip install SimpleITK\n",
        "import SimpleITK as sitk\n",
        "import csv\n",
        "from PIL import Image\n",
        "%matplotlib inline\n",
        "\n",
        "np.random.seed(42) # note that you must use the same seed to ensure consistentcy in your training/validation/testing\n",
        "tf.random.set_seed(42)"
      ]
    },
    {
      "cell_type": "markdown",
      "metadata": {
        "id": "whpECRG_B2Nj"
      },
      "source": [
        "# Import Dataset\n"
      ]
    },
    {
      "cell_type": "code",
      "execution_count": null,
      "metadata": {
        "colab": {
          "base_uri": "https://localhost:8080/"
        },
        "id": "qPphQQURFWne",
        "outputId": "d87b838b-2760-476d-d23f-4ae56b70c2c8"
      },
      "outputs": [
        {
          "output_type": "stream",
          "name": "stdout",
          "text": [
            "Mounted at /content/drive\n"
          ]
        }
      ],
      "source": [
        "from google.colab import drive\n",
        "drive.mount('/content/drive')"
      ]
    },
    {
      "cell_type": "code",
      "execution_count": null,
      "metadata": {
        "id": "W_-L8hBKvwIq"
      },
      "outputs": [],
      "source": [
        "root = \"/content/drive/MyDrive/LUNA/\""
      ]
    },
    {
      "cell_type": "markdown",
      "metadata": {
        "id": "IkWsRy-p3rqN"
      },
      "source": [
        "Ref: https://luna16.grand-challenge.org/Tutorial/\n",
        "\n",
        "Used this code to help preprocess data into a format we can use."
      ]
    },
    {
      "cell_type": "markdown",
      "metadata": {
        "id": "AtRpS9g3Ehgy"
      },
      "source": [
        "We define now a function to:\n",
        "    - Open the image \n",
        "    - Store it into a numpy array\n",
        "    - Extract the following info: Pixel Spacing, Origin\n",
        "This function takes as input the name of the image and returns:\n",
        "    - The array corresponding to the image (numpyImage)\n",
        "    - Origin (numpyOrigin)\n",
        "    - PixelSpacing (numpySpacing)"
      ]
    },
    {
      "cell_type": "code",
      "execution_count": null,
      "metadata": {
        "id": "aUK-iPtREbtk"
      },
      "outputs": [],
      "source": [
        "def load_itk_image(filename):\n",
        "    itkimage = sitk.ReadImage(filename)\n",
        "    numpyImage = sitk.GetArrayFromImage(itkimage)\n",
        "     \n",
        "    numpyOrigin = np.array(list(reversed(itkimage.GetOrigin())))\n",
        "    numpySpacing = np.array(list(reversed(itkimage.GetSpacing())))\n",
        "     \n",
        "    return numpyImage, numpyOrigin, numpySpacing"
      ]
    },
    {
      "cell_type": "markdown",
      "metadata": {
        "id": "hhXAifYjEkQ8"
      },
      "source": [
        "To be able to open and read the list of candidates, we need to use the csv python module. \n",
        "We define now a function to:\n",
        "    - Open a csv file\n",
        "    - Read a csv file\n",
        "    - Save each line of a csv file\n",
        "This functions takes as input the name of the csv file and returns:\n",
        "    - A list of each line of the csv"
      ]
    },
    {
      "cell_type": "markdown",
      "metadata": {
        "id": "iAbWzVomo1cA"
      },
      "source": [
        "def readCSV(filename):\n",
        "    lines = []\n",
        "    with open(filename, \"rt\") as f:\n",
        "        csvreader = csv.reader(f)\n",
        "        for line in csvreader:\n",
        "            lines.append(line)\n",
        "    return lines"
      ]
    },
    {
      "cell_type": "markdown",
      "metadata": {
        "id": "Vy5NJo9TEmbf"
      },
      "source": [
        "Since the coordinates of the candidates are given in World Coordinates, we now need to transform from world coordinates to voxel coordinates. \n",
        "We define now a function to do that. Please note that the transformation below is only valid if there is no rotation component in the transformation matrix. For all CT images in our dataset, there is no rotation component so that this formula can be used. \n",
        "This function takes as inputs:\n",
        "    - The world coordinates\n",
        "    - The origin\n",
        "    - The pixel Spacing\n",
        "This function returns:\n",
        "    - Voxel coordinates (voxelCoord)"
      ]
    },
    {
      "cell_type": "code",
      "execution_count": null,
      "metadata": {
        "id": "u24TXDi6EdsR"
      },
      "outputs": [],
      "source": [
        "def worldToVoxelCoord(worldCoord, origin, spacing):\n",
        "     \n",
        "    stretchedVoxelCoord = np.absolute(worldCoord - origin)\n",
        "    voxelCoord = stretchedVoxelCoord / spacing\n",
        "    return voxelCoord"
      ]
    },
    {
      "cell_type": "markdown",
      "metadata": {
        "id": "HKIk2KwFErGR"
      },
      "source": [
        "We want to extract now some features from the candidates. We define some normalized planes to extract views from the candidates"
      ]
    },
    {
      "cell_type": "code",
      "execution_count": null,
      "metadata": {
        "id": "vChhW8QBEr9u"
      },
      "outputs": [],
      "source": [
        "def normalizePlanes(npzarray):\n",
        "     \n",
        "    maxHU = 400.\n",
        "    minHU = -1000.\n",
        " \n",
        "    npzarray = (npzarray - minHU) / (maxHU - minHU)\n",
        "    npzarray[npzarray>1] = 1.\n",
        "    npzarray[npzarray<0] = 0.\n",
        "    return npzarray"
      ]
    },
    {
      "cell_type": "markdown",
      "metadata": {
        "id": "ZiX4qz2cEt5E"
      },
      "source": [
        "    - Specify the path where the image (img_path) is \n",
        "    - Specificy the path where the file with the list of candidates is (cand_path)"
      ]
    },
    {
      "cell_type": "code",
      "execution_count": null,
      "metadata": {
        "id": "lbBmVFhIExD7"
      },
      "outputs": [],
      "source": [
        "cand_path = root+'candidates_V2/candidates_V2.csv'"
      ]
    },
    {
      "cell_type": "code",
      "execution_count": null,
      "metadata": {
        "id": "DR64Pw54SPc0"
      },
      "outputs": [],
      "source": [
        "subsets = range(10)\n",
        "img_paths = []\n",
        "for subset in subsets : # Doing this to loop instead of a general recursive\n",
        "                        # loop to 1) avoid segs_lungs_LUNA16 files and 2) to \n",
        "                        # allow flexibility with which subsets to use if desired\n",
        "  subset_root = root+'subset'+str(subset)+'/'\n",
        "  for img_path in os.listdir(subset_root):\n",
        "        if img_path.endswith('.mhd'):\n",
        "          img_paths.append(subset_root+img_path)\n"
      ]
    },
    {
      "cell_type": "markdown",
      "metadata": {
        "id": "_4DbiSBNEzDG"
      },
      "source": [
        "    - Load the image\n",
        "    - Extract the Origin\n",
        "    - Extract the Pixel Spacing "
      ]
    },
    {
      "cell_type": "code",
      "execution_count": null,
      "metadata": {
        "colab": {
          "base_uri": "https://localhost:8080/"
        },
        "id": "AH6t2pdXE1ye",
        "outputId": "667fe24f-774a-4049-96f8-43b8d9b3ce23"
      },
      "outputs": [
        {
          "name": "stdout",
          "output_type": "stream",
          "text": [
            "(121, 512, 512)\n",
            "[-335.209991 -195.       -198.100006]\n",
            "[2.5        0.76171899 0.76171899]\n"
          ]
        }
      ],
      "source": [
        "# load image\n",
        "numpyImage, numpyOrigin, numpySpacing = load_itk_image(img_paths[0])\n",
        "print(numpyImage.shape)\n",
        "print(numpyOrigin)\n",
        "print(numpySpacing)"
      ]
    },
    {
      "cell_type": "markdown",
      "metadata": {
        "id": "YpH8JWxCE4fJ"
      },
      "source": [
        "    - Load the csv file\n",
        "    - Get the candidates \n",
        "    - Transform from world to voxel coordinates"
      ]
    },
    {
      "cell_type": "code",
      "execution_count": null,
      "metadata": {
        "id": "HDYr8tuQE5eC"
      },
      "outputs": [],
      "source": [
        "# load candidates\n",
        "cands_master_df = pd.read_csv(cand_path)"
      ]
    },
    {
      "cell_type": "code",
      "execution_count": null,
      "metadata": {
        "id": "39ZW2eAVAYBq"
      },
      "outputs": [],
      "source": [
        "#subset dataset.\n",
        "df_1 =cands_master_df[cands_master_df['class'] == 1]\n",
        "df_0 =cands_master_df[cands_master_df['class'] == 0].sample(frac=1).head(10000)\n",
        "cands_master_df = pd.concat([df_1,df_0]).sample(frac=1)"
      ]
    },
    {
      "cell_type": "code",
      "execution_count": null,
      "metadata": {
        "id": "V77_lhhLhGMo"
      },
      "outputs": [],
      "source": [
        "# List of each unique SeriesUID, i.e. candidates\n",
        "cands = cands_master_df.seriesuid.unique()\n",
        "\n",
        "# Dictionary \n",
        "cands_df_dict = {elem : pd.DataFrame() for elem in cands}\n",
        "\n",
        "for key in cands_df_dict.keys():\n",
        "    cands_df_dict[key] = cands_master_df[cands_master_df.seriesuid == key]\n",
        "    cands_df_dict[key] = cands_df_dict[key].drop(['seriesuid'], axis=1)"
      ]
    },
    {
      "cell_type": "code",
      "execution_count": null,
      "metadata": {
        "colab": {
          "base_uri": "https://localhost:8080/"
        },
        "id": "fWm3Zcr3E--y",
        "outputId": "ea1f08d2-e601-4f0b-e9b6-ed39b507a215"
      },
      "outputs": [
        {
          "name": "stdout",
          "output_type": "stream",
          "text": [
            "Failed to convert point: ID: 1.3.6.1.4.1.14519.5.2.1.6279.6001.309955999522338651429118207446, Index: 511250\n",
            "Could not find 1.3.6.1.4.1.14519.5.2.1.6279.6001.320967206808467952819309001585\n",
            "Failed to convert point: ID: 1.3.6.1.4.1.14519.5.2.1.6279.6001.259227883564429312164962953756, Index: 401913\n",
            "Failed to convert point: ID: 1.3.6.1.4.1.14519.5.2.1.6279.6001.273525289046256012743471155680, Index: 434711\n",
            "Failed to save /content/drive/MyDrive/LUNA/data_subset/0/patch_-625.59_228.33_-68.050.jpg\n",
            "Failed to convert point: ID: 1.3.6.1.4.1.14519.5.2.1.6279.6001.273525289046256012743471155680, Index: 434583\n",
            "Failed to convert point: ID: 1.3.6.1.4.1.14519.5.2.1.6279.6001.273525289046256012743471155680, Index: 434036\n",
            "Failed to convert point: ID: 1.3.6.1.4.1.14519.5.2.1.6279.6001.273525289046256012743471155680, Index: 434860\n",
            "Failed to convert point: ID: 1.3.6.1.4.1.14519.5.2.1.6279.6001.273525289046256012743471155680, Index: 433934\n",
            "Failed to convert point: ID: 1.3.6.1.4.1.14519.5.2.1.6279.6001.273525289046256012743471155680, Index: 434373\n",
            "Failed to convert point: ID: 1.3.6.1.4.1.14519.5.2.1.6279.6001.206539885154775002929031534291, Index: 275297\n",
            "Failed to convert point: ID: 1.3.6.1.4.1.14519.5.2.1.6279.6001.206539885154775002929031534291, Index: 275563\n",
            "Failed to save /content/drive/MyDrive/LUNA/data_subset/0/patch_-37.78_-216.48_-78.320.jpg\n",
            "Failed to convert point: ID: 1.3.6.1.4.1.14519.5.2.1.6279.6001.206539885154775002929031534291, Index: 275590\n",
            "Failed to convert point: ID: 1.3.6.1.4.1.14519.5.2.1.6279.6001.206539885154775002929031534291, Index: 274825\n",
            "Failed to convert point: ID: 1.3.6.1.4.1.14519.5.2.1.6279.6001.206539885154775002929031534291, Index: 275397\n",
            "Failed to convert point: ID: 1.3.6.1.4.1.14519.5.2.1.6279.6001.206539885154775002929031534291, Index: 274754\n",
            "Failed to convert point: ID: 1.3.6.1.4.1.14519.5.2.1.6279.6001.206539885154775002929031534291, Index: 275625\n",
            "Failed to convert point: ID: 1.3.6.1.4.1.14519.5.2.1.6279.6001.206539885154775002929031534291, Index: 275252\n",
            "Failed to convert point: ID: 1.3.6.1.4.1.14519.5.2.1.6279.6001.206539885154775002929031534291, Index: 275273\n",
            "Failed to convert point: ID: 1.3.6.1.4.1.14519.5.2.1.6279.6001.206539885154775002929031534291, Index: 274896\n",
            "Failed to convert point: ID: 1.3.6.1.4.1.14519.5.2.1.6279.6001.206539885154775002929031534291, Index: 275300\n",
            "Failed to convert point: ID: 1.3.6.1.4.1.14519.5.2.1.6279.6001.206539885154775002929031534291, Index: 275376\n",
            "Failed to save /content/drive/MyDrive/LUNA/data_subset/0/patch_-42.41174968_-196.6810973_94.679910470.jpg\n",
            "Failed to convert point: ID: 1.3.6.1.4.1.14519.5.2.1.6279.6001.206539885154775002929031534291, Index: 275176\n",
            "Failed to convert point: ID: 1.3.6.1.4.1.14519.5.2.1.6279.6001.206539885154775002929031534291, Index: 275538\n",
            "Failed to save /content/drive/MyDrive/LUNA/data_subset/0/patch_-118.8_-187.29_37.310.jpg\n",
            "Failed to save /content/drive/MyDrive/LUNA/data_subset/0/patch_-198.565_-180.16_48.7750.jpg\n",
            "Failed to convert point: ID: 1.3.6.1.4.1.14519.5.2.1.6279.6001.265453131727473342790950829556, Index: 409284\n",
            "Failed to save /content/drive/MyDrive/LUNA/data_subset/0/patch_-214.6_-180.23_-98.230.jpg\n",
            "Could not find 1.3.6.1.4.1.14519.5.2.1.6279.6001.970428941353693253759289796610\n",
            "Failed to save /content/drive/MyDrive/LUNA/data_subset/1/patch_-191.730295_-194.7968575_-93.40325651.jpg\n",
            "Could not find 1.3.6.1.4.1.14519.5.2.1.6279.6001.164988920331211858091402361989\n",
            "Failed to convert point: ID: 1.3.6.1.4.1.14519.5.2.1.6279.6001.986011151772797848993829243183, Index: 752643\n",
            "Failed to save /content/drive/MyDrive/LUNA/data_subset/0/patch_-229.4053194_-181.8856031_-110.6837520.jpg\n",
            "Could not find 1.3.6.1.4.1.14519.5.2.1.6279.6001.339142594937666268384335506819\n",
            "Could not find 1.3.6.1.4.1.14519.5.2.1.6279.6001.254254303842550572473665729969\n",
            "Failed to convert point: ID: 1.3.6.1.4.1.14519.5.2.1.6279.6001.102133688497886810253331438797, Index: 7095\n",
            "Failed to convert point: ID: 1.3.6.1.4.1.14519.5.2.1.6279.6001.102133688497886810253331438797, Index: 6951\n",
            "Failed to convert point: ID: 1.3.6.1.4.1.14519.5.2.1.6279.6001.102133688497886810253331438797, Index: 7285\n",
            "Failed to convert point: ID: 1.3.6.1.4.1.14519.5.2.1.6279.6001.102133688497886810253331438797, Index: 7289\n",
            "Failed to convert point: ID: 1.3.6.1.4.1.14519.5.2.1.6279.6001.102133688497886810253331438797, Index: 7394\n",
            "Failed to convert point: ID: 1.3.6.1.4.1.14519.5.2.1.6279.6001.102133688497886810253331438797, Index: 7019\n",
            "Failed to convert point: ID: 1.3.6.1.4.1.14519.5.2.1.6279.6001.102133688497886810253331438797, Index: 6710\n",
            "Failed to convert point: ID: 1.3.6.1.4.1.14519.5.2.1.6279.6001.102133688497886810253331438797, Index: 6860\n",
            "Failed to convert point: ID: 1.3.6.1.4.1.14519.5.2.1.6279.6001.102133688497886810253331438797, Index: 7006\n",
            "Failed to convert point: ID: 1.3.6.1.4.1.14519.5.2.1.6279.6001.168985655485163461062675655739, Index: 168015\n",
            "Failed to save /content/drive/MyDrive/LUNA/data_subset/1/patch_-603.2881009_227.998396_-69.799015341.jpg\n",
            "Failed to convert point: ID: 1.3.6.1.4.1.14519.5.2.1.6279.6001.168985655485163461062675655739, Index: 168092\n",
            "Could not find 1.3.6.1.4.1.14519.5.2.1.6279.6001.230416590143922549745658357505\n",
            "Failed to convert point: ID: 1.3.6.1.4.1.14519.5.2.1.6279.6001.280972147860943609388015648430, Index: 451098\n",
            "Failed to convert point: ID: 1.3.6.1.4.1.14519.5.2.1.6279.6001.280972147860943609388015648430, Index: 450550\n",
            "Failed to convert point: ID: 1.3.6.1.4.1.14519.5.2.1.6279.6001.280972147860943609388015648430, Index: 450825\n",
            "Failed to convert point: ID: 1.3.6.1.4.1.14519.5.2.1.6279.6001.280972147860943609388015648430, Index: 451122\n",
            "Failed to convert point: ID: 1.3.6.1.4.1.14519.5.2.1.6279.6001.339882192295517122002429068974, Index: 578424\n",
            "Failed to convert point: ID: 1.3.6.1.4.1.14519.5.2.1.6279.6001.339882192295517122002429068974, Index: 578864\n",
            "Failed to convert point: ID: 1.3.6.1.4.1.14519.5.2.1.6279.6001.339882192295517122002429068974, Index: 578444\n",
            "Failed to convert point: ID: 1.3.6.1.4.1.14519.5.2.1.6279.6001.339882192295517122002429068974, Index: 577936\n",
            "Failed to convert point: ID: 1.3.6.1.4.1.14519.5.2.1.6279.6001.339882192295517122002429068974, Index: 577979\n",
            "Failed to convert point: ID: 1.3.6.1.4.1.14519.5.2.1.6279.6001.339882192295517122002429068974, Index: 579101\n",
            "Failed to convert point: ID: 1.3.6.1.4.1.14519.5.2.1.6279.6001.339882192295517122002429068974, Index: 578986\n",
            "Failed to convert point: ID: 1.3.6.1.4.1.14519.5.2.1.6279.6001.339882192295517122002429068974, Index: 578228\n",
            "Failed to convert point: ID: 1.3.6.1.4.1.14519.5.2.1.6279.6001.339882192295517122002429068974, Index: 577943\n",
            "Failed to convert point: ID: 1.3.6.1.4.1.14519.5.2.1.6279.6001.339882192295517122002429068974, Index: 578879\n",
            "Failed to convert point: ID: 1.3.6.1.4.1.14519.5.2.1.6279.6001.339882192295517122002429068974, Index: 578633\n",
            "Failed to convert point: ID: 1.3.6.1.4.1.14519.5.2.1.6279.6001.339882192295517122002429068974, Index: 578064\n",
            "Failed to convert point: ID: 1.3.6.1.4.1.14519.5.2.1.6279.6001.339882192295517122002429068974, Index: 578518\n",
            "Failed to convert point: ID: 1.3.6.1.4.1.14519.5.2.1.6279.6001.339882192295517122002429068974, Index: 578275\n",
            "Failed to convert point: ID: 1.3.6.1.4.1.14519.5.2.1.6279.6001.339882192295517122002429068974, Index: 578944\n",
            "Failed to convert point: ID: 1.3.6.1.4.1.14519.5.2.1.6279.6001.339882192295517122002429068974, Index: 578766\n",
            "Failed to convert point: ID: 1.3.6.1.4.1.14519.5.2.1.6279.6001.339882192295517122002429068974, Index: 578257\n",
            "Failed to convert point: ID: 1.3.6.1.4.1.14519.5.2.1.6279.6001.339882192295517122002429068974, Index: 578934\n",
            "Failed to convert point: ID: 1.3.6.1.4.1.14519.5.2.1.6279.6001.339882192295517122002429068974, Index: 579063\n",
            "Failed to convert point: ID: 1.3.6.1.4.1.14519.5.2.1.6279.6001.339882192295517122002429068974, Index: 578019\n",
            "Failed to convert point: ID: 1.3.6.1.4.1.14519.5.2.1.6279.6001.339882192295517122002429068974, Index: 578269\n",
            "Failed to convert point: ID: 1.3.6.1.4.1.14519.5.2.1.6279.6001.339882192295517122002429068974, Index: 578852\n",
            "Failed to convert point: ID: 1.3.6.1.4.1.14519.5.2.1.6279.6001.339882192295517122002429068974, Index: 579034\n",
            "Failed to convert point: ID: 1.3.6.1.4.1.14519.5.2.1.6279.6001.339882192295517122002429068974, Index: 578283\n",
            "Failed to convert point: ID: 1.3.6.1.4.1.14519.5.2.1.6279.6001.339882192295517122002429068974, Index: 578281\n",
            "Failed to convert point: ID: 1.3.6.1.4.1.14519.5.2.1.6279.6001.450501966058662668272378865145, Index: 610351\n",
            "Failed to convert point: ID: 1.3.6.1.4.1.14519.5.2.1.6279.6001.450501966058662668272378865145, Index: 609614\n",
            "Failed to convert point: ID: 1.3.6.1.4.1.14519.5.2.1.6279.6001.450501966058662668272378865145, Index: 609910\n",
            "Failed to convert point: ID: 1.3.6.1.4.1.14519.5.2.1.6279.6001.450501966058662668272378865145, Index: 610441\n",
            "Failed to convert point: ID: 1.3.6.1.4.1.14519.5.2.1.6279.6001.450501966058662668272378865145, Index: 609847\n",
            "Failed to convert point: ID: 1.3.6.1.4.1.14519.5.2.1.6279.6001.450501966058662668272378865145, Index: 610308\n",
            "Failed to convert point: ID: 1.3.6.1.4.1.14519.5.2.1.6279.6001.450501966058662668272378865145, Index: 610145\n",
            "Failed to convert point: ID: 1.3.6.1.4.1.14519.5.2.1.6279.6001.450501966058662668272378865145, Index: 610273\n",
            "Failed to convert point: ID: 1.3.6.1.4.1.14519.5.2.1.6279.6001.450501966058662668272378865145, Index: 609721\n",
            "Failed to convert point: ID: 1.3.6.1.4.1.14519.5.2.1.6279.6001.450501966058662668272378865145, Index: 610645\n",
            "Failed to convert point: ID: 1.3.6.1.4.1.14519.5.2.1.6279.6001.450501966058662668272378865145, Index: 609776\n",
            "Failed to convert point: ID: 1.3.6.1.4.1.14519.5.2.1.6279.6001.450501966058662668272378865145, Index: 610532\n",
            "Failed to convert point: ID: 1.3.6.1.4.1.14519.5.2.1.6279.6001.450501966058662668272378865145, Index: 610041\n",
            "Failed to convert point: ID: 1.3.6.1.4.1.14519.5.2.1.6279.6001.450501966058662668272378865145, Index: 610286\n",
            "Failed to convert point: ID: 1.3.6.1.4.1.14519.5.2.1.6279.6001.204287915902811325371247860532, Index: 266763\n",
            "Could not find 1.3.6.1.4.1.14519.5.2.1.6279.6001.265775376735520890308424143898\n",
            "Failed to convert point: ID: 1.3.6.1.4.1.14519.5.2.1.6279.6001.299476369290630280560355838785, Index: 482378\n",
            "Failed to convert point: ID: 1.3.6.1.4.1.14519.5.2.1.6279.6001.299476369290630280560355838785, Index: 482542\n",
            "Failed to convert point: ID: 1.3.6.1.4.1.14519.5.2.1.6279.6001.299476369290630280560355838785, Index: 481993\n",
            "Failed to convert point: ID: 1.3.6.1.4.1.14519.5.2.1.6279.6001.299476369290630280560355838785, Index: 482029\n",
            "Failed to convert point: ID: 1.3.6.1.4.1.14519.5.2.1.6279.6001.299476369290630280560355838785, Index: 482415\n",
            "Failed to convert point: ID: 1.3.6.1.4.1.14519.5.2.1.6279.6001.299476369290630280560355838785, Index: 482292\n",
            "Failed to convert point: ID: 1.3.6.1.4.1.14519.5.2.1.6279.6001.316900421002460665752357657094, Index: 529543\n",
            "Failed to convert point: ID: 1.3.6.1.4.1.14519.5.2.1.6279.6001.316900421002460665752357657094, Index: 529665\n",
            "Could not find 1.3.6.1.4.1.14519.5.2.1.6279.6001.304700823314998198591652152637\n",
            "Failed to convert point: ID: 1.3.6.1.4.1.14519.5.2.1.6279.6001.908250781706513856628130123235, Index: 729953\n",
            "Failed to convert point: ID: 1.3.6.1.4.1.14519.5.2.1.6279.6001.908250781706513856628130123235, Index: 729906\n",
            "Failed to save /content/drive/MyDrive/LUNA/data_subset/0/patch_-185.0_-208.13_105.240.jpg\n",
            "Failed to save /content/drive/MyDrive/LUNA/data_subset/0/patch_-125.14_-207.06_71.730.jpg\n",
            "Failed to save /content/drive/MyDrive/LUNA/data_subset/0/patch_-150.56_-181.29_-40.330.jpg\n",
            "Could not find 1.3.6.1.4.1.14519.5.2.1.6279.6001.141511313712034597336182402384\n",
            "Could not find 1.3.6.1.4.1.14519.5.2.1.6279.6001.312704771348460502013249647868\n",
            "Failed to save /content/drive/MyDrive/LUNA/data_subset/0/patch_-274.81_-186.88_87.790.jpg\n",
            "Failed to save /content/drive/MyDrive/LUNA/data_subset/1/patch_-109.26_-180.0563423_-85.732055811.jpg\n",
            "Failed to save /content/drive/MyDrive/LUNA/data_subset/0/patch_-166.6_-209.71_-96.210.jpg\n",
            "Failed to save /content/drive/MyDrive/LUNA/data_subset/0/patch_-168.17_-213.28_65.650.jpg\n",
            "Failed to save /content/drive/MyDrive/LUNA/data_subset/0/patch_-308.11_-187.92_148.90.jpg\n",
            "Failed to save /content/drive/MyDrive/LUNA/data_subset/0/patch_-202.43871_-173.7167529_-46.327858220.jpg\n",
            "Failed to save /content/drive/MyDrive/LUNA/data_subset/0/patch_-241.95_-196.15_93.850.jpg\n",
            "Could not find 1.3.6.1.4.1.14519.5.2.1.6279.6001.216252660192313507027754194207\n",
            "Could not find 1.3.6.1.4.1.14519.5.2.1.6279.6001.897684031374557757145405000951\n",
            "Failed to convert point: ID: 1.3.6.1.4.1.14519.5.2.1.6279.6001.179162671133894061547290922949, Index: 201032\n",
            "Failed to convert point: ID: 1.3.6.1.4.1.14519.5.2.1.6279.6001.179162671133894061547290922949, Index: 200022\n",
            "Failed to convert point: ID: 1.3.6.1.4.1.14519.5.2.1.6279.6001.179162671133894061547290922949, Index: 200217\n",
            "Failed to convert point: ID: 1.3.6.1.4.1.14519.5.2.1.6279.6001.179162671133894061547290922949, Index: 200432\n",
            "Failed to convert point: ID: 1.3.6.1.4.1.14519.5.2.1.6279.6001.179162671133894061547290922949, Index: 200484\n",
            "Failed to convert point: ID: 1.3.6.1.4.1.14519.5.2.1.6279.6001.179162671133894061547290922949, Index: 201036\n",
            "Failed to convert point: ID: 1.3.6.1.4.1.14519.5.2.1.6279.6001.179162671133894061547290922949, Index: 201044\n",
            "Failed to convert point: ID: 1.3.6.1.4.1.14519.5.2.1.6279.6001.179162671133894061547290922949, Index: 200053\n",
            "Failed to convert point: ID: 1.3.6.1.4.1.14519.5.2.1.6279.6001.179162671133894061547290922949, Index: 200202\n",
            "Failed to convert point: ID: 1.3.6.1.4.1.14519.5.2.1.6279.6001.179162671133894061547290922949, Index: 200475\n",
            "Failed to convert point: ID: 1.3.6.1.4.1.14519.5.2.1.6279.6001.179162671133894061547290922949, Index: 199926\n",
            "Failed to convert point: ID: 1.3.6.1.4.1.14519.5.2.1.6279.6001.179162671133894061547290922949, Index: 200209\n",
            "Failed to convert point: ID: 1.3.6.1.4.1.14519.5.2.1.6279.6001.179162671133894061547290922949, Index: 199992\n",
            "Failed to convert point: ID: 1.3.6.1.4.1.14519.5.2.1.6279.6001.179162671133894061547290922949, Index: 200102\n",
            "Failed to convert point: ID: 1.3.6.1.4.1.14519.5.2.1.6279.6001.179162671133894061547290922949, Index: 200541\n",
            "Failed to convert point: ID: 1.3.6.1.4.1.14519.5.2.1.6279.6001.179162671133894061547290922949, Index: 200951\n",
            "Failed to convert point: ID: 1.3.6.1.4.1.14519.5.2.1.6279.6001.179162671133894061547290922949, Index: 200637\n",
            "Failed to convert point: ID: 1.3.6.1.4.1.14519.5.2.1.6279.6001.179162671133894061547290922949, Index: 200991\n",
            "Failed to convert point: ID: 1.3.6.1.4.1.14519.5.2.1.6279.6001.179162671133894061547290922949, Index: 200231\n",
            "Failed to save /content/drive/MyDrive/LUNA/data_subset/0/patch_-583.8_251.5_68.80.jpg\n",
            "Failed to save /content/drive/MyDrive/LUNA/data_subset/0/patch_-518.860692_256.1242451_51.576760790.jpg\n",
            "Failed to save /content/drive/MyDrive/LUNA/data_subset/1/patch_-508.7470422_246.952407_-79.702862221.jpg\n",
            "Failed to save /content/drive/MyDrive/LUNA/data_subset/0/patch_-585.8763347_231.1439322_39.016352110.jpg\n",
            "Failed to save /content/drive/MyDrive/LUNA/data_subset/0/patch_-597.69_226.68_-71.730.jpg\n",
            "Failed to save /content/drive/MyDrive/LUNA/data_subset/1/patch_-506.93_251.08_-93.081.jpg\n",
            "Failed to save /content/drive/MyDrive/LUNA/data_subset/1/patch_-508.71_245.23_-89.711.jpg\n",
            "Failed to save /content/drive/MyDrive/LUNA/data_subset/0/patch_-567.3442625_261.5417211_-81.114016610.jpg\n",
            "Could not find 1.3.6.1.4.1.14519.5.2.1.6279.6001.270215889102603268207599305185\n",
            "Failed to convert point: ID: 1.3.6.1.4.1.14519.5.2.1.6279.6001.267957701183569638795986183786, Index: 415695\n",
            "Failed to convert point: ID: 1.3.6.1.4.1.14519.5.2.1.6279.6001.267957701183569638795986183786, Index: 416006\n",
            "Failed to convert point: ID: 1.3.6.1.4.1.14519.5.2.1.6279.6001.267957701183569638795986183786, Index: 416429\n",
            "Failed to convert point: ID: 1.3.6.1.4.1.14519.5.2.1.6279.6001.267957701183569638795986183786, Index: 416301\n",
            "Failed to convert point: ID: 1.3.6.1.4.1.14519.5.2.1.6279.6001.267957701183569638795986183786, Index: 416028\n",
            "Failed to convert point: ID: 1.3.6.1.4.1.14519.5.2.1.6279.6001.267957701183569638795986183786, Index: 416499\n",
            "Failed to convert point: ID: 1.3.6.1.4.1.14519.5.2.1.6279.6001.267957701183569638795986183786, Index: 416218\n",
            "Failed to convert point: ID: 1.3.6.1.4.1.14519.5.2.1.6279.6001.267957701183569638795986183786, Index: 416314\n",
            "Failed to convert point: ID: 1.3.6.1.4.1.14519.5.2.1.6279.6001.267957701183569638795986183786, Index: 416100\n",
            "Failed to convert point: ID: 1.3.6.1.4.1.14519.5.2.1.6279.6001.267957701183569638795986183786, Index: 415897\n",
            "Failed to convert point: ID: 1.3.6.1.4.1.14519.5.2.1.6279.6001.267957701183569638795986183786, Index: 416327\n",
            "Failed to convert point: ID: 1.3.6.1.4.1.14519.5.2.1.6279.6001.267957701183569638795986183786, Index: 416138\n",
            "Failed to convert point: ID: 1.3.6.1.4.1.14519.5.2.1.6279.6001.267957701183569638795986183786, Index: 416088\n",
            "Failed to convert point: ID: 1.3.6.1.4.1.14519.5.2.1.6279.6001.267957701183569638795986183786, Index: 416498\n",
            "Failed to convert point: ID: 1.3.6.1.4.1.14519.5.2.1.6279.6001.267957701183569638795986183786, Index: 416305\n",
            "Failed to convert point: ID: 1.3.6.1.4.1.14519.5.2.1.6279.6001.267957701183569638795986183786, Index: 416020\n",
            "Failed to convert point: ID: 1.3.6.1.4.1.14519.5.2.1.6279.6001.267957701183569638795986183786, Index: 415957\n",
            "Failed to convert point: ID: 1.3.6.1.4.1.14519.5.2.1.6279.6001.267957701183569638795986183786, Index: 416191\n",
            "Failed to convert point: ID: 1.3.6.1.4.1.14519.5.2.1.6279.6001.267957701183569638795986183786, Index: 415685\n",
            "Failed to convert point: ID: 1.3.6.1.4.1.14519.5.2.1.6279.6001.267957701183569638795986183786, Index: 416109\n",
            "Failed to convert point: ID: 1.3.6.1.4.1.14519.5.2.1.6279.6001.267957701183569638795986183786, Index: 416431\n",
            "Failed to convert point: ID: 1.3.6.1.4.1.14519.5.2.1.6279.6001.267957701183569638795986183786, Index: 415968\n",
            "Failed to convert point: ID: 1.3.6.1.4.1.14519.5.2.1.6279.6001.267957701183569638795986183786, Index: 416486\n",
            "Failed to convert point: ID: 1.3.6.1.4.1.14519.5.2.1.6279.6001.267957701183569638795986183786, Index: 415888\n",
            "Failed to convert point: ID: 1.3.6.1.4.1.14519.5.2.1.6279.6001.267957701183569638795986183786, Index: 415981\n",
            "Failed to convert point: ID: 1.3.6.1.4.1.14519.5.2.1.6279.6001.267957701183569638795986183786, Index: 416152\n",
            "Failed to convert point: ID: 1.3.6.1.4.1.14519.5.2.1.6279.6001.267957701183569638795986183786, Index: 416143\n",
            "Failed to convert point: ID: 1.3.6.1.4.1.14519.5.2.1.6279.6001.267957701183569638795986183786, Index: 416605\n",
            "Failed to convert point: ID: 1.3.6.1.4.1.14519.5.2.1.6279.6001.267957701183569638795986183786, Index: 416627\n",
            "Failed to convert point: ID: 1.3.6.1.4.1.14519.5.2.1.6279.6001.146603910507557786636779705509, Index: 117864\n",
            "Failed to convert point: ID: 1.3.6.1.4.1.14519.5.2.1.6279.6001.743969234977916254223533321294, Index: 684507\n",
            "Failed to convert point: ID: 1.3.6.1.4.1.14519.5.2.1.6279.6001.743969234977916254223533321294, Index: 683973\n",
            "Failed to convert point: ID: 1.3.6.1.4.1.14519.5.2.1.6279.6001.743969234977916254223533321294, Index: 684324\n",
            "Failed to convert point: ID: 1.3.6.1.4.1.14519.5.2.1.6279.6001.743969234977916254223533321294, Index: 684170\n",
            "Failed to convert point: ID: 1.3.6.1.4.1.14519.5.2.1.6279.6001.743969234977916254223533321294, Index: 684152\n",
            "Failed to convert point: ID: 1.3.6.1.4.1.14519.5.2.1.6279.6001.109002525524522225658609808059, Index: 22279\n",
            "Failed to save /content/drive/MyDrive/LUNA/data_subset/0/patch_-246.7575386_-192.3732309_81.512353730.jpg\n",
            "Failed to save /content/drive/MyDrive/LUNA/data_subset/0/patch_-228.5_-191.15_-137.650.jpg\n",
            "Failed to save /content/drive/MyDrive/LUNA/data_subset/0/patch_-146.51_-176.345_81.080.jpg\n",
            "Failed to save /content/drive/MyDrive/LUNA/data_subset/0/patch_-126.17_-217.65_-31.980.jpg\n",
            "Could not find 1.3.6.1.4.1.14519.5.2.1.6279.6001.276556509002726404418399209377\n",
            "Failed to save /content/drive/MyDrive/LUNA/data_subset/0/patch_-197.1835438_-183.7853739_-36.743933120.jpg\n",
            "Failed to save /content/drive/MyDrive/LUNA/data_subset/0/patch_-246.78_-213.73_-97.650.jpg\n",
            "Failed to save /content/drive/MyDrive/LUNA/data_subset/0/patch_-159.7_-201.11_16.620.jpg\n",
            "Could not find 1.3.6.1.4.1.14519.5.2.1.6279.6001.277662902666135640561346462196\n",
            "Could not find 1.3.6.1.4.1.14519.5.2.1.6279.6001.198698492013538481395497694975\n",
            "Could not find 1.3.6.1.4.1.14519.5.2.1.6279.6001.333319057944372470283038483725\n",
            "Could not find 1.3.6.1.4.1.14519.5.2.1.6279.6001.115386642382564804180764325545\n",
            "Could not find 1.3.6.1.4.1.14519.5.2.1.6279.6001.336225579776978874775723463327\n",
            "Failed to convert point: ID: 1.3.6.1.4.1.14519.5.2.1.6279.6001.167919147233131417984739058859, Index: 161136\n",
            "Failed to convert point: ID: 1.3.6.1.4.1.14519.5.2.1.6279.6001.167919147233131417984739058859, Index: 161898\n",
            "Failed to convert point: ID: 1.3.6.1.4.1.14519.5.2.1.6279.6001.167919147233131417984739058859, Index: 161193\n",
            "Failed to save /content/drive/MyDrive/LUNA/data_subset/0/patch_-229.76_-216.78_43.110.jpg\n",
            "Could not find 1.3.6.1.4.1.14519.5.2.1.6279.6001.614147706162329660656328811671\n",
            "Failed to convert point: ID: 1.3.6.1.4.1.14519.5.2.1.6279.6001.151764021165118974848436095034, Index: 129894\n",
            "Failed to convert point: ID: 1.3.6.1.4.1.14519.5.2.1.6279.6001.151764021165118974848436095034, Index: 129198\n",
            "Failed to convert point: ID: 1.3.6.1.4.1.14519.5.2.1.6279.6001.151764021165118974848436095034, Index: 129639\n",
            "Failed to convert point: ID: 1.3.6.1.4.1.14519.5.2.1.6279.6001.151764021165118974848436095034, Index: 130038\n",
            "Failed to save /content/drive/MyDrive/LUNA/data_subset/0/patch_-616.565_227.365_-4.1550.jpg\n",
            "Failed to convert point: ID: 1.3.6.1.4.1.14519.5.2.1.6279.6001.310395752124284049604069960014, Index: 512604\n",
            "Failed to convert point: ID: 1.3.6.1.4.1.14519.5.2.1.6279.6001.310395752124284049604069960014, Index: 512535\n",
            "Failed to convert point: ID: 1.3.6.1.4.1.14519.5.2.1.6279.6001.168605638657404145360275453085, Index: 164307\n",
            "Failed to convert point: ID: 1.3.6.1.4.1.14519.5.2.1.6279.6001.168605638657404145360275453085, Index: 163833\n",
            "Could not find 1.3.6.1.4.1.14519.5.2.1.6279.6001.323541312620128092852212458228\n",
            "Failed to save /content/drive/MyDrive/LUNA/data_subset/0/patch_-183.82_-211.34_-60.530.jpg\n",
            "Failed to save /content/drive/MyDrive/LUNA/data_subset/0/patch_-122.43_-199.99_42.680.jpg\n",
            "Failed to save /content/drive/MyDrive/LUNA/data_subset/0/patch_-152.56_-179.12_-106.430.jpg\n",
            "Could not find 1.3.6.1.4.1.14519.5.2.1.6279.6001.161855583909753609742728521805\n",
            "Failed to save /content/drive/MyDrive/LUNA/data_subset/0/patch_-454.6_227.68_2.750.jpg\n",
            "Failed to save /content/drive/MyDrive/LUNA/data_subset/0/patch_-561.3852943_226.1284704_87.505676260.jpg\n",
            "Failed to convert point: ID: 1.3.6.1.4.1.14519.5.2.1.6279.6001.117040183261056772902616195387, Index: 39759\n",
            "Failed to save /content/drive/MyDrive/LUNA/data_subset/1/patch_-565.8433214_227.6641123_-116.51518121.jpg\n",
            "Failed to convert point: ID: 1.3.6.1.4.1.14519.5.2.1.6279.6001.117040183261056772902616195387, Index: 39909\n",
            "Failed to save /content/drive/MyDrive/LUNA/data_subset/0/patch_-523.6333336_226.9698331_-65.166166880.jpg\n",
            "Failed to save /content/drive/MyDrive/LUNA/data_subset/0/patch_-469.3361704_220.7213402_-91.692319360.jpg\n",
            "Failed to save /content/drive/MyDrive/LUNA/data_subset/1/patch_-623.6445974_230.4755073_88.303452951.jpg\n",
            "Failed to convert point: ID: 1.3.6.1.4.1.14519.5.2.1.6279.6001.200725988589959521302320481687, Index: 255376\n",
            "Failed to save /content/drive/MyDrive/LUNA/data_subset/0/patch_-46.8_-208.63_-72.330.jpg\n",
            "Failed to save /content/drive/MyDrive/LUNA/data_subset/0/patch_-33.11_-183.36_-61.90.jpg\n",
            "Could not find 1.3.6.1.4.1.14519.5.2.1.6279.6001.103115201714075993579787468219\n",
            "Could not find 1.3.6.1.4.1.14519.5.2.1.6279.6001.211956804948320236390242845468\n",
            "Could not find 1.3.6.1.4.1.14519.5.2.1.6279.6001.631047517458234322522264161877\n",
            "Failed to convert point: ID: 1.3.6.1.4.1.14519.5.2.1.6279.6001.249032660919473722154870746474, Index: 374949\n",
            "Could not find 1.3.6.1.4.1.14519.5.2.1.6279.6001.122914038048856168343065566972\n",
            "Failed to save /content/drive/MyDrive/LUNA/data_subset/0/patch_-225.45_-174.52_81.190.jpg\n",
            "Failed to save /content/drive/MyDrive/LUNA/data_subset/0/patch_-261.26_-178.02_-42.040.jpg\n",
            "Failed to save /content/drive/MyDrive/LUNA/data_subset/0/patch_-565.78_223.77_47.710.jpg\n",
            "Failed to convert point: ID: 1.3.6.1.4.1.14519.5.2.1.6279.6001.275849601663847251574860892603, Index: 439313\n",
            "Failed to save /content/drive/MyDrive/LUNA/data_subset/0/patch_-562.98_228.67_58.920.jpg\n",
            "Could not find 1.3.6.1.4.1.14519.5.2.1.6279.6001.114195693932194925962391697338\n",
            "Failed to save /content/drive/MyDrive/LUNA/data_subset/0/patch_-133.01_-175.2_38.330.jpg\n",
            "Failed to save /content/drive/MyDrive/LUNA/data_subset/0/patch_-127.985_-179.32_61.180.jpg\n",
            "Failed to save /content/drive/MyDrive/LUNA/data_subset/1/patch_-177.1869_-185.270411_-64.0985391.jpg\n",
            "Could not find 1.3.6.1.4.1.14519.5.2.1.6279.6001.242761658169703141430370511586\n",
            "Failed to save /content/drive/MyDrive/LUNA/data_subset/0/patch_-148.17_-194.71_-38.330.jpg\n",
            "Could not find 1.3.6.1.4.1.14519.5.2.1.6279.6001.274052674198758621258447180130\n",
            "Failed to convert point: ID: 1.3.6.1.4.1.14519.5.2.1.6279.6001.272348349298439120568330857680, Index: 432206\n",
            "Failed to save /content/drive/MyDrive/LUNA/data_subset/0/patch_-257.1404112_-177.8759591_129.05649290.jpg\n",
            "Failed to save /content/drive/MyDrive/LUNA/data_subset/0/patch_-162.5979732_-202.6285137_59.492429520.jpg\n",
            "Failed to convert point: ID: 1.3.6.1.4.1.14519.5.2.1.6279.6001.272042302501586336192628818865, Index: 427845\n",
            "Failed to convert point: ID: 1.3.6.1.4.1.14519.5.2.1.6279.6001.272042302501586336192628818865, Index: 428278\n",
            "Failed to convert point: ID: 1.3.6.1.4.1.14519.5.2.1.6279.6001.272042302501586336192628818865, Index: 427606\n",
            "Failed to convert point: ID: 1.3.6.1.4.1.14519.5.2.1.6279.6001.272042302501586336192628818865, Index: 427787\n",
            "Failed to convert point: ID: 1.3.6.1.4.1.14519.5.2.1.6279.6001.272042302501586336192628818865, Index: 427917\n",
            "Failed to convert point: ID: 1.3.6.1.4.1.14519.5.2.1.6279.6001.272042302501586336192628818865, Index: 427777\n",
            "Failed to convert point: ID: 1.3.6.1.4.1.14519.5.2.1.6279.6001.272042302501586336192628818865, Index: 428061\n",
            "Failed to convert point: ID: 1.3.6.1.4.1.14519.5.2.1.6279.6001.272042302501586336192628818865, Index: 427789\n",
            "Failed to convert point: ID: 1.3.6.1.4.1.14519.5.2.1.6279.6001.272042302501586336192628818865, Index: 427822\n",
            "Failed to convert point: ID: 1.3.6.1.4.1.14519.5.2.1.6279.6001.272042302501586336192628818865, Index: 427640\n",
            "Failed to convert point: ID: 1.3.6.1.4.1.14519.5.2.1.6279.6001.272042302501586336192628818865, Index: 427690\n",
            "Failed to convert point: ID: 1.3.6.1.4.1.14519.5.2.1.6279.6001.272042302501586336192628818865, Index: 428018\n",
            "Failed to convert point: ID: 1.3.6.1.4.1.14519.5.2.1.6279.6001.272042302501586336192628818865, Index: 428084\n",
            "Failed to convert point: ID: 1.3.6.1.4.1.14519.5.2.1.6279.6001.272042302501586336192628818865, Index: 427556\n",
            "Failed to convert point: ID: 1.3.6.1.4.1.14519.5.2.1.6279.6001.272042302501586336192628818865, Index: 427720\n",
            "Failed to save /content/drive/MyDrive/LUNA/data_subset/0/patch_-217.99_-196.91_81.280.jpg\n",
            "Failed to save /content/drive/MyDrive/LUNA/data_subset/0/patch_-222.89_-195.79_104.180.jpg\n",
            "Failed to save /content/drive/MyDrive/LUNA/data_subset/0/patch_-265.59_-180.15_-112.550.jpg\n",
            "Failed to save /content/drive/MyDrive/LUNA/data_subset/0/patch_-215.3146304_-184.8690967_-43.402256810.jpg\n",
            "Failed to save /content/drive/MyDrive/LUNA/data_subset/0/patch_-196.53_-198.55_118.040.jpg\n",
            "Failed to save /content/drive/MyDrive/LUNA/data_subset/0/patch_-189.4443884_-179.1235708_64.34808320.jpg\n",
            "Could not find 1.3.6.1.4.1.14519.5.2.1.6279.6001.390513733720659266816639651938\n",
            "Failed to convert point: ID: 1.3.6.1.4.1.14519.5.2.1.6279.6001.170921541362033046216100409521, Index: 172026\n",
            "Could not find 1.3.6.1.4.1.14519.5.2.1.6279.6001.189483585244687808087477024767\n",
            "Could not find 1.3.6.1.4.1.14519.5.2.1.6279.6001.205993750485568250373835565680\n",
            "Failed to convert point: ID: 1.3.6.1.4.1.14519.5.2.1.6279.6001.159996104466052855396410079250, Index: 142244\n",
            "Could not find 1.3.6.1.4.1.14519.5.2.1.6279.6001.404768898286087278137462774930\n",
            "Failed to save /content/drive/MyDrive/LUNA/data_subset/1/patch_-378.895_226.8766703_-61.542747751.jpg\n",
            "Could not find 1.3.6.1.4.1.14519.5.2.1.6279.6001.320111824803959660037459294083\n",
            "Failed to convert point: ID: 1.3.6.1.4.1.14519.5.2.1.6279.6001.288701997968615460794642979503, Index: 461123\n",
            "Failed to convert point: ID: 1.3.6.1.4.1.14519.5.2.1.6279.6001.288701997968615460794642979503, Index: 462253\n",
            "Failed to convert point: ID: 1.3.6.1.4.1.14519.5.2.1.6279.6001.288701997968615460794642979503, Index: 461795\n",
            "Failed to convert point: ID: 1.3.6.1.4.1.14519.5.2.1.6279.6001.288701997968615460794642979503, Index: 461200\n",
            "Failed to convert point: ID: 1.3.6.1.4.1.14519.5.2.1.6279.6001.288701997968615460794642979503, Index: 462418\n",
            "Failed to convert point: ID: 1.3.6.1.4.1.14519.5.2.1.6279.6001.288701997968615460794642979503, Index: 462196\n",
            "Failed to convert point: ID: 1.3.6.1.4.1.14519.5.2.1.6279.6001.288701997968615460794642979503, Index: 462174\n",
            "Failed to convert point: ID: 1.3.6.1.4.1.14519.5.2.1.6279.6001.288701997968615460794642979503, Index: 461856\n",
            "Failed to convert point: ID: 1.3.6.1.4.1.14519.5.2.1.6279.6001.288701997968615460794642979503, Index: 462469\n",
            "Failed to convert point: ID: 1.3.6.1.4.1.14519.5.2.1.6279.6001.288701997968615460794642979503, Index: 462252\n",
            "Failed to convert point: ID: 1.3.6.1.4.1.14519.5.2.1.6279.6001.288701997968615460794642979503, Index: 461197\n",
            "Failed to convert point: ID: 1.3.6.1.4.1.14519.5.2.1.6279.6001.288701997968615460794642979503, Index: 461962\n",
            "Failed to convert point: ID: 1.3.6.1.4.1.14519.5.2.1.6279.6001.288701997968615460794642979503, Index: 462422\n",
            "Failed to convert point: ID: 1.3.6.1.4.1.14519.5.2.1.6279.6001.288701997968615460794642979503, Index: 461361\n",
            "Failed to convert point: ID: 1.3.6.1.4.1.14519.5.2.1.6279.6001.288701997968615460794642979503, Index: 462349\n",
            "Failed to convert point: ID: 1.3.6.1.4.1.14519.5.2.1.6279.6001.288701997968615460794642979503, Index: 461865\n",
            "Failed to convert point: ID: 1.3.6.1.4.1.14519.5.2.1.6279.6001.288701997968615460794642979503, Index: 462186\n",
            "Failed to convert point: ID: 1.3.6.1.4.1.14519.5.2.1.6279.6001.288701997968615460794642979503, Index: 462161\n",
            "Failed to convert point: ID: 1.3.6.1.4.1.14519.5.2.1.6279.6001.288701997968615460794642979503, Index: 461952\n",
            "Failed to convert point: ID: 1.3.6.1.4.1.14519.5.2.1.6279.6001.288701997968615460794642979503, Index: 462195\n",
            "Failed to convert point: ID: 1.3.6.1.4.1.14519.5.2.1.6279.6001.288701997968615460794642979503, Index: 462221\n",
            "Failed to convert point: ID: 1.3.6.1.4.1.14519.5.2.1.6279.6001.288701997968615460794642979503, Index: 462564\n",
            "Failed to convert point: ID: 1.3.6.1.4.1.14519.5.2.1.6279.6001.288701997968615460794642979503, Index: 461440\n",
            "Failed to convert point: ID: 1.3.6.1.4.1.14519.5.2.1.6279.6001.288701997968615460794642979503, Index: 461401\n",
            "Could not find 1.3.6.1.4.1.14519.5.2.1.6279.6001.269075535958871753309238331179\n",
            "Could not find 1.3.6.1.4.1.14519.5.2.1.6279.6001.303865116731361029078599241306\n",
            "Failed to save /content/drive/MyDrive/LUNA/data_subset/0/patch_-257.6_-217.07_-123.570.jpg\n",
            "Failed to save /content/drive/MyDrive/LUNA/data_subset/0/patch_-225.34_-181.03_-74.210.jpg\n",
            "Failed to save /content/drive/MyDrive/LUNA/data_subset/0/patch_-164.3_-212.545_23.890.jpg\n",
            "Failed to save /content/drive/MyDrive/LUNA/data_subset/0/patch_-126.67_-193.69_-82.10.jpg\n",
            "Failed to save /content/drive/MyDrive/LUNA/data_subset/0/patch_-240.09_-171.83_86.830.jpg\n",
            "Could not find 1.3.6.1.4.1.14519.5.2.1.6279.6001.300146276266881736689307479986\n",
            "Failed to convert point: ID: 1.3.6.1.4.1.14519.5.2.1.6279.6001.219618492426142913407827034169, Index: 306491\n",
            "Could not find 1.3.6.1.4.1.14519.5.2.1.6279.6001.141430002307216644912805017227\n",
            "Could not find 1.3.6.1.4.1.14519.5.2.1.6279.6001.428038562098395445838061018440\n",
            "Failed to convert point: ID: 1.3.6.1.4.1.14519.5.2.1.6279.6001.749871569713868632259874663577, Index: 686742\n",
            "Failed to convert point: ID: 1.3.6.1.4.1.14519.5.2.1.6279.6001.749871569713868632259874663577, Index: 686533\n",
            "Failed to convert point: ID: 1.3.6.1.4.1.14519.5.2.1.6279.6001.749871569713868632259874663577, Index: 687045\n",
            "Failed to save /content/drive/MyDrive/LUNA/data_subset/0/patch_-535.56_228.79_-68.640.jpg\n",
            "Failed to save /content/drive/MyDrive/LUNA/data_subset/0/patch_-474.45_227.8_-81.40.jpg\n",
            "Failed to save /content/drive/MyDrive/LUNA/data_subset/0/patch_-80.68_-202.73_-14.480.jpg\n",
            "Failed to save /content/drive/MyDrive/LUNA/data_subset/0/patch_-292.83_-181.52_107.570.jpg\n",
            "Failed to save /content/drive/MyDrive/LUNA/data_subset/0/patch_-236.6554282_-186.1637276_69.853892690.jpg\n",
            "Failed to save /content/drive/MyDrive/LUNA/data_subset/0/patch_-215.56_-215.74_25.370.jpg\n",
            "Failed to save /content/drive/MyDrive/LUNA/data_subset/0/patch_-267.1156252_-215.6007502_75.079349780.jpg\n",
            "Failed to save /content/drive/MyDrive/LUNA/data_subset/0/patch_-192.43_-194.4_-14.760.jpg\n",
            "Failed to convert point: ID: 1.3.6.1.4.1.14519.5.2.1.6279.6001.105495028985881418176186711228, Index: 11121\n",
            "Failed to convert point: ID: 1.3.6.1.4.1.14519.5.2.1.6279.6001.663019255629770796363333877035, Index: 663797\n",
            "Failed to convert point: ID: 1.3.6.1.4.1.14519.5.2.1.6279.6001.663019255629770796363333877035, Index: 663879\n",
            "Failed to convert point: ID: 1.3.6.1.4.1.14519.5.2.1.6279.6001.663019255629770796363333877035, Index: 664085\n",
            "Failed to convert point: ID: 1.3.6.1.4.1.14519.5.2.1.6279.6001.663019255629770796363333877035, Index: 663128\n",
            "Failed to convert point: ID: 1.3.6.1.4.1.14519.5.2.1.6279.6001.663019255629770796363333877035, Index: 663756\n",
            "Failed to convert point: ID: 1.3.6.1.4.1.14519.5.2.1.6279.6001.663019255629770796363333877035, Index: 663227\n",
            "Could not find 1.3.6.1.4.1.14519.5.2.1.6279.6001.367204840301639918160517361062\n",
            "Failed to save /content/drive/MyDrive/LUNA/data_subset/0/patch_-153.81_-188.05_53.540.jpg\n",
            "Failed to save /content/drive/MyDrive/LUNA/data_subset/0/patch_-224.82_-209.85_-126.230.jpg\n",
            "Failed to save /content/drive/MyDrive/LUNA/data_subset/0/patch_-180.02_-186.57_-129.390.jpg\n",
            "Failed to convert point: ID: 1.3.6.1.4.1.14519.5.2.1.6279.6001.253322967203074795232627653819, Index: 387548\n",
            "Failed to convert point: ID: 1.3.6.1.4.1.14519.5.2.1.6279.6001.129055977637338639741695800950, Index: 71662\n",
            "Failed to convert point: ID: 1.3.6.1.4.1.14519.5.2.1.6279.6001.129055977637338639741695800950, Index: 72091\n",
            "Failed to convert point: ID: 1.3.6.1.4.1.14519.5.2.1.6279.6001.129055977637338639741695800950, Index: 71803\n",
            "Failed to convert point: ID: 1.3.6.1.4.1.14519.5.2.1.6279.6001.129055977637338639741695800950, Index: 71962\n",
            "Failed to convert point: ID: 1.3.6.1.4.1.14519.5.2.1.6279.6001.129055977637338639741695800950, Index: 71716\n",
            "Failed to convert point: ID: 1.3.6.1.4.1.14519.5.2.1.6279.6001.129055977637338639741695800950, Index: 71791\n",
            "Failed to convert point: ID: 1.3.6.1.4.1.14519.5.2.1.6279.6001.129055977637338639741695800950, Index: 72134\n",
            "Failed to convert point: ID: 1.3.6.1.4.1.14519.5.2.1.6279.6001.129055977637338639741695800950, Index: 71538\n",
            "Failed to convert point: ID: 1.3.6.1.4.1.14519.5.2.1.6279.6001.129055977637338639741695800950, Index: 71268\n",
            "Failed to convert point: ID: 1.3.6.1.4.1.14519.5.2.1.6279.6001.129055977637338639741695800950, Index: 71777\n",
            "Failed to convert point: ID: 1.3.6.1.4.1.14519.5.2.1.6279.6001.129055977637338639741695800950, Index: 72054\n",
            "Failed to convert point: ID: 1.3.6.1.4.1.14519.5.2.1.6279.6001.129055977637338639741695800950, Index: 71980\n",
            "Failed to convert point: ID: 1.3.6.1.4.1.14519.5.2.1.6279.6001.129055977637338639741695800950, Index: 71824\n",
            "Failed to convert point: ID: 1.3.6.1.4.1.14519.5.2.1.6279.6001.129055977637338639741695800950, Index: 71854\n",
            "Failed to convert point: ID: 1.3.6.1.4.1.14519.5.2.1.6279.6001.129055977637338639741695800950, Index: 72119\n",
            "Failed to convert point: ID: 1.3.6.1.4.1.14519.5.2.1.6279.6001.224465398054769500989828256685, Index: 314055\n",
            "Failed to convert point: ID: 1.3.6.1.4.1.14519.5.2.1.6279.6001.224465398054769500989828256685, Index: 313940\n",
            "Failed to convert point: ID: 1.3.6.1.4.1.14519.5.2.1.6279.6001.224465398054769500989828256685, Index: 314853\n",
            "Failed to convert point: ID: 1.3.6.1.4.1.14519.5.2.1.6279.6001.224465398054769500989828256685, Index: 314776\n",
            "Failed to convert point: ID: 1.3.6.1.4.1.14519.5.2.1.6279.6001.224465398054769500989828256685, Index: 314773\n",
            "Failed to convert point: ID: 1.3.6.1.4.1.14519.5.2.1.6279.6001.224465398054769500989828256685, Index: 314618\n",
            "Failed to convert point: ID: 1.3.6.1.4.1.14519.5.2.1.6279.6001.224465398054769500989828256685, Index: 313939\n",
            "Failed to convert point: ID: 1.3.6.1.4.1.14519.5.2.1.6279.6001.224465398054769500989828256685, Index: 313902\n",
            "Failed to convert point: ID: 1.3.6.1.4.1.14519.5.2.1.6279.6001.224465398054769500989828256685, Index: 314689\n",
            "Failed to convert point: ID: 1.3.6.1.4.1.14519.5.2.1.6279.6001.224465398054769500989828256685, Index: 314602\n",
            "Failed to convert point: ID: 1.3.6.1.4.1.14519.5.2.1.6279.6001.224465398054769500989828256685, Index: 314611\n",
            "Failed to convert point: ID: 1.3.6.1.4.1.14519.5.2.1.6279.6001.224465398054769500989828256685, Index: 314088\n",
            "Failed to convert point: ID: 1.3.6.1.4.1.14519.5.2.1.6279.6001.224465398054769500989828256685, Index: 314780\n",
            "Failed to convert point: ID: 1.3.6.1.4.1.14519.5.2.1.6279.6001.224465398054769500989828256685, Index: 313944\n",
            "Failed to convert point: ID: 1.3.6.1.4.1.14519.5.2.1.6279.6001.224465398054769500989828256685, Index: 314656\n",
            "Failed to convert point: ID: 1.3.6.1.4.1.14519.5.2.1.6279.6001.224465398054769500989828256685, Index: 314468\n",
            "Failed to convert point: ID: 1.3.6.1.4.1.14519.5.2.1.6279.6001.224465398054769500989828256685, Index: 314737\n",
            "Failed to convert point: ID: 1.3.6.1.4.1.14519.5.2.1.6279.6001.224465398054769500989828256685, Index: 313994\n",
            "Failed to convert point: ID: 1.3.6.1.4.1.14519.5.2.1.6279.6001.224465398054769500989828256685, Index: 314471\n",
            "Could not find 1.3.6.1.4.1.14519.5.2.1.6279.6001.780558315515979171413904604168\n",
            "Could not find 1.3.6.1.4.1.14519.5.2.1.6279.6001.319009811633846643966578282371\n",
            "Could not find 1.3.6.1.4.1.14519.5.2.1.6279.6001.146987333806092287055399155268\n",
            "Failed to convert point: ID: 1.3.6.1.4.1.14519.5.2.1.6279.6001.106719103982792863757268101375, Index: 17007\n",
            "Failed to convert point: ID: 1.3.6.1.4.1.14519.5.2.1.6279.6001.106719103982792863757268101375, Index: 16392\n",
            "Failed to convert point: ID: 1.3.6.1.4.1.14519.5.2.1.6279.6001.106719103982792863757268101375, Index: 15930\n",
            "Failed to convert point: ID: 1.3.6.1.4.1.14519.5.2.1.6279.6001.106719103982792863757268101375, Index: 16377\n",
            "Failed to convert point: ID: 1.3.6.1.4.1.14519.5.2.1.6279.6001.106719103982792863757268101375, Index: 16352\n",
            "Failed to convert point: ID: 1.3.6.1.4.1.14519.5.2.1.6279.6001.106719103982792863757268101375, Index: 16718\n",
            "Failed to convert point: ID: 1.3.6.1.4.1.14519.5.2.1.6279.6001.106719103982792863757268101375, Index: 16266\n",
            "Failed to convert point: ID: 1.3.6.1.4.1.14519.5.2.1.6279.6001.106719103982792863757268101375, Index: 16847\n",
            "Failed to convert point: ID: 1.3.6.1.4.1.14519.5.2.1.6279.6001.106719103982792863757268101375, Index: 16705\n",
            "Failed to convert point: ID: 1.3.6.1.4.1.14519.5.2.1.6279.6001.106719103982792863757268101375, Index: 16573\n",
            "Failed to convert point: ID: 1.3.6.1.4.1.14519.5.2.1.6279.6001.106719103982792863757268101375, Index: 16231\n",
            "Failed to convert point: ID: 1.3.6.1.4.1.14519.5.2.1.6279.6001.106719103982792863757268101375, Index: 16951\n",
            "Failed to convert point: ID: 1.3.6.1.4.1.14519.5.2.1.6279.6001.106719103982792863757268101375, Index: 16885\n",
            "Failed to convert point: ID: 1.3.6.1.4.1.14519.5.2.1.6279.6001.106719103982792863757268101375, Index: 16378\n",
            "Failed to convert point: ID: 1.3.6.1.4.1.14519.5.2.1.6279.6001.106719103982792863757268101375, Index: 16232\n",
            "Failed to convert point: ID: 1.3.6.1.4.1.14519.5.2.1.6279.6001.106719103982792863757268101375, Index: 16003\n",
            "Failed to convert point: ID: 1.3.6.1.4.1.14519.5.2.1.6279.6001.106719103982792863757268101375, Index: 16671\n",
            "Could not find 1.3.6.1.4.1.14519.5.2.1.6279.6001.334022941831199910030220864961\n",
            "Failed to convert point: ID: 1.3.6.1.4.1.14519.5.2.1.6279.6001.750792629100457382099842515038, Index: 688185\n",
            "Failed to convert point: ID: 1.3.6.1.4.1.14519.5.2.1.6279.6001.750792629100457382099842515038, Index: 687447\n",
            "Failed to convert point: ID: 1.3.6.1.4.1.14519.5.2.1.6279.6001.750792629100457382099842515038, Index: 687445\n",
            "Failed to convert point: ID: 1.3.6.1.4.1.14519.5.2.1.6279.6001.750792629100457382099842515038, Index: 688369\n",
            "Failed to convert point: ID: 1.3.6.1.4.1.14519.5.2.1.6279.6001.750792629100457382099842515038, Index: 688116\n",
            "Failed to convert point: ID: 1.3.6.1.4.1.14519.5.2.1.6279.6001.750792629100457382099842515038, Index: 687893\n",
            "Failed to convert point: ID: 1.3.6.1.4.1.14519.5.2.1.6279.6001.750792629100457382099842515038, Index: 687882\n",
            "Failed to convert point: ID: 1.3.6.1.4.1.14519.5.2.1.6279.6001.750792629100457382099842515038, Index: 687440\n",
            "Failed to convert point: ID: 1.3.6.1.4.1.14519.5.2.1.6279.6001.750792629100457382099842515038, Index: 687744\n",
            "Failed to convert point: ID: 1.3.6.1.4.1.14519.5.2.1.6279.6001.750792629100457382099842515038, Index: 688414\n",
            "Failed to convert point: ID: 1.3.6.1.4.1.14519.5.2.1.6279.6001.750792629100457382099842515038, Index: 687386\n",
            "Failed to convert point: ID: 1.3.6.1.4.1.14519.5.2.1.6279.6001.750792629100457382099842515038, Index: 687692\n",
            "Could not find 1.3.6.1.4.1.14519.5.2.1.6279.6001.842317928015463083368074520378\n",
            "Could not find 1.3.6.1.4.1.14519.5.2.1.6279.6001.324567010179873305471925391582\n",
            "Could not find 1.3.6.1.4.1.14519.5.2.1.6279.6001.961063442349005937536597225349\n",
            "Could not find 1.3.6.1.4.1.14519.5.2.1.6279.6001.292057261351416339496913597985\n",
            "Failed to convert point: ID: 1.3.6.1.4.1.14519.5.2.1.6279.6001.137773550852881583165286615668, Index: 89914\n",
            "Failed to convert point: ID: 1.3.6.1.4.1.14519.5.2.1.6279.6001.137773550852881583165286615668, Index: 90600\n",
            "Failed to convert point: ID: 1.3.6.1.4.1.14519.5.2.1.6279.6001.137773550852881583165286615668, Index: 89751\n",
            "Failed to convert point: ID: 1.3.6.1.4.1.14519.5.2.1.6279.6001.137773550852881583165286615668, Index: 89998\n",
            "Failed to convert point: ID: 1.3.6.1.4.1.14519.5.2.1.6279.6001.137773550852881583165286615668, Index: 90368\n",
            "Failed to convert point: ID: 1.3.6.1.4.1.14519.5.2.1.6279.6001.137773550852881583165286615668, Index: 90604\n",
            "Failed to convert point: ID: 1.3.6.1.4.1.14519.5.2.1.6279.6001.137773550852881583165286615668, Index: 90562\n",
            "Failed to convert point: ID: 1.3.6.1.4.1.14519.5.2.1.6279.6001.137773550852881583165286615668, Index: 90086\n",
            "Failed to convert point: ID: 1.3.6.1.4.1.14519.5.2.1.6279.6001.137773550852881583165286615668, Index: 90421\n",
            "Failed to convert point: ID: 1.3.6.1.4.1.14519.5.2.1.6279.6001.137773550852881583165286615668, Index: 90529\n",
            "Failed to convert point: ID: 1.3.6.1.4.1.14519.5.2.1.6279.6001.137773550852881583165286615668, Index: 90247\n",
            "Failed to convert point: ID: 1.3.6.1.4.1.14519.5.2.1.6279.6001.137773550852881583165286615668, Index: 89810\n",
            "Failed to convert point: ID: 1.3.6.1.4.1.14519.5.2.1.6279.6001.137773550852881583165286615668, Index: 90427\n",
            "Failed to convert point: ID: 1.3.6.1.4.1.14519.5.2.1.6279.6001.137773550852881583165286615668, Index: 90283\n",
            "Failed to convert point: ID: 1.3.6.1.4.1.14519.5.2.1.6279.6001.137773550852881583165286615668, Index: 90180\n",
            "Could not find 1.3.6.1.4.1.14519.5.2.1.6279.6001.300246184547502297539521283806\n",
            "Failed to save /content/drive/MyDrive/LUNA/data_subset/0/patch_-293.09_-178.39_-130.930.jpg\n",
            "Failed to save /content/drive/MyDrive/LUNA/data_subset/0/patch_-238.49_-206.51_-45.860.jpg\n",
            "Failed to save /content/drive/MyDrive/LUNA/data_subset/0/patch_-169.99_-196.4_-53.160.jpg\n",
            "Failed to save /content/drive/MyDrive/LUNA/data_subset/0/patch_-206.39_-196.92_70.470.jpg\n",
            "Failed to save /content/drive/MyDrive/LUNA/data_subset/0/patch_-140.3_-190.63_34.650.jpg\n",
            "Failed to save /content/drive/MyDrive/LUNA/data_subset/0/patch_-217.94_-198.45_-34.740.jpg\n",
            "Failed to save /content/drive/MyDrive/LUNA/data_subset/0/patch_-188.19_-171.98_69.960.jpg\n",
            "Failed to save /content/drive/MyDrive/LUNA/data_subset/0/patch_-242.09_-184.45_-70.310.jpg\n",
            "Failed to save /content/drive/MyDrive/LUNA/data_subset/0/patch_-241.6741271_-208.7065404_-44.789652530.jpg\n",
            "Failed to save /content/drive/MyDrive/LUNA/data_subset/0/patch_-269.77_-178.56_-67.250.jpg\n",
            "Failed to save /content/drive/MyDrive/LUNA/data_subset/0/patch_-261.0133495_-199.4006814_-85.191053110.jpg\n",
            "Could not find 1.3.6.1.4.1.14519.5.2.1.6279.6001.741709061958490690246385302477\n",
            "Could not find 1.3.6.1.4.1.14519.5.2.1.6279.6001.268838889380981659524993261082\n",
            "Failed to save /content/drive/MyDrive/LUNA/data_subset/0/patch_-293.74_-195.64_-86.170.jpg\n",
            "Failed to convert point: ID: 1.3.6.1.4.1.14519.5.2.1.6279.6001.188385286346390202873004762827, Index: 224272\n",
            "Failed to convert point: ID: 1.3.6.1.4.1.14519.5.2.1.6279.6001.188385286346390202873004762827, Index: 224326\n",
            "Failed to convert point: ID: 1.3.6.1.4.1.14519.5.2.1.6279.6001.188385286346390202873004762827, Index: 223918\n",
            "Failed to convert point: ID: 1.3.6.1.4.1.14519.5.2.1.6279.6001.188385286346390202873004762827, Index: 223740\n",
            "Could not find 1.3.6.1.4.1.14519.5.2.1.6279.6001.203179378754043776171267611064\n",
            "Could not find 1.3.6.1.4.1.14519.5.2.1.6279.6001.228511122591230092662900221600\n",
            "Failed to save /content/drive/MyDrive/LUNA/data_subset/0/patch_-129.37_-189.11_39.620.jpg\n",
            "Failed to save /content/drive/MyDrive/LUNA/data_subset/0/patch_-111.6444446_-175.1547881_92.146235140.jpg\n",
            "Failed to save /content/drive/MyDrive/LUNA/data_subset/0/patch_-168.5268153_-184.2824556_81.737125470.jpg\n",
            "Failed to save /content/drive/MyDrive/LUNA/data_subset/0/patch_-114.15_-182.4_-74.390.jpg\n",
            "Failed to save /content/drive/MyDrive/LUNA/data_subset/0/patch_-185.7597464_-208.3625293_-57.187230360.jpg\n",
            "Failed to save /content/drive/MyDrive/LUNA/data_subset/0/patch_-138.9996953_-180.2488661_97.18141930.jpg\n",
            "Failed to save /content/drive/MyDrive/LUNA/data_subset/0/patch_-74.87_-195.98_-28.440.jpg\n",
            "Failed to save /content/drive/MyDrive/LUNA/data_subset/0/patch_-70.66_-191.77_-49.480.jpg\n",
            "Failed to save /content/drive/MyDrive/LUNA/data_subset/0/patch_-77.67_-196.68_21.340.jpg\n",
            "Failed to save /content/drive/MyDrive/LUNA/data_subset/1/patch_-162.5125_-173.8576232_116.20957891.jpg\n",
            "Failed to save /content/drive/MyDrive/LUNA/data_subset/0/patch_-63.09_-173.15_48.760.jpg\n",
            "Failed to convert point: ID: 1.3.6.1.4.1.14519.5.2.1.6279.6001.229664630348267553620068691756, Index: 329828\n",
            "Failed to convert point: ID: 1.3.6.1.4.1.14519.5.2.1.6279.6001.229664630348267553620068691756, Index: 329877\n",
            "Failed to save /content/drive/MyDrive/LUNA/data_subset/0/patch_-209.82_-176.65_115.840.jpg\n",
            "Failed to convert point: ID: 1.3.6.1.4.1.14519.5.2.1.6279.6001.188619674701053082195613114069, Index: 225738\n",
            "Failed to save /content/drive/MyDrive/LUNA/data_subset/0/patch_-459.3635805_222.3091479_15.140851030.jpg\n",
            "Could not find 1.3.6.1.4.1.14519.5.2.1.6279.6001.268992195564407418480563388746\n",
            "Could not find 1.3.6.1.4.1.14519.5.2.1.6279.6001.248357157975955379661896491341\n",
            "Failed to save /content/drive/MyDrive/LUNA/data_subset/1/patch_-155.69_-192.6410634_-106.04634941.jpg\n",
            "Could not find 1.3.6.1.4.1.14519.5.2.1.6279.6001.438308540025607517017949816111\n",
            "Could not find 1.3.6.1.4.1.14519.5.2.1.6279.6001.142154819868944114554521645782\n",
            "Could not find 1.3.6.1.4.1.14519.5.2.1.6279.6001.826829446346820089862659555750\n",
            "Failed to convert point: ID: 1.3.6.1.4.1.14519.5.2.1.6279.6001.693480911433291675609148051914, Index: 672856\n",
            "Failed to convert point: ID: 1.3.6.1.4.1.14519.5.2.1.6279.6001.693480911433291675609148051914, Index: 672751\n",
            "Failed to convert point: ID: 1.3.6.1.4.1.14519.5.2.1.6279.6001.693480911433291675609148051914, Index: 672008\n",
            "Failed to convert point: ID: 1.3.6.1.4.1.14519.5.2.1.6279.6001.693480911433291675609148051914, Index: 672692\n",
            "Failed to convert point: ID: 1.3.6.1.4.1.14519.5.2.1.6279.6001.693480911433291675609148051914, Index: 672196\n",
            "Failed to convert point: ID: 1.3.6.1.4.1.14519.5.2.1.6279.6001.693480911433291675609148051914, Index: 672016\n",
            "Failed to save /content/drive/MyDrive/LUNA/data_subset/0/patch_-292.025_-207.27_-77.1850.jpg\n",
            "Failed to save /content/drive/MyDrive/LUNA/data_subset/0/patch_-288.77_-198.8_-89.70.jpg\n",
            "Failed to convert point: ID: 1.3.6.1.4.1.14519.5.2.1.6279.6001.765930210026773090100532964804, Index: 691579\n",
            "Failed to convert point: ID: 1.3.6.1.4.1.14519.5.2.1.6279.6001.765930210026773090100532964804, Index: 691318\n",
            "Failed to convert point: ID: 1.3.6.1.4.1.14519.5.2.1.6279.6001.765930210026773090100532964804, Index: 691632\n",
            "Failed to convert point: ID: 1.3.6.1.4.1.14519.5.2.1.6279.6001.765930210026773090100532964804, Index: 691722\n",
            "Failed to convert point: ID: 1.3.6.1.4.1.14519.5.2.1.6279.6001.765930210026773090100532964804, Index: 691989\n",
            "Failed to convert point: ID: 1.3.6.1.4.1.14519.5.2.1.6279.6001.765930210026773090100532964804, Index: 691217\n",
            "Failed to convert point: ID: 1.3.6.1.4.1.14519.5.2.1.6279.6001.765930210026773090100532964804, Index: 691193\n",
            "Failed to convert point: ID: 1.3.6.1.4.1.14519.5.2.1.6279.6001.765930210026773090100532964804, Index: 691595\n",
            "Failed to convert point: ID: 1.3.6.1.4.1.14519.5.2.1.6279.6001.765930210026773090100532964804, Index: 691829\n",
            "Failed to convert point: ID: 1.3.6.1.4.1.14519.5.2.1.6279.6001.765930210026773090100532964804, Index: 690979\n",
            "Failed to convert point: ID: 1.3.6.1.4.1.14519.5.2.1.6279.6001.765930210026773090100532964804, Index: 691409\n",
            "Failed to convert point: ID: 1.3.6.1.4.1.14519.5.2.1.6279.6001.765930210026773090100532964804, Index: 691455\n",
            "Could not find 1.3.6.1.4.1.14519.5.2.1.6279.6001.264090899378396711987322794314\n",
            "Failed to convert point: ID: 1.3.6.1.4.1.14519.5.2.1.6279.6001.842980983137518332429408284002, Index: 714867\n",
            "Failed to convert point: ID: 1.3.6.1.4.1.14519.5.2.1.6279.6001.842980983137518332429408284002, Index: 714862\n",
            "Failed to convert point: ID: 1.3.6.1.4.1.14519.5.2.1.6279.6001.842980983137518332429408284002, Index: 714732\n",
            "Failed to convert point: ID: 1.3.6.1.4.1.14519.5.2.1.6279.6001.842980983137518332429408284002, Index: 714897\n",
            "Failed to convert point: ID: 1.3.6.1.4.1.14519.5.2.1.6279.6001.842980983137518332429408284002, Index: 715024\n",
            "Failed to convert point: ID: 1.3.6.1.4.1.14519.5.2.1.6279.6001.842980983137518332429408284002, Index: 715057\n",
            "Failed to convert point: ID: 1.3.6.1.4.1.14519.5.2.1.6279.6001.842980983137518332429408284002, Index: 715004\n",
            "Failed to convert point: ID: 1.3.6.1.4.1.14519.5.2.1.6279.6001.842980983137518332429408284002, Index: 714729\n",
            "Failed to convert point: ID: 1.3.6.1.4.1.14519.5.2.1.6279.6001.842980983137518332429408284002, Index: 714743\n",
            "Failed to save /content/drive/MyDrive/LUNA/data_subset/0/patch_-234.89_-194.16_66.270.jpg\n",
            "Failed to save /content/drive/MyDrive/LUNA/data_subset/0/patch_-139.392654_-178.940148_-47.6396720.jpg\n",
            "Failed to save /content/drive/MyDrive/LUNA/data_subset/0/patch_-131.99_-202.09_82.110.jpg\n",
            "Failed to save /content/drive/MyDrive/LUNA/data_subset/0/patch_-111.33_-193.71_65.830.jpg\n",
            "Failed to save /content/drive/MyDrive/LUNA/data_subset/0/patch_-205.63_-210.34_-52.00.jpg\n",
            "Failed to save /content/drive/MyDrive/LUNA/data_subset/0/patch_-152.55_-181.33_-15.790.jpg\n",
            "Failed to save /content/drive/MyDrive/LUNA/data_subset/0/patch_-129.0235685_-174.5421059_105.73196590.jpg\n",
            "Failed to save /content/drive/MyDrive/LUNA/data_subset/0/patch_-223.59717_-172.0756983_127.59681110.jpg\n",
            "Could not find 1.3.6.1.4.1.14519.5.2.1.6279.6001.779493719385047675154892222907\n",
            "Failed to convert point: ID: 1.3.6.1.4.1.14519.5.2.1.6279.6001.215785045378334625097907422785, Index: 291997\n",
            "Failed to convert point: ID: 1.3.6.1.4.1.14519.5.2.1.6279.6001.215785045378334625097907422785, Index: 292873\n",
            "Failed to save /content/drive/MyDrive/LUNA/data_subset/0/patch_-159.98_-172.37_101.960.jpg\n",
            "Failed to save /content/drive/MyDrive/LUNA/data_subset/0/patch_-272.69_-215.61_-138.960.jpg\n",
            "Failed to save /content/drive/MyDrive/LUNA/data_subset/0/patch_-277.59_-182.09_150.490.jpg\n",
            "Failed to save /content/drive/MyDrive/LUNA/data_subset/0/patch_-276.65_-193.12_-129.370.jpg\n",
            "Failed to save /content/drive/MyDrive/LUNA/data_subset/0/patch_-238.6547621_-186.6015716_81.390395020.jpg\n",
            "Could not find 1.3.6.1.4.1.14519.5.2.1.6279.6001.293593766328917170359373773080\n",
            "Failed to convert point: ID: 1.3.6.1.4.1.14519.5.2.1.6279.6001.603126300703296693942875967838, Index: 645771\n",
            "Could not find 1.3.6.1.4.1.14519.5.2.1.6279.6001.850739282072340578344345230132\n",
            "Failed to save /content/drive/MyDrive/LUNA/data_subset/0/patch_-385.99_-215.06_53.180.jpg\n",
            "Failed to save /content/drive/MyDrive/LUNA/data_subset/0/patch_-325.09_-180.47_93.540.jpg\n",
            "Failed to save /content/drive/MyDrive/LUNA/data_subset/0/patch_-429.39_-203.53_76.240.jpg\n",
            "Failed to save /content/drive/MyDrive/LUNA/data_subset/0/patch_-451.09_-206.09_89.050.jpg\n",
            "Failed to convert point: ID: 1.3.6.1.4.1.14519.5.2.1.6279.6001.119304665257760307862874140576, Index: 42590\n",
            "Failed to save /content/drive/MyDrive/LUNA/data_subset/0/patch_-545.33_226.03_76.860.jpg\n",
            "Failed to convert point: ID: 1.3.6.1.4.1.14519.5.2.1.6279.6001.119304665257760307862874140576, Index: 43115\n",
            "Failed to convert point: ID: 1.3.6.1.4.1.14519.5.2.1.6279.6001.119304665257760307862874140576, Index: 43074\n",
            "Failed to convert point: ID: 1.3.6.1.4.1.14519.5.2.1.6279.6001.119304665257760307862874140576, Index: 42695\n",
            "Failed to convert point: ID: 1.3.6.1.4.1.14519.5.2.1.6279.6001.119304665257760307862874140576, Index: 42956\n",
            "Failed to convert point: ID: 1.3.6.1.4.1.14519.5.2.1.6279.6001.119304665257760307862874140576, Index: 43205\n",
            "Failed to convert point: ID: 1.3.6.1.4.1.14519.5.2.1.6279.6001.119304665257760307862874140576, Index: 42634\n",
            "Failed to convert point: ID: 1.3.6.1.4.1.14519.5.2.1.6279.6001.119304665257760307862874140576, Index: 42573\n",
            "Failed to save /content/drive/MyDrive/LUNA/data_subset/1/patch_-232.101921_-195.5229815_-106.092921.jpg\n",
            "Failed to save /content/drive/MyDrive/LUNA/data_subset/0/patch_-173.31_-182.51_-49.940.jpg\n",
            "Failed to save /content/drive/MyDrive/LUNA/data_subset/0/patch_-137.14_-192.14_69.730.jpg\n",
            "Failed to save /content/drive/MyDrive/LUNA/data_subset/0/patch_-100.46_-195.42_-40.520.jpg\n",
            "Failed to save /content/drive/MyDrive/LUNA/data_subset/0/patch_-127.11_-180.72_-43.320.jpg\n",
            "Failed to save /content/drive/MyDrive/LUNA/data_subset/0/patch_-147.54_-190.4_50.450.jpg\n",
            "Failed to save /content/drive/MyDrive/LUNA/data_subset/0/patch_-119.49_-187.81_-37.40.jpg\n",
            "Failed to save /content/drive/MyDrive/LUNA/data_subset/1/patch_-192.6182532_-178.045486_-107.36692961.jpg\n",
            "Failed to save /content/drive/MyDrive/LUNA/data_subset/0/patch_-120.24_-190.2_25.880.jpg\n",
            "Failed to save /content/drive/MyDrive/LUNA/data_subset/0/patch_-93.91_-186.52_64.940.jpg\n",
            "Failed to save /content/drive/MyDrive/LUNA/data_subset/0/patch_-138.05_-208.855_31.7650.jpg\n",
            "Failed to save /content/drive/MyDrive/LUNA/data_subset/0/patch_-67.08614018_-171.9804769_19.669007060.jpg\n",
            "Could not find 1.3.6.1.4.1.14519.5.2.1.6279.6001.910435939545691201820711078950\n",
            "Failed to save /content/drive/MyDrive/LUNA/data_subset/0/patch_-252.16_-171.51_98.750.jpg\n",
            "Failed to save /content/drive/MyDrive/LUNA/data_subset/0/patch_-198.38_-216.33_-54.020.jpg\n",
            "Failed to save /content/drive/MyDrive/LUNA/data_subset/0/patch_-226.55_-173.81_-89.170.jpg\n",
            "Failed to save /content/drive/MyDrive/LUNA/data_subset/0/patch_-247.91_-216.26_73.470.jpg\n",
            "Failed to save /content/drive/MyDrive/LUNA/data_subset/0/patch_-253.0227497_-182.0369297_61.22663190.jpg\n",
            "Failed to convert point: ID: 1.3.6.1.4.1.14519.5.2.1.6279.6001.323302986710576400812869264321, Index: 537200\n",
            "Failed to save /content/drive/MyDrive/LUNA/data_subset/0/patch_-196.2_-198.47_79.440.jpg\n",
            "Failed to save /content/drive/MyDrive/LUNA/data_subset/0/patch_-134.95_-199.75_-54.080.jpg\n",
            "Failed to save /content/drive/MyDrive/LUNA/data_subset/0/patch_-172.34_-191.585_-31.3450.jpg\n",
            "Failed to save /content/drive/MyDrive/LUNA/data_subset/0/patch_-220.2_-214.83_-19.750.jpg\n",
            "Failed to convert point: ID: 1.3.6.1.4.1.14519.5.2.1.6279.6001.282779922503707013097174625409, Index: 453142\n",
            "Failed to save /content/drive/MyDrive/LUNA/data_subset/0/patch_-120.7_-193.32_-79.230.jpg\n",
            "Failed to save /content/drive/MyDrive/LUNA/data_subset/0/patch_-143.26_-176.34_59.990.jpg\n",
            "Failed to save /content/drive/MyDrive/LUNA/data_subset/0/patch_-146.41_-212.57_-53.370.jpg\n",
            "Failed to save /content/drive/MyDrive/LUNA/data_subset/0/patch_-87.44196276_-177.6609993_50.762667920.jpg\n",
            "Failed to save /content/drive/MyDrive/LUNA/data_subset/0/patch_-120.29_-201.1_-39.830.jpg\n",
            "Failed to convert point: ID: 1.3.6.1.4.1.14519.5.2.1.6279.6001.877026508860018521147620598474, Index: 719581\n",
            "Failed to convert point: ID: 1.3.6.1.4.1.14519.5.2.1.6279.6001.877026508860018521147620598474, Index: 720527\n",
            "Failed to convert point: ID: 1.3.6.1.4.1.14519.5.2.1.6279.6001.877026508860018521147620598474, Index: 719912\n",
            "Failed to convert point: ID: 1.3.6.1.4.1.14519.5.2.1.6279.6001.877026508860018521147620598474, Index: 720557\n",
            "Failed to convert point: ID: 1.3.6.1.4.1.14519.5.2.1.6279.6001.877026508860018521147620598474, Index: 720008\n",
            "Failed to convert point: ID: 1.3.6.1.4.1.14519.5.2.1.6279.6001.877026508860018521147620598474, Index: 719516\n",
            "Failed to convert point: ID: 1.3.6.1.4.1.14519.5.2.1.6279.6001.877026508860018521147620598474, Index: 720305\n",
            "Failed to convert point: ID: 1.3.6.1.4.1.14519.5.2.1.6279.6001.877026508860018521147620598474, Index: 720084\n",
            "Failed to convert point: ID: 1.3.6.1.4.1.14519.5.2.1.6279.6001.877026508860018521147620598474, Index: 720433\n",
            "Failed to convert point: ID: 1.3.6.1.4.1.14519.5.2.1.6279.6001.877026508860018521147620598474, Index: 720548\n",
            "Failed to convert point: ID: 1.3.6.1.4.1.14519.5.2.1.6279.6001.877026508860018521147620598474, Index: 719604\n",
            "Failed to convert point: ID: 1.3.6.1.4.1.14519.5.2.1.6279.6001.877026508860018521147620598474, Index: 720431\n",
            "Failed to convert point: ID: 1.3.6.1.4.1.14519.5.2.1.6279.6001.877026508860018521147620598474, Index: 719568\n",
            "Failed to convert point: ID: 1.3.6.1.4.1.14519.5.2.1.6279.6001.877026508860018521147620598474, Index: 720484\n",
            "Failed to convert point: ID: 1.3.6.1.4.1.14519.5.2.1.6279.6001.877026508860018521147620598474, Index: 720487\n",
            "Failed to convert point: ID: 1.3.6.1.4.1.14519.5.2.1.6279.6001.814122498113547115932318256859, Index: 708160\n",
            "Failed to convert point: ID: 1.3.6.1.4.1.14519.5.2.1.6279.6001.952265563663939823135367733681, Index: 742238\n",
            "Failed to convert point: ID: 1.3.6.1.4.1.14519.5.2.1.6279.6001.952265563663939823135367733681, Index: 742503\n",
            "Failed to convert point: ID: 1.3.6.1.4.1.14519.5.2.1.6279.6001.952265563663939823135367733681, Index: 742680\n",
            "Failed to convert point: ID: 1.3.6.1.4.1.14519.5.2.1.6279.6001.952265563663939823135367733681, Index: 742714\n",
            "Failed to convert point: ID: 1.3.6.1.4.1.14519.5.2.1.6279.6001.952265563663939823135367733681, Index: 741981\n",
            "Failed to convert point: ID: 1.3.6.1.4.1.14519.5.2.1.6279.6001.952265563663939823135367733681, Index: 742170\n",
            "Failed to convert point: ID: 1.3.6.1.4.1.14519.5.2.1.6279.6001.952265563663939823135367733681, Index: 741967\n",
            "Failed to convert point: ID: 1.3.6.1.4.1.14519.5.2.1.6279.6001.952265563663939823135367733681, Index: 742121\n",
            "Failed to convert point: ID: 1.3.6.1.4.1.14519.5.2.1.6279.6001.952265563663939823135367733681, Index: 741966\n",
            "Failed to convert point: ID: 1.3.6.1.4.1.14519.5.2.1.6279.6001.952265563663939823135367733681, Index: 742217\n",
            "Failed to convert point: ID: 1.3.6.1.4.1.14519.5.2.1.6279.6001.952265563663939823135367733681, Index: 742788\n",
            "Could not find 1.3.6.1.4.1.14519.5.2.1.6279.6001.304676828064484590312919543151\n",
            "Failed to convert point: ID: 1.3.6.1.4.1.14519.5.2.1.6279.6001.131939324905446238286154504249, Index: 79481\n",
            "Failed to convert point: ID: 1.3.6.1.4.1.14519.5.2.1.6279.6001.131939324905446238286154504249, Index: 79308\n",
            "Failed to convert point: ID: 1.3.6.1.4.1.14519.5.2.1.6279.6001.131939324905446238286154504249, Index: 78862\n",
            "Failed to convert point: ID: 1.3.6.1.4.1.14519.5.2.1.6279.6001.131939324905446238286154504249, Index: 79104\n",
            "Failed to convert point: ID: 1.3.6.1.4.1.14519.5.2.1.6279.6001.131939324905446238286154504249, Index: 79229\n",
            "Failed to convert point: ID: 1.3.6.1.4.1.14519.5.2.1.6279.6001.131939324905446238286154504249, Index: 79493\n",
            "Failed to convert point: ID: 1.3.6.1.4.1.14519.5.2.1.6279.6001.131939324905446238286154504249, Index: 78813\n",
            "Failed to convert point: ID: 1.3.6.1.4.1.14519.5.2.1.6279.6001.131939324905446238286154504249, Index: 78545\n",
            "Failed to convert point: ID: 1.3.6.1.4.1.14519.5.2.1.6279.6001.131939324905446238286154504249, Index: 79282\n",
            "Failed to convert point: ID: 1.3.6.1.4.1.14519.5.2.1.6279.6001.131939324905446238286154504249, Index: 78810\n",
            "Failed to save /content/drive/MyDrive/LUNA/data_subset/1/patch_-202.9198628_-205.1166979_-86.595393591.jpg\n",
            "Failed to save /content/drive/MyDrive/LUNA/data_subset/0/patch_-223.29_-173.03_87.420.jpg\n",
            "Failed to save /content/drive/MyDrive/LUNA/data_subset/0/patch_-248.61_-207.38_-49.250.jpg\n",
            "Failed to save /content/drive/MyDrive/LUNA/data_subset/1/patch_-183.018075_-216.5781697_-74.066603631.jpg\n",
            "Failed to save /content/drive/MyDrive/LUNA/data_subset/0/patch_-188.83_-182.85_-43.640.jpg\n",
            "Failed to save /content/drive/MyDrive/LUNA/data_subset/0/patch_-328.34_-212.88_48.810.jpg\n",
            "Failed to save /content/drive/MyDrive/LUNA/data_subset/0/patch_-433.09_-178.02_-106.620.jpg\n",
            "Failed to save /content/drive/MyDrive/LUNA/data_subset/0/patch_-353.91_-200.54_-34.180.jpg\n",
            "Could not find 1.3.6.1.4.1.14519.5.2.1.6279.6001.178680586845223339579041794709\n",
            "Could not find 1.3.6.1.4.1.14519.5.2.1.6279.6001.329326052298830421573852261436\n",
            "Could not find 1.3.6.1.4.1.14519.5.2.1.6279.6001.104780906131535625872840889059\n",
            "Could not find 1.3.6.1.4.1.14519.5.2.1.6279.6001.145283812746259413053188838096\n",
            "Could not find 1.3.6.1.4.1.14519.5.2.1.6279.6001.278010349511857248000260557753\n",
            "Failed to convert point: ID: 1.3.6.1.4.1.14519.5.2.1.6279.6001.100398138793540579077826395208, Index: 1728\n",
            "Failed to convert point: ID: 1.3.6.1.4.1.14519.5.2.1.6279.6001.100398138793540579077826395208, Index: 2133\n",
            "Failed to convert point: ID: 1.3.6.1.4.1.14519.5.2.1.6279.6001.100398138793540579077826395208, Index: 2639\n",
            "Failed to convert point: ID: 1.3.6.1.4.1.14519.5.2.1.6279.6001.100398138793540579077826395208, Index: 2125\n",
            "Failed to convert point: ID: 1.3.6.1.4.1.14519.5.2.1.6279.6001.100398138793540579077826395208, Index: 2053\n",
            "Failed to convert point: ID: 1.3.6.1.4.1.14519.5.2.1.6279.6001.100398138793540579077826395208, Index: 2406\n",
            "Failed to convert point: ID: 1.3.6.1.4.1.14519.5.2.1.6279.6001.100398138793540579077826395208, Index: 1954\n",
            "Failed to convert point: ID: 1.3.6.1.4.1.14519.5.2.1.6279.6001.100398138793540579077826395208, Index: 2201\n",
            "Failed to convert point: ID: 1.3.6.1.4.1.14519.5.2.1.6279.6001.100398138793540579077826395208, Index: 1782\n",
            "Failed to convert point: ID: 1.3.6.1.4.1.14519.5.2.1.6279.6001.100398138793540579077826395208, Index: 1576\n",
            "Failed to convert point: ID: 1.3.6.1.4.1.14519.5.2.1.6279.6001.100398138793540579077826395208, Index: 2687\n",
            "Failed to convert point: ID: 1.3.6.1.4.1.14519.5.2.1.6279.6001.149893110752986700464921264055, Index: 125764\n",
            "Failed to convert point: ID: 1.3.6.1.4.1.14519.5.2.1.6279.6001.149893110752986700464921264055, Index: 125761\n",
            "Failed to convert point: ID: 1.3.6.1.4.1.14519.5.2.1.6279.6001.149893110752986700464921264055, Index: 126150\n",
            "Could not find 1.3.6.1.4.1.14519.5.2.1.6279.6001.385151742584074711135621089321\n",
            "Failed to save /content/drive/MyDrive/LUNA/data_subset/0/patch_-218.92_-181.45_107.130.jpg\n",
            "Failed to save /content/drive/MyDrive/LUNA/data_subset/0/patch_-220.69_-194.2_-69.660.jpg\n",
            "Failed to save /content/drive/MyDrive/LUNA/data_subset/0/patch_-264.29_-198.05_-144.950.jpg\n",
            "Failed to save /content/drive/MyDrive/LUNA/data_subset/0/patch_-94.08_-199.66_-6.850.jpg\n",
            "Failed to save /content/drive/MyDrive/LUNA/data_subset/0/patch_-139.1_-175.04_-104.040.jpg\n",
            "Failed to save /content/drive/MyDrive/LUNA/data_subset/0/patch_-155.9_-217.1_-38.4550.jpg\n",
            "Failed to save /content/drive/MyDrive/LUNA/data_subset/0/patch_-164.45_-180.77_98.230.jpg\n",
            "Failed to save /content/drive/MyDrive/LUNA/data_subset/0/patch_-207.1_-181.46_-30.710.jpg\n",
            "Could not find 1.3.6.1.4.1.14519.5.2.1.6279.6001.822128649427327893802314908658\n",
            "Failed to save /content/drive/MyDrive/LUNA/data_subset/0/patch_-247.49_-204.38_-82.410.jpg\n",
            "Failed to save /content/drive/MyDrive/LUNA/data_subset/0/patch_-183.49_-178.41_-93.230.jpg\n",
            "Failed to save /content/drive/MyDrive/LUNA/data_subset/0/patch_-96.395_-191.205_36.720.jpg\n",
            "Could not find 1.3.6.1.4.1.14519.5.2.1.6279.6001.463214953282361219537913355115\n",
            "Failed to convert point: ID: 1.3.6.1.4.1.14519.5.2.1.6279.6001.483655032093002252444764787700, Index: 622991\n",
            "Could not find 1.3.6.1.4.1.14519.5.2.1.6279.6001.202643836890896697853521610450\n",
            "Could not find 1.3.6.1.4.1.14519.5.2.1.6279.6001.313283554967554803238484128406\n",
            "Could not find 1.3.6.1.4.1.14519.5.2.1.6279.6001.272190966764020277652079081128\n",
            "Failed to save /content/drive/MyDrive/LUNA/data_subset/0/patch_-260.99_-188.59_114.40.jpg\n",
            "Failed to save /content/drive/MyDrive/LUNA/data_subset/0/patch_-170.39_-212.97_-42.20.jpg\n",
            "Failed to save /content/drive/MyDrive/LUNA/data_subset/0/patch_-191.88_-186.12_-103.350.jpg\n",
            "Failed to save /content/drive/MyDrive/LUNA/data_subset/0/patch_-168.49_-200.74_42.720.jpg\n",
            "Failed to save /content/drive/MyDrive/LUNA/data_subset/0/patch_-167.49_-203.17_-35.630.jpg\n",
            "Failed to save /content/drive/MyDrive/LUNA/data_subset/0/patch_-273.54_-202.115_72.80.jpg\n",
            "Could not find 1.3.6.1.4.1.14519.5.2.1.6279.6001.307835307280028057486413359377\n",
            "Failed to save /content/drive/MyDrive/LUNA/data_subset/0/patch_-188.3939516_-171.3954637_65.846405620.jpg\n",
            "Failed to save /content/drive/MyDrive/LUNA/data_subset/0/patch_-128.43_-218.54_62.670.jpg\n",
            "Failed to save /content/drive/MyDrive/LUNA/data_subset/0/patch_-131.35_-209.27_47.770.jpg\n",
            "Failed to save /content/drive/MyDrive/LUNA/data_subset/0/patch_-157.29_-209.82_55.40.jpg\n",
            "Failed to save /content/drive/MyDrive/LUNA/data_subset/0/patch_-186.38_-214.49_98.260.jpg\n",
            "Failed to save /content/drive/MyDrive/LUNA/data_subset/1/patch_-198.9095057_-202.0968606_-102.08089251.jpg\n",
            "Failed to save /content/drive/MyDrive/LUNA/data_subset/0/patch_-187.17_-180.35_-99.980.jpg\n",
            "Failed to save /content/drive/MyDrive/LUNA/data_subset/0/patch_-138.46_-193.15_64.470.jpg\n",
            "Failed to convert point: ID: 1.3.6.1.4.1.14519.5.2.1.6279.6001.139889514693390832525232698200, Index: 99722\n",
            "Could not find 1.3.6.1.4.1.14519.5.2.1.6279.6001.276710697414087561012670296643\n",
            "Failed to convert point: ID: 1.3.6.1.4.1.14519.5.2.1.6279.6001.227885601428639043345478571594, Index: 324671\n",
            "Failed to convert point: ID: 1.3.6.1.4.1.14519.5.2.1.6279.6001.227885601428639043345478571594, Index: 324432\n",
            "Failed to convert point: ID: 1.3.6.1.4.1.14519.5.2.1.6279.6001.111017101339429664883879536171, Index: 25233\n",
            "Failed to convert point: ID: 1.3.6.1.4.1.14519.5.2.1.6279.6001.111017101339429664883879536171, Index: 25407\n",
            "Failed to convert point: ID: 1.3.6.1.4.1.14519.5.2.1.6279.6001.111017101339429664883879536171, Index: 25405\n",
            "Failed to convert point: ID: 1.3.6.1.4.1.14519.5.2.1.6279.6001.111017101339429664883879536171, Index: 25077\n",
            "Failed to convert point: ID: 1.3.6.1.4.1.14519.5.2.1.6279.6001.111017101339429664883879536171, Index: 24787\n",
            "Failed to convert point: ID: 1.3.6.1.4.1.14519.5.2.1.6279.6001.111017101339429664883879536171, Index: 25326\n",
            "Failed to save /content/drive/MyDrive/LUNA/data_subset/0/patch_-262.1_-186.55_96.970.jpg\n",
            "Failed to save /content/drive/MyDrive/LUNA/data_subset/0/patch_-237.640386_-192.0724992_63.65769140.jpg\n",
            "Failed to save /content/drive/MyDrive/LUNA/data_subset/0/patch_-149.28_-198.71_40.140.jpg\n",
            "Failed to convert point: ID: 1.3.6.1.4.1.14519.5.2.1.6279.6001.236698827306171960683086245994, Index: 345441\n",
            "Failed to convert point: ID: 1.3.6.1.4.1.14519.5.2.1.6279.6001.267519732763035023633235877753, Index: 414856\n",
            "Failed to convert point: ID: 1.3.6.1.4.1.14519.5.2.1.6279.6001.193964947698259739624715468431, Index: 234886\n",
            "Failed to convert point: ID: 1.3.6.1.4.1.14519.5.2.1.6279.6001.193964947698259739624715468431, Index: 234624\n",
            "Failed to save /content/drive/MyDrive/LUNA/data_subset/0/patch_-239.0007539_-209.7012237_-71.032793850.jpg\n",
            "Failed to save /content/drive/MyDrive/LUNA/data_subset/0/patch_-159.3261366_-187.1207275_123.77472710.jpg\n",
            "Failed to save /content/drive/MyDrive/LUNA/data_subset/1/patch_-159.0564746_-197.0186507_122.12801411.jpg\n",
            "Failed to save /content/drive/MyDrive/LUNA/data_subset/0/patch_-207.66_-197.62_-75.8350.jpg\n",
            "Failed to save /content/drive/MyDrive/LUNA/data_subset/0/patch_-90.75734933_-186.0955724_63.553999520.jpg\n",
            "Failed to save /content/drive/MyDrive/LUNA/data_subset/0/patch_-131.2998116_-196.8333776_62.181711110.jpg\n",
            "Failed to convert point: ID: 1.3.6.1.4.1.14519.5.2.1.6279.6001.658611160253017715059194304729, Index: 662519\n",
            "Failed to convert point: ID: 1.3.6.1.4.1.14519.5.2.1.6279.6001.658611160253017715059194304729, Index: 662195\n",
            "Failed to convert point: ID: 1.3.6.1.4.1.14519.5.2.1.6279.6001.658611160253017715059194304729, Index: 662881\n",
            "Could not find 1.3.6.1.4.1.14519.5.2.1.6279.6001.316393351033132458296975008261\n",
            "Failed to save /content/drive/MyDrive/LUNA/data_subset/0/patch_-142.81_-178.06_-76.490.jpg\n",
            "Failed to save /content/drive/MyDrive/LUNA/data_subset/0/patch_-170.24_-211.69_44.710.jpg\n",
            "Failed to save /content/drive/MyDrive/LUNA/data_subset/0/patch_-199.9678864_-180.6945449_-53.812861190.jpg\n",
            "Failed to save /content/drive/MyDrive/LUNA/data_subset/0/patch_-133.98_-197.75_-63.820.jpg\n",
            "Failed to save /content/drive/MyDrive/LUNA/data_subset/0/patch_-239.89_-182.43_139.450.jpg\n",
            "Failed to convert point: ID: 1.3.6.1.4.1.14519.5.2.1.6279.6001.291539125579672469833850180824, Index: 464841\n",
            "Failed to convert point: ID: 1.3.6.1.4.1.14519.5.2.1.6279.6001.291539125579672469833850180824, Index: 465214\n",
            "Failed to convert point: ID: 1.3.6.1.4.1.14519.5.2.1.6279.6001.291539125579672469833850180824, Index: 465156\n",
            "Failed to convert point: ID: 1.3.6.1.4.1.14519.5.2.1.6279.6001.219087313261026510628926082729, Index: 302728\n",
            "Failed to save /content/drive/MyDrive/LUNA/data_subset/1/patch_-634.1205583_223.7458956_-61.521576281.jpg\n",
            "Could not find 1.3.6.1.4.1.14519.5.2.1.6279.6001.268589491017129166376960414534\n",
            "Failed to save /content/drive/MyDrive/LUNA/data_subset/0/patch_-137.02_-201.6_-77.40.jpg\n",
            "Failed to save /content/drive/MyDrive/LUNA/data_subset/0/patch_-130.09_-195.23_-35.870.jpg\n",
            "Failed to save /content/drive/MyDrive/LUNA/data_subset/0/patch_-233.6500002_-188.1909568_87.493222970.jpg\n",
            "Could not find 1.3.6.1.4.1.14519.5.2.1.6279.6001.584871944187559733312703328980\n",
            "Could not find 1.3.6.1.4.1.14519.5.2.1.6279.6001.321465552859463184018938648244\n",
            "Failed to convert point: ID: 1.3.6.1.4.1.14519.5.2.1.6279.6001.458525794434429386945463560826, Index: 612391\n",
            "Failed to convert point: ID: 1.3.6.1.4.1.14519.5.2.1.6279.6001.458525794434429386945463560826, Index: 611781\n",
            "Failed to convert point: ID: 1.3.6.1.4.1.14519.5.2.1.6279.6001.458525794434429386945463560826, Index: 611936\n",
            "Failed to save /content/drive/MyDrive/LUNA/data_subset/0/patch_-146.11_-197.49_-70.210.jpg\n",
            "Failed to save /content/drive/MyDrive/LUNA/data_subset/0/patch_-257.33_-200.905_79.5350.jpg\n",
            "Failed to save /content/drive/MyDrive/LUNA/data_subset/0/patch_-255.58_-202.28_-108.860.jpg\n",
            "Failed to save /content/drive/MyDrive/LUNA/data_subset/0/patch_-167.715_-187.945_53.470.jpg\n",
            "Failed to save /content/drive/MyDrive/LUNA/data_subset/0/patch_-210.67_-195.48_88.810.jpg\n",
            "Failed to save /content/drive/MyDrive/LUNA/data_subset/0/patch_-158.01_-174.46_-118.290.jpg\n",
            "Failed to save /content/drive/MyDrive/LUNA/data_subset/0/patch_-136.29_-171.66_-76.980.jpg\n",
            "Could not find 1.3.6.1.4.1.14519.5.2.1.6279.6001.670107649586205629860363487713\n",
            "Failed to convert point: ID: 1.3.6.1.4.1.14519.5.2.1.6279.6001.315770913282450940389971401304, Index: 527454\n",
            "Failed to convert point: ID: 1.3.6.1.4.1.14519.5.2.1.6279.6001.712472578497712558367294720243, Index: 675037\n",
            "Failed to convert point: ID: 1.3.6.1.4.1.14519.5.2.1.6279.6001.712472578497712558367294720243, Index: 675055\n",
            "Failed to convert point: ID: 1.3.6.1.4.1.14519.5.2.1.6279.6001.712472578497712558367294720243, Index: 676479\n",
            "Failed to convert point: ID: 1.3.6.1.4.1.14519.5.2.1.6279.6001.712472578497712558367294720243, Index: 675397\n",
            "Failed to convert point: ID: 1.3.6.1.4.1.14519.5.2.1.6279.6001.712472578497712558367294720243, Index: 676095\n",
            "Failed to convert point: ID: 1.3.6.1.4.1.14519.5.2.1.6279.6001.712472578497712558367294720243, Index: 676575\n",
            "Failed to convert point: ID: 1.3.6.1.4.1.14519.5.2.1.6279.6001.712472578497712558367294720243, Index: 675847\n",
            "Failed to convert point: ID: 1.3.6.1.4.1.14519.5.2.1.6279.6001.712472578497712558367294720243, Index: 675624\n",
            "Failed to convert point: ID: 1.3.6.1.4.1.14519.5.2.1.6279.6001.712472578497712558367294720243, Index: 676291\n",
            "Failed to convert point: ID: 1.3.6.1.4.1.14519.5.2.1.6279.6001.712472578497712558367294720243, Index: 675082\n",
            "Failed to convert point: ID: 1.3.6.1.4.1.14519.5.2.1.6279.6001.712472578497712558367294720243, Index: 675077\n",
            "Failed to convert point: ID: 1.3.6.1.4.1.14519.5.2.1.6279.6001.712472578497712558367294720243, Index: 676223\n",
            "Failed to convert point: ID: 1.3.6.1.4.1.14519.5.2.1.6279.6001.712472578497712558367294720243, Index: 675162\n",
            "Failed to convert point: ID: 1.3.6.1.4.1.14519.5.2.1.6279.6001.712472578497712558367294720243, Index: 675692\n",
            "Failed to convert point: ID: 1.3.6.1.4.1.14519.5.2.1.6279.6001.712472578497712558367294720243, Index: 675971\n",
            "Failed to convert point: ID: 1.3.6.1.4.1.14519.5.2.1.6279.6001.712472578497712558367294720243, Index: 676419\n",
            "Failed to convert point: ID: 1.3.6.1.4.1.14519.5.2.1.6279.6001.712472578497712558367294720243, Index: 675088\n",
            "Failed to convert point: ID: 1.3.6.1.4.1.14519.5.2.1.6279.6001.712472578497712558367294720243, Index: 675655\n",
            "Failed to convert point: ID: 1.3.6.1.4.1.14519.5.2.1.6279.6001.712472578497712558367294720243, Index: 675039\n",
            "Failed to convert point: ID: 1.3.6.1.4.1.14519.5.2.1.6279.6001.712472578497712558367294720243, Index: 676250\n",
            "Failed to convert point: ID: 1.3.6.1.4.1.14519.5.2.1.6279.6001.712472578497712558367294720243, Index: 676476\n",
            "Failed to convert point: ID: 1.3.6.1.4.1.14519.5.2.1.6279.6001.712472578497712558367294720243, Index: 676490\n",
            "Failed to convert point: ID: 1.3.6.1.4.1.14519.5.2.1.6279.6001.712472578497712558367294720243, Index: 676282\n",
            "Failed to save /content/drive/MyDrive/LUNA/data_subset/0/patch_-143.67_-215.82_-19.220.jpg\n",
            "Failed to save /content/drive/MyDrive/LUNA/data_subset/0/patch_-226.0_-217.73_-99.230.jpg\n",
            "Failed to save /content/drive/MyDrive/LUNA/data_subset/0/patch_-139.95_-216.18_-14.730.jpg\n",
            "Could not find 1.3.6.1.4.1.14519.5.2.1.6279.6001.287560874054243719452635194040\n",
            "Failed to save /content/drive/MyDrive/LUNA/data_subset/0/patch_-181.18_-184.34_85.150.jpg\n",
            "Failed to save /content/drive/MyDrive/LUNA/data_subset/0/patch_-207.6405985_-196.8189489_-94.619094250.jpg\n",
            "Could not find 1.3.6.1.4.1.14519.5.2.1.6279.6001.209269973797560820442292189762\n",
            "Failed to convert point: ID: 1.3.6.1.4.1.14519.5.2.1.6279.6001.286217539434358186648717203667, Index: 456690\n",
            "Failed to convert point: ID: 1.3.6.1.4.1.14519.5.2.1.6279.6001.315187221221054114974341475212, Index: 525770\n",
            "Failed to convert point: ID: 1.3.6.1.4.1.14519.5.2.1.6279.6001.315187221221054114974341475212, Index: 525979\n",
            "Failed to convert point: ID: 1.3.6.1.4.1.14519.5.2.1.6279.6001.315187221221054114974341475212, Index: 525993\n",
            "Failed to convert point: ID: 1.3.6.1.4.1.14519.5.2.1.6279.6001.315187221221054114974341475212, Index: 526199\n",
            "Failed to convert point: ID: 1.3.6.1.4.1.14519.5.2.1.6279.6001.246758220302211646532176593724, Index: 369995\n",
            "Failed to convert point: ID: 1.3.6.1.4.1.14519.5.2.1.6279.6001.246758220302211646532176593724, Index: 369530\n",
            "Failed to convert point: ID: 1.3.6.1.4.1.14519.5.2.1.6279.6001.246758220302211646532176593724, Index: 369856\n",
            "Failed to convert point: ID: 1.3.6.1.4.1.14519.5.2.1.6279.6001.246758220302211646532176593724, Index: 370035\n",
            "Failed to convert point: ID: 1.3.6.1.4.1.14519.5.2.1.6279.6001.246758220302211646532176593724, Index: 369462\n",
            "Failed to convert point: ID: 1.3.6.1.4.1.14519.5.2.1.6279.6001.246758220302211646532176593724, Index: 370135\n",
            "Failed to convert point: ID: 1.3.6.1.4.1.14519.5.2.1.6279.6001.246758220302211646532176593724, Index: 370190\n",
            "Failed to convert point: ID: 1.3.6.1.4.1.14519.5.2.1.6279.6001.246758220302211646532176593724, Index: 369753\n",
            "Failed to convert point: ID: 1.3.6.1.4.1.14519.5.2.1.6279.6001.246758220302211646532176593724, Index: 369956\n",
            "Failed to convert point: ID: 1.3.6.1.4.1.14519.5.2.1.6279.6001.246758220302211646532176593724, Index: 369667\n",
            "Failed to convert point: ID: 1.3.6.1.4.1.14519.5.2.1.6279.6001.922852847124879997825997808179, Index: 733869\n",
            "Failed to save /content/drive/MyDrive/LUNA/data_subset/0/patch_-121.805_-184.305_-90.7550.jpg\n",
            "Failed to save /content/drive/MyDrive/LUNA/data_subset/1/patch_-153.1925_-216.4322597_81.335408771.jpg\n",
            "Failed to convert point: ID: 1.3.6.1.4.1.14519.5.2.1.6279.6001.179209990684978588019929720099, Index: 201356\n",
            "Failed to convert point: ID: 1.3.6.1.4.1.14519.5.2.1.6279.6001.179209990684978588019929720099, Index: 201606\n",
            "Failed to convert point: ID: 1.3.6.1.4.1.14519.5.2.1.6279.6001.179209990684978588019929720099, Index: 201427\n",
            "Failed to save /content/drive/MyDrive/LUNA/data_subset/0/patch_-83.61571089_-191.5666909_-81.436577920.jpg\n",
            "Failed to save /content/drive/MyDrive/LUNA/data_subset/0/patch_-215.585_-203.3550142_119.03843430.jpg\n",
            "Failed to save /content/drive/MyDrive/LUNA/data_subset/0/patch_-194.0_-177.68_-85.180.jpg\n",
            "Could not find 1.3.6.1.4.1.14519.5.2.1.6279.6001.390009458146468860187238398197\n",
            "Failed to save /content/drive/MyDrive/LUNA/data_subset/0/patch_-274.61_-196.01_72.620.jpg\n",
            "Failed to save /content/drive/MyDrive/LUNA/data_subset/0/patch_-217.39_-218.36_-22.270.jpg\n",
            "Failed to save /content/drive/MyDrive/LUNA/data_subset/0/patch_-117.98_-177.77_-47.70.jpg\n",
            "Failed to save /content/drive/MyDrive/LUNA/data_subset/0/patch_-208.695_-211.435_71.650.jpg\n",
            "Could not find 1.3.6.1.4.1.14519.5.2.1.6279.6001.797637294244261543517154417124\n",
            "Could not find 1.3.6.1.4.1.14519.5.2.1.6279.6001.185226274332527104841463955058\n",
            "Failed to save /content/drive/MyDrive/LUNA/data_subset/1/patch_-310.8274923_229.7128_45.75364151.jpg\n",
            "Failed to save /content/drive/MyDrive/LUNA/data_subset/0/patch_-303.7750001_225.6639209_-59.915150110.jpg\n",
            "Failed to save /content/drive/MyDrive/LUNA/data_subset/0/patch_-296.5_231.0_-63.50.jpg\n",
            "Failed to convert point: ID: 1.3.6.1.4.1.14519.5.2.1.6279.6001.217754016294471278921686508169, Index: 298990\n",
            "Failed to convert point: ID: 1.3.6.1.4.1.14519.5.2.1.6279.6001.217754016294471278921686508169, Index: 298638\n",
            "Failed to save /content/drive/MyDrive/LUNA/data_subset/0/patch_-276.7_-183.19_95.310.jpg\n",
            "Failed to save /content/drive/MyDrive/LUNA/data_subset/0/patch_-134.4687501_-185.7045834_77.603208280.jpg\n",
            "Failed to save /content/drive/MyDrive/LUNA/data_subset/0/patch_-171.815_-188.565_95.250.jpg\n",
            "Failed to save /content/drive/MyDrive/LUNA/data_subset/0/patch_-218.8444603_-198.334484_-30.705382740.jpg\n",
            "Failed to convert point: ID: 1.3.6.1.4.1.14519.5.2.1.6279.6001.213140617640021803112060161074, Index: 286258\n",
            "Failed to convert point: ID: 1.3.6.1.4.1.14519.5.2.1.6279.6001.213140617640021803112060161074, Index: 285823\n",
            "Failed to convert point: ID: 1.3.6.1.4.1.14519.5.2.1.6279.6001.213140617640021803112060161074, Index: 286008\n",
            "Failed to convert point: ID: 1.3.6.1.4.1.14519.5.2.1.6279.6001.213140617640021803112060161074, Index: 286430\n",
            "Failed to convert point: ID: 1.3.6.1.4.1.14519.5.2.1.6279.6001.213140617640021803112060161074, Index: 285980\n",
            "Failed to convert point: ID: 1.3.6.1.4.1.14519.5.2.1.6279.6001.213140617640021803112060161074, Index: 286127\n",
            "Failed to convert point: ID: 1.3.6.1.4.1.14519.5.2.1.6279.6001.213140617640021803112060161074, Index: 285730\n",
            "Failed to convert point: ID: 1.3.6.1.4.1.14519.5.2.1.6279.6001.213140617640021803112060161074, Index: 286516\n",
            "Failed to save /content/drive/MyDrive/LUNA/data_subset/0/patch_-581.5_248.06_-38.130.jpg\n",
            "Failed to convert point: ID: 1.3.6.1.4.1.14519.5.2.1.6279.6001.213140617640021803112060161074, Index: 286224\n",
            "Failed to convert point: ID: 1.3.6.1.4.1.14519.5.2.1.6279.6001.213140617640021803112060161074, Index: 286597\n",
            "Failed to convert point: ID: 1.3.6.1.4.1.14519.5.2.1.6279.6001.213140617640021803112060161074, Index: 286210\n",
            "Failed to convert point: ID: 1.3.6.1.4.1.14519.5.2.1.6279.6001.213140617640021803112060161074, Index: 286382\n",
            "Could not find 1.3.6.1.4.1.14519.5.2.1.6279.6001.419601611032172899567156073142\n",
            "Failed to save /content/drive/MyDrive/LUNA/data_subset/0/patch_-211.2_-184.22_-87.820.jpg\n",
            "Failed to save /content/drive/MyDrive/LUNA/data_subset/0/patch_-132.4_-180.21_35.990.jpg\n",
            "Failed to save /content/drive/MyDrive/LUNA/data_subset/1/patch_-180.2544458_-195.6849907_-52.60060391.jpg\n",
            "Failed to save /content/drive/MyDrive/LUNA/data_subset/0/patch_-113.0_-174.51_41.490.jpg\n",
            "Failed to save /content/drive/MyDrive/LUNA/data_subset/0/patch_-589.8250002_243.5779998_28.232945240.jpg\n",
            "Could not find 1.3.6.1.4.1.14519.5.2.1.6279.6001.619372068417051974713149104919\n",
            "Could not find 1.3.6.1.4.1.14519.5.2.1.6279.6001.319066480138812986026181758474\n",
            "Failed to save /content/drive/MyDrive/LUNA/data_subset/0/patch_-162.2115466_-176.8106497_-46.017748610.jpg\n",
            "Failed to convert point: ID: 1.3.6.1.4.1.14519.5.2.1.6279.6001.301462380687644451483231621986, Index: 490878\n",
            "Failed to convert point: ID: 1.3.6.1.4.1.14519.5.2.1.6279.6001.301462380687644451483231621986, Index: 490538\n",
            "Failed to convert point: ID: 1.3.6.1.4.1.14519.5.2.1.6279.6001.301462380687644451483231621986, Index: 490602\n",
            "Failed to convert point: ID: 1.3.6.1.4.1.14519.5.2.1.6279.6001.301462380687644451483231621986, Index: 490452\n",
            "Failed to convert point: ID: 1.3.6.1.4.1.14519.5.2.1.6279.6001.301462380687644451483231621986, Index: 491006\n",
            "Failed to convert point: ID: 1.3.6.1.4.1.14519.5.2.1.6279.6001.301462380687644451483231621986, Index: 491106\n",
            "Failed to convert point: ID: 1.3.6.1.4.1.14519.5.2.1.6279.6001.301462380687644451483231621986, Index: 490728\n",
            "Failed to convert point: ID: 1.3.6.1.4.1.14519.5.2.1.6279.6001.301462380687644451483231621986, Index: 490772\n",
            "Failed to convert point: ID: 1.3.6.1.4.1.14519.5.2.1.6279.6001.301462380687644451483231621986, Index: 491096\n",
            "Failed to convert point: ID: 1.3.6.1.4.1.14519.5.2.1.6279.6001.301462380687644451483231621986, Index: 490698\n",
            "Failed to convert point: ID: 1.3.6.1.4.1.14519.5.2.1.6279.6001.301462380687644451483231621986, Index: 491051\n",
            "Failed to convert point: ID: 1.3.6.1.4.1.14519.5.2.1.6279.6001.301462380687644451483231621986, Index: 490630\n",
            "Failed to convert point: ID: 1.3.6.1.4.1.14519.5.2.1.6279.6001.301462380687644451483231621986, Index: 490533\n",
            "Failed to convert point: ID: 1.3.6.1.4.1.14519.5.2.1.6279.6001.301462380687644451483231621986, Index: 491115\n",
            "Failed to convert point: ID: 1.3.6.1.4.1.14519.5.2.1.6279.6001.301462380687644451483231621986, Index: 490737\n",
            "Failed to convert point: ID: 1.3.6.1.4.1.14519.5.2.1.6279.6001.301462380687644451483231621986, Index: 490690\n",
            "Failed to save /content/drive/MyDrive/LUNA/data_subset/0/patch_-107.15_-205.01_55.160.jpg\n",
            "Failed to save /content/drive/MyDrive/LUNA/data_subset/0/patch_-137.52_-191.9_52.920.jpg\n",
            "Failed to save /content/drive/MyDrive/LUNA/data_subset/0/patch_-132.48_-181.17_-68.210.jpg\n",
            "Could not find 1.3.6.1.4.1.14519.5.2.1.6279.6001.275007193025729362844652516689\n",
            "Failed to save /content/drive/MyDrive/LUNA/data_subset/0/patch_-138.01_-171.45_-38.560.jpg\n",
            "Failed to convert point: ID: 1.3.6.1.4.1.14519.5.2.1.6279.6001.250481236093201801255751845296, Index: 380188\n",
            "Could not find 1.3.6.1.4.1.14519.5.2.1.6279.6001.625270601160880745954773142570\n",
            "Failed to convert point: ID: 1.3.6.1.4.1.14519.5.2.1.6279.6001.177888806135892723698313903329, Index: 197280\n",
            "Could not find 1.3.6.1.4.1.14519.5.2.1.6279.6001.265960756233787099041040311282\n",
            "Could not find 1.3.6.1.4.1.14519.5.2.1.6279.6001.330425234131526435132846006585\n",
            "Failed to convert point: ID: 1.3.6.1.4.1.14519.5.2.1.6279.6001.199282854229880908602362094937, Index: 250246\n",
            "Failed to save /content/drive/MyDrive/LUNA/data_subset/0/patch_-263.4503684_-192.5693237_-48.356719980.jpg\n",
            "Failed to save /content/drive/MyDrive/LUNA/data_subset/1/patch_-280.3588267_-179.3118641_116.97612911.jpg\n",
            "Failed to save /content/drive/MyDrive/LUNA/data_subset/0/patch_-179.145_-178.235_101.690.jpg\n",
            "Failed to save /content/drive/MyDrive/LUNA/data_subset/0/patch_-353.5_-188.18_-131.680.jpg\n",
            "Failed to save /content/drive/MyDrive/LUNA/data_subset/0/patch_-205.39_-202.17_99.00.jpg\n",
            "Failed to save /content/drive/MyDrive/LUNA/data_subset/0/patch_-179.05_-198.68_-34.130.jpg\n",
            "Could not find 1.3.6.1.4.1.14519.5.2.1.6279.6001.200837896655745926888305239398\n",
            "Failed to convert point: ID: 1.3.6.1.4.1.14519.5.2.1.6279.6001.152684536713461901635595118048, Index: 130744\n",
            "Failed to convert point: ID: 1.3.6.1.4.1.14519.5.2.1.6279.6001.152684536713461901635595118048, Index: 130592\n",
            "Failed to convert point: ID: 1.3.6.1.4.1.14519.5.2.1.6279.6001.227968442353440630355230778531, Index: 325849\n",
            "Could not find 1.3.6.1.4.1.14519.5.2.1.6279.6001.481278873893653517789960724156\n",
            "Could not find 1.3.6.1.4.1.14519.5.2.1.6279.6001.337845202462615014431060697507\n",
            "Failed to save /content/drive/MyDrive/LUNA/data_subset/0/patch_-264.3799467_-188.0790804_-116.44694670.jpg\n",
            "Failed to save /content/drive/MyDrive/LUNA/data_subset/0/patch_-256.1024196_-181.0675486_69.788844950.jpg\n",
            "Failed to save /content/drive/MyDrive/LUNA/data_subset/0/patch_-290.4190405_-171.4171891_35.491868520.jpg\n",
            "Failed to save /content/drive/MyDrive/LUNA/data_subset/0/patch_-161.61_-184.33_-76.410.jpg\n",
            "Failed to save /content/drive/MyDrive/LUNA/data_subset/0/patch_-117.5154547_-200.7494548_-40.224982020.jpg\n",
            "Failed to convert point: ID: 1.3.6.1.4.1.14519.5.2.1.6279.6001.192256506776434538421891524301, Index: 231076\n",
            "Failed to save /content/drive/MyDrive/LUNA/data_subset/0/patch_-128.53_-177.17_-71.890.jpg\n",
            "Failed to save /content/drive/MyDrive/LUNA/data_subset/1/patch_-96.42043621_-197.2526259_99.599012071.jpg\n",
            "Failed to save /content/drive/MyDrive/LUNA/data_subset/1/patch_-117.02_-186.67_-60.531.jpg\n",
            "Failed to convert point: ID: 1.3.6.1.4.1.14519.5.2.1.6279.6001.225515255547637437801620523312, Index: 317917\n",
            "Could not find 1.3.6.1.4.1.14519.5.2.1.6279.6001.244590453955380448651329424024\n",
            "Failed to convert point: ID: 1.3.6.1.4.1.14519.5.2.1.6279.6001.262873069163227096134627700599, Index: 407052\n",
            "Failed to convert point: ID: 1.3.6.1.4.1.14519.5.2.1.6279.6001.226383054119800793308721198594, Index: 319307\n",
            "Failed to save /content/drive/MyDrive/LUNA/data_subset/0/patch_-556.02_250.74_69.450.jpg\n",
            "Failed to convert point: ID: 1.3.6.1.4.1.14519.5.2.1.6279.6001.226383054119800793308721198594, Index: 319582\n",
            "Failed to convert point: ID: 1.3.6.1.4.1.14519.5.2.1.6279.6001.226383054119800793308721198594, Index: 319064\n",
            "Failed to save /content/drive/MyDrive/LUNA/data_subset/0/patch_-567.090006_221.740318_63.07765950.jpg\n",
            "Failed to save /content/drive/MyDrive/LUNA/data_subset/0/patch_-219.49_-175.14_-49.810.jpg\n",
            "Failed to save /content/drive/MyDrive/LUNA/data_subset/0/patch_-160.69_-196.44_-74.750.jpg\n",
            "Failed to save /content/drive/MyDrive/LUNA/data_subset/0/patch_-194.69_-194.95_-95.040.jpg\n",
            "Failed to save /content/drive/MyDrive/LUNA/data_subset/0/patch_-259.3107621_-172.6123214_-16.777469310.jpg\n",
            "Failed to save /content/drive/MyDrive/LUNA/data_subset/0/patch_-51.7346849_-175.7803696_-46.999936240.jpg\n",
            "Failed to save /content/drive/MyDrive/LUNA/data_subset/0/patch_-179.918063_-172.9984348_49.980078840.jpg\n",
            "Could not find 1.3.6.1.4.1.14519.5.2.1.6279.6001.339546614783708685476232944897\n",
            "Failed to convert point: ID: 1.3.6.1.4.1.14519.5.2.1.6279.6001.724251104254976962355686318345, Index: 678364\n",
            "Failed to convert point: ID: 1.3.6.1.4.1.14519.5.2.1.6279.6001.724251104254976962355686318345, Index: 678077\n",
            "Failed to convert point: ID: 1.3.6.1.4.1.14519.5.2.1.6279.6001.724251104254976962355686318345, Index: 678276\n",
            "Failed to save /content/drive/MyDrive/LUNA/data_subset/0/patch_-275.7_-180.15_-46.650.jpg\n",
            "Could not find 1.3.6.1.4.1.14519.5.2.1.6279.6001.449254134266555649028108149727\n",
            "Could not find 1.3.6.1.4.1.14519.5.2.1.6279.6001.965620538050807352935663552285\n",
            "Failed to save /content/drive/MyDrive/LUNA/data_subset/0/patch_-91.03831441_-195.5832914_-72.935164530.jpg\n",
            "Failed to save /content/drive/MyDrive/LUNA/data_subset/0/patch_-247.62_-182.94_-52.460.jpg\n",
            "Could not find 1.3.6.1.4.1.14519.5.2.1.6279.6001.100530488926682752765845212286\n",
            "Failed to save /content/drive/MyDrive/LUNA/data_subset/0/patch_-168.69_-210.06_-26.060.jpg\n",
            "Failed to convert point: ID: 1.3.6.1.4.1.14519.5.2.1.6279.6001.111258527162678142285870245028, Index: 26996\n",
            "Failed to convert point: ID: 1.3.6.1.4.1.14519.5.2.1.6279.6001.111258527162678142285870245028, Index: 26601\n",
            "Failed to convert point: ID: 1.3.6.1.4.1.14519.5.2.1.6279.6001.266581250778073944645044950856, Index: 414463\n",
            "Failed to convert point: ID: 1.3.6.1.4.1.14519.5.2.1.6279.6001.266581250778073944645044950856, Index: 414254\n",
            "Failed to convert point: ID: 1.3.6.1.4.1.14519.5.2.1.6279.6001.266581250778073944645044950856, Index: 414675\n",
            "Failed to convert point: ID: 1.3.6.1.4.1.14519.5.2.1.6279.6001.266581250778073944645044950856, Index: 414325\n",
            "Failed to convert point: ID: 1.3.6.1.4.1.14519.5.2.1.6279.6001.266581250778073944645044950856, Index: 414586\n",
            "Failed to convert point: ID: 1.3.6.1.4.1.14519.5.2.1.6279.6001.266581250778073944645044950856, Index: 414311\n",
            "Failed to convert point: ID: 1.3.6.1.4.1.14519.5.2.1.6279.6001.266581250778073944645044950856, Index: 414326\n",
            "Failed to convert point: ID: 1.3.6.1.4.1.14519.5.2.1.6279.6001.266581250778073944645044950856, Index: 414084\n",
            "Failed to convert point: ID: 1.3.6.1.4.1.14519.5.2.1.6279.6001.266581250778073944645044950856, Index: 414071\n",
            "Failed to convert point: ID: 1.3.6.1.4.1.14519.5.2.1.6279.6001.266581250778073944645044950856, Index: 414606\n",
            "Failed to convert point: ID: 1.3.6.1.4.1.14519.5.2.1.6279.6001.204303454658845815034433453512, Index: 267782\n",
            "Failed to convert point: ID: 1.3.6.1.4.1.14519.5.2.1.6279.6001.204303454658845815034433453512, Index: 267941\n",
            "Failed to convert point: ID: 1.3.6.1.4.1.14519.5.2.1.6279.6001.204303454658845815034433453512, Index: 266966\n",
            "Failed to convert point: ID: 1.3.6.1.4.1.14519.5.2.1.6279.6001.204303454658845815034433453512, Index: 267819\n",
            "Failed to convert point: ID: 1.3.6.1.4.1.14519.5.2.1.6279.6001.204303454658845815034433453512, Index: 267416\n",
            "Failed to convert point: ID: 1.3.6.1.4.1.14519.5.2.1.6279.6001.204303454658845815034433453512, Index: 267514\n",
            "Failed to convert point: ID: 1.3.6.1.4.1.14519.5.2.1.6279.6001.204303454658845815034433453512, Index: 267206\n",
            "Failed to convert point: ID: 1.3.6.1.4.1.14519.5.2.1.6279.6001.204303454658845815034433453512, Index: 267906\n",
            "Failed to convert point: ID: 1.3.6.1.4.1.14519.5.2.1.6279.6001.204303454658845815034433453512, Index: 267396\n",
            "Failed to convert point: ID: 1.3.6.1.4.1.14519.5.2.1.6279.6001.204303454658845815034433453512, Index: 267761\n",
            "Failed to convert point: ID: 1.3.6.1.4.1.14519.5.2.1.6279.6001.204303454658845815034433453512, Index: 267382\n",
            "Failed to convert point: ID: 1.3.6.1.4.1.14519.5.2.1.6279.6001.204303454658845815034433453512, Index: 266970\n",
            "Failed to convert point: ID: 1.3.6.1.4.1.14519.5.2.1.6279.6001.204303454658845815034433453512, Index: 267547\n",
            "Failed to convert point: ID: 1.3.6.1.4.1.14519.5.2.1.6279.6001.204303454658845815034433453512, Index: 267397\n",
            "Failed to convert point: ID: 1.3.6.1.4.1.14519.5.2.1.6279.6001.204303454658845815034433453512, Index: 267132\n",
            "Failed to convert point: ID: 1.3.6.1.4.1.14519.5.2.1.6279.6001.204303454658845815034433453512, Index: 267939\n",
            "Failed to convert point: ID: 1.3.6.1.4.1.14519.5.2.1.6279.6001.204303454658845815034433453512, Index: 267466\n",
            "Failed to convert point: ID: 1.3.6.1.4.1.14519.5.2.1.6279.6001.204303454658845815034433453512, Index: 267421\n",
            "Failed to convert point: ID: 1.3.6.1.4.1.14519.5.2.1.6279.6001.204303454658845815034433453512, Index: 267560\n",
            "Failed to convert point: ID: 1.3.6.1.4.1.14519.5.2.1.6279.6001.204303454658845815034433453512, Index: 267636\n",
            "Failed to convert point: ID: 1.3.6.1.4.1.14519.5.2.1.6279.6001.204303454658845815034433453512, Index: 266916\n",
            "Failed to convert point: ID: 1.3.6.1.4.1.14519.5.2.1.6279.6001.204303454658845815034433453512, Index: 267409\n",
            "Failed to convert point: ID: 1.3.6.1.4.1.14519.5.2.1.6279.6001.204303454658845815034433453512, Index: 268016\n",
            "Failed to convert point: ID: 1.3.6.1.4.1.14519.5.2.1.6279.6001.204303454658845815034433453512, Index: 267286\n",
            "Failed to save /content/drive/MyDrive/LUNA/data_subset/0/patch_-458.73_226.6_-72.430.jpg\n",
            "Failed to save /content/drive/MyDrive/LUNA/data_subset/0/patch_-452.273894_243.3232387_-50.432307290.jpg\n",
            "Failed to save /content/drive/MyDrive/LUNA/data_subset/0/patch_-174.4_-183.91_-42.310.jpg\n",
            "Failed to save /content/drive/MyDrive/LUNA/data_subset/0/patch_-244.67_-176.91_85.130.jpg\n",
            "Failed to save /content/drive/MyDrive/LUNA/data_subset/0/patch_-154.72_-182.51_-50.720.jpg\n",
            "Failed to save /content/drive/MyDrive/LUNA/data_subset/0/patch_-149.1_-186.01_-80.130.jpg\n",
            "Failed to save /content/drive/MyDrive/LUNA/data_subset/0/patch_-178.3352942_-210.3885295_-37.281932460.jpg\n",
            "Failed to save /content/drive/MyDrive/LUNA/data_subset/0/patch_-163.86_-190.21_79.530.jpg\n",
            "Failed to convert point: ID: 1.3.6.1.4.1.14519.5.2.1.6279.6001.153646219551578201092527860224, Index: 132426\n",
            "Failed to convert point: ID: 1.3.6.1.4.1.14519.5.2.1.6279.6001.196251645377731223510086726530, Index: 243461\n",
            "Failed to save /content/drive/MyDrive/LUNA/data_subset/0/patch_-294.01_-196.65_-139.590.jpg\n",
            "Failed to save /content/drive/MyDrive/LUNA/data_subset/0/patch_-165.945_-212.265_-83.0350.jpg\n",
            "Failed to save /content/drive/MyDrive/LUNA/data_subset/0/patch_-178.69_-192.93_-100.210.jpg\n",
            "Failed to convert point: ID: 1.3.6.1.4.1.14519.5.2.1.6279.6001.246225645401227472829175288633, Index: 367631\n",
            "Failed to convert point: ID: 1.3.6.1.4.1.14519.5.2.1.6279.6001.246225645401227472829175288633, Index: 368341\n",
            "Failed to convert point: ID: 1.3.6.1.4.1.14519.5.2.1.6279.6001.246225645401227472829175288633, Index: 367691\n",
            "Failed to convert point: ID: 1.3.6.1.4.1.14519.5.2.1.6279.6001.246225645401227472829175288633, Index: 367958\n",
            "Failed to convert point: ID: 1.3.6.1.4.1.14519.5.2.1.6279.6001.246225645401227472829175288633, Index: 367641\n",
            "Failed to convert point: ID: 1.3.6.1.4.1.14519.5.2.1.6279.6001.246225645401227472829175288633, Index: 367957\n",
            "Failed to convert point: ID: 1.3.6.1.4.1.14519.5.2.1.6279.6001.246225645401227472829175288633, Index: 367767\n",
            "Failed to convert point: ID: 1.3.6.1.4.1.14519.5.2.1.6279.6001.246225645401227472829175288633, Index: 368090\n",
            "Failed to convert point: ID: 1.3.6.1.4.1.14519.5.2.1.6279.6001.246225645401227472829175288633, Index: 368214\n",
            "Failed to convert point: ID: 1.3.6.1.4.1.14519.5.2.1.6279.6001.246225645401227472829175288633, Index: 368096\n",
            "Failed to convert point: ID: 1.3.6.1.4.1.14519.5.2.1.6279.6001.246225645401227472829175288633, Index: 367859\n",
            "Could not find 1.3.6.1.4.1.14519.5.2.1.6279.6001.211051626197585058967163339846\n",
            "Failed to convert point: ID: 1.3.6.1.4.1.14519.5.2.1.6279.6001.317087518531899043292346860596, Index: 530625\n",
            "Failed to save /content/drive/MyDrive/LUNA/data_subset/0/patch_-131.73_-197.92_-33.030.jpg\n",
            "Failed to save /content/drive/MyDrive/LUNA/data_subset/0/patch_-113.48_-190.92_82.540.jpg\n",
            "Failed to save /content/drive/MyDrive/LUNA/data_subset/1/patch_-102.37_-182.5739407_103.41315631.jpg\n",
            "Failed to save /content/drive/MyDrive/LUNA/data_subset/0/patch_-197.0475_-214.4629525_104.37881260.jpg\n",
            "Failed to save /content/drive/MyDrive/LUNA/data_subset/0/patch_-147.88_-213.34_-23.920.jpg\n",
            "Failed to save /content/drive/MyDrive/LUNA/data_subset/0/patch_-141.56_-173.41_-79.960.jpg\n",
            "Failed to save /content/drive/MyDrive/LUNA/data_subset/0/patch_-94.52_-198.62_-3.610.jpg\n",
            "Failed to convert point: ID: 1.3.6.1.4.1.14519.5.2.1.6279.6001.231645134739451754302647733304, Index: 336711\n",
            "Failed to convert point: ID: 1.3.6.1.4.1.14519.5.2.1.6279.6001.199220738144407033276946096708, Index: 248601\n",
            "Failed to convert point: ID: 1.3.6.1.4.1.14519.5.2.1.6279.6001.199220738144407033276946096708, Index: 248834\n",
            "Failed to convert point: ID: 1.3.6.1.4.1.14519.5.2.1.6279.6001.199220738144407033276946096708, Index: 248801\n",
            "Failed to convert point: ID: 1.3.6.1.4.1.14519.5.2.1.6279.6001.199220738144407033276946096708, Index: 248661\n",
            "Failed to convert point: ID: 1.3.6.1.4.1.14519.5.2.1.6279.6001.199220738144407033276946096708, Index: 248671\n",
            "Failed to convert point: ID: 1.3.6.1.4.1.14519.5.2.1.6279.6001.199220738144407033276946096708, Index: 248729\n",
            "Failed to convert point: ID: 1.3.6.1.4.1.14519.5.2.1.6279.6001.199220738144407033276946096708, Index: 248877\n",
            "Failed to convert point: ID: 1.3.6.1.4.1.14519.5.2.1.6279.6001.199220738144407033276946096708, Index: 248796\n",
            "Failed to convert point: ID: 1.3.6.1.4.1.14519.5.2.1.6279.6001.199220738144407033276946096708, Index: 249044\n",
            "Failed to convert point: ID: 1.3.6.1.4.1.14519.5.2.1.6279.6001.199220738144407033276946096708, Index: 249079\n",
            "Failed to convert point: ID: 1.3.6.1.4.1.14519.5.2.1.6279.6001.199220738144407033276946096708, Index: 248146\n",
            "Failed to convert point: ID: 1.3.6.1.4.1.14519.5.2.1.6279.6001.199220738144407033276946096708, Index: 248613\n",
            "Failed to convert point: ID: 1.3.6.1.4.1.14519.5.2.1.6279.6001.199220738144407033276946096708, Index: 249140\n",
            "Failed to convert point: ID: 1.3.6.1.4.1.14519.5.2.1.6279.6001.199220738144407033276946096708, Index: 248872\n",
            "Failed to convert point: ID: 1.3.6.1.4.1.14519.5.2.1.6279.6001.199220738144407033276946096708, Index: 248577\n",
            "Failed to convert point: ID: 1.3.6.1.4.1.14519.5.2.1.6279.6001.199220738144407033276946096708, Index: 248119\n",
            "Failed to convert point: ID: 1.3.6.1.4.1.14519.5.2.1.6279.6001.199220738144407033276946096708, Index: 248419\n",
            "Failed to convert point: ID: 1.3.6.1.4.1.14519.5.2.1.6279.6001.199220738144407033276946096708, Index: 248191\n",
            "Failed to save /content/drive/MyDrive/LUNA/data_subset/0/patch_-236.99_-172.08_52.390.jpg\n",
            "Failed to save /content/drive/MyDrive/LUNA/data_subset/0/patch_-142.78_-191.46_-53.30.jpg\n",
            "Failed to save /content/drive/MyDrive/LUNA/data_subset/0/patch_-109.7_-178.43_29.970.jpg\n",
            "Could not find 1.3.6.1.4.1.14519.5.2.1.6279.6001.232058316950007760548968840196\n",
            "Could not find 1.3.6.1.4.1.14519.5.2.1.6279.6001.811825890493256320617655474043\n",
            "Failed to convert point: ID: 1.3.6.1.4.1.14519.5.2.1.6279.6001.188059920088313909273628445208, Index: 220243\n",
            "Failed to convert point: ID: 1.3.6.1.4.1.14519.5.2.1.6279.6001.188059920088313909273628445208, Index: 220412\n",
            "Failed to convert point: ID: 1.3.6.1.4.1.14519.5.2.1.6279.6001.188059920088313909273628445208, Index: 219555\n",
            "Failed to convert point: ID: 1.3.6.1.4.1.14519.5.2.1.6279.6001.188059920088313909273628445208, Index: 220182\n",
            "Failed to convert point: ID: 1.3.6.1.4.1.14519.5.2.1.6279.6001.188059920088313909273628445208, Index: 219889\n",
            "Failed to convert point: ID: 1.3.6.1.4.1.14519.5.2.1.6279.6001.188059920088313909273628445208, Index: 219687\n",
            "Failed to convert point: ID: 1.3.6.1.4.1.14519.5.2.1.6279.6001.188059920088313909273628445208, Index: 220021\n",
            "Failed to convert point: ID: 1.3.6.1.4.1.14519.5.2.1.6279.6001.188059920088313909273628445208, Index: 220210\n",
            "Failed to convert point: ID: 1.3.6.1.4.1.14519.5.2.1.6279.6001.188059920088313909273628445208, Index: 220036\n",
            "Failed to convert point: ID: 1.3.6.1.4.1.14519.5.2.1.6279.6001.188059920088313909273628445208, Index: 220277\n",
            "Failed to convert point: ID: 1.3.6.1.4.1.14519.5.2.1.6279.6001.188059920088313909273628445208, Index: 219726\n",
            "Failed to convert point: ID: 1.3.6.1.4.1.14519.5.2.1.6279.6001.188059920088313909273628445208, Index: 219888\n",
            "Failed to save /content/drive/MyDrive/LUNA/data_subset/0/patch_-140.607778_-196.1190372_44.996147930.jpg\n",
            "Failed to save /content/drive/MyDrive/LUNA/data_subset/0/patch_-137.2_-200.33_34.00.jpg\n",
            "Failed to save /content/drive/MyDrive/LUNA/data_subset/0/patch_-167.06_-216.6_-68.540.jpg\n",
            "Could not find 1.3.6.1.4.1.14519.5.2.1.6279.6001.710845873679853791427022019413\n",
            "Could not find 1.3.6.1.4.1.14519.5.2.1.6279.6001.324290109423920971676288828329\n",
            "Could not find 1.3.6.1.4.1.14519.5.2.1.6279.6001.975426625618184773401026809852\n",
            "Could not find 1.3.6.1.4.1.14519.5.2.1.6279.6001.232011770495640253949434620907\n",
            "Failed to convert point: ID: 1.3.6.1.4.1.14519.5.2.1.6279.6001.303421828981831854739626597495, Index: 495908\n",
            "Failed to convert point: ID: 1.3.6.1.4.1.14519.5.2.1.6279.6001.303421828981831854739626597495, Index: 495837\n",
            "Failed to convert point: ID: 1.3.6.1.4.1.14519.5.2.1.6279.6001.303421828981831854739626597495, Index: 495954\n",
            "Failed to convert point: ID: 1.3.6.1.4.1.14519.5.2.1.6279.6001.303421828981831854739626597495, Index: 495947\n",
            "Failed to convert point: ID: 1.3.6.1.4.1.14519.5.2.1.6279.6001.303421828981831854739626597495, Index: 495904\n",
            "Failed to convert point: ID: 1.3.6.1.4.1.14519.5.2.1.6279.6001.303421828981831854739626597495, Index: 496068\n",
            "Failed to convert point: ID: 1.3.6.1.4.1.14519.5.2.1.6279.6001.303421828981831854739626597495, Index: 496032\n",
            "Failed to convert point: ID: 1.3.6.1.4.1.14519.5.2.1.6279.6001.303421828981831854739626597495, Index: 495884\n",
            "Failed to convert point: ID: 1.3.6.1.4.1.14519.5.2.1.6279.6001.303421828981831854739626597495, Index: 495686\n",
            "Could not find 1.3.6.1.4.1.14519.5.2.1.6279.6001.259123825760999546551970425757\n",
            "Could not find 1.3.6.1.4.1.14519.5.2.1.6279.6001.214800939017429618305208626314\n",
            "Failed to convert point: ID: 1.3.6.1.4.1.14519.5.2.1.6279.6001.980362852713685276785310240144, Index: 752049\n",
            "Could not find 1.3.6.1.4.1.14519.5.2.1.6279.6001.148229375703208214308676934766\n",
            "Failed to save /content/drive/MyDrive/LUNA/data_subset/0/patch_-152.49_-201.99_-3.940.jpg\n",
            "Failed to save /content/drive/MyDrive/LUNA/data_subset/0/patch_-171.795_-210.0_0.5550.jpg\n",
            "Failed to save /content/drive/MyDrive/LUNA/data_subset/0/patch_-155.27_-205.66_75.130.jpg\n",
            "Failed to convert point: ID: 1.3.6.1.4.1.14519.5.2.1.6279.6001.241570579760883349458693655367, Index: 355906\n",
            "Failed to convert point: ID: 1.3.6.1.4.1.14519.5.2.1.6279.6001.241570579760883349458693655367, Index: 355309\n",
            "Failed to convert point: ID: 1.3.6.1.4.1.14519.5.2.1.6279.6001.241570579760883349458693655367, Index: 356284\n",
            "Failed to convert point: ID: 1.3.6.1.4.1.14519.5.2.1.6279.6001.241570579760883349458693655367, Index: 356407\n",
            "Failed to convert point: ID: 1.3.6.1.4.1.14519.5.2.1.6279.6001.241570579760883349458693655367, Index: 356371\n",
            "Failed to convert point: ID: 1.3.6.1.4.1.14519.5.2.1.6279.6001.241570579760883349458693655367, Index: 356067\n",
            "Failed to convert point: ID: 1.3.6.1.4.1.14519.5.2.1.6279.6001.241570579760883349458693655367, Index: 355847\n",
            "Failed to convert point: ID: 1.3.6.1.4.1.14519.5.2.1.6279.6001.241570579760883349458693655367, Index: 356312\n",
            "Failed to convert point: ID: 1.3.6.1.4.1.14519.5.2.1.6279.6001.241570579760883349458693655367, Index: 356009\n",
            "Failed to convert point: ID: 1.3.6.1.4.1.14519.5.2.1.6279.6001.241570579760883349458693655367, Index: 355931\n",
            "Failed to convert point: ID: 1.3.6.1.4.1.14519.5.2.1.6279.6001.241570579760883349458693655367, Index: 355907\n",
            "Failed to convert point: ID: 1.3.6.1.4.1.14519.5.2.1.6279.6001.241570579760883349458693655367, Index: 355310\n",
            "Failed to convert point: ID: 1.3.6.1.4.1.14519.5.2.1.6279.6001.241570579760883349458693655367, Index: 355350\n",
            "Failed to convert point: ID: 1.3.6.1.4.1.14519.5.2.1.6279.6001.241570579760883349458693655367, Index: 355401\n",
            "Failed to convert point: ID: 1.3.6.1.4.1.14519.5.2.1.6279.6001.241570579760883349458693655367, Index: 355555\n",
            "Failed to convert point: ID: 1.3.6.1.4.1.14519.5.2.1.6279.6001.241570579760883349458693655367, Index: 355398\n",
            "Failed to convert point: ID: 1.3.6.1.4.1.14519.5.2.1.6279.6001.241570579760883349458693655367, Index: 355296\n",
            "Failed to convert point: ID: 1.3.6.1.4.1.14519.5.2.1.6279.6001.241570579760883349458693655367, Index: 356315\n",
            "Could not find 1.3.6.1.4.1.14519.5.2.1.6279.6001.261678072503577216586082745513\n",
            "Failed to convert point: ID: 1.3.6.1.4.1.14519.5.2.1.6279.6001.249530219848512542668813996730, Index: 378567\n",
            "Could not find 1.3.6.1.4.1.14519.5.2.1.6279.6001.218476624578721885561483687176\n",
            "Failed to save /content/drive/MyDrive/LUNA/data_subset/0/patch_-310.07_-214.99_156.340.jpg\n",
            "Failed to save /content/drive/MyDrive/LUNA/data_subset/0/patch_-241.78_-187.27_107.650.jpg\n",
            "Failed to save /content/drive/MyDrive/LUNA/data_subset/0/patch_-143.7_-189.06_67.940.jpg\n",
            "Failed to save /content/drive/MyDrive/LUNA/data_subset/0/patch_-295.89_-187.05_-78.240.jpg\n",
            "Failed to save /content/drive/MyDrive/LUNA/data_subset/0/patch_-259.2_-183.48_-32.580.jpg\n",
            "Failed to save /content/drive/MyDrive/LUNA/data_subset/0/patch_-264.39_-212.99_-51.030.jpg\n",
            "Could not find 1.3.6.1.4.1.14519.5.2.1.6279.6001.119806527488108718706404165837\n",
            "Could not find 1.3.6.1.4.1.14519.5.2.1.6279.6001.799582546798528864710752164515\n",
            "Failed to convert point: ID: 1.3.6.1.4.1.14519.5.2.1.6279.6001.205615524269596458818376243313, Index: 271024\n",
            "Failed to convert point: ID: 1.3.6.1.4.1.14519.5.2.1.6279.6001.111172165674661221381920536987, Index: 26175\n",
            "Failed to save /content/drive/MyDrive/LUNA/data_subset/0/patch_-279.09_-203.31_104.320.jpg\n",
            "Failed to save /content/drive/MyDrive/LUNA/data_subset/0/patch_-246.19_-179.06_82.220.jpg\n",
            "Could not find 1.3.6.1.4.1.14519.5.2.1.6279.6001.204802250386343794613980417281\n",
            "Could not find 1.3.6.1.4.1.14519.5.2.1.6279.6001.156821379677057223126714881626\n",
            "Failed to save /content/drive/MyDrive/LUNA/data_subset/1/patch_-465.8278237_220.8119665_85.417249441.jpg\n",
            "Failed to save /content/drive/MyDrive/LUNA/data_subset/1/patch_-517.8237485_250.8404538_56.166619251.jpg\n",
            "Failed to save /content/drive/MyDrive/LUNA/data_subset/0/patch_-547.57_232.0_-91.090.jpg\n",
            "Failed to save /content/drive/MyDrive/LUNA/data_subset/0/patch_-560.73_224.45_-40.910.jpg\n",
            "Failed to save /content/drive/MyDrive/LUNA/data_subset/1/patch_-516.239997_237.5828797_-39.84912951.jpg\n",
            "Failed to save /content/drive/MyDrive/LUNA/data_subset/0/patch_-167.72_-175.18_-69.510.jpg\n",
            "Failed to save /content/drive/MyDrive/LUNA/data_subset/0/patch_-72.46_-181.71_-43.030.jpg\n",
            "Failed to save /content/drive/MyDrive/LUNA/data_subset/1/patch_-227.0179872_-211.7558259_104.08393311.jpg\n",
            "Failed to save /content/drive/MyDrive/LUNA/data_subset/0/patch_-253.2_-213.18_71.320.jpg\n",
            "Failed to save /content/drive/MyDrive/LUNA/data_subset/0/patch_-185.5896399_-206.4040813_-58.06319210.jpg\n",
            "Failed to save /content/drive/MyDrive/LUNA/data_subset/1/patch_-298.5101925_-175.1767895_-128.98209151.jpg\n",
            "Failed to save /content/drive/MyDrive/LUNA/data_subset/0/patch_-305.873818_-180.45969_-90.580940.jpg\n",
            "Failed to save /content/drive/MyDrive/LUNA/data_subset/0/patch_-263.943452_-193.14719_-65.8015650.jpg\n",
            "Failed to convert point: ID: 1.3.6.1.4.1.14519.5.2.1.6279.6001.270152671889301412052226973069, Index: 421906\n",
            "Failed to save /content/drive/MyDrive/LUNA/data_subset/1/patch_-614.6253415_230.8806633_-89.283509841.jpg\n",
            "Failed to save /content/drive/MyDrive/LUNA/data_subset/0/patch_-597.01_231.35_90.110.jpg\n",
            "Failed to convert point: ID: 1.3.6.1.4.1.14519.5.2.1.6279.6001.311476128731958142981941696518, Index: 515971\n",
            "Failed to convert point: ID: 1.3.6.1.4.1.14519.5.2.1.6279.6001.311476128731958142981941696518, Index: 515860\n",
            "Could not find 1.3.6.1.4.1.14519.5.2.1.6279.6001.173101104804533997398137418032\n",
            "Failed to convert point: ID: 1.3.6.1.4.1.14519.5.2.1.6279.6001.141069661700670042960678408762, Index: 102827\n",
            "Failed to convert point: ID: 1.3.6.1.4.1.14519.5.2.1.6279.6001.141069661700670042960678408762, Index: 102777\n",
            "Failed to convert point: ID: 1.3.6.1.4.1.14519.5.2.1.6279.6001.141069661700670042960678408762, Index: 102684\n",
            "Failed to convert point: ID: 1.3.6.1.4.1.14519.5.2.1.6279.6001.141069661700670042960678408762, Index: 103190\n",
            "Failed to convert point: ID: 1.3.6.1.4.1.14519.5.2.1.6279.6001.141069661700670042960678408762, Index: 103191\n",
            "Failed to convert point: ID: 1.3.6.1.4.1.14519.5.2.1.6279.6001.141069661700670042960678408762, Index: 103027\n",
            "Failed to convert point: ID: 1.3.6.1.4.1.14519.5.2.1.6279.6001.141069661700670042960678408762, Index: 102913\n",
            "Failed to convert point: ID: 1.3.6.1.4.1.14519.5.2.1.6279.6001.141069661700670042960678408762, Index: 103466\n",
            "Failed to convert point: ID: 1.3.6.1.4.1.14519.5.2.1.6279.6001.141069661700670042960678408762, Index: 102922\n",
            "Failed to convert point: ID: 1.3.6.1.4.1.14519.5.2.1.6279.6001.141069661700670042960678408762, Index: 103015\n",
            "Failed to convert point: ID: 1.3.6.1.4.1.14519.5.2.1.6279.6001.141069661700670042960678408762, Index: 102821\n",
            "Failed to convert point: ID: 1.3.6.1.4.1.14519.5.2.1.6279.6001.141069661700670042960678408762, Index: 103007\n",
            "Failed to convert point: ID: 1.3.6.1.4.1.14519.5.2.1.6279.6001.141069661700670042960678408762, Index: 103714\n",
            "Failed to convert point: ID: 1.3.6.1.4.1.14519.5.2.1.6279.6001.141069661700670042960678408762, Index: 103364\n",
            "Failed to convert point: ID: 1.3.6.1.4.1.14519.5.2.1.6279.6001.141069661700670042960678408762, Index: 102841\n",
            "Failed to convert point: ID: 1.3.6.1.4.1.14519.5.2.1.6279.6001.141069661700670042960678408762, Index: 103692\n",
            "Failed to convert point: ID: 1.3.6.1.4.1.14519.5.2.1.6279.6001.141069661700670042960678408762, Index: 102946\n",
            "Could not find 1.3.6.1.4.1.14519.5.2.1.6279.6001.163931625580639955914619627409\n",
            "Failed to save /content/drive/MyDrive/LUNA/data_subset/0/patch_-493.3525_221.13_-33.970.jpg\n",
            "Could not find 1.3.6.1.4.1.14519.5.2.1.6279.6001.252358625003143649770119512644\n",
            "Failed to save /content/drive/MyDrive/LUNA/data_subset/0/patch_-295.5554201_-211.0466858_93.806590080.jpg\n",
            "Failed to save /content/drive/MyDrive/LUNA/data_subset/0/patch_-170.68_-178.04_-75.550.jpg\n",
            "Failed to save /content/drive/MyDrive/LUNA/data_subset/0/patch_-160.87_-196.24_91.790.jpg\n",
            "Failed to save /content/drive/MyDrive/LUNA/data_subset/0/patch_-139.14_-182.24_-81.160.jpg\n",
            "Failed to convert point: ID: 1.3.6.1.4.1.14519.5.2.1.6279.6001.177785764461425908755977367558, Index: 195747\n",
            "Failed to convert point: ID: 1.3.6.1.4.1.14519.5.2.1.6279.6001.219281726101239572270900838145, Index: 304379\n",
            "Failed to convert point: ID: 1.3.6.1.4.1.14519.5.2.1.6279.6001.143412474064515942785157561636, Index: 109872\n",
            "Failed to save /content/drive/MyDrive/LUNA/data_subset/0/patch_-192.4012478_244.3845621_49.074462180.jpg\n",
            "Failed to save /content/drive/MyDrive/LUNA/data_subset/0/patch_-207.6191232_237.7956681_32.955382350.jpg\n",
            "Failed to save /content/drive/MyDrive/LUNA/data_subset/0/patch_-157.35_221.9_-108.80.jpg\n",
            "Failed to save /content/drive/MyDrive/LUNA/data_subset/0/patch_-156.9196972_-201.9333537_64.19710180.jpg\n",
            "Failed to convert point: ID: 1.3.6.1.4.1.14519.5.2.1.6279.6001.268030488196493755113553009785, Index: 416882\n",
            "Failed to convert point: ID: 1.3.6.1.4.1.14519.5.2.1.6279.6001.306520140119968755187868602181, Index: 502250\n",
            "Could not find 1.3.6.1.4.1.14519.5.2.1.6279.6001.107351566259572521472765997306\n",
            "Failed to convert point: ID: 1.3.6.1.4.1.14519.5.2.1.6279.6001.182192086929819295877506541021, Index: 205106\n",
            "Failed to convert point: ID: 1.3.6.1.4.1.14519.5.2.1.6279.6001.182192086929819295877506541021, Index: 205610\n",
            "Failed to convert point: ID: 1.3.6.1.4.1.14519.5.2.1.6279.6001.182192086929819295877506541021, Index: 205659\n",
            "Failed to convert point: ID: 1.3.6.1.4.1.14519.5.2.1.6279.6001.397062004302272014259317520874, Index: 590349\n",
            "Failed to convert point: ID: 1.3.6.1.4.1.14519.5.2.1.6279.6001.397062004302272014259317520874, Index: 590353\n",
            "Failed to convert point: ID: 1.3.6.1.4.1.14519.5.2.1.6279.6001.397062004302272014259317520874, Index: 590513\n",
            "Failed to convert point: ID: 1.3.6.1.4.1.14519.5.2.1.6279.6001.397062004302272014259317520874, Index: 590151\n",
            "Failed to convert point: ID: 1.3.6.1.4.1.14519.5.2.1.6279.6001.397062004302272014259317520874, Index: 590523\n",
            "Failed to convert point: ID: 1.3.6.1.4.1.14519.5.2.1.6279.6001.397062004302272014259317520874, Index: 590439\n",
            "Could not find 1.3.6.1.4.1.14519.5.2.1.6279.6001.401389720232123950202941034290\n",
            "Could not find 1.3.6.1.4.1.14519.5.2.1.6279.6001.487745546557477250336016826588\n",
            "Failed to convert point: ID: 1.3.6.1.4.1.14519.5.2.1.6279.6001.997611074084993415992563148335, Index: 754538\n",
            "Failed to convert point: ID: 1.3.6.1.4.1.14519.5.2.1.6279.6001.237215747217294006286437405216, Index: 346197\n",
            "Failed to convert point: ID: 1.3.6.1.4.1.14519.5.2.1.6279.6001.216652640878960522552873394709, Index: 294922\n",
            "Failed to save /content/drive/MyDrive/LUNA/data_subset/0/patch_-190.2_-199.7_25.80.jpg\n",
            "Failed to save /content/drive/MyDrive/LUNA/data_subset/0/patch_-189.7_-173.3_83.50.jpg\n",
            "Failed to save /content/drive/MyDrive/LUNA/data_subset/0/patch_-166.9983148_-192.522135_-14.865924930.jpg\n",
            "Failed to save /content/drive/MyDrive/LUNA/data_subset/0/patch_-177.11_-182.24_29.940.jpg\n",
            "Failed to convert point: ID: 1.3.6.1.4.1.14519.5.2.1.6279.6001.297964221542942838344351735414, Index: 480965\n",
            "Failed to convert point: ID: 1.3.6.1.4.1.14519.5.2.1.6279.6001.297964221542942838344351735414, Index: 480508\n",
            "Failed to convert point: ID: 1.3.6.1.4.1.14519.5.2.1.6279.6001.297964221542942838344351735414, Index: 480070\n",
            "Failed to convert point: ID: 1.3.6.1.4.1.14519.5.2.1.6279.6001.297964221542942838344351735414, Index: 480669\n",
            "Failed to convert point: ID: 1.3.6.1.4.1.14519.5.2.1.6279.6001.297964221542942838344351735414, Index: 480134\n",
            "Failed to convert point: ID: 1.3.6.1.4.1.14519.5.2.1.6279.6001.297964221542942838344351735414, Index: 480589\n",
            "Failed to convert point: ID: 1.3.6.1.4.1.14519.5.2.1.6279.6001.297964221542942838344351735414, Index: 480827\n",
            "Failed to convert point: ID: 1.3.6.1.4.1.14519.5.2.1.6279.6001.297964221542942838344351735414, Index: 480459\n",
            "Failed to convert point: ID: 1.3.6.1.4.1.14519.5.2.1.6279.6001.297964221542942838344351735414, Index: 480081\n",
            "Failed to save /content/drive/MyDrive/LUNA/data_subset/0/patch_-537.8370447_221.5205706_-41.365865820.jpg\n",
            "Could not find 1.3.6.1.4.1.14519.5.2.1.6279.6001.314519596680450457855054746285\n",
            "Failed to convert point: ID: 1.3.6.1.4.1.14519.5.2.1.6279.6001.417815314896088956784723476543, Index: 599312\n",
            "Failed to convert point: ID: 1.3.6.1.4.1.14519.5.2.1.6279.6001.417815314896088956784723476543, Index: 599276\n",
            "Failed to convert point: ID: 1.3.6.1.4.1.14519.5.2.1.6279.6001.417815314896088956784723476543, Index: 599256\n",
            "Failed to convert point: ID: 1.3.6.1.4.1.14519.5.2.1.6279.6001.417815314896088956784723476543, Index: 599185\n",
            "Failed to save /content/drive/MyDrive/LUNA/data_subset/0/patch_-513.91_229.865_-83.9450.jpg\n",
            "Failed to save /content/drive/MyDrive/LUNA/data_subset/0/patch_-541.0280578_250.557338_-114.11333110.jpg\n",
            "Failed to save /content/drive/MyDrive/LUNA/data_subset/1/patch_-542.1878203_252.6903612_-89.238886891.jpg\n",
            "Failed to save /content/drive/MyDrive/LUNA/data_subset/0/patch_-481.6584077_221.3865032_15.883411850.jpg\n",
            "Could not find 1.3.6.1.4.1.14519.5.2.1.6279.6001.211071908915618528829547301883\n",
            "Failed to convert point: ID: 1.3.6.1.4.1.14519.5.2.1.6279.6001.199261544234308780356714831537, Index: 249657\n",
            "Failed to save /content/drive/MyDrive/LUNA/data_subset/0/patch_-134.78_-211.6_-89.220.jpg\n",
            "Failed to save /content/drive/MyDrive/LUNA/data_subset/0/patch_-253.33_-202.56_62.810.jpg\n",
            "Failed to convert point: ID: 1.3.6.1.4.1.14519.5.2.1.6279.6001.203741923654363010377298352671, Index: 265649\n",
            "Could not find 1.3.6.1.4.1.14519.5.2.1.6279.6001.398955972049286139436103068984\n",
            "Failed to save /content/drive/MyDrive/LUNA/data_subset/0/patch_-280.0968174_-181.2708598_34.193016310.jpg\n",
            "Failed to save /content/drive/MyDrive/LUNA/data_subset/0/patch_-150.05_-201.68_74.180.jpg\n",
            "Failed to save /content/drive/MyDrive/LUNA/data_subset/1/patch_-199.8_-183.1189152_82.414236881.jpg\n",
            "Failed to save /content/drive/MyDrive/LUNA/data_subset/0/patch_-268.2_-188.1_41.040.jpg\n",
            "Failed to save /content/drive/MyDrive/LUNA/data_subset/0/patch_-232.0_-189.72_93.730.jpg\n",
            "Could not find 1.3.6.1.4.1.14519.5.2.1.6279.6001.603166427542096384265514998412\n",
            "Could not find 1.3.6.1.4.1.14519.5.2.1.6279.6001.969607480572818589276327766720\n",
            "Failed to save /content/drive/MyDrive/LUNA/data_subset/0/patch_-461.5188744_235.2591786_93.693754090.jpg\n",
            "Failed to save /content/drive/MyDrive/LUNA/data_subset/0/patch_-416.01_224.88_-72.160.jpg\n",
            "Failed to save /content/drive/MyDrive/LUNA/data_subset/0/patch_-373.93_257.12_64.490.jpg\n",
            "Could not find 1.3.6.1.4.1.14519.5.2.1.6279.6001.885168397833922082085837240429\n",
            "Could not find 1.3.6.1.4.1.14519.5.2.1.6279.6001.177252583002664900748714851615\n",
            "Could not find 1.3.6.1.4.1.14519.5.2.1.6279.6001.125067060506283419853742462394\n"
          ]
        }
      ],
      "source": [
        "Fail_save = 0\n",
        "Fail_convert = 0\n",
        "Could_not_find = 0\n",
        "if not os.path.exists(root+'data_subset/'):\n",
        "  os.mkdir(root+'data_subset/')\n",
        "if not os.path.exists(root+'data_subset/0/'):\n",
        "  os.mkdir(root+'data_subset/0/')\n",
        "if not os.path.exists(root+'data_subset/1/'):\n",
        "  os.mkdir(root+'data_subset/1/')\n",
        "if not os.path.exists(root+'patches/'):\n",
        "  os.mkdir(root+'patches/')\n",
        "\n",
        "for cand_id in cands_df_dict:\n",
        "  try:\n",
        "    voxelWidth = 64\n",
        "    cand_image_path = [i for i in img_paths if cand_id in i][0]\n",
        "    numpyImage, numpyOrigin, numpySpacing = load_itk_image(img_paths[0])\n",
        "    points_for_cand = cands_df_dict[cand_id]\n",
        "    for index, point in points_for_cand.iterrows():\n",
        "        #print(point[2])\n",
        "        worldCoord = np.asarray([float(point[2]),float(point[1]),float(point[0])])\n",
        "        voxelCoord = worldToVoxelCoord(worldCoord, numpyOrigin, numpySpacing)\n",
        "        try : \n",
        "          patch = numpyImage[int(voxelCoord[0]),int(voxelCoord[1]-voxelWidth/2):int(voxelCoord[1]+voxelWidth/2),int(voxelCoord[2]-voxelWidth/2):int(voxelCoord[2]+voxelWidth/2)]\n",
        "          patch = normalizePlanes(patch)\n",
        "          #print('data')\n",
        "          #print(worldCoord)\n",
        "          #print(voxelCoord)\n",
        "          cand_root = root+'patches/'+cand_id+'/'\n",
        "          if not os.path.exists(cand_root):\n",
        "            os.mkdir(cand_root)\n",
        "          #outputPath = cand_root + 'patch_' + str(worldCoord[0]) + '_' + str(worldCoord[1]) + '_' + str(worldCoord[2]) + str(int(point[3])) + '.tiff'\n",
        "          #save jpg under data and class 0 or 1\n",
        "          outputPath = root + 'data_subset/' + str(int(point[3])) + '/patch_' + str(worldCoord[0]) + '_' + str(worldCoord[1]) + '_' + str(worldCoord[2]) + str(int(point[3])) + '.jpg'\n",
        "          #plt.imshow(patch, cmap='gray')\n",
        "          #plt.show()\n",
        "          f = open(outputPath, \"w\")\n",
        "          f.close()\n",
        "          try:\n",
        "            patch_image = Image.fromarray(patch*255).convert('L')\n",
        "            #patch_image = patch_image.save(outputPath)\n",
        "            #save jpg keep image the same.\n",
        "            patch_image = patch_image.save(outputPath)\n",
        "          except:\n",
        "            print(f'Failed to save {outputPath}')\n",
        "            Fail_save+=1\n",
        "            os.remove(outputPath)\n",
        "        except :\n",
        "          print(f'Failed to convert point: ID: {cand_id}, Index: {index}')\n",
        "          Fail_convert+=1\n",
        "  except:\n",
        "    print(f'Could not find {cand_id}')\n",
        "    Could_not_find+=1\n",
        "\n",
        "      "
      ]
    },
    {
      "cell_type": "code",
      "execution_count": null,
      "metadata": {
        "colab": {
          "base_uri": "https://localhost:8080/"
        },
        "id": "CuTjXJ2e6vaB",
        "outputId": "e4508911-78e6-48bd-d1fe-bd72ec07c3a2"
      },
      "outputs": [
        {
          "name": "stdout",
          "output_type": "stream",
          "text": [
            "346\n",
            "666\n",
            "132\n"
          ]
        }
      ],
      "source": [
        "print(Fail_save)\n",
        "print(Fail_convert)\n",
        "print(Could_not_find)"
      ]
    },
    {
      "cell_type": "code",
      "execution_count": null,
      "metadata": {
        "colab": {
          "base_uri": "https://localhost:8080/"
        },
        "id": "fXOQgZJSsTn_",
        "outputId": "ddcb7e40-b86d-47e9-c513-1c3c996a584d"
      },
      "outputs": [
        {
          "data": {
            "text/plain": [
              "0    753418\n",
              "1      1557\n",
              "Name: class, dtype: int64"
            ]
          },
          "execution_count": 16,
          "metadata": {},
          "output_type": "execute_result"
        }
      ],
      "source": [
        "import pandas as pd\n",
        "\n",
        "cand_csv = pd.read_csv(cand_path)\n",
        "cand_csv['class'].value_counts()"
      ]
    },
    {
      "cell_type": "code",
      "execution_count": null,
      "metadata": {
        "colab": {
          "base_uri": "https://localhost:8080/"
        },
        "id": "dZMNxpuDVy8m",
        "outputId": "70d522a0-f68c-459d-f1e8-6ae7886c1f75"
      },
      "outputs": [
        {
          "data": {
            "text/plain": [
              "7570"
            ]
          },
          "execution_count": 17,
          "metadata": {},
          "output_type": "execute_result"
        }
      ],
      "source": [
        "from os import listdir\n",
        "file_names_0 = [file for file in os.listdir(root+'data_subset/0')]\n",
        "len(file_names_0)"
      ]
    },
    {
      "cell_type": "code",
      "execution_count": null,
      "metadata": {
        "colab": {
          "base_uri": "https://localhost:8080/"
        },
        "id": "fTm7hEXoWN1O",
        "outputId": "738ad49a-b9bf-483c-ce0c-969c73ca9d94"
      },
      "outputs": [
        {
          "data": {
            "text/plain": [
              "1184"
            ]
          },
          "execution_count": 18,
          "metadata": {},
          "output_type": "execute_result"
        }
      ],
      "source": [
        "file_names_1 = [file for file in os.listdir(root+'data_subset/1')]\n",
        "len(file_names_1)"
      ]
    },
    {
      "cell_type": "code",
      "execution_count": null,
      "metadata": {
        "colab": {
          "base_uri": "https://localhost:8080/"
        },
        "id": "kSsLpczOZCZt",
        "outputId": "3646b4cc-d142-4532-cd12-8000416b09b1"
      },
      "outputs": [
        {
          "name": "stdout",
          "output_type": "stream",
          "text": [
            "Found 8754 files belonging to 2 classes.\n",
            "Using 7004 files for training.\n",
            "Found 8754 files belonging to 2 classes.\n",
            "Using 1750 files for validation.\n"
          ]
        }
      ],
      "source": [
        "from sklearn.datasets import load_files \n",
        "from keras.utils import np_utils\n",
        "\n",
        "from keras.preprocessing import image\n",
        "from tqdm import tqdm # progress bar\n",
        "\n",
        "data_dir = root + \"data_subset/\"\n",
        "batch_size = 128;\n",
        "# IMPORTANT: Depends on what pre-trained model you choose, you will need to change these dimensions accordingly\n",
        "img_height = 64; \n",
        "img_width = 64;\n",
        "\n",
        "# Training Dataset\n",
        "train_ds = tf.keras.preprocessing.image_dataset_from_directory(\n",
        "    data_dir,\n",
        "    color_mode = 'grayscale',\n",
        "    validation_split = 0.2,\n",
        "    subset = \"training\",\n",
        "    seed = 42,\n",
        "    image_size= (img_height, img_width),\n",
        "    batch_size = batch_size\n",
        ")\n",
        "\n",
        "# Validation Dataset\n",
        "validation_ds = tf.keras.preprocessing.image_dataset_from_directory(\n",
        "    data_dir,\n",
        "    color_mode = 'grayscale',\n",
        "    validation_split = 0.2,\n",
        "    subset = \"validation\",\n",
        "    seed = 42,\n",
        "    image_size = (img_height, img_width),\n",
        "    batch_size = batch_size\n",
        ")        \n"
      ]
    },
    {
      "cell_type": "code",
      "execution_count": null,
      "metadata": {
        "id": "nrgvpnwhfFnz"
      },
      "outputs": [],
      "source": [
        "tf.random.set_seed(42)\n",
        "#train is 70% of data, test is 10% of data.\n",
        "#ref: https://stackoverflow.com/questions/50737192/tf-data-dataset-how-to-get-the-dataset-size-number-of-elements-in-an-epoch\n",
        "dataset_size = train_ds.cardinality().numpy()\n",
        "train_size = int(0.875 * dataset_size)\n",
        "test_size = int(0.125 * dataset_size)\n",
        "\n",
        "temp_ds = train_ds.shuffle(1000, seed=42)\n",
        "train_ds = temp_ds.take(train_size)\n",
        "test_ds = temp_ds.skip(train_size)"
      ]
    },
    {
      "cell_type": "markdown",
      "metadata": {
        "id": "U1cjXf7DZPC2"
      },
      "source": [
        "## Metrics Functions"
      ]
    },
    {
      "cell_type": "code",
      "execution_count": null,
      "metadata": {
        "id": "fzsWMPYJBTcN"
      },
      "outputs": [],
      "source": [
        "#ref: https://aakashgoel12.medium.com/how-to-add-user-defined-function-get-f1-score-in-keras-metrics-3013f979ce0d\n",
        "\n",
        "import keras.backend as K\n",
        "\n",
        "def Precision(y_true, y_pred):\n",
        "  true_positives = K.sum(K.round(K.clip(y_true * y_pred, 0, 1)))\n",
        "  predicted_positives = K.sum(K.round(K.clip(y_pred, 0, 1)))\n",
        "  precision = true_positives / (predicted_positives + K.epsilon())\n",
        "  return precision\n",
        "\n",
        "def Recall(y_true, y_pred):\n",
        "  true_positives = K.sum(K.round(K.clip(y_true * y_pred, 0, 1)))\n",
        "  possible_positives = K.sum(K.round(K.clip(y_true, 0, 1)))\n",
        "  recall = true_positives / (possible_positives + K.epsilon())\n",
        "  return recall\n",
        "\n",
        "def F1_score(y_true, y_pred):\n",
        "  true_positives = K.sum(K.round(K.clip(y_true * y_pred, 0, 1)))\n",
        "  possible_positives = K.sum(K.round(K.clip(y_true, 0, 1)))\n",
        "  predicted_positives = K.sum(K.round(K.clip(y_pred, 0, 1)))\n",
        "  precision = true_positives / (predicted_positives + K.epsilon())\n",
        "  recall = true_positives / (possible_positives + K.epsilon())\n",
        "  f1_val = 2*(precision*recall)/(precision+recall+K.epsilon())\n",
        "  return f1_val"
      ]
    },
    {
      "cell_type": "code",
      "execution_count": null,
      "metadata": {
        "id": "Iyetttp92EBm"
      },
      "outputs": [],
      "source": [
        "#keras.metrics.AUC(name='prc', curve='PR'), keras.metrics.AUC(curve='PR')\n",
        "\n",
        "#ref:https://stackoverflow.com/questions/41032551/how-to-compute-receiving-operating-characteristic-roc-and-auc-in-keras\n",
        "from sklearn.metrics import roc_auc_score\n",
        "\n",
        "def auroc(y_true, y_pred):\n",
        "  return tf.py_function(roc_auc_score, (y_true, y_pred[:,1]), tf.double)\n",
        "\n",
        "#below function doesn't work with current code.\n",
        "#def auc(y_true, y_pred):\n",
        "#  auc = tf.keras.metrics.AUC(y_true, y_pred[:,1])[1]\n",
        "#  K.get_session().run(tf.local_variables_initializer())\n",
        "#  return auc"
      ]
    },
    {
      "cell_type": "markdown",
      "metadata": {
        "id": "f2ExkYotcWkU"
      },
      "source": [
        "# Base Model"
      ]
    },
    {
      "cell_type": "code",
      "execution_count": null,
      "metadata": {
        "id": "RsxbNqvBIqwB"
      },
      "outputs": [],
      "source": [
        "from functools import partial\n",
        "\n",
        "tf.keras.backend.clear_session()\n",
        "\n",
        "DefaultConv2D = partial(keras.layers.Conv2D,\n",
        "                        kernel_size=4, activation='relu', padding=\"SAME\")\n",
        "\n",
        "model = keras.models.Sequential([\n",
        "    keras.Input(shape=[64, 64, 1]),\n",
        "    keras.layers.BatchNormalization(),\n",
        "    #DefaultConv2D(filters=32, kernel_size=8),\n",
        "    #DefaultConv2D(filters=32, kernel_size=8),\n",
        "    #keras.layers.BatchNormalization(),\n",
        "    #keras.layers.MaxPooling2D(pool_size=2),\n",
        "    #DefaultConv2D(filters=32),\n",
        "    #DefaultConv2D(filters=32),\n",
        "    #keras.layers.BatchNormalization(),\n",
        "    #keras.layers.MaxPooling2D(pool_size=2), \n",
        "    DefaultConv2D(filters=16),\n",
        "    #DefaultConv2D(filters=16),\n",
        "    keras.layers.BatchNormalization(),\n",
        "    keras.layers.MaxPooling2D(pool_size=2),\n",
        "    keras.layers.Flatten(),\n",
        "    keras.layers.Dense(units=128, activation='relu'),\n",
        "    keras.layers.Dropout(0.5),\n",
        "    #keras.layers.Dense(units=64, activation='relu'),\n",
        "    #keras.layers.Dropout(0.5),\n",
        "    keras.layers.Dense(units=2, activation='softmax'),\n",
        "])"
      ]
    },
    {
      "cell_type": "code",
      "execution_count": null,
      "metadata": {
        "colab": {
          "base_uri": "https://localhost:8080/"
        },
        "id": "9cKNpv86I6sd",
        "outputId": "e680aed3-612b-4c34-dd2a-59010983d6e1"
      },
      "outputs": [
        {
          "name": "stdout",
          "output_type": "stream",
          "text": [
            "Epoch 1/10\n",
            "48/48 [==============================] - 21s 41ms/step - loss: 0.8724 - accuracy: 0.7880 - F1_score: 0.2438 - Precision: 0.1395 - Recall: 1.0000 - auroc: 0.4943 - val_loss: 0.5464 - val_accuracy: 0.8257 - val_F1_score: 0.2264 - val_Precision: 0.1288 - val_Recall: 1.0000 - val_auroc: 0.5354\n",
            "Epoch 2/10\n",
            "48/48 [==============================] - 6s 34ms/step - loss: 0.4620 - accuracy: 0.8477 - F1_score: 0.2369 - Precision: 0.1353 - Recall: 1.0000 - auroc: 0.5678 - val_loss: 0.5404 - val_accuracy: 0.8606 - val_F1_score: 0.2287 - val_Precision: 0.1299 - val_Recall: 1.0000 - val_auroc: 0.5212\n",
            "Epoch 3/10\n",
            "48/48 [==============================] - 6s 34ms/step - loss: 0.4333 - accuracy: 0.8538 - F1_score: 0.2364 - Precision: 0.1349 - Recall: 1.0000 - auroc: 0.5993 - val_loss: 0.4661 - val_accuracy: 0.8669 - val_F1_score: 0.2263 - val_Precision: 0.1283 - val_Recall: 1.0000 - val_auroc: 0.5503\n",
            "Epoch 4/10\n",
            "48/48 [==============================] - 6s 35ms/step - loss: 0.4155 - accuracy: 0.8520 - F1_score: 0.2410 - Precision: 0.1377 - Recall: 1.0000 - auroc: 0.6459 - val_loss: 0.4515 - val_accuracy: 0.8720 - val_F1_score: 0.2238 - val_Precision: 0.1269 - val_Recall: 1.0000 - val_auroc: 0.5045\n",
            "Epoch 5/10\n",
            "48/48 [==============================] - 6s 38ms/step - loss: 0.4044 - accuracy: 0.8551 - F1_score: 0.2425 - Precision: 0.1387 - Recall: 1.0000 - auroc: 0.6674 - val_loss: 0.4361 - val_accuracy: 0.8663 - val_F1_score: 0.2297 - val_Precision: 0.1307 - val_Recall: 1.0000 - val_auroc: 0.5342\n",
            "Epoch 6/10\n",
            "48/48 [==============================] - 6s 36ms/step - loss: 0.3844 - accuracy: 0.8585 - F1_score: 0.2423 - Precision: 0.1385 - Recall: 1.0000 - auroc: 0.6950 - val_loss: 0.4250 - val_accuracy: 0.8634 - val_F1_score: 0.2261 - val_Precision: 0.1280 - val_Recall: 1.0000 - val_auroc: 0.5602\n",
            "Epoch 7/10\n",
            "48/48 [==============================] - 6s 36ms/step - loss: 0.3677 - accuracy: 0.8653 - F1_score: 0.2376 - Precision: 0.1358 - Recall: 1.0000 - auroc: 0.7269 - val_loss: 0.3892 - val_accuracy: 0.8674 - val_F1_score: 0.2257 - val_Precision: 0.1280 - val_Recall: 1.0000 - val_auroc: 0.5951\n",
            "Epoch 8/10\n",
            "48/48 [==============================] - 6s 35ms/step - loss: 0.3532 - accuracy: 0.8666 - F1_score: 0.2388 - Precision: 0.1364 - Recall: 1.0000 - auroc: 0.7490 - val_loss: 0.4129 - val_accuracy: 0.8703 - val_F1_score: 0.2263 - val_Precision: 0.1286 - val_Recall: 1.0000 - val_auroc: 0.5779\n",
            "Epoch 9/10\n",
            "48/48 [==============================] - 6s 35ms/step - loss: 0.3303 - accuracy: 0.8731 - F1_score: 0.2383 - Precision: 0.1364 - Recall: 1.0000 - auroc: 0.7929 - val_loss: 0.4033 - val_accuracy: 0.8657 - val_F1_score: 0.2266 - val_Precision: 0.1286 - val_Recall: 1.0000 - val_auroc: 0.5836\n",
            "Epoch 10/10\n",
            "48/48 [==============================] - 6s 35ms/step - loss: 0.3122 - accuracy: 0.8712 - F1_score: 0.2375 - Precision: 0.1353 - Recall: 1.0000 - auroc: 0.8197 - val_loss: 0.4200 - val_accuracy: 0.8600 - val_F1_score: 0.2260 - val_Precision: 0.1280 - val_Recall: 1.0000 - val_auroc: 0.5930\n",
            "7/7 [==============================] - 5s 6ms/step - loss: 0.2770 - accuracy: 0.9129 - F1_score: 0.2215 - Precision: 0.1250 - Recall: 1.0000 - auroc: 0.8534\n"
          ]
        }
      ],
      "source": [
        "optimizer = keras.optimizers.RMSprop(learning_rate=0.0001)\n",
        "model.compile(loss=\"sparse_categorical_crossentropy\", optimizer=optimizer,\n",
        "              metrics=[\"accuracy\", F1_score, Precision, Recall, auroc])\n",
        "history = model.fit(train_ds, epochs=10, validation_data=validation_ds)\n",
        "score = model.evaluate(test_ds)"
      ]
    },
    {
      "cell_type": "markdown",
      "metadata": {
        "id": "cm7Ixil6YPW-"
      },
      "source": [
        "# Test Model\n",
        "\n",
        "Note I did alot of iterations based on commented out code. Basically every combination of the commented out code including increasing filters or dense units by a factor of 2."
      ]
    },
    {
      "cell_type": "code",
      "execution_count": null,
      "metadata": {
        "id": "FkSijODbTYco"
      },
      "outputs": [],
      "source": [
        "from functools import partial\n",
        "\n",
        "tf.keras.backend.clear_session()\n",
        "\n",
        "DefaultConv2D = partial(keras.layers.Conv2D,\n",
        "                        kernel_size=4, activation='relu', padding=\"SAME\")\n",
        "\n",
        "model = keras.models.Sequential([\n",
        "    keras.Input(shape=[64, 64, 1]),\n",
        "    keras.layers.BatchNormalization(),\n",
        "    DefaultConv2D(filters=32, kernel_size=8),\n",
        "    #DefaultConv2D(filters=32, kernel_size=8),\n",
        "    #keras.layers.BatchNormalization(),\n",
        "    #keras.layers.MaxPooling2D(pool_size=2),\n",
        "    #DefaultConv2D(filters=32),\n",
        "    #DefaultConv2D(filters=32),\n",
        "    #keras.layers.BatchNormalization(),\n",
        "    #keras.layers.MaxPooling2D(pool_size=2), \n",
        "    DefaultConv2D(filters=16),\n",
        "    #DefaultConv2D(filters=16),\n",
        "    keras.layers.BatchNormalization(),\n",
        "    keras.layers.MaxPooling2D(pool_size=2),\n",
        "    keras.layers.Flatten(),\n",
        "    keras.layers.Dense(units=128, activation='relu'),\n",
        "    keras.layers.Dropout(0.5),\n",
        "    #keras.layers.Dense(units=64, activation='relu'),\n",
        "    #keras.layers.Dropout(0.5),\n",
        "    keras.layers.Dense(units=2, activation='softmax'),\n",
        "])"
      ]
    },
    {
      "cell_type": "code",
      "execution_count": null,
      "metadata": {
        "colab": {
          "base_uri": "https://localhost:8080/"
        },
        "id": "Pxzy6s4cTceo",
        "outputId": "f0d3d83a-79a7-4423-d0a9-72a63d31a3fd"
      },
      "outputs": [
        {
          "name": "stdout",
          "output_type": "stream",
          "text": [
            "Epoch 1/10\n",
            "48/48 [==============================] - 8s 57ms/step - loss: 0.5931 - accuracy: 0.8206 - F1_score: 0.2386 - Precision: 0.1364 - Recall: 1.0000 - auroc: 0.5280 - val_loss: 0.5808 - val_accuracy: 0.8714 - val_F1_score: 0.2273 - val_Precision: 0.1291 - val_Recall: 1.0000 - val_auroc: 0.5263\n",
            "Epoch 2/10\n",
            "48/48 [==============================] - 7s 52ms/step - loss: 0.4024 - accuracy: 0.8603 - F1_score: 0.2385 - Precision: 0.1363 - Recall: 1.0000 - auroc: 0.6298 - val_loss: 0.5721 - val_accuracy: 0.8714 - val_F1_score: 0.2285 - val_Precision: 0.1296 - val_Recall: 1.0000 - val_auroc: 0.5441\n",
            "Epoch 3/10\n",
            "48/48 [==============================] - 7s 50ms/step - loss: 0.3761 - accuracy: 0.8631 - F1_score: 0.2372 - Precision: 0.1352 - Recall: 1.0000 - auroc: 0.6920 - val_loss: 0.6087 - val_accuracy: 0.8674 - val_F1_score: 0.2277 - val_Precision: 0.1294 - val_Recall: 1.0000 - val_auroc: 0.5599\n",
            "Epoch 4/10\n",
            "48/48 [==============================] - 7s 50ms/step - loss: 0.3497 - accuracy: 0.8710 - F1_score: 0.2335 - Precision: 0.1328 - Recall: 1.0000 - auroc: 0.7397 - val_loss: 0.5783 - val_accuracy: 0.8526 - val_F1_score: 0.2297 - val_Precision: 0.1310 - val_Recall: 1.0000 - val_auroc: 0.5585\n",
            "Epoch 5/10\n",
            "48/48 [==============================] - 7s 51ms/step - loss: 0.3303 - accuracy: 0.8731 - F1_score: 0.2393 - Precision: 0.1372 - Recall: 1.0000 - auroc: 0.7935 - val_loss: 0.5540 - val_accuracy: 0.8509 - val_F1_score: 0.2288 - val_Precision: 0.1302 - val_Recall: 1.0000 - val_auroc: 0.5743\n",
            "Epoch 6/10\n",
            "48/48 [==============================] - 7s 50ms/step - loss: 0.3125 - accuracy: 0.8793 - F1_score: 0.2381 - Precision: 0.1357 - Recall: 1.0000 - auroc: 0.8185 - val_loss: 0.5511 - val_accuracy: 0.8600 - val_F1_score: 0.2277 - val_Precision: 0.1291 - val_Recall: 1.0000 - val_auroc: 0.5846\n",
            "Epoch 7/10\n",
            "48/48 [==============================] - 7s 49ms/step - loss: 0.2971 - accuracy: 0.8821 - F1_score: 0.2439 - Precision: 0.1395 - Recall: 1.0000 - auroc: 0.8462 - val_loss: 0.5346 - val_accuracy: 0.8474 - val_F1_score: 0.2277 - val_Precision: 0.1294 - val_Recall: 1.0000 - val_auroc: 0.5851\n",
            "Epoch 8/10\n",
            "48/48 [==============================] - 7s 50ms/step - loss: 0.2842 - accuracy: 0.8880 - F1_score: 0.2398 - Precision: 0.1373 - Recall: 1.0000 - auroc: 0.8663 - val_loss: 0.5154 - val_accuracy: 0.8457 - val_F1_score: 0.2257 - val_Precision: 0.1277 - val_Recall: 1.0000 - val_auroc: 0.5730\n",
            "Epoch 9/10\n",
            "48/48 [==============================] - 7s 49ms/step - loss: 0.2604 - accuracy: 0.8987 - F1_score: 0.2399 - Precision: 0.1369 - Recall: 1.0000 - auroc: 0.8903 - val_loss: 0.4990 - val_accuracy: 0.8446 - val_F1_score: 0.2259 - val_Precision: 0.1283 - val_Recall: 1.0000 - val_auroc: 0.5807\n",
            "Epoch 10/10\n",
            "48/48 [==============================] - 7s 49ms/step - loss: 0.2400 - accuracy: 0.9039 - F1_score: 0.2369 - Precision: 0.1350 - Recall: 1.0000 - auroc: 0.9096 - val_loss: 0.4784 - val_accuracy: 0.8457 - val_F1_score: 0.2280 - val_Precision: 0.1291 - val_Recall: 1.0000 - val_auroc: 0.5922\n",
            "7/7 [==============================] - 4s 10ms/step - loss: 0.3755 - accuracy: 0.9364 - F1_score: 0.2282 - Precision: 0.1295 - Recall: 1.0000 - auroc: 0.9432\n"
          ]
        }
      ],
      "source": [
        "optimizer = keras.optimizers.RMSprop(learning_rate=0.0001)\n",
        "model.compile(loss=\"sparse_categorical_crossentropy\", optimizer=optimizer,\n",
        "              metrics=[\"accuracy\", F1_score, Precision, Recall, auroc])\n",
        "history = model.fit(train_ds, epochs=10, validation_data=validation_ds)\n",
        "score = model.evaluate(test_ds)"
      ]
    },
    {
      "cell_type": "markdown",
      "metadata": {
        "id": "Sf34HwN-H7Im"
      },
      "source": [
        "## Xception Model"
      ]
    },
    {
      "cell_type": "code",
      "execution_count": null,
      "metadata": {
        "colab": {
          "base_uri": "https://localhost:8080/"
        },
        "id": "4q8eiQdk_asH",
        "outputId": "bacfd1b1-5cfb-47a8-857f-b63a641c3615"
      },
      "outputs": [
        {
          "name": "stdout",
          "output_type": "stream",
          "text": [
            "Found 6568 files belonging to 2 classes.\n",
            "Using 5255 files for training.\n",
            "Found 6568 files belonging to 2 classes.\n",
            "Using 1313 files for validation.\n"
          ]
        }
      ],
      "source": [
        "data_dir = root + \"data_subset/\"\n",
        "batch_size = 32;\n",
        "# IMPORTANT: Depends on what pre-trained model you choose, you will need to change these dimensions accordingly\n",
        "img_height = 299; \n",
        "img_width = 299;\n",
        "\n",
        "# Training Dataset\n",
        "train_ds = tf.keras.preprocessing.image_dataset_from_directory(\n",
        "    data_dir,\n",
        "    color_mode = 'rgb',\n",
        "    validation_split = 0.2,\n",
        "    subset = \"training\",\n",
        "    seed = 42,\n",
        "    image_size= (img_height, img_width),\n",
        "    batch_size = batch_size\n",
        ")\n",
        "\n",
        "# Validation Dataset\n",
        "validation_ds = tf.keras.preprocessing.image_dataset_from_directory(\n",
        "    data_dir,\n",
        "    color_mode = 'rgb',\n",
        "    validation_split = 0.2,\n",
        "    subset = \"validation\",\n",
        "    seed = 42,\n",
        "    image_size = (img_height, img_width),\n",
        "    batch_size = batch_size\n",
        ")        \n"
      ]
    },
    {
      "cell_type": "code",
      "execution_count": null,
      "metadata": {
        "id": "nefKSI8k_q1d"
      },
      "outputs": [],
      "source": [
        "tf.random.set_seed(42)\n",
        "#train is 70% of data, test is 10% of data.\n",
        "#ref: https://stackoverflow.com/questions/50737192/tf-data-dataset-how-to-get-the-dataset-size-number-of-elements-in-an-epoch\n",
        "dataset_size = train_ds.cardinality().numpy()\n",
        "train_size = int(0.875 * dataset_size)\n",
        "test_size = int(0.125 * dataset_size)\n",
        "\n",
        "temp_ds = train_ds.shuffle(1000, seed=42)\n",
        "train_ds = temp_ds.take(train_size)\n",
        "test_ds = temp_ds.skip(train_size)"
      ]
    },
    {
      "cell_type": "code",
      "execution_count": null,
      "metadata": {
        "id": "ZOaMG5wM_wyr"
      },
      "outputs": [],
      "source": [
        "n_classes = 2\n",
        "def xception_preprocess_x(x, y):\n",
        "  x = tf.keras.applications.xception.preprocess_input(x)\n",
        "  return x,y\n",
        "xception_ds_train = train_ds.map(xception_preprocess_x)\n",
        "xception_ds_val = validation_ds.map(xception_preprocess_x)\n",
        "xception_ds_test = test_ds.map(xception_preprocess_x)"
      ]
    },
    {
      "cell_type": "code",
      "execution_count": null,
      "metadata": {
        "colab": {
          "base_uri": "https://localhost:8080/"
        },
        "id": "H1eVGO5B_2fi",
        "outputId": "e6769f9d-9ef0-4f8f-9c27-1785fb15c953"
      },
      "outputs": [
        {
          "data": {
            "text/plain": [
              "144"
            ]
          },
          "execution_count": 9,
          "metadata": {},
          "output_type": "execute_result"
        }
      ],
      "source": [
        "#ref: https://stackoverflow.com/questions/50737192/tf-data-dataset-how-to-get-the-dataset-size-number-of-elements-in-an-epoch\n",
        "dataset_size = xception_ds_train.cardinality().numpy()\n",
        "dataset_size"
      ]
    },
    {
      "cell_type": "code",
      "execution_count": null,
      "metadata": {
        "colab": {
          "base_uri": "https://localhost:8080/"
        },
        "id": "Y-actgo1Gc4o",
        "outputId": "6547f8f0-9c5b-4fb8-db0b-16e59b22db0f"
      },
      "outputs": [
        {
          "name": "stdout",
          "output_type": "stream",
          "text": [
            "Downloading data from https://storage.googleapis.com/tensorflow/keras-applications/xception/xception_weights_tf_dim_ordering_tf_kernels_notop.h5\n",
            "83689472/83683744 [==============================] - 0s 0us/step\n",
            "83697664/83683744 [==============================] - 0s 0us/step\n"
          ]
        }
      ],
      "source": [
        "tf.keras.backend.clear_session()\n",
        "base_model = keras.applications.xception.Xception(weights=\"imagenet\",\n",
        "                                                  include_top=False)\n",
        "avg = keras.layers.GlobalAveragePooling2D()(base_model.output)\n",
        "output = keras.layers.Dense(n_classes, activation=\"softmax\")(avg)\n",
        "model = keras.models.Model(inputs=base_model.input, outputs=output)"
      ]
    },
    {
      "cell_type": "code",
      "execution_count": null,
      "metadata": {
        "colab": {
          "base_uri": "https://localhost:8080/"
        },
        "id": "uuoD0-HNGevS",
        "outputId": "57f19621-bdee-4663-aba5-f77efd3267e9"
      },
      "outputs": [
        {
          "name": "stdout",
          "output_type": "stream",
          "text": [
            "Epoch 1/5\n",
            "144/144 [==============================] - 171s 368ms/step - loss: 1.4358 - accuracy: 0.7785 - F1_score: 0.2393 - Precision: 0.1394 - Recall: 1.0000 - val_loss: 0.7293 - val_accuracy: 0.8416 - val_F1_score: 0.2554 - val_Precision: 0.1496 - val_Recall: 0.9762\n",
            "Epoch 2/5\n",
            "144/144 [==============================] - 52s 321ms/step - loss: 0.8102 - accuracy: 0.8006 - F1_score: 0.2339 - Precision: 0.1354 - Recall: 0.9931 - val_loss: 0.6157 - val_accuracy: 0.8180 - val_F1_score: 0.2551 - val_Precision: 0.1496 - val_Recall: 0.9762\n",
            "Epoch 3/5\n",
            "144/144 [==============================] - 54s 335ms/step - loss: 0.4444 - accuracy: 0.8377 - F1_score: 0.2425 - Precision: 0.1413 - Recall: 1.0000 - val_loss: 0.5808 - val_accuracy: 0.8462 - val_F1_score: 0.2533 - val_Precision: 0.1496 - val_Recall: 0.9762\n",
            "Epoch 4/5\n",
            "144/144 [==============================] - 55s 343ms/step - loss: 0.3665 - accuracy: 0.8529 - F1_score: 0.2339 - Precision: 0.1360 - Recall: 0.9931 - val_loss: 0.5065 - val_accuracy: 0.8363 - val_F1_score: 0.2548 - val_Precision: 0.1496 - val_Recall: 0.9762\n",
            "Epoch 5/5\n",
            "144/144 [==============================] - 55s 347ms/step - loss: 0.3382 - accuracy: 0.8652 - F1_score: 0.2340 - Precision: 0.1353 - Recall: 1.0000 - val_loss: 0.4913 - val_accuracy: 0.7974 - val_F1_score: 0.2536 - val_Precision: 0.1496 - val_Recall: 0.9762\n"
          ]
        }
      ],
      "source": [
        "for layer in base_model.layers:\n",
        "    layer.trainable = False\n",
        "\n",
        "optimizer = keras.optimizers.SGD(learning_rate=0.2, momentum=0.9, decay=0.01)\n",
        "model.compile(loss=\"sparse_categorical_crossentropy\", optimizer=optimizer,\n",
        "              metrics=['accuracy', F1_score, Precision, Recall])\n",
        "history = model.fit(xception_ds_train,\n",
        "                    validation_data=xception_ds_val,\n",
        "                    epochs=5)"
      ]
    },
    {
      "cell_type": "code",
      "execution_count": null,
      "metadata": {
        "colab": {
          "base_uri": "https://localhost:8080/"
        },
        "id": "Qrjxj6oKGsjr",
        "outputId": "2442ac90-751d-48d0-f599-03a41ea02ac6"
      },
      "outputs": [
        {
          "name": "stdout",
          "output_type": "stream",
          "text": [
            "Epoch 1/10\n",
            "144/144 [==============================] - 193s 1s/step - loss: 0.4131 - accuracy: 0.8595 - F1_score: 0.2322 - Precision: 0.1345 - Recall: 0.9931 - val_loss: 0.4517 - val_accuracy: 0.8469 - val_F1_score: 0.2542 - val_Precision: 0.1496 - val_Recall: 0.9762\n",
            "Epoch 2/10\n",
            "144/144 [==============================] - 187s 1s/step - loss: 0.3534 - accuracy: 0.8622 - F1_score: 0.2398 - Precision: 0.1395 - Recall: 0.9861 - val_loss: 0.4327 - val_accuracy: 0.8393 - val_F1_score: 0.2787 - val_Precision: 0.1726 - val_Recall: 1.0000\n",
            "Epoch 3/10\n",
            "144/144 [==============================] - 186s 1s/step - loss: 0.2756 - accuracy: 0.8905 - F1_score: 0.2394 - Precision: 0.1394 - Recall: 0.9931 - val_loss: 0.4935 - val_accuracy: 0.8165 - val_F1_score: 0.2542 - val_Precision: 0.1496 - val_Recall: 0.9762\n",
            "Epoch 4/10\n",
            "144/144 [==============================] - 186s 1s/step - loss: 0.1888 - accuracy: 0.9286 - F1_score: 0.2416 - Precision: 0.1404 - Recall: 0.9931 - val_loss: 0.6545 - val_accuracy: 0.7822 - val_F1_score: 0.2552 - val_Precision: 0.1496 - val_Recall: 0.9524\n",
            "Epoch 5/10\n",
            "144/144 [==============================] - 186s 1s/step - loss: 0.1382 - accuracy: 0.9463 - F1_score: 0.2335 - Precision: 0.1355 - Recall: 1.0000 - val_loss: 0.6954 - val_accuracy: 0.8195 - val_F1_score: 0.2549 - val_Precision: 0.1496 - val_Recall: 0.9762\n",
            "Epoch 6/10\n",
            "144/144 [==============================] - 186s 1s/step - loss: 0.1000 - accuracy: 0.9633 - F1_score: 0.2364 - Precision: 0.1372 - Recall: 0.9931 - val_loss: 0.7343 - val_accuracy: 0.8065 - val_F1_score: 0.2544 - val_Precision: 0.1496 - val_Recall: 0.9762\n",
            "Epoch 7/10\n",
            "144/144 [==============================] - 188s 1s/step - loss: 0.0620 - accuracy: 0.9781 - F1_score: 0.2374 - Precision: 0.1387 - Recall: 0.9931 - val_loss: 0.8153 - val_accuracy: 0.8149 - val_F1_score: 0.2784 - val_Precision: 0.1726 - val_Recall: 1.0000\n",
            "Epoch 8/10\n",
            "144/144 [==============================] - 186s 1s/step - loss: 0.0277 - accuracy: 0.9921 - F1_score: 0.2321 - Precision: 0.1347 - Recall: 0.9931 - val_loss: 0.9119 - val_accuracy: 0.8271 - val_F1_score: 0.2544 - val_Precision: 0.1496 - val_Recall: 0.9762\n",
            "Epoch 9/10\n",
            "144/144 [==============================] - 187s 1s/step - loss: 0.0146 - accuracy: 0.9965 - F1_score: 0.2410 - Precision: 0.1404 - Recall: 1.0000 - val_loss: 0.9387 - val_accuracy: 0.8126 - val_F1_score: 0.2550 - val_Precision: 0.1496 - val_Recall: 0.9762\n",
            "Epoch 10/10\n",
            "144/144 [==============================] - 187s 1s/step - loss: 0.0108 - accuracy: 0.9969 - F1_score: 0.2384 - Precision: 0.1386 - Recall: 0.9861 - val_loss: 1.0686 - val_accuracy: 0.8309 - val_F1_score: 0.2538 - val_Precision: 0.1496 - val_Recall: 0.9762\n"
          ]
        }
      ],
      "source": [
        "for layer in base_model.layers:\n",
        "    layer.trainable = True\n",
        "\n",
        "optimizer = keras.optimizers.SGD(learning_rate=0.01, momentum=0.9, nesterov=True, decay=0.001)\n",
        "model.compile(loss=\"sparse_categorical_crossentropy\", optimizer=optimizer,\n",
        "              metrics=['accuracy', F1_score, Precision, Recall])\n",
        "history = model.fit(xception_ds_train,\n",
        "                    validation_data=xception_ds_val,\n",
        "                    epochs=10)"
      ]
    },
    {
      "cell_type": "code",
      "execution_count": null,
      "metadata": {
        "colab": {
          "base_uri": "https://localhost:8080/"
        },
        "id": "jIcX_ipzGurF",
        "outputId": "2d5935b5-77f2-44c5-a58d-8b0d0329544e"
      },
      "outputs": [
        {
          "name": "stdout",
          "output_type": "stream",
          "text": [
            "21/21 [==============================] - 11s 269ms/step - loss: 0.0029 - accuracy: 1.0000 - F1_score: 0.2439 - Precision: 0.1414 - Recall: 1.0000\n"
          ]
        }
      ],
      "source": [
        "score = model.evaluate(xception_ds_test)"
      ]
    },
    {
      "cell_type": "markdown",
      "metadata": {
        "id": "XfynquvEH_zD"
      },
      "source": [
        "## InceptionResNetV2 Model"
      ]
    },
    {
      "cell_type": "code",
      "execution_count": null,
      "metadata": {
        "id": "7o4Sr4A2Tpnd"
      },
      "outputs": [],
      "source": [
        "n_classes = 2\n",
        "def InceptionResNetV2_preprocess_x(x, y):\n",
        "  x = tf.keras.applications.inception_resnet_v2.preprocess_input(x)\n",
        "  return x,y\n",
        "InceptionResNetV2_ds_train = train_ds.map(InceptionResNetV2_preprocess_x)\n",
        "InceptionResNetV2_ds_val = validation_ds.map(InceptionResNetV2_preprocess_x)\n",
        "InceptionResNetV2_ds_test = test_ds.map(InceptionResNetV2_preprocess_x)"
      ]
    },
    {
      "cell_type": "code",
      "execution_count": null,
      "metadata": {
        "id": "DXEvvXvbOMso"
      },
      "outputs": [],
      "source": [
        "tf.keras.backend.clear_session()\n",
        "base_model = keras.applications.InceptionResNetV2(weights=\"imagenet\",\n",
        "                                                  include_top=False)\n",
        "avg = keras.layers.GlobalAveragePooling2D()(base_model.output)\n",
        "output = keras.layers.Dense(n_classes, activation=\"softmax\")(avg)\n",
        "model = keras.models.Model(inputs=base_model.input, outputs=output)"
      ]
    },
    {
      "cell_type": "code",
      "execution_count": null,
      "metadata": {
        "colab": {
          "base_uri": "https://localhost:8080/"
        },
        "id": "j1-pQdc_Pp8p",
        "outputId": "ff9242bf-7ab3-4c20-d00f-462a212ca8be"
      },
      "outputs": [
        {
          "name": "stdout",
          "output_type": "stream",
          "text": [
            "Epoch 1/10\n",
            "144/144 [==============================] - 60s 260ms/step - loss: 5.0471 - accuracy: 0.7694 - F1_score: 0.2397 - Precision: 0.1391 - Recall: 0.9931 - val_loss: 6.3498 - val_accuracy: 0.4433 - val_F1_score: 0.2551 - val_Precision: 0.1496 - val_Recall: 0.9762\n",
            "Epoch 2/10\n",
            "144/144 [==============================] - 41s 235ms/step - loss: 2.4340 - accuracy: 0.7759 - F1_score: 0.2387 - Precision: 0.1387 - Recall: 1.0000 - val_loss: 3.2758 - val_accuracy: 0.8469 - val_F1_score: 0.2533 - val_Precision: 0.1496 - val_Recall: 0.9762\n",
            "Epoch 3/10\n",
            "144/144 [==============================] - 41s 233ms/step - loss: 2.5297 - accuracy: 0.7805 - F1_score: 0.2356 - Precision: 0.1368 - Recall: 0.9931 - val_loss: 0.8781 - val_accuracy: 0.8088 - val_F1_score: 0.2548 - val_Precision: 0.1496 - val_Recall: 0.9762\n",
            "Epoch 4/10\n",
            "144/144 [==============================] - 41s 234ms/step - loss: 1.0305 - accuracy: 0.8036 - F1_score: 0.2371 - Precision: 0.1375 - Recall: 1.0000 - val_loss: 1.7129 - val_accuracy: 0.8462 - val_F1_score: 0.2536 - val_Precision: 0.1496 - val_Recall: 0.9762\n",
            "Epoch 5/10\n",
            "144/144 [==============================] - 42s 234ms/step - loss: 0.8879 - accuracy: 0.8169 - F1_score: 0.2322 - Precision: 0.1345 - Recall: 0.9931 - val_loss: 0.7069 - val_accuracy: 0.7662 - val_F1_score: 0.2542 - val_Precision: 0.1496 - val_Recall: 0.9762\n",
            "Epoch 6/10\n",
            "144/144 [==============================] - 41s 235ms/step - loss: 0.8951 - accuracy: 0.8064 - F1_score: 0.2398 - Precision: 0.1395 - Recall: 0.9861 - val_loss: 1.0268 - val_accuracy: 0.8408 - val_F1_score: 0.2787 - val_Precision: 0.1726 - val_Recall: 1.0000\n",
            "Epoch 7/10\n",
            "144/144 [==============================] - 41s 235ms/step - loss: 0.6918 - accuracy: 0.8121 - F1_score: 0.2394 - Precision: 0.1394 - Recall: 0.9931 - val_loss: 0.9189 - val_accuracy: 0.8439 - val_F1_score: 0.2542 - val_Precision: 0.1496 - val_Recall: 0.9762\n",
            "Epoch 8/10\n",
            "144/144 [==============================] - 41s 234ms/step - loss: 0.5404 - accuracy: 0.8281 - F1_score: 0.2416 - Precision: 0.1404 - Recall: 0.9931 - val_loss: 0.9471 - val_accuracy: 0.8469 - val_F1_score: 0.2552 - val_Precision: 0.1496 - val_Recall: 0.9524\n",
            "Epoch 9/10\n",
            "144/144 [==============================] - 41s 234ms/step - loss: 0.4873 - accuracy: 0.8305 - F1_score: 0.2335 - Precision: 0.1355 - Recall: 1.0000 - val_loss: 0.5308 - val_accuracy: 0.8104 - val_F1_score: 0.2549 - val_Precision: 0.1496 - val_Recall: 0.9762\n",
            "Epoch 10/10\n",
            "144/144 [==============================] - 41s 235ms/step - loss: 0.5460 - accuracy: 0.8313 - F1_score: 0.2364 - Precision: 0.1372 - Recall: 0.9931 - val_loss: 0.5521 - val_accuracy: 0.8324 - val_F1_score: 0.2544 - val_Precision: 0.1496 - val_Recall: 0.9762\n"
          ]
        }
      ],
      "source": [
        "for layer in base_model.layers:\n",
        "    layer.trainable = False\n",
        "\n",
        "optimizer = keras.optimizers.SGD(learning_rate=0.2, momentum=0.9, decay=0.01)\n",
        "model.compile(loss=\"sparse_categorical_crossentropy\", optimizer=optimizer,\n",
        "              metrics=['accuracy', F1_score, Precision, Recall])\n",
        "history = model.fit(InceptionResNetV2_ds_train,\n",
        "                    validation_data=InceptionResNetV2_ds_val,\n",
        "                    epochs=10)"
      ]
    },
    {
      "cell_type": "code",
      "execution_count": null,
      "metadata": {
        "colab": {
          "base_uri": "https://localhost:8080/"
        },
        "id": "pYRmnVcYPsg2",
        "outputId": "5403515c-a10e-460e-e48d-6ad685e9d868"
      },
      "outputs": [
        {
          "name": "stdout",
          "output_type": "stream",
          "text": [
            "Epoch 1/20\n",
            "144/144 [==============================] - 121s 640ms/step - loss: 0.5875 - accuracy: 0.8414 - F1_score: 0.2371 - Precision: 0.1387 - Recall: 0.9792 - val_loss: 1.8299 - val_accuracy: 0.6885 - val_F1_score: 0.2784 - val_Precision: 0.1726 - val_Recall: 1.0000\n",
            "Epoch 2/20\n",
            "144/144 [==============================] - 95s 610ms/step - loss: 0.3992 - accuracy: 0.8636 - F1_score: 0.2350 - Precision: 0.1364 - Recall: 0.9931 - val_loss: 0.5808 - val_accuracy: 0.8050 - val_F1_score: 0.2544 - val_Precision: 0.1496 - val_Recall: 0.9762\n",
            "Epoch 3/20\n",
            "144/144 [==============================] - 95s 610ms/step - loss: 0.3888 - accuracy: 0.8634 - F1_score: 0.2356 - Precision: 0.1365 - Recall: 1.0000 - val_loss: 0.4141 - val_accuracy: 0.8469 - val_F1_score: 0.2550 - val_Precision: 0.1496 - val_Recall: 0.9762\n",
            "Epoch 4/20\n",
            "144/144 [==============================] - 96s 610ms/step - loss: 0.3879 - accuracy: 0.8617 - F1_score: 0.2373 - Precision: 0.1377 - Recall: 0.9931 - val_loss: 0.4094 - val_accuracy: 0.8469 - val_F1_score: 0.2538 - val_Precision: 0.1496 - val_Recall: 0.9762\n",
            "Epoch 5/20\n",
            "144/144 [==============================] - 95s 610ms/step - loss: 0.3741 - accuracy: 0.8610 - F1_score: 0.2374 - Precision: 0.1372 - Recall: 0.9931 - val_loss: 0.4127 - val_accuracy: 0.8454 - val_F1_score: 0.2529 - val_Precision: 0.1496 - val_Recall: 0.9524\n",
            "Epoch 6/20\n",
            "144/144 [==============================] - 95s 610ms/step - loss: 0.3684 - accuracy: 0.8612 - F1_score: 0.2410 - Precision: 0.1407 - Recall: 0.9931 - val_loss: 0.4325 - val_accuracy: 0.8462 - val_F1_score: 0.2552 - val_Precision: 0.1496 - val_Recall: 0.9762\n",
            "Epoch 7/20\n",
            "144/144 [==============================] - 95s 610ms/step - loss: 0.3488 - accuracy: 0.8645 - F1_score: 0.2408 - Precision: 0.1395 - Recall: 0.9931 - val_loss: 0.4387 - val_accuracy: 0.8363 - val_F1_score: 0.2540 - val_Precision: 0.1496 - val_Recall: 0.9762\n",
            "Epoch 8/20\n",
            "144/144 [==============================] - 95s 610ms/step - loss: 0.3211 - accuracy: 0.8708 - F1_score: 0.2387 - Precision: 0.1389 - Recall: 0.9861 - val_loss: 0.4678 - val_accuracy: 0.8142 - val_F1_score: 0.2551 - val_Precision: 0.1496 - val_Recall: 0.9762\n",
            "Epoch 9/20\n",
            "144/144 [==============================] - 95s 612ms/step - loss: 0.2880 - accuracy: 0.8863 - F1_score: 0.2354 - Precision: 0.1369 - Recall: 0.9861 - val_loss: 0.4814 - val_accuracy: 0.8332 - val_F1_score: 0.2768 - val_Precision: 0.1726 - val_Recall: 1.0000\n",
            "Epoch 10/20\n",
            "144/144 [==============================] - 95s 610ms/step - loss: 0.2520 - accuracy: 0.9016 - F1_score: 0.2398 - Precision: 0.1398 - Recall: 0.9722 - val_loss: 0.4658 - val_accuracy: 0.8126 - val_F1_score: 0.2547 - val_Precision: 0.1496 - val_Recall: 0.9762\n",
            "Epoch 11/20\n",
            "144/144 [==============================] - 95s 611ms/step - loss: 0.2412 - accuracy: 0.9042 - F1_score: 0.2364 - Precision: 0.1372 - Recall: 0.9861 - val_loss: 0.5490 - val_accuracy: 0.8454 - val_F1_score: 0.2525 - val_Precision: 0.1496 - val_Recall: 0.9762\n",
            "Epoch 12/20\n",
            "144/144 [==============================] - 95s 610ms/step - loss: 0.1992 - accuracy: 0.9247 - F1_score: 0.2302 - Precision: 0.1330 - Recall: 0.9861 - val_loss: 0.5235 - val_accuracy: 0.7784 - val_F1_score: 0.2516 - val_Precision: 0.1496 - val_Recall: 0.9286\n",
            "Epoch 13/20\n",
            "144/144 [==============================] - 96s 609ms/step - loss: 0.1715 - accuracy: 0.9367 - F1_score: 0.2352 - Precision: 0.1367 - Recall: 0.9792 - val_loss: 0.5868 - val_accuracy: 0.8165 - val_F1_score: 0.2533 - val_Precision: 0.1496 - val_Recall: 0.9524\n",
            "Epoch 14/20\n",
            "144/144 [==============================] - 95s 610ms/step - loss: 0.1499 - accuracy: 0.9461 - F1_score: 0.2379 - Precision: 0.1384 - Recall: 1.0000 - val_loss: 0.7912 - val_accuracy: 0.8271 - val_F1_score: 0.2561 - val_Precision: 0.1496 - val_Recall: 0.9762\n",
            "Epoch 15/20\n",
            "144/144 [==============================] - 95s 613ms/step - loss: 0.1317 - accuracy: 0.9497 - F1_score: 0.2398 - Precision: 0.1393 - Recall: 0.9931 - val_loss: 0.7935 - val_accuracy: 0.8279 - val_F1_score: 0.2555 - val_Precision: 0.1496 - val_Recall: 0.9524\n",
            "Epoch 16/20\n",
            "144/144 [==============================] - 95s 609ms/step - loss: 0.0944 - accuracy: 0.9657 - F1_score: 0.2375 - Precision: 0.1374 - Recall: 0.9931 - val_loss: 0.9438 - val_accuracy: 0.8195 - val_F1_score: 0.2561 - val_Precision: 0.1496 - val_Recall: 0.9762\n",
            "Epoch 17/20\n",
            "144/144 [==============================] - 95s 610ms/step - loss: 0.1072 - accuracy: 0.9594 - F1_score: 0.2322 - Precision: 0.1343 - Recall: 0.9722 - val_loss: 1.0547 - val_accuracy: 0.8370 - val_F1_score: 0.2518 - val_Precision: 0.1496 - val_Recall: 0.9524\n",
            "Epoch 18/20\n",
            "144/144 [==============================] - 95s 613ms/step - loss: 0.0798 - accuracy: 0.9718 - F1_score: 0.2377 - Precision: 0.1385 - Recall: 0.9931 - val_loss: 0.8320 - val_accuracy: 0.7601 - val_F1_score: 0.2539 - val_Precision: 0.1496 - val_Recall: 0.9762\n",
            "Epoch 19/20\n",
            "144/144 [==============================] - 95s 610ms/step - loss: 0.0811 - accuracy: 0.9734 - F1_score: 0.2401 - Precision: 0.1400 - Recall: 0.9722 - val_loss: 0.9519 - val_accuracy: 0.8142 - val_F1_score: 0.2560 - val_Precision: 0.1496 - val_Recall: 0.9762\n",
            "Epoch 20/20\n",
            "144/144 [==============================] - 95s 610ms/step - loss: 0.0751 - accuracy: 0.9723 - F1_score: 0.2381 - Precision: 0.1384 - Recall: 0.9861 - val_loss: 0.9755 - val_accuracy: 0.7685 - val_F1_score: 0.2551 - val_Precision: 0.1496 - val_Recall: 0.9762\n"
          ]
        }
      ],
      "source": [
        "for layer in base_model.layers:\n",
        "    layer.trainable = True\n",
        "\n",
        "optimizer = keras.optimizers.SGD(learning_rate=0.01, momentum=0.9,\n",
        "                                 nesterov=True, decay=0.001)\n",
        "model.compile(loss=\"sparse_categorical_crossentropy\", optimizer=optimizer,\n",
        "              metrics=['accuracy', F1_score, Precision, Recall])\n",
        "history = model.fit(InceptionResNetV2_ds_train,\n",
        "                    validation_data=InceptionResNetV2_ds_val,\n",
        "                    epochs=20)"
      ]
    },
    {
      "cell_type": "code",
      "execution_count": null,
      "metadata": {
        "colab": {
          "base_uri": "https://localhost:8080/"
        },
        "id": "gJEz8mmRqTEe",
        "outputId": "7fcd75c4-cbe0-4ea4-f3b5-2a6dd0ad45d7"
      },
      "outputs": [
        {
          "name": "stdout",
          "output_type": "stream",
          "text": [
            "21/21 [==============================] - 11s 182ms/step - loss: 0.1231 - accuracy: 0.9405 - F1_score: 0.2560 - Precision: 0.1548 - Recall: 0.9524\n"
          ]
        }
      ],
      "source": [
        "score = model.evaluate(InceptionResNetV2_ds_test)"
      ]
    },
    {
      "cell_type": "markdown",
      "metadata": {
        "id": "7RVqNIVkrwxe"
      },
      "source": [
        "## ResNet152V2 Model\n",
        "\n"
      ]
    },
    {
      "cell_type": "code",
      "execution_count": null,
      "metadata": {
        "colab": {
          "base_uri": "https://localhost:8080/"
        },
        "id": "koZRw7vSbz2w",
        "outputId": "625d977d-b5a2-4d03-e1cc-0fd04833e54f"
      },
      "outputs": [
        {
          "output_type": "stream",
          "name": "stdout",
          "text": [
            "Found 6568 files belonging to 2 classes.\n",
            "Using 5255 files for training.\n",
            "Found 6568 files belonging to 2 classes.\n",
            "Using 1313 files for validation.\n"
          ]
        }
      ],
      "source": [
        "data_dir = root + \"data_subset/\"\n",
        "batch_size = 64;\n",
        "# IMPORTANT: Depends on what pre-trained model you choose, you will need to change these dimensions accordingly\n",
        "img_height = 224; \n",
        "img_width = 224;\n",
        "\n",
        "# Training Dataset\n",
        "train_ds = tf.keras.preprocessing.image_dataset_from_directory(\n",
        "    data_dir,\n",
        "    color_mode = 'rgb',\n",
        "    validation_split = 0.2,\n",
        "    subset = \"training\",\n",
        "    seed = 42,\n",
        "    image_size= (img_height, img_width),\n",
        "    batch_size = batch_size\n",
        ")\n",
        "\n",
        "# Validation Dataset\n",
        "validation_ds = tf.keras.preprocessing.image_dataset_from_directory(\n",
        "    data_dir,\n",
        "    color_mode = 'rgb',\n",
        "    validation_split = 0.2,\n",
        "    subset = \"validation\",\n",
        "    seed = 42,\n",
        "    image_size = (img_height, img_width),\n",
        "    batch_size = batch_size\n",
        ")        "
      ]
    },
    {
      "cell_type": "code",
      "execution_count": null,
      "metadata": {
        "id": "hvYCK--2p9td"
      },
      "outputs": [],
      "source": [
        "tf.random.set_seed(42)\n",
        "#train is 70% of data, test is 10% of data.\n",
        "#ref: https://stackoverflow.com/questions/50737192/tf-data-dataset-how-to-get-the-dataset-size-number-of-elements-in-an-epoch\n",
        "dataset_size = train_ds.cardinality().numpy()\n",
        "train_size = int(0.875 * dataset_size)\n",
        "test_size = int(0.125 * dataset_size)\n",
        "\n",
        "temp_ds = train_ds.shuffle(1000, seed=42)\n",
        "train_ds = temp_ds.take(train_size)\n",
        "test_ds = temp_ds.skip(train_size)"
      ]
    },
    {
      "cell_type": "code",
      "execution_count": null,
      "metadata": {
        "id": "m_PZnXqubz5W"
      },
      "outputs": [],
      "source": [
        "n_classes = 2\n",
        "def resnet_v2_preprocess_x(x, y):\n",
        "  x = tf.keras.applications.resnet_v2.preprocess_input(x)\n",
        "  return x,y\n",
        "resnet_v2_ds_train = train_ds.map(resnet_v2_preprocess_x)\n",
        "resnet_v2_ds_val = validation_ds.map(resnet_v2_preprocess_x)\n",
        "resnet_v2_ds_test = test_ds.map(resnet_v2_preprocess_x)"
      ]
    },
    {
      "cell_type": "code",
      "execution_count": null,
      "metadata": {
        "colab": {
          "base_uri": "https://localhost:8080/"
        },
        "id": "LyJSBY_vwYmU",
        "outputId": "5462cb86-5637-4ce3-ff33-1380623e3719"
      },
      "outputs": [
        {
          "output_type": "execute_result",
          "data": {
            "text/plain": [
              "72"
            ]
          },
          "metadata": {},
          "execution_count": 12
        }
      ],
      "source": [
        "dataset_size = resnet_v2_ds_train.cardinality().numpy()\n",
        "dataset_size"
      ]
    },
    {
      "cell_type": "code",
      "execution_count": null,
      "metadata": {
        "id": "IPyKd80Kbz8F"
      },
      "outputs": [],
      "source": [
        "tf.keras.backend.clear_session()\n",
        "base_model = keras.applications.ResNet152V2(weights=\"imagenet\",\n",
        "                                            include_top=False)\n",
        "avg = keras.layers.GlobalAveragePooling2D()(base_model.output)\n",
        "output = keras.layers.Dense(n_classes, activation=\"softmax\")(avg)\n",
        "model = keras.models.Model(inputs=base_model.input, outputs=output)"
      ]
    },
    {
      "cell_type": "code",
      "execution_count": null,
      "metadata": {
        "colab": {
          "base_uri": "https://localhost:8080/"
        },
        "id": "17YD0-YBcjJx",
        "outputId": "d234f2f8-0983-422c-eebc-34d994a303d2"
      },
      "outputs": [
        {
          "output_type": "stream",
          "name": "stdout",
          "text": [
            "Epoch 1/10\n",
            "72/72 [==============================] - 202s 676ms/step - loss: 4.2875 - accuracy: 0.7768 - F1_score: 0.2311 - Precision: 0.1324 - Recall: 0.9861 - val_loss: 3.8882 - val_accuracy: 0.6062 - val_F1_score: 0.2610 - val_Precision: 0.1523 - val_Recall: 1.0000\n",
            "Epoch 2/10\n",
            "72/72 [==============================] - 32s 317ms/step - loss: 2.4546 - accuracy: 0.7866 - F1_score: 0.2456 - Precision: 0.1416 - Recall: 1.0000 - val_loss: 2.3036 - val_accuracy: 0.7426 - val_F1_score: 0.2613 - val_Precision: 0.1517 - val_Recall: 1.0000\n",
            "Epoch 3/10\n",
            "72/72 [==============================] - 29s 315ms/step - loss: 1.5768 - accuracy: 0.8040 - F1_score: 0.2453 - Precision: 0.1420 - Recall: 1.0000 - val_loss: 2.8315 - val_accuracy: 0.7890 - val_F1_score: 0.2659 - val_Precision: 0.1544 - val_Recall: 1.0000\n",
            "Epoch 4/10\n",
            "72/72 [==============================] - 29s 315ms/step - loss: 1.5680 - accuracy: 0.8044 - F1_score: 0.2349 - Precision: 0.1348 - Recall: 0.9861 - val_loss: 2.7011 - val_accuracy: 0.5270 - val_F1_score: 0.2655 - val_Precision: 0.1544 - val_Recall: 1.0000\n",
            "Epoch 5/10\n",
            "72/72 [==============================] - 29s 317ms/step - loss: 1.1761 - accuracy: 0.8192 - F1_score: 0.2465 - Precision: 0.1422 - Recall: 1.0000 - val_loss: 1.6946 - val_accuracy: 0.6999 - val_F1_score: 0.2615 - val_Precision: 0.1523 - val_Recall: 1.0000\n",
            "Epoch 6/10\n",
            "72/72 [==============================] - 29s 312ms/step - loss: 0.9526 - accuracy: 0.8334 - F1_score: 0.2436 - Precision: 0.1404 - Recall: 1.0000 - val_loss: 1.4479 - val_accuracy: 0.7601 - val_F1_score: 0.2651 - val_Precision: 0.1544 - val_Recall: 1.0000\n",
            "Epoch 7/10\n",
            "72/72 [==============================] - 29s 312ms/step - loss: 0.6381 - accuracy: 0.8528 - F1_score: 0.2288 - Precision: 0.1311 - Recall: 0.9861 - val_loss: 1.8742 - val_accuracy: 0.6321 - val_F1_score: 0.2636 - val_Precision: 0.1530 - val_Recall: 1.0000\n",
            "Epoch 8/10\n",
            "72/72 [==============================] - 29s 315ms/step - loss: 0.7842 - accuracy: 0.8327 - F1_score: 0.2411 - Precision: 0.1382 - Recall: 1.0000 - val_loss: 1.1948 - val_accuracy: 0.7867 - val_F1_score: 0.2626 - val_Precision: 0.1523 - val_Recall: 1.0000\n",
            "Epoch 9/10\n",
            "72/72 [==============================] - 29s 313ms/step - loss: 0.5942 - accuracy: 0.8490 - F1_score: 0.2357 - Precision: 0.1352 - Recall: 0.9861 - val_loss: 1.2713 - val_accuracy: 0.8126 - val_F1_score: 0.2650 - val_Precision: 0.1544 - val_Recall: 1.0000\n",
            "Epoch 10/10\n",
            "72/72 [==============================] - 29s 312ms/step - loss: 0.4818 - accuracy: 0.8642 - F1_score: 0.2463 - Precision: 0.1422 - Recall: 1.0000 - val_loss: 1.2913 - val_accuracy: 0.7875 - val_F1_score: 0.2620 - val_Precision: 0.1523 - val_Recall: 1.0000\n"
          ]
        }
      ],
      "source": [
        "for layer in base_model.layers:\n",
        "    layer.trainable = False\n",
        "\n",
        "optimizer = keras.optimizers.SGD(learning_rate=0.2, momentum=0.9, decay=0.01)\n",
        "model.compile(loss=\"sparse_categorical_crossentropy\", optimizer=optimizer,\n",
        "              metrics=['accuracy', F1_score, Precision, Recall])\n",
        "history = model.fit(resnet_v2_ds_train,\n",
        "                    validation_data=resnet_v2_ds_val,\n",
        "                    epochs=10)"
      ]
    },
    {
      "cell_type": "code",
      "execution_count": null,
      "metadata": {
        "colab": {
          "base_uri": "https://localhost:8080/"
        },
        "id": "qjxTRlO-cjMM",
        "outputId": "24780f8d-e424-4ca3-bbaa-2d3bd90d493d"
      },
      "outputs": [
        {
          "output_type": "stream",
          "name": "stdout",
          "text": [
            "Epoch 1/20\n",
            "72/72 [==============================] - 85s 810ms/step - loss: 0.9350 - accuracy: 0.8541 - F1_score: 0.2380 - Precision: 0.1363 - Recall: 1.0000 - val_loss: 62524.8438 - val_accuracy: 0.8469 - val_F1_score: 0.2657 - val_Precision: 0.1544 - val_Recall: 1.0000\n",
            "Epoch 2/20\n",
            "72/72 [==============================] - 61s 764ms/step - loss: 0.5367 - accuracy: 0.8646 - F1_score: 0.2317 - Precision: 0.1328 - Recall: 0.9861 - val_loss: 101589.9922 - val_accuracy: 0.8286 - val_F1_score: 0.2615 - val_Precision: 0.1517 - val_Recall: 1.0000\n",
            "Epoch 3/20\n",
            "72/72 [==============================] - 61s 763ms/step - loss: 0.5170 - accuracy: 0.8543 - F1_score: 0.2427 - Precision: 0.1400 - Recall: 0.9861 - val_loss: 10280.6914 - val_accuracy: 0.8469 - val_F1_score: 0.2651 - val_Precision: 0.1544 - val_Recall: 1.0000\n",
            "Epoch 4/20\n",
            "72/72 [==============================] - 61s 764ms/step - loss: 0.4732 - accuracy: 0.8589 - F1_score: 0.2414 - Precision: 0.1392 - Recall: 1.0000 - val_loss: 626.6621 - val_accuracy: 0.8469 - val_F1_score: 0.2665 - val_Precision: 0.1551 - val_Recall: 1.0000\n",
            "Epoch 5/20\n",
            "72/72 [==============================] - 61s 764ms/step - loss: 0.4880 - accuracy: 0.8578 - F1_score: 0.2438 - Precision: 0.1404 - Recall: 1.0000 - val_loss: 0.4285 - val_accuracy: 0.8469 - val_F1_score: 0.2588 - val_Precision: 0.1510 - val_Recall: 1.0000\n",
            "Epoch 6/20\n",
            "72/72 [==============================] - 61s 764ms/step - loss: 0.4763 - accuracy: 0.8537 - F1_score: 0.2467 - Precision: 0.1424 - Recall: 1.0000 - val_loss: 0.4289 - val_accuracy: 0.8469 - val_F1_score: 0.2636 - val_Precision: 0.1530 - val_Recall: 1.0000\n",
            "Epoch 7/20\n",
            "72/72 [==============================] - 61s 764ms/step - loss: 0.4762 - accuracy: 0.8609 - F1_score: 0.2339 - Precision: 0.1343 - Recall: 0.9861 - val_loss: 8.5505 - val_accuracy: 0.8469 - val_F1_score: 0.2665 - val_Precision: 0.1551 - val_Recall: 1.0000\n",
            "Epoch 8/20\n",
            "72/72 [==============================] - 61s 763ms/step - loss: 0.4809 - accuracy: 0.8620 - F1_score: 0.2370 - Precision: 0.1357 - Recall: 1.0000 - val_loss: 1.1571 - val_accuracy: 0.8233 - val_F1_score: 0.2615 - val_Precision: 0.1523 - val_Recall: 1.0000\n",
            "Epoch 9/20\n",
            "72/72 [==============================] - 61s 763ms/step - loss: 0.4598 - accuracy: 0.8581 - F1_score: 0.2449 - Precision: 0.1411 - Recall: 1.0000 - val_loss: 0.4285 - val_accuracy: 0.8469 - val_F1_score: 0.2645 - val_Precision: 0.1537 - val_Recall: 1.0000\n",
            "Epoch 10/20\n",
            "72/72 [==============================] - 61s 763ms/step - loss: 0.4689 - accuracy: 0.8583 - F1_score: 0.2399 - Precision: 0.1380 - Recall: 0.9861 - val_loss: 4.7298 - val_accuracy: 0.8469 - val_F1_score: 0.2645 - val_Precision: 0.1551 - val_Recall: 1.0000\n",
            "Epoch 11/20\n",
            "72/72 [==============================] - 61s 763ms/step - loss: 0.4499 - accuracy: 0.8572 - F1_score: 0.2435 - Precision: 0.1404 - Recall: 1.0000 - val_loss: 1.2262 - val_accuracy: 0.7928 - val_F1_score: 0.2624 - val_Precision: 0.1530 - val_Recall: 1.0000\n",
            "Epoch 12/20\n",
            "72/72 [==============================] - 61s 763ms/step - loss: 0.4653 - accuracy: 0.8618 - F1_score: 0.2330 - Precision: 0.1337 - Recall: 0.9861 - val_loss: 1.1573 - val_accuracy: 0.8065 - val_F1_score: 0.2603 - val_Precision: 0.1517 - val_Recall: 1.0000\n",
            "Epoch 13/20\n",
            "72/72 [==============================] - 61s 763ms/step - loss: 0.4419 - accuracy: 0.8574 - F1_score: 0.2405 - Precision: 0.1385 - Recall: 0.9861 - val_loss: 0.5414 - val_accuracy: 0.8469 - val_F1_score: 0.2623 - val_Precision: 0.1523 - val_Recall: 1.0000\n",
            "Epoch 14/20\n",
            "72/72 [==============================] - 61s 764ms/step - loss: 0.4528 - accuracy: 0.8561 - F1_score: 0.2422 - Precision: 0.1395 - Recall: 0.9861 - val_loss: 0.4243 - val_accuracy: 0.8492 - val_F1_score: 0.2649 - val_Precision: 0.1544 - val_Recall: 1.0000\n",
            "Epoch 15/20\n",
            "72/72 [==============================] - 61s 764ms/step - loss: 0.4337 - accuracy: 0.8578 - F1_score: 0.2442 - Precision: 0.1411 - Recall: 1.0000 - val_loss: 0.4945 - val_accuracy: 0.8469 - val_F1_score: 0.2660 - val_Precision: 0.1558 - val_Recall: 1.0000\n",
            "Epoch 16/20\n",
            "72/72 [==============================] - 61s 764ms/step - loss: 0.4331 - accuracy: 0.8603 - F1_score: 0.2385 - Precision: 0.1370 - Recall: 1.0000 - val_loss: 0.5768 - val_accuracy: 0.8469 - val_F1_score: 0.2646 - val_Precision: 0.1537 - val_Recall: 1.0000\n",
            "Epoch 17/20\n",
            "72/72 [==============================] - 61s 763ms/step - loss: 0.4177 - accuracy: 0.8631 - F1_score: 0.2337 - Precision: 0.1339 - Recall: 0.9861 - val_loss: 0.5068 - val_accuracy: 0.8469 - val_F1_score: 0.2648 - val_Precision: 0.1544 - val_Recall: 1.0000\n",
            "Epoch 18/20\n",
            "72/72 [==============================] - 61s 764ms/step - loss: 0.4248 - accuracy: 0.8600 - F1_score: 0.2389 - Precision: 0.1372 - Recall: 0.9861 - val_loss: 0.4940 - val_accuracy: 0.8469 - val_F1_score: 0.2614 - val_Precision: 0.1523 - val_Recall: 1.0000\n",
            "Epoch 19/20\n",
            "72/72 [==============================] - 62s 772ms/step - loss: 0.4175 - accuracy: 0.8620 - F1_score: 0.2375 - Precision: 0.1365 - Recall: 1.0000 - val_loss: 0.4734 - val_accuracy: 0.8469 - val_F1_score: 0.2619 - val_Precision: 0.1523 - val_Recall: 1.0000\n",
            "Epoch 20/20\n",
            "72/72 [==============================] - 61s 764ms/step - loss: 0.4418 - accuracy: 0.8607 - F1_score: 0.2392 - Precision: 0.1378 - Recall: 1.0000 - val_loss: 0.4303 - val_accuracy: 0.8469 - val_F1_score: 0.2631 - val_Precision: 0.1530 - val_Recall: 1.0000\n"
          ]
        }
      ],
      "source": [
        "for layer in base_model.layers:\n",
        "    layer.trainable = True\n",
        "\n",
        "optimizer = keras.optimizers.SGD(learning_rate=0.01, momentum=0.9, decay=0.001)\n",
        "model.compile(loss=\"sparse_categorical_crossentropy\", optimizer=optimizer,\n",
        "              metrics=['accuracy', F1_score, Precision, Recall])\n",
        "history = model.fit(resnet_v2_ds_train,\n",
        "                    validation_data=resnet_v2_ds_val,\n",
        "                    epochs=20)"
      ]
    },
    {
      "cell_type": "code",
      "execution_count": null,
      "metadata": {
        "id": "7IwTxApJqcfQ",
        "colab": {
          "base_uri": "https://localhost:8080/"
        },
        "outputId": "28d90898-80d4-411d-f46a-a63950918b50"
      },
      "outputs": [
        {
          "output_type": "stream",
          "name": "stdout",
          "text": [
            "11/11 [==============================] - 9s 239ms/step - loss: 0.3954 - accuracy: 0.8651 - F1_score: 0.2352 - Precision: 0.1349 - Recall: 1.0000\n"
          ]
        }
      ],
      "source": [
        "score = model.evaluate(resnet_v2_ds_test)"
      ]
    }
  ],
  "metadata": {
    "accelerator": "GPU",
    "colab": {
      "collapsed_sections": [],
      "machine_shape": "hm",
      "name": "DS_6050_project_code_DH.ipynb",
      "provenance": []
    },
    "gpuClass": "standard",
    "kernelspec": {
      "display_name": "Python 3",
      "name": "python3"
    }
  },
  "nbformat": 4,
  "nbformat_minor": 0
}